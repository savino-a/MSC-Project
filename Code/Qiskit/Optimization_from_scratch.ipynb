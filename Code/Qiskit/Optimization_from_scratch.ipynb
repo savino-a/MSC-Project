{
 "cells": [
  {
   "cell_type": "code",
   "execution_count": 121,
   "metadata": {},
   "outputs": [],
   "source": [
    "from qiskit_optimization import QuadraticProgram\n",
    "from qiskit_ibm_runtime import QiskitRuntimeService\n",
    "from qiskit_algorithms import QAOA, NumPyMinimumEigensolver\n",
    "from qiskit_algorithms.optimizers import COBYLA\n",
    "from qiskit_ibm_runtime import QiskitRuntimeService, SamplerV2 as Sampler\n",
    "from qiskit_optimization.algorithms import MinimumEigenOptimizer\n",
    "from qiskit_optimization.converters import QuadraticProgramToQubo\n",
    "from qiskit_algorithms.utils import algorithm_globals"
   ]
  },
  {
   "cell_type": "code",
   "execution_count": 122,
   "metadata": {},
   "outputs": [
    {
     "name": "stdout",
     "output_type": "stream",
     "text": [
      "Number of variables: 0\n"
     ]
    }
   ],
   "source": [
    "mod = QuadraticProgram(\"Optimization_Problem\")\n",
    "print(\"Number of variables:\", len(mod.variables))\n",
    "\n"
   ]
  },
  {
   "cell_type": "code",
   "execution_count": 123,
   "metadata": {},
   "outputs": [
    {
     "name": "stdout",
     "output_type": "stream",
     "text": [
      "Problem name: Optimization_Problem\n",
      "\n",
      "Minimize\n",
      "  0\n",
      "\n",
      "Subject to\n",
      "  No constraints\n",
      "\n",
      "  Binary variables (15)\n",
      "    x0 x1 x2 x3 x4 y5 y6 y7 y8 y9 z10 z11 z12 z13 z14\n",
      "\n",
      "Number of variables: 15\n"
     ]
    }
   ],
   "source": [
    "N=5\n",
    "Dist=2 # Distance to travel\n",
    "\n",
    "tolerance = 2 # Tolerance in distance travelled\n",
    "\n",
    "delta_v=1 # Rate of acceleration/deceleration set to 1\n",
    "delta_v_sq=delta_v**2\n",
    "\n",
    "vmax=150 # Max speed of a TGV in France (in m/s)\n",
    "\n",
    "alpha=0.05 # Regenerative braking efficiency\n",
    "\n",
    "# Define two lists of binary variables\n",
    "x = mod.binary_var_list(N, name=\"x\")\n",
    "y = mod.binary_var_list(N, name=\"y\")\n",
    "z = mod.binary_var_list(N, name=\"z\")\n",
    "print(mod.prettyprint())\n",
    "print(\"Number of variables:\", len(mod.variables))"
   ]
  },
  {
   "cell_type": "markdown",
   "metadata": {},
   "source": [
    "### Defining objective function"
   ]
  },
  {
   "cell_type": "code",
   "execution_count": 124,
   "metadata": {},
   "outputs": [
    {
     "name": "stdout",
     "output_type": "stream",
     "text": [
      "Problem name: Optimization_Problem\n",
      "\n",
      "Minimize\n",
      "  x0 + x1 + x2 + x3 + x4 - 0.05*y5 - 0.05*y6 - 0.05*y7 - 0.05*y8 - 0.05*y9\n",
      "\n",
      "Subject to\n",
      "  No constraints\n",
      "\n",
      "  Binary variables (15)\n",
      "    x0 x1 x2 x3 x4 y5 y6 y7 y8 y9 z10 z11 z12 z13 z14\n",
      "\n",
      "Number of variables: 15\n"
     ]
    }
   ],
   "source": [
    "linear_terms = {var.name: delta_v_sq for var in x}\n",
    "linear_terms.update({var.name: -alpha*delta_v_sq for var in y})\n",
    "mod.minimize(linear=linear_terms)\n",
    "print(mod.prettyprint())\n",
    "print(\"Number of variables:\", len(mod.variables))"
   ]
  },
  {
   "cell_type": "markdown",
   "metadata": {},
   "source": [
    "### Adding constraints"
   ]
  },
  {
   "cell_type": "markdown",
   "metadata": {},
   "source": [
    "#### Net-Zero constraint"
   ]
  },
  {
   "cell_type": "code",
   "execution_count": 125,
   "metadata": {},
   "outputs": [
    {
     "name": "stdout",
     "output_type": "stream",
     "text": [
      "Problem name: Optimization_Problem\n",
      "\n",
      "Minimize\n",
      "  x0 + x1 + x2 + x3 + x4 - 0.05*y5 - 0.05*y6 - 0.05*y7 - 0.05*y8 - 0.05*y9\n",
      "\n",
      "Subject to\n",
      "  Linear constraints (1)\n",
      "    x0 + x1 + x2 + x3 + x4 - y5 - y6 - y7 - y8 - y9 == 0  'net-zero_constraint'\n",
      "\n",
      "  Binary variables (15)\n",
      "    x0 x1 x2 x3 x4 y5 y6 y7 y8 y9 z10 z11 z12 z13 z14\n",
      "\n",
      "Number of variables: 15\n"
     ]
    }
   ],
   "source": [
    "constraint_terms = {var.name: 1 for var in x}\n",
    "constraint_terms.update({var.name: -1 for var in y})\n",
    "mod.linear_constraint(constraint_terms, '=', 0, name=\"net-zero_constraint\")\n",
    "print(mod.prettyprint())\n",
    "print(\"Number of variables:\", len(mod.variables))"
   ]
  },
  {
   "cell_type": "markdown",
   "metadata": {},
   "source": [
    "#### Maximum Speed Constraint"
   ]
  },
  {
   "cell_type": "code",
   "execution_count": 126,
   "metadata": {},
   "outputs": [
    {
     "name": "stdout",
     "output_type": "stream",
     "text": [
      "Problem name: Optimization_Problem\n",
      "\n",
      "Minimize\n",
      "  x0 + x1 + x2 + x3 + x4 - 0.05*y5 - 0.05*y6 - 0.05*y7 - 0.05*y8 - 0.05*y9\n",
      "\n",
      "Subject to\n",
      "  Linear constraints (2)\n",
      "    x0 + x1 + x2 + x3 + x4 - y5 - y6 - y7 - y8 - y9 == 0  'net-zero_constraint'\n",
      "    x0 + x1 + x2 + x3 + x4 <= 150  'Maximum_Speed_constraint'\n",
      "\n",
      "  Binary variables (15)\n",
      "    x0 x1 x2 x3 x4 y5 y6 y7 y8 y9 z10 z11 z12 z13 z14\n",
      "\n",
      "Number of variables: 15\n"
     ]
    }
   ],
   "source": [
    "constraint_terms = {var.name: delta_v for var in x}\n",
    "mod.linear_constraint(constraint_terms, '<=', vmax, name=\"Maximum_Speed_constraint\")\n",
    "print(mod.prettyprint())\n",
    "print(\"Number of variables:\", len(mod.variables))"
   ]
  },
  {
   "cell_type": "markdown",
   "metadata": {},
   "source": [
    "#### Positive speed constraint"
   ]
  },
  {
   "cell_type": "code",
   "execution_count": 127,
   "metadata": {},
   "outputs": [
    {
     "name": "stdout",
     "output_type": "stream",
     "text": [
      "Problem name: Optimization_Problem\n",
      "\n",
      "Minimize\n",
      "  x0 + x1 + x2 + x3 + x4 - 0.05*y5 - 0.05*y6 - 0.05*y7 - 0.05*y8 - 0.05*y9\n",
      "\n",
      "Subject to\n",
      "  Linear constraints (7)\n",
      "    x0 + x1 + x2 + x3 + x4 - y5 - y6 - y7 - y8 - y9 == 0  'net-zero_constraint'\n",
      "    x0 + x1 + x2 + x3 + x4 <= 150  'Maximum_Speed_constraint'\n",
      "    0 >= 0  'Positive_Speed0'\n",
      "    x0 - y5 >= 0  'Positive_Speed1'\n",
      "    x0 + x1 - y5 - y6 >= 0  'Positive_Speed2'\n",
      "    x0 + x1 + x2 - y5 - y6 - y7 >= 0  'Positive_Speed3'\n",
      "    x0 + x1 + x2 + x3 - y5 - y6 - y7 - y8 >= 0  'Positive_Speed4'\n",
      "\n",
      "  Binary variables (15)\n",
      "    x0 x1 x2 x3 x4 y5 y6 y7 y8 y9 z10 z11 z12 z13 z14\n",
      "\n",
      "Number of variables: 15\n"
     ]
    }
   ],
   "source": [
    "for i in range(N):\n",
    "    constraint_terms = {var.name: 1 for var in x[0:i]}\n",
    "    constraint_terms.update({var.name: -1 for var in y[0:i]})\n",
    "    mod.linear_constraint(constraint_terms, '>=', 0, name=\"Positive_Speed\"+str(i))\n",
    "\n",
    "print(mod.prettyprint())\n",
    "print(\"Number of variables:\", len(mod.variables))"
   ]
  },
  {
   "cell_type": "markdown",
   "metadata": {},
   "source": [
    "#### No simultaneous acceleration/deceleration"
   ]
  },
  {
   "cell_type": "code",
   "execution_count": 128,
   "metadata": {},
   "outputs": [
    {
     "name": "stdout",
     "output_type": "stream",
     "text": [
      "Problem name: Optimization_Problem\n",
      "\n",
      "Minimize\n",
      "  x0 + x1 + x2 + x3 + x4 - 0.05*y5 - 0.05*y6 - 0.05*y7 - 0.05*y8 - 0.05*y9\n",
      "\n",
      "Subject to\n",
      "  Linear constraints (23)\n",
      "    x0 + x1 + x2 + x3 + x4 - y5 - y6 - y7 - y8 - y9 == 0  'net-zero_constraint'\n",
      "    x0 + x1 + x2 + x3 + x4 <= 150  'Maximum_Speed_constraint'\n",
      "    0 >= 0  'Positive_Speed0'\n",
      "    x0 - y5 >= 0  'Positive_Speed1'\n",
      "    x0 + x1 - y5 - y6 >= 0  'Positive_Speed2'\n",
      "    x0 + x1 + x2 - y5 - y6 - y7 >= 0  'Positive_Speed3'\n",
      "    x0 + x1 + x2 + x3 - y5 - y6 - y7 - y8 >= 0  'Positive_Speed4'\n",
      "    x0 - z10 <= 0  'z_u_d_0'\n",
      "    x1 - z11 <= 0  'z_u_d_1'\n",
      "    x2 - z12 <= 0  'z_u_d_2'\n",
      "    x3 - z13 <= 0  'z_u_d_3'\n",
      "    x4 - z14 <= 0  'z_u_d_4'\n",
      "    y5 - z10 <= 0  'z_p_d_0'\n",
      "    y6 - z11 <= 0  'z_p_d_1'\n",
      "    y7 - z12 <= 0  'z_p_d_2'\n",
      "    y8 - z13 <= 0  'z_p_d_3'\n",
      "    y9 - z14 <= 0  'z_p_d_4'\n",
      "    x0 + y5 - z10 >= -1  'z_u_p_d_0'\n",
      "    x1 + y6 - z11 >= -1  'z_u_p_d_1'\n",
      "    x2 + y7 - z12 >= -1  'z_u_p_d_2'\n",
      "    x3 + y8 - z13 >= -1  'z_u_p_d_3'\n",
      "    x4 + y9 - z14 >= -1  'z_u_p_d_4'\n",
      "    z10 + z11 + z12 + z13 + z14\n",
      "    == 0  'No_simultaneous_braking_or_acceleration_constraint'\n",
      "\n",
      "  Binary variables (15)\n",
      "    x0 x1 x2 x3 x4 y5 y6 y7 y8 y9 z10 z11 z12 z13 z14\n",
      "\n",
      "Number of variables: 15\n"
     ]
    }
   ],
   "source": [
    "\n",
    "\n",
    "# Constraint 1: z[i] <= x[i]\n",
    "for i in range(N):\n",
    "    mod.linear_constraint({x[i].name: 1, z[i].name: -1}, '<=', 0, name=f\"z_u_d_{i}\")\n",
    "\n",
    "# Constraint 2: z[i] <= y[i]\n",
    "for i in range(N):\n",
    "    mod.linear_constraint({y[i].name: 1, z[i].name: -1}, '<=', 0, name=f\"z_p_d_{i}\")\n",
    "\n",
    "# Constraint 3: z[i] >= x[i] + y[i] - 1\n",
    "for i in range(N):\n",
    "    mod.linear_constraint({x[i].name: 1, y[i].name: 1, z[i].name: -1}, '>=', -1, name=f\"z_u_p_d_{i}\")\n",
    "\n",
    "# Final Constraint: sum(z[i]) == 0 (No simultaneous braking or acceleration)\n",
    "sum_constraint = {z[i].name: 1 for i in range(N)}\n",
    "mod.linear_constraint(sum_constraint, '==', 0, name=\"No_simultaneous_braking_or_acceleration_constraint\")\n",
    "\n",
    "# Print the QuadraticProgram to see the problem\n",
    "print(mod.prettyprint())\n",
    "print(\"Number of variables:\", len(mod.variables))"
   ]
  },
  {
   "cell_type": "markdown",
   "metadata": {},
   "source": [
    "#### Distance constraint"
   ]
  },
  {
   "cell_type": "code",
   "execution_count": 129,
   "metadata": {},
   "outputs": [
    {
     "name": "stdout",
     "output_type": "stream",
     "text": [
      "Problem name: Optimization_Problem\n",
      "\n",
      "Minimize\n",
      "  x0 + x1 + x2 + x3 + x4 - 0.05*y5 - 0.05*y6 - 0.05*y7 - 0.05*y8 - 0.05*y9\n",
      "\n",
      "Subject to\n",
      "  Linear constraints (25)\n",
      "    x0 + x1 + x2 + x3 + x4 - y5 - y6 - y7 - y8 - y9 == 0  'net-zero_constraint'\n",
      "    x0 + x1 + x2 + x3 + x4 <= 150  'Maximum_Speed_constraint'\n",
      "    0 >= 0  'Positive_Speed0'\n",
      "    x0 - y5 >= 0  'Positive_Speed1'\n",
      "    x0 + x1 - y5 - y6 >= 0  'Positive_Speed2'\n",
      "    x0 + x1 + x2 - y5 - y6 - y7 >= 0  'Positive_Speed3'\n",
      "    x0 + x1 + x2 + x3 - y5 - y6 - y7 - y8 >= 0  'Positive_Speed4'\n",
      "    x0 - z10 <= 0  'z_u_d_0'\n",
      "    x1 - z11 <= 0  'z_u_d_1'\n",
      "    x2 - z12 <= 0  'z_u_d_2'\n",
      "    x3 - z13 <= 0  'z_u_d_3'\n",
      "    x4 - z14 <= 0  'z_u_d_4'\n",
      "    y5 - z10 <= 0  'z_p_d_0'\n",
      "    y6 - z11 <= 0  'z_p_d_1'\n",
      "    y7 - z12 <= 0  'z_p_d_2'\n",
      "    y8 - z13 <= 0  'z_p_d_3'\n",
      "    y9 - z14 <= 0  'z_p_d_4'\n",
      "    x0 + y5 - z10 >= -1  'z_u_p_d_0'\n",
      "    x1 + y6 - z11 >= -1  'z_u_p_d_1'\n",
      "    x2 + y7 - z12 >= -1  'z_u_p_d_2'\n",
      "    x3 + y8 - z13 >= -1  'z_u_p_d_3'\n",
      "    x4 + y9 - z14 >= -1  'z_u_p_d_4'\n",
      "    z10 + z11 + z12 + z13 + z14\n",
      "    == 0  'No_simultaneous_braking_or_acceleration_constraint'\n",
      "    x0 + x1 + x2 + x3 + x4 - y5 - y6 - y7 - y8 - y9\n",
      "    <= 4  'Max_Distance_constraint'\n",
      "    x0 + x1 + x2 + x3 + x4 - y5 - y6 - y7 - y8 - y9\n",
      "    >= 0  'Min_Distance_constraint'\n",
      "\n",
      "  Binary variables (15)\n",
      "    x0 x1 x2 x3 x4 y5 y6 y7 y8 y9 z10 z11 z12 z13 z14\n",
      "\n",
      "Number of variables: 15\n"
     ]
    }
   ],
   "source": [
    "# Define the linear expression for the total distance\n",
    "linear_terms = {}\n",
    "for i in range(N):\n",
    "    # Each term in the summation contributes delta_v * (x[i] - y[i])\n",
    "    linear_terms[x[i].name] = delta_v  # x[i] contributes +delta_v\n",
    "    linear_terms[y[i].name] = -delta_v  # y[i] contributes -delta_v\n",
    "\n",
    "# Add constraints for distance (distance <= Dist + tolerance) and (distance >= Dist - tolerance)\n",
    "mod.linear_constraint(linear_terms, '<=', Dist + tolerance, name=\"Max_Distance_constraint\")\n",
    "mod.linear_constraint(linear_terms, '>=', Dist - tolerance, name=\"Min_Distance_constraint\")\n",
    "\n",
    "# Print the QuadraticProgram to see the problem\n",
    "print(mod.prettyprint())"
   ]
  },
  {
   "cell_type": "markdown",
   "metadata": {},
   "source": [
    "### Convert optimization problem"
   ]
  },
  {
   "cell_type": "code",
   "execution_count": 130,
   "metadata": {},
   "outputs": [
    {
     "name": "stdout",
     "output_type": "stream",
     "text": [
      "Number of variables: 47\n"
     ]
    }
   ],
   "source": [
    "qp2qubo = QuadraticProgramToQubo()\n",
    "qubo = qp2qubo.convert(mod)\n",
    "print(\"Number of variables:\", len(qubo.variables))"
   ]
  },
  {
   "cell_type": "markdown",
   "metadata": {},
   "source": [
    "Our optimization problem is now defined, let's solve it!"
   ]
  },
  {
   "cell_type": "markdown",
   "metadata": {},
   "source": [
    "### Get backend"
   ]
  },
  {
   "cell_type": "code",
   "execution_count": 131,
   "metadata": {},
   "outputs": [
    {
     "name": "stdout",
     "output_type": "stream",
     "text": [
      "least busy backend:  <IBMBackend('ibm_kyiv')>\n"
     ]
    }
   ],
   "source": [
    "# Load saved credentials\n",
    "service = QiskitRuntimeService()\n",
    "# Get the least busy backend\n",
    "backend = service.least_busy(operational=True, simulator=False)\n",
    "print(\"least busy backend: \", backend)"
   ]
  },
  {
   "cell_type": "code",
   "execution_count": 133,
   "metadata": {},
   "outputs": [
    {
     "name": "stdout",
     "output_type": "stream",
     "text": [
      "True\n",
      "\n"
     ]
    }
   ],
   "source": [
    "qaoa = QAOA(sampler=Sampler(mode=backend), optimizer=COBYLA())\n",
    "optimizer = MinimumEigenOptimizer(qaoa)  # using QAOA\n",
    "\n",
    "print(optimizer.is_compatible(problem=qubo))\n",
    "print(optimizer.get_compatibility_msg(problem=qubo))"
   ]
  },
  {
   "cell_type": "code",
   "execution_count": 134,
   "metadata": {},
   "outputs": [
    {
     "ename": "TypeError",
     "evalue": "SamplerV2.run() takes 2 positional arguments but 3 were given",
     "output_type": "error",
     "traceback": [
      "\u001b[1;31m---------------------------------------------------------------------------\u001b[0m",
      "\u001b[1;31mTypeError\u001b[0m                                 Traceback (most recent call last)",
      "Cell \u001b[1;32mIn[134], line 1\u001b[0m\n\u001b[1;32m----> 1\u001b[0m qaoa_result \u001b[38;5;241m=\u001b[39m \u001b[43moptimizer\u001b[49m\u001b[38;5;241;43m.\u001b[39;49m\u001b[43msolve\u001b[49m\u001b[43m(\u001b[49m\u001b[43mqubo\u001b[49m\u001b[43m)\u001b[49m\n\u001b[0;32m      2\u001b[0m \u001b[38;5;28mprint\u001b[39m(qaoa_result\u001b[38;5;241m.\u001b[39mprettyprint())\n",
      "File \u001b[1;32mc:\\Users\\arthu\\miniconda3\\envs\\test_env\\lib\\site-packages\\qiskit_optimization\\algorithms\\minimum_eigen_optimizer.py:205\u001b[0m, in \u001b[0;36mMinimumEigenOptimizer.solve\u001b[1;34m(self, problem)\u001b[0m\n\u001b[0;32m    202\u001b[0m \u001b[38;5;66;03m# construct operator and offset\u001b[39;00m\n\u001b[0;32m    203\u001b[0m operator, offset \u001b[38;5;241m=\u001b[39m problem_\u001b[38;5;241m.\u001b[39mto_ising()\n\u001b[1;32m--> 205\u001b[0m \u001b[38;5;28;01mreturn\u001b[39;00m \u001b[38;5;28;43mself\u001b[39;49m\u001b[38;5;241;43m.\u001b[39;49m\u001b[43m_solve_internal\u001b[49m\u001b[43m(\u001b[49m\u001b[43moperator\u001b[49m\u001b[43m,\u001b[49m\u001b[43m \u001b[49m\u001b[43moffset\u001b[49m\u001b[43m,\u001b[49m\u001b[43m \u001b[49m\u001b[43mproblem_\u001b[49m\u001b[43m,\u001b[49m\u001b[43m \u001b[49m\u001b[43mproblem\u001b[49m\u001b[43m)\u001b[49m\n",
      "File \u001b[1;32mc:\\Users\\arthu\\miniconda3\\envs\\test_env\\lib\\site-packages\\qiskit_optimization\\algorithms\\minimum_eigen_optimizer.py:218\u001b[0m, in \u001b[0;36mMinimumEigenOptimizer._solve_internal\u001b[1;34m(self, operator, offset, converted_problem, original_problem)\u001b[0m\n\u001b[0;32m    215\u001b[0m eigen_result: Optional[MinimumEigensolverResult] \u001b[38;5;241m=\u001b[39m \u001b[38;5;28;01mNone\u001b[39;00m\n\u001b[0;32m    216\u001b[0m \u001b[38;5;28;01mif\u001b[39;00m operator\u001b[38;5;241m.\u001b[39mnum_qubits \u001b[38;5;241m>\u001b[39m \u001b[38;5;241m0\u001b[39m:\n\u001b[0;32m    217\u001b[0m     \u001b[38;5;66;03m# approximate ground state of operator using min eigen solver\u001b[39;00m\n\u001b[1;32m--> 218\u001b[0m     eigen_result \u001b[38;5;241m=\u001b[39m \u001b[38;5;28;43mself\u001b[39;49m\u001b[38;5;241;43m.\u001b[39;49m\u001b[43m_min_eigen_solver\u001b[49m\u001b[38;5;241;43m.\u001b[39;49m\u001b[43mcompute_minimum_eigenvalue\u001b[49m\u001b[43m(\u001b[49m\u001b[43moperator\u001b[49m\u001b[43m)\u001b[49m\n\u001b[0;32m    219\u001b[0m     \u001b[38;5;66;03m# analyze results\u001b[39;00m\n\u001b[0;32m    220\u001b[0m     raw_samples \u001b[38;5;241m=\u001b[39m \u001b[38;5;28;01mNone\u001b[39;00m\n",
      "File \u001b[1;32mc:\\Users\\arthu\\miniconda3\\envs\\test_env\\lib\\site-packages\\qiskit_algorithms\\minimum_eigensolvers\\sampling_vqe.py:225\u001b[0m, in \u001b[0;36mSamplingVQE.compute_minimum_eigenvalue\u001b[1;34m(self, operator, aux_operators)\u001b[0m\n\u001b[0;32m    220\u001b[0m \u001b[38;5;28;01melse\u001b[39;00m:\n\u001b[0;32m    221\u001b[0m     \u001b[38;5;66;03m# we always want to submit as many estimations per job as possible for minimal\u001b[39;00m\n\u001b[0;32m    222\u001b[0m     \u001b[38;5;66;03m# overhead on the hardware\u001b[39;00m\n\u001b[0;32m    223\u001b[0m     was_updated \u001b[38;5;241m=\u001b[39m _set_default_batchsize(\u001b[38;5;28mself\u001b[39m\u001b[38;5;241m.\u001b[39moptimizer)\n\u001b[1;32m--> 225\u001b[0m     optimizer_result \u001b[38;5;241m=\u001b[39m \u001b[38;5;28;43mself\u001b[39;49m\u001b[38;5;241;43m.\u001b[39;49m\u001b[43moptimizer\u001b[49m\u001b[38;5;241;43m.\u001b[39;49m\u001b[43mminimize\u001b[49m\u001b[43m(\u001b[49m\n\u001b[0;32m    226\u001b[0m \u001b[43m        \u001b[49m\u001b[43mfun\u001b[49m\u001b[38;5;241;43m=\u001b[39;49m\u001b[43mevaluate_energy\u001b[49m\u001b[43m,\u001b[49m\u001b[43m  \u001b[49m\u001b[38;5;66;43;03m# type: ignore[arg-type]\u001b[39;49;00m\n\u001b[0;32m    227\u001b[0m \u001b[43m        \u001b[49m\u001b[43mx0\u001b[49m\u001b[38;5;241;43m=\u001b[39;49m\u001b[43minitial_point\u001b[49m\u001b[43m,\u001b[49m\n\u001b[0;32m    228\u001b[0m \u001b[43m        \u001b[49m\u001b[43mbounds\u001b[49m\u001b[38;5;241;43m=\u001b[39;49m\u001b[43mbounds\u001b[49m\u001b[43m,\u001b[49m\n\u001b[0;32m    229\u001b[0m \u001b[43m    \u001b[49m\u001b[43m)\u001b[49m\n\u001b[0;32m    231\u001b[0m     \u001b[38;5;66;03m# reset to original value\u001b[39;00m\n\u001b[0;32m    232\u001b[0m     \u001b[38;5;28;01mif\u001b[39;00m was_updated:\n",
      "File \u001b[1;32mc:\\Users\\arthu\\miniconda3\\envs\\test_env\\lib\\site-packages\\qiskit_algorithms\\optimizers\\scipy_optimizer.py:148\u001b[0m, in \u001b[0;36mSciPyOptimizer.minimize\u001b[1;34m(self, fun, x0, jac, bounds)\u001b[0m\n\u001b[0;32m    145\u001b[0m     swapped_deprecated_args \u001b[38;5;241m=\u001b[39m \u001b[38;5;28;01mTrue\u001b[39;00m\n\u001b[0;32m    146\u001b[0m     \u001b[38;5;28mself\u001b[39m\u001b[38;5;241m.\u001b[39m_options[\u001b[38;5;124m\"\u001b[39m\u001b[38;5;124mmaxfun\u001b[39m\u001b[38;5;124m\"\u001b[39m] \u001b[38;5;241m=\u001b[39m \u001b[38;5;28mself\u001b[39m\u001b[38;5;241m.\u001b[39m_options\u001b[38;5;241m.\u001b[39mpop(\u001b[38;5;124m\"\u001b[39m\u001b[38;5;124mmaxiter\u001b[39m\u001b[38;5;124m\"\u001b[39m)\n\u001b[1;32m--> 148\u001b[0m raw_result \u001b[38;5;241m=\u001b[39m minimize(\n\u001b[0;32m    149\u001b[0m     fun\u001b[38;5;241m=\u001b[39mfun,\n\u001b[0;32m    150\u001b[0m     x0\u001b[38;5;241m=\u001b[39mx0,\n\u001b[0;32m    151\u001b[0m     method\u001b[38;5;241m=\u001b[39m\u001b[38;5;28mself\u001b[39m\u001b[38;5;241m.\u001b[39m_method,\n\u001b[0;32m    152\u001b[0m     jac\u001b[38;5;241m=\u001b[39mjac,\n\u001b[0;32m    153\u001b[0m     bounds\u001b[38;5;241m=\u001b[39mbounds,\n\u001b[0;32m    154\u001b[0m     options\u001b[38;5;241m=\u001b[39m\u001b[38;5;28mself\u001b[39m\u001b[38;5;241m.\u001b[39m_options,\n\u001b[0;32m    155\u001b[0m     \u001b[38;5;241m*\u001b[39m\u001b[38;5;241m*\u001b[39m\u001b[38;5;28mself\u001b[39m\u001b[38;5;241m.\u001b[39m_kwargs,\n\u001b[0;32m    156\u001b[0m )\n\u001b[0;32m    157\u001b[0m \u001b[38;5;28;01mif\u001b[39;00m swapped_deprecated_args:\n\u001b[0;32m    158\u001b[0m     \u001b[38;5;28mself\u001b[39m\u001b[38;5;241m.\u001b[39m_options[\u001b[38;5;124m\"\u001b[39m\u001b[38;5;124mmaxiter\u001b[39m\u001b[38;5;124m\"\u001b[39m] \u001b[38;5;241m=\u001b[39m \u001b[38;5;28mself\u001b[39m\u001b[38;5;241m.\u001b[39m_options\u001b[38;5;241m.\u001b[39mpop(\u001b[38;5;124m\"\u001b[39m\u001b[38;5;124mmaxfun\u001b[39m\u001b[38;5;124m\"\u001b[39m)\n",
      "File \u001b[1;32mc:\\Users\\arthu\\miniconda3\\envs\\test_env\\lib\\site-packages\\scipy\\optimize\\_minimize.py:737\u001b[0m, in \u001b[0;36mminimize\u001b[1;34m(fun, x0, args, method, jac, hess, hessp, bounds, constraints, tol, callback, options)\u001b[0m\n\u001b[0;32m    734\u001b[0m     res \u001b[38;5;241m=\u001b[39m _minimize_tnc(fun, x0, args, jac, bounds, callback\u001b[38;5;241m=\u001b[39mcallback,\n\u001b[0;32m    735\u001b[0m                         \u001b[38;5;241m*\u001b[39m\u001b[38;5;241m*\u001b[39moptions)\n\u001b[0;32m    736\u001b[0m \u001b[38;5;28;01melif\u001b[39;00m meth \u001b[38;5;241m==\u001b[39m \u001b[38;5;124m'\u001b[39m\u001b[38;5;124mcobyla\u001b[39m\u001b[38;5;124m'\u001b[39m:\n\u001b[1;32m--> 737\u001b[0m     res \u001b[38;5;241m=\u001b[39m _minimize_cobyla(fun, x0, args, constraints, callback\u001b[38;5;241m=\u001b[39mcallback,\n\u001b[0;32m    738\u001b[0m                            bounds\u001b[38;5;241m=\u001b[39mbounds, \u001b[38;5;241m*\u001b[39m\u001b[38;5;241m*\u001b[39moptions)\n\u001b[0;32m    739\u001b[0m \u001b[38;5;28;01melif\u001b[39;00m meth \u001b[38;5;241m==\u001b[39m \u001b[38;5;124m'\u001b[39m\u001b[38;5;124mcobyqa\u001b[39m\u001b[38;5;124m'\u001b[39m:\n\u001b[0;32m    740\u001b[0m     res \u001b[38;5;241m=\u001b[39m _minimize_cobyqa(fun, x0, args, bounds, constraints, callback,\n\u001b[0;32m    741\u001b[0m                            \u001b[38;5;241m*\u001b[39m\u001b[38;5;241m*\u001b[39moptions)\n",
      "File \u001b[1;32mc:\\Users\\arthu\\miniconda3\\envs\\test_env\\lib\\site-packages\\scipy\\optimize\\_cobyla_py.py:35\u001b[0m, in \u001b[0;36msynchronized.<locals>.wrapper\u001b[1;34m(*args, **kwargs)\u001b[0m\n\u001b[0;32m     32\u001b[0m \u001b[38;5;129m@functools\u001b[39m\u001b[38;5;241m.\u001b[39mwraps(func)\n\u001b[0;32m     33\u001b[0m \u001b[38;5;28;01mdef\u001b[39;00m \u001b[38;5;21mwrapper\u001b[39m(\u001b[38;5;241m*\u001b[39margs, \u001b[38;5;241m*\u001b[39m\u001b[38;5;241m*\u001b[39mkwargs):\n\u001b[0;32m     34\u001b[0m     \u001b[38;5;28;01mwith\u001b[39;00m _module_lock:\n\u001b[1;32m---> 35\u001b[0m         \u001b[38;5;28;01mreturn\u001b[39;00m func(\u001b[38;5;241m*\u001b[39margs, \u001b[38;5;241m*\u001b[39m\u001b[38;5;241m*\u001b[39mkwargs)\n",
      "File \u001b[1;32mc:\\Users\\arthu\\miniconda3\\envs\\test_env\\lib\\site-packages\\scipy\\optimize\\_cobyla_py.py:278\u001b[0m, in \u001b[0;36m_minimize_cobyla\u001b[1;34m(fun, x0, args, constraints, rhobeg, tol, maxiter, disp, catol, callback, bounds, **unknown_options)\u001b[0m\n\u001b[0;32m    275\u001b[0m \u001b[38;5;28;01mdef\u001b[39;00m \u001b[38;5;21m_jac\u001b[39m(x, \u001b[38;5;241m*\u001b[39margs):\n\u001b[0;32m    276\u001b[0m     \u001b[38;5;28;01mreturn\u001b[39;00m \u001b[38;5;28;01mNone\u001b[39;00m\n\u001b[1;32m--> 278\u001b[0m sf \u001b[38;5;241m=\u001b[39m \u001b[43m_prepare_scalar_function\u001b[49m\u001b[43m(\u001b[49m\u001b[43mfun\u001b[49m\u001b[43m,\u001b[49m\u001b[43m \u001b[49m\u001b[43mx0\u001b[49m\u001b[43m,\u001b[49m\u001b[43m \u001b[49m\u001b[43margs\u001b[49m\u001b[38;5;241;43m=\u001b[39;49m\u001b[43margs\u001b[49m\u001b[43m,\u001b[49m\u001b[43m \u001b[49m\u001b[43mjac\u001b[49m\u001b[38;5;241;43m=\u001b[39;49m\u001b[43m_jac\u001b[49m\u001b[43m)\u001b[49m\n\u001b[0;32m    280\u001b[0m \u001b[38;5;28;01mdef\u001b[39;00m \u001b[38;5;21mcalcfc\u001b[39m(x, con):\n\u001b[0;32m    281\u001b[0m     f \u001b[38;5;241m=\u001b[39m sf\u001b[38;5;241m.\u001b[39mfun(x)\n",
      "File \u001b[1;32mc:\\Users\\arthu\\miniconda3\\envs\\test_env\\lib\\site-packages\\scipy\\optimize\\_optimize.py:288\u001b[0m, in \u001b[0;36m_prepare_scalar_function\u001b[1;34m(fun, x0, jac, args, bounds, epsilon, finite_diff_rel_step, hess)\u001b[0m\n\u001b[0;32m    284\u001b[0m     bounds \u001b[38;5;241m=\u001b[39m (\u001b[38;5;241m-\u001b[39mnp\u001b[38;5;241m.\u001b[39minf, np\u001b[38;5;241m.\u001b[39minf)\n\u001b[0;32m    286\u001b[0m \u001b[38;5;66;03m# ScalarFunction caches. Reuse of fun(x) during grad\u001b[39;00m\n\u001b[0;32m    287\u001b[0m \u001b[38;5;66;03m# calculation reduces overall function evaluations.\u001b[39;00m\n\u001b[1;32m--> 288\u001b[0m sf \u001b[38;5;241m=\u001b[39m \u001b[43mScalarFunction\u001b[49m\u001b[43m(\u001b[49m\u001b[43mfun\u001b[49m\u001b[43m,\u001b[49m\u001b[43m \u001b[49m\u001b[43mx0\u001b[49m\u001b[43m,\u001b[49m\u001b[43m \u001b[49m\u001b[43margs\u001b[49m\u001b[43m,\u001b[49m\u001b[43m \u001b[49m\u001b[43mgrad\u001b[49m\u001b[43m,\u001b[49m\u001b[43m \u001b[49m\u001b[43mhess\u001b[49m\u001b[43m,\u001b[49m\n\u001b[0;32m    289\u001b[0m \u001b[43m                    \u001b[49m\u001b[43mfinite_diff_rel_step\u001b[49m\u001b[43m,\u001b[49m\u001b[43m \u001b[49m\u001b[43mbounds\u001b[49m\u001b[43m,\u001b[49m\u001b[43m \u001b[49m\u001b[43mepsilon\u001b[49m\u001b[38;5;241;43m=\u001b[39;49m\u001b[43mepsilon\u001b[49m\u001b[43m)\u001b[49m\n\u001b[0;32m    291\u001b[0m \u001b[38;5;28;01mreturn\u001b[39;00m sf\n",
      "File \u001b[1;32mc:\\Users\\arthu\\miniconda3\\envs\\test_env\\lib\\site-packages\\scipy\\optimize\\_differentiable_functions.py:222\u001b[0m, in \u001b[0;36mScalarFunction.__init__\u001b[1;34m(self, fun, x0, args, grad, hess, finite_diff_rel_step, finite_diff_bounds, epsilon)\u001b[0m\n\u001b[0;32m    219\u001b[0m     finite_diff_options[\u001b[38;5;124m\"\u001b[39m\u001b[38;5;124mas_linear_operator\u001b[39m\u001b[38;5;124m\"\u001b[39m] \u001b[38;5;241m=\u001b[39m \u001b[38;5;28;01mTrue\u001b[39;00m\n\u001b[0;32m    221\u001b[0m \u001b[38;5;66;03m# Initial function evaluation\u001b[39;00m\n\u001b[1;32m--> 222\u001b[0m \u001b[38;5;28;43mself\u001b[39;49m\u001b[38;5;241;43m.\u001b[39;49m\u001b[43m_update_fun\u001b[49m\u001b[43m(\u001b[49m\u001b[43m)\u001b[49m\n\u001b[0;32m    224\u001b[0m \u001b[38;5;66;03m# Initial gradient evaluation\u001b[39;00m\n\u001b[0;32m    225\u001b[0m \u001b[38;5;28mself\u001b[39m\u001b[38;5;241m.\u001b[39m_wrapped_grad, \u001b[38;5;28mself\u001b[39m\u001b[38;5;241m.\u001b[39m_ngev \u001b[38;5;241m=\u001b[39m _wrapper_grad(\n\u001b[0;32m    226\u001b[0m     grad,\n\u001b[0;32m    227\u001b[0m     fun\u001b[38;5;241m=\u001b[39m\u001b[38;5;28mself\u001b[39m\u001b[38;5;241m.\u001b[39m_wrapped_fun,\n\u001b[0;32m    228\u001b[0m     args\u001b[38;5;241m=\u001b[39margs,\n\u001b[0;32m    229\u001b[0m     finite_diff_options\u001b[38;5;241m=\u001b[39mfinite_diff_options\n\u001b[0;32m    230\u001b[0m )\n",
      "File \u001b[1;32mc:\\Users\\arthu\\miniconda3\\envs\\test_env\\lib\\site-packages\\scipy\\optimize\\_differentiable_functions.py:294\u001b[0m, in \u001b[0;36mScalarFunction._update_fun\u001b[1;34m(self)\u001b[0m\n\u001b[0;32m    292\u001b[0m \u001b[38;5;28;01mdef\u001b[39;00m \u001b[38;5;21m_update_fun\u001b[39m(\u001b[38;5;28mself\u001b[39m):\n\u001b[0;32m    293\u001b[0m     \u001b[38;5;28;01mif\u001b[39;00m \u001b[38;5;129;01mnot\u001b[39;00m \u001b[38;5;28mself\u001b[39m\u001b[38;5;241m.\u001b[39mf_updated:\n\u001b[1;32m--> 294\u001b[0m         fx \u001b[38;5;241m=\u001b[39m \u001b[38;5;28;43mself\u001b[39;49m\u001b[38;5;241;43m.\u001b[39;49m\u001b[43m_wrapped_fun\u001b[49m\u001b[43m(\u001b[49m\u001b[38;5;28;43mself\u001b[39;49m\u001b[38;5;241;43m.\u001b[39;49m\u001b[43mx\u001b[49m\u001b[43m)\u001b[49m\n\u001b[0;32m    295\u001b[0m         \u001b[38;5;28;01mif\u001b[39;00m fx \u001b[38;5;241m<\u001b[39m \u001b[38;5;28mself\u001b[39m\u001b[38;5;241m.\u001b[39m_lowest_f:\n\u001b[0;32m    296\u001b[0m             \u001b[38;5;28mself\u001b[39m\u001b[38;5;241m.\u001b[39m_lowest_x \u001b[38;5;241m=\u001b[39m \u001b[38;5;28mself\u001b[39m\u001b[38;5;241m.\u001b[39mx\n",
      "File \u001b[1;32mc:\\Users\\arthu\\miniconda3\\envs\\test_env\\lib\\site-packages\\scipy\\optimize\\_differentiable_functions.py:20\u001b[0m, in \u001b[0;36m_wrapper_fun.<locals>.wrapped\u001b[1;34m(x)\u001b[0m\n\u001b[0;32m     16\u001b[0m ncalls[\u001b[38;5;241m0\u001b[39m] \u001b[38;5;241m+\u001b[39m\u001b[38;5;241m=\u001b[39m \u001b[38;5;241m1\u001b[39m\n\u001b[0;32m     17\u001b[0m \u001b[38;5;66;03m# Send a copy because the user may overwrite it.\u001b[39;00m\n\u001b[0;32m     18\u001b[0m \u001b[38;5;66;03m# Overwriting results in undefined behaviour because\u001b[39;00m\n\u001b[0;32m     19\u001b[0m \u001b[38;5;66;03m# fun(self.x) will change self.x, with the two no longer linked.\u001b[39;00m\n\u001b[1;32m---> 20\u001b[0m fx \u001b[38;5;241m=\u001b[39m \u001b[43mfun\u001b[49m\u001b[43m(\u001b[49m\u001b[43mnp\u001b[49m\u001b[38;5;241;43m.\u001b[39;49m\u001b[43mcopy\u001b[49m\u001b[43m(\u001b[49m\u001b[43mx\u001b[49m\u001b[43m)\u001b[49m\u001b[43m,\u001b[49m\u001b[43m \u001b[49m\u001b[38;5;241;43m*\u001b[39;49m\u001b[43margs\u001b[49m\u001b[43m)\u001b[49m\n\u001b[0;32m     21\u001b[0m \u001b[38;5;66;03m# Make sure the function returns a true scalar\u001b[39;00m\n\u001b[0;32m     22\u001b[0m \u001b[38;5;28;01mif\u001b[39;00m \u001b[38;5;129;01mnot\u001b[39;00m np\u001b[38;5;241m.\u001b[39misscalar(fx):\n",
      "File \u001b[1;32mc:\\Users\\arthu\\miniconda3\\envs\\test_env\\lib\\site-packages\\qiskit_algorithms\\minimum_eigensolvers\\sampling_vqe.py:321\u001b[0m, in \u001b[0;36mSamplingVQE._get_evaluate_energy.<locals>.evaluate_energy\u001b[1;34m(parameters)\u001b[0m\n\u001b[0;32m    316\u001b[0m parameters \u001b[38;5;241m=\u001b[39m np\u001b[38;5;241m.\u001b[39mreshape(parameters, (\u001b[38;5;241m-\u001b[39m\u001b[38;5;241m1\u001b[39m, num_parameters))\u001b[38;5;241m.\u001b[39mtolist()\n\u001b[0;32m    317\u001b[0m batch_size \u001b[38;5;241m=\u001b[39m \u001b[38;5;28mlen\u001b[39m(parameters)\n\u001b[0;32m    319\u001b[0m estimator_result \u001b[38;5;241m=\u001b[39m \u001b[43mestimator\u001b[49m\u001b[38;5;241;43m.\u001b[39;49m\u001b[43mrun\u001b[49m\u001b[43m(\u001b[49m\n\u001b[0;32m    320\u001b[0m \u001b[43m    \u001b[49m\u001b[43mbatch_size\u001b[49m\u001b[43m \u001b[49m\u001b[38;5;241;43m*\u001b[39;49m\u001b[43m \u001b[49m\u001b[43m[\u001b[49m\u001b[43mansatz\u001b[49m\u001b[43m]\u001b[49m\u001b[43m,\u001b[49m\u001b[43m \u001b[49m\u001b[43mbatch_size\u001b[49m\u001b[43m \u001b[49m\u001b[38;5;241;43m*\u001b[39;49m\u001b[43m \u001b[49m\u001b[43m[\u001b[49m\u001b[43moperator\u001b[49m\u001b[43m]\u001b[49m\u001b[43m,\u001b[49m\u001b[43m \u001b[49m\u001b[43mparameters\u001b[49m\n\u001b[1;32m--> 321\u001b[0m \u001b[43m\u001b[49m\u001b[43m)\u001b[49m\u001b[38;5;241;43m.\u001b[39;49m\u001b[43mresult\u001b[49m\u001b[43m(\u001b[49m\u001b[43m)\u001b[49m\n\u001b[0;32m    322\u001b[0m values \u001b[38;5;241m=\u001b[39m estimator_result\u001b[38;5;241m.\u001b[39mvalues\n\u001b[0;32m    324\u001b[0m \u001b[38;5;28;01mif\u001b[39;00m \u001b[38;5;28mself\u001b[39m\u001b[38;5;241m.\u001b[39mcallback \u001b[38;5;129;01mis\u001b[39;00m \u001b[38;5;129;01mnot\u001b[39;00m \u001b[38;5;28;01mNone\u001b[39;00m:\n",
      "File \u001b[1;32mc:\\Users\\arthu\\miniconda3\\envs\\test_env\\lib\\site-packages\\qiskit\\primitives\\primitive_job.py:51\u001b[0m, in \u001b[0;36mPrimitiveJob.result\u001b[1;34m(self)\u001b[0m\n\u001b[0;32m     49\u001b[0m \u001b[38;5;28;01mdef\u001b[39;00m \u001b[38;5;21mresult\u001b[39m(\u001b[38;5;28mself\u001b[39m) \u001b[38;5;241m-\u001b[39m\u001b[38;5;241m>\u001b[39m ResultT:\n\u001b[0;32m     50\u001b[0m     \u001b[38;5;28mself\u001b[39m\u001b[38;5;241m.\u001b[39m_check_submitted()\n\u001b[1;32m---> 51\u001b[0m     \u001b[38;5;28;01mreturn\u001b[39;00m \u001b[38;5;28;43mself\u001b[39;49m\u001b[38;5;241;43m.\u001b[39;49m\u001b[43m_future\u001b[49m\u001b[38;5;241;43m.\u001b[39;49m\u001b[43mresult\u001b[49m\u001b[43m(\u001b[49m\u001b[43m)\u001b[49m\n",
      "File \u001b[1;32mc:\\Users\\arthu\\miniconda3\\envs\\test_env\\lib\\concurrent\\futures\\_base.py:451\u001b[0m, in \u001b[0;36mFuture.result\u001b[1;34m(self, timeout)\u001b[0m\n\u001b[0;32m    449\u001b[0m     \u001b[38;5;28;01mraise\u001b[39;00m CancelledError()\n\u001b[0;32m    450\u001b[0m \u001b[38;5;28;01melif\u001b[39;00m \u001b[38;5;28mself\u001b[39m\u001b[38;5;241m.\u001b[39m_state \u001b[38;5;241m==\u001b[39m FINISHED:\n\u001b[1;32m--> 451\u001b[0m     \u001b[38;5;28;01mreturn\u001b[39;00m \u001b[38;5;28;43mself\u001b[39;49m\u001b[38;5;241;43m.\u001b[39;49m\u001b[43m__get_result\u001b[49m\u001b[43m(\u001b[49m\u001b[43m)\u001b[49m\n\u001b[0;32m    453\u001b[0m \u001b[38;5;28mself\u001b[39m\u001b[38;5;241m.\u001b[39m_condition\u001b[38;5;241m.\u001b[39mwait(timeout)\n\u001b[0;32m    455\u001b[0m \u001b[38;5;28;01mif\u001b[39;00m \u001b[38;5;28mself\u001b[39m\u001b[38;5;241m.\u001b[39m_state \u001b[38;5;129;01min\u001b[39;00m [CANCELLED, CANCELLED_AND_NOTIFIED]:\n",
      "File \u001b[1;32mc:\\Users\\arthu\\miniconda3\\envs\\test_env\\lib\\concurrent\\futures\\_base.py:403\u001b[0m, in \u001b[0;36mFuture.__get_result\u001b[1;34m(self)\u001b[0m\n\u001b[0;32m    401\u001b[0m \u001b[38;5;28;01mif\u001b[39;00m \u001b[38;5;28mself\u001b[39m\u001b[38;5;241m.\u001b[39m_exception:\n\u001b[0;32m    402\u001b[0m     \u001b[38;5;28;01mtry\u001b[39;00m:\n\u001b[1;32m--> 403\u001b[0m         \u001b[38;5;28;01mraise\u001b[39;00m \u001b[38;5;28mself\u001b[39m\u001b[38;5;241m.\u001b[39m_exception\n\u001b[0;32m    404\u001b[0m     \u001b[38;5;28;01mfinally\u001b[39;00m:\n\u001b[0;32m    405\u001b[0m         \u001b[38;5;66;03m# Break a reference cycle with the exception in self._exception\u001b[39;00m\n\u001b[0;32m    406\u001b[0m         \u001b[38;5;28mself\u001b[39m \u001b[38;5;241m=\u001b[39m \u001b[38;5;28;01mNone\u001b[39;00m\n",
      "File \u001b[1;32mc:\\Users\\arthu\\miniconda3\\envs\\test_env\\lib\\concurrent\\futures\\thread.py:58\u001b[0m, in \u001b[0;36m_WorkItem.run\u001b[1;34m(self)\u001b[0m\n\u001b[0;32m     55\u001b[0m     \u001b[38;5;28;01mreturn\u001b[39;00m\n\u001b[0;32m     57\u001b[0m \u001b[38;5;28;01mtry\u001b[39;00m:\n\u001b[1;32m---> 58\u001b[0m     result \u001b[38;5;241m=\u001b[39m \u001b[38;5;28mself\u001b[39m\u001b[38;5;241m.\u001b[39mfn(\u001b[38;5;241m*\u001b[39m\u001b[38;5;28mself\u001b[39m\u001b[38;5;241m.\u001b[39margs, \u001b[38;5;241m*\u001b[39m\u001b[38;5;241m*\u001b[39m\u001b[38;5;28mself\u001b[39m\u001b[38;5;241m.\u001b[39mkwargs)\n\u001b[0;32m     59\u001b[0m \u001b[38;5;28;01mexcept\u001b[39;00m \u001b[38;5;167;01mBaseException\u001b[39;00m \u001b[38;5;28;01mas\u001b[39;00m exc:\n\u001b[0;32m     60\u001b[0m     \u001b[38;5;28mself\u001b[39m\u001b[38;5;241m.\u001b[39mfuture\u001b[38;5;241m.\u001b[39mset_exception(exc)\n",
      "File \u001b[1;32mc:\\Users\\arthu\\miniconda3\\envs\\test_env\\lib\\site-packages\\qiskit_algorithms\\minimum_eigensolvers\\diagonal_estimator.py:117\u001b[0m, in \u001b[0;36m_DiagonalEstimator._call\u001b[1;34m(self, circuits, observables, parameter_values, **run_options)\u001b[0m\n\u001b[0;32m    110\u001b[0m \u001b[38;5;28;01mdef\u001b[39;00m \u001b[38;5;21m_call\u001b[39m(\n\u001b[0;32m    111\u001b[0m     \u001b[38;5;28mself\u001b[39m,\n\u001b[0;32m    112\u001b[0m     circuits: Sequence[\u001b[38;5;28mint\u001b[39m],\n\u001b[1;32m   (...)\u001b[0m\n\u001b[0;32m    115\u001b[0m     \u001b[38;5;241m*\u001b[39m\u001b[38;5;241m*\u001b[39mrun_options,\n\u001b[0;32m    116\u001b[0m ) \u001b[38;5;241m-\u001b[39m\u001b[38;5;241m>\u001b[39m _DiagonalEstimatorResult:\n\u001b[1;32m--> 117\u001b[0m     job \u001b[38;5;241m=\u001b[39m \u001b[38;5;28mself\u001b[39m\u001b[38;5;241m.\u001b[39msampler\u001b[38;5;241m.\u001b[39mrun(\n\u001b[0;32m    118\u001b[0m         [\u001b[38;5;28mself\u001b[39m\u001b[38;5;241m.\u001b[39m_circuits[i] \u001b[38;5;28;01mfor\u001b[39;00m i \u001b[38;5;129;01min\u001b[39;00m circuits],\n\u001b[0;32m    119\u001b[0m         parameter_values,\n\u001b[0;32m    120\u001b[0m         \u001b[38;5;241m*\u001b[39m\u001b[38;5;241m*\u001b[39mrun_options,\n\u001b[0;32m    121\u001b[0m     )\n\u001b[0;32m    122\u001b[0m     sampler_result \u001b[38;5;241m=\u001b[39m job\u001b[38;5;241m.\u001b[39mresult()\n\u001b[0;32m    123\u001b[0m     samples \u001b[38;5;241m=\u001b[39m sampler_result\u001b[38;5;241m.\u001b[39mquasi_dists\n",
      "\u001b[1;31mTypeError\u001b[0m: SamplerV2.run() takes 2 positional arguments but 3 were given"
     ]
    }
   ],
   "source": [
    "qaoa_result = optimizer.solve(qubo)\n",
    "print(qaoa_result.prettyprint())"
   ]
  }
 ],
 "metadata": {
  "kernelspec": {
   "display_name": "test_env",
   "language": "python",
   "name": "python3"
  },
  "language_info": {
   "codemirror_mode": {
    "name": "ipython",
    "version": 3
   },
   "file_extension": ".py",
   "mimetype": "text/x-python",
   "name": "python",
   "nbconvert_exporter": "python",
   "pygments_lexer": "ipython3",
   "version": "3.10.16"
  }
 },
 "nbformat": 4,
 "nbformat_minor": 2
}
