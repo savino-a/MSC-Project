{
 "cells": [
  {
   "cell_type": "code",
   "execution_count": null,
   "metadata": {},
   "outputs": [],
   "source": [
    "from qiskit_optimization import QuadraticProgram\n",
    "from qiskit_ibm_runtime import QiskitRuntimeService\n",
    "from qiskit_algorithms import QAOA, NumPyMinimumEigensolver\n",
    "from qiskit_algorithms.optimizers import COBYLA\n",
    "from qiskit_ibm_runtime import QiskitRuntimeService, SamplerV2 as Sampler\n",
    "from qiskit_optimization.algorithms import MinimumEigenOptimizer\n",
    "from qiskit_optimization.converters import QuadraticProgramToQubo\n",
    "from qiskit_algorithms.utils import algorithm_globals"
   ]
  },
  {
   "cell_type": "code",
   "execution_count": 375,
   "metadata": {},
   "outputs": [
    {
     "name": "stdout",
     "output_type": "stream",
     "text": [
      "Problem name: Optimization_Problem\n",
      "\n",
      "Minimize\n",
      "  0\n",
      "\n",
      "Subject to\n",
      "  No constraints\n",
      "\n",
      "  No variables\n",
      "\n"
     ]
    }
   ],
   "source": [
    "mod = QuadraticProgram(\"Optimization_Problem\")\n",
    "print(mod.prettyprint())"
   ]
  },
  {
   "cell_type": "code",
   "execution_count": 376,
   "metadata": {},
   "outputs": [
    {
     "name": "stdout",
     "output_type": "stream",
     "text": [
      "Problem name: Optimization_Problem\n",
      "\n",
      "Minimize\n",
      "  0\n",
      "\n",
      "Subject to\n",
      "  No constraints\n",
      "\n",
      "  Binary variables (10)\n",
      "    x0 x1 x2 x3 x4 y5 y6 y7 y8 y9\n",
      "\n"
     ]
    }
   ],
   "source": [
    "N=5\n",
    "Dist=2 # Distance to travel\n",
    "\n",
    "tolerance = 2 # Tolerance in distance travelled\n",
    "\n",
    "delta_v=1 # Rate of acceleration/deceleration set to 1\n",
    "delta_v_sq=delta_v**2\n",
    "\n",
    "vmax=150 # Max speed of a TGV in France (in m/s)\n",
    "\n",
    "alpha=0.05 # Regenerative braking efficiency\n",
    "\n",
    "# Define two lists of binary variables\n",
    "x = mod.binary_var_list(N, name=\"x\")\n",
    "y = mod.binary_var_list(N, name=\"y\")\n",
    "print(mod.prettyprint())"
   ]
  },
  {
   "cell_type": "markdown",
   "metadata": {},
   "source": [
    "### Defining objective function"
   ]
  },
  {
   "cell_type": "code",
   "execution_count": 377,
   "metadata": {},
   "outputs": [
    {
     "name": "stdout",
     "output_type": "stream",
     "text": [
      "Problem name: Optimization_Problem\n",
      "\n",
      "Minimize\n",
      "  x0 + x1 + x2 + x3 + x4 - 0.05*y5 - 0.05*y6 - 0.05*y7 - 0.05*y8 - 0.05*y9\n",
      "\n",
      "Subject to\n",
      "  No constraints\n",
      "\n",
      "  Binary variables (10)\n",
      "    x0 x1 x2 x3 x4 y5 y6 y7 y8 y9\n",
      "\n"
     ]
    }
   ],
   "source": [
    "linear_terms = {var.name: delta_v_sq for var in x}\n",
    "linear_terms.update({var.name: -alpha*delta_v_sq for var in y})\n",
    "mod.minimize(linear=linear_terms)\n",
    "print(mod.prettyprint())"
   ]
  },
  {
   "cell_type": "markdown",
   "metadata": {},
   "source": [
    "### Adding constraints"
   ]
  },
  {
   "cell_type": "markdown",
   "metadata": {},
   "source": [
    "#### Net-Zero constraint"
   ]
  },
  {
   "cell_type": "code",
   "execution_count": 378,
   "metadata": {},
   "outputs": [
    {
     "name": "stdout",
     "output_type": "stream",
     "text": [
      "Problem name: Optimization_Problem\n",
      "\n",
      "Minimize\n",
      "  x0 + x1 + x2 + x3 + x4 - 0.05*y5 - 0.05*y6 - 0.05*y7 - 0.05*y8 - 0.05*y9\n",
      "\n",
      "Subject to\n",
      "  Linear constraints (1)\n",
      "    x0 + x1 + x2 + x3 + x4 - y5 - y6 - y7 - y8 - y9 == 0  'net-zero_constraint'\n",
      "\n",
      "  Binary variables (10)\n",
      "    x0 x1 x2 x3 x4 y5 y6 y7 y8 y9\n",
      "\n"
     ]
    }
   ],
   "source": [
    "constraint_terms = {var.name: 1 for var in x}\n",
    "constraint_terms.update({var.name: -1 for var in y})\n",
    "mod.linear_constraint(constraint_terms, '=', 0, name=\"net-zero_constraint\")\n",
    "print(mod.prettyprint())"
   ]
  },
  {
   "cell_type": "markdown",
   "metadata": {},
   "source": [
    "#### Maximum Speed Constraint"
   ]
  },
  {
   "cell_type": "code",
   "execution_count": 379,
   "metadata": {},
   "outputs": [
    {
     "name": "stdout",
     "output_type": "stream",
     "text": [
      "Problem name: Optimization_Problem\n",
      "\n",
      "Minimize\n",
      "  x0 + x1 + x2 + x3 + x4 - 0.05*y5 - 0.05*y6 - 0.05*y7 - 0.05*y8 - 0.05*y9\n",
      "\n",
      "Subject to\n",
      "  Linear constraints (2)\n",
      "    x0 + x1 + x2 + x3 + x4 - y5 - y6 - y7 - y8 - y9 == 0  'net-zero_constraint'\n",
      "    x0 + x1 + x2 + x3 + x4 <= 150  'Maximum_Speed_constraint'\n",
      "\n",
      "  Binary variables (10)\n",
      "    x0 x1 x2 x3 x4 y5 y6 y7 y8 y9\n",
      "\n"
     ]
    }
   ],
   "source": [
    "constraint_terms = {var.name: delta_v for var in x}\n",
    "mod.linear_constraint(constraint_terms, '<=', vmax, name=\"Maximum_Speed_constraint\")\n",
    "print(mod.prettyprint())"
   ]
  },
  {
   "cell_type": "markdown",
   "metadata": {},
   "source": [
    "#### Positive speed constraint"
   ]
  },
  {
   "cell_type": "code",
   "execution_count": 380,
   "metadata": {},
   "outputs": [
    {
     "data": {
      "text/plain": [
       "'for i in range(N):\\n    constraint_terms = {var.name: 1 for var in x[0:i]}\\n    constraint_terms.update({var.name: -1 for var in y[0:i]})\\n    mod.linear_constraint(constraint_terms, \\'>=\\', 0, name=\"Positive_Speed\"+str(i))\\n\\nprint(mod.prettyprint())'"
      ]
     },
     "execution_count": 380,
     "metadata": {},
     "output_type": "execute_result"
    }
   ],
   "source": [
    "'''for i in range(N):\n",
    "    constraint_terms = {var.name: 1 for var in x[0:i]}\n",
    "    constraint_terms.update({var.name: -1 for var in y[0:i]})\n",
    "    mod.linear_constraint(constraint_terms, '>=', 0, name=\"Positive_Speed\"+str(i))\n",
    "\n",
    "print(mod.prettyprint())'''"
   ]
  },
  {
   "cell_type": "markdown",
   "metadata": {},
   "source": [
    "#### No simultaneous acceleration/deceleration"
   ]
  },
  {
   "cell_type": "code",
   "execution_count": 381,
   "metadata": {},
   "outputs": [
    {
     "name": "stdout",
     "output_type": "stream",
     "text": [
      "Problem name: Optimization_Problem\n",
      "\n",
      "Minimize\n",
      "  x0 + x1 + x2 + x3 + x4 - 0.05*y5 - 0.05*y6 - 0.05*y7 - 0.05*y8 - 0.05*y9\n",
      "\n",
      "Subject to\n",
      "  Linear constraints (18)\n",
      "    x0 + x1 + x2 + x3 + x4 - y5 - y6 - y7 - y8 - y9 == 0  'net-zero_constraint'\n",
      "    x0 + x1 + x2 + x3 + x4 <= 150  'Maximum_Speed_constraint'\n",
      "    x0 - z10 <= 0  'z_u_d_0'\n",
      "    x1 - z11 <= 0  'z_u_d_1'\n",
      "    x2 - z12 <= 0  'z_u_d_2'\n",
      "    x3 - z13 <= 0  'z_u_d_3'\n",
      "    x4 - z14 <= 0  'z_u_d_4'\n",
      "    y5 - z10 <= 0  'z_p_d_0'\n",
      "    y6 - z11 <= 0  'z_p_d_1'\n",
      "    y7 - z12 <= 0  'z_p_d_2'\n",
      "    y8 - z13 <= 0  'z_p_d_3'\n",
      "    y9 - z14 <= 0  'z_p_d_4'\n",
      "    x0 + y5 - z10 >= -1  'z_u_p_d_0'\n",
      "    x1 + y6 - z11 >= -1  'z_u_p_d_1'\n",
      "    x2 + y7 - z12 >= -1  'z_u_p_d_2'\n",
      "    x3 + y8 - z13 >= -1  'z_u_p_d_3'\n",
      "    x4 + y9 - z14 >= -1  'z_u_p_d_4'\n",
      "    z10 + z11 + z12 + z13 + z14\n",
      "    == 0  'No_simultaneous_braking_or_acceleration_constraint'\n",
      "\n",
      "  Binary variables (15)\n",
      "    x0 x1 x2 x3 x4 y5 y6 y7 y8 y9 z10 z11 z12 z13 z14\n",
      "\n"
     ]
    }
   ],
   "source": [
    "z = mod.binary_var_list(N, name=\"z\")\n",
    "\n",
    "# Constraint 1: z[i] <= x[i]\n",
    "for i in range(N):\n",
    "    mod.linear_constraint({x[i].name: 1, z[i].name: -1}, '<=', 0, name=f\"z_u_d_{i}\")\n",
    "\n",
    "# Constraint 2: z[i] <= y[i]\n",
    "for i in range(N):\n",
    "    mod.linear_constraint({y[i].name: 1, z[i].name: -1}, '<=', 0, name=f\"z_p_d_{i}\")\n",
    "\n",
    "# Constraint 3: z[i] >= x[i] + y[i] - 1\n",
    "for i in range(N):\n",
    "    mod.linear_constraint({x[i].name: 1, y[i].name: 1, z[i].name: -1}, '>=', -1, name=f\"z_u_p_d_{i}\")\n",
    "\n",
    "# Final Constraint: sum(z[i]) == 0 (No simultaneous braking or acceleration)\n",
    "sum_constraint = {z[i].name: 1 for i in range(N)}\n",
    "mod.linear_constraint(sum_constraint, '==', 0, name=\"No_simultaneous_braking_or_acceleration_constraint\")\n",
    "\n",
    "# Print the QuadraticProgram to see the problem\n",
    "print(mod.prettyprint())\n"
   ]
  },
  {
   "cell_type": "code",
   "execution_count": 382,
   "metadata": {},
   "outputs": [
    {
     "name": "stdout",
     "output_type": "stream",
     "text": [
      "Problem name: Optimization_Problem\n",
      "\n",
      "Minimize\n",
      "  x0 + x1 + x2 + x3 + x4 - 0.05*y5 - 0.05*y6 - 0.05*y7 - 0.05*y8 - 0.05*y9\n",
      "\n",
      "Subject to\n",
      "  Linear constraints (20)\n",
      "    x0 + x1 + x2 + x3 + x4 - y5 - y6 - y7 - y8 - y9 == 0  'net-zero_constraint'\n",
      "    x0 + x1 + x2 + x3 + x4 <= 150  'Maximum_Speed_constraint'\n",
      "    x0 - z10 <= 0  'z_u_d_0'\n",
      "    x1 - z11 <= 0  'z_u_d_1'\n",
      "    x2 - z12 <= 0  'z_u_d_2'\n",
      "    x3 - z13 <= 0  'z_u_d_3'\n",
      "    x4 - z14 <= 0  'z_u_d_4'\n",
      "    y5 - z10 <= 0  'z_p_d_0'\n",
      "    y6 - z11 <= 0  'z_p_d_1'\n",
      "    y7 - z12 <= 0  'z_p_d_2'\n",
      "    y8 - z13 <= 0  'z_p_d_3'\n",
      "    y9 - z14 <= 0  'z_p_d_4'\n",
      "    x0 + y5 - z10 >= -1  'z_u_p_d_0'\n",
      "    x1 + y6 - z11 >= -1  'z_u_p_d_1'\n",
      "    x2 + y7 - z12 >= -1  'z_u_p_d_2'\n",
      "    x3 + y8 - z13 >= -1  'z_u_p_d_3'\n",
      "    x4 + y9 - z14 >= -1  'z_u_p_d_4'\n",
      "    z10 + z11 + z12 + z13 + z14\n",
      "    == 0  'No_simultaneous_braking_or_acceleration_constraint'\n",
      "    x0 + x1 + x2 + x3 + x4 - y5 - y6 - y7 - y8 - y9\n",
      "    <= 4  'Max_Distance_constraint'\n",
      "    x0 + x1 + x2 + x3 + x4 - y5 - y6 - y7 - y8 - y9\n",
      "    >= 0  'Min_Distance_constraint'\n",
      "\n",
      "  Binary variables (15)\n",
      "    x0 x1 x2 x3 x4 y5 y6 y7 y8 y9 z10 z11 z12 z13 z14\n",
      "\n"
     ]
    }
   ],
   "source": [
    "# Define the linear expression for the total distance\n",
    "linear_terms = {}\n",
    "for i in range(N):\n",
    "    # Each term in the summation contributes delta_v * (x[i] - y[i])\n",
    "    linear_terms[x[i].name] = delta_v  # x[i] contributes +delta_v\n",
    "    linear_terms[y[i].name] = -delta_v  # y[i] contributes -delta_v\n",
    "\n",
    "# Add constraints for distance (distance <= Dist + tolerance) and (distance >= Dist - tolerance)\n",
    "mod.linear_constraint(linear_terms, '<=', Dist + tolerance, name=\"Max_Distance_constraint\")\n",
    "mod.linear_constraint(linear_terms, '>=', Dist - tolerance, name=\"Min_Distance_constraint\")\n",
    "\n",
    "# Print the QuadraticProgram to see the problem\n",
    "print(mod.prettyprint())"
   ]
  },
  {
   "cell_type": "markdown",
   "metadata": {},
   "source": [
    "### Convert optimization problem"
   ]
  },
  {
   "cell_type": "code",
   "execution_count": 383,
   "metadata": {},
   "outputs": [
    {
     "name": "stdout",
     "output_type": "stream",
     "text": [
      "offset: 888464.2500000005\n",
      "operator:\n",
      "SparsePauliOp(['IIIIIIIIIIIIIIIIIIIIIIIIIIIIIIIIIIIIIIIZ', 'IIIIIIIIIIIIIIIIIIIIIIIIIIIIIIIIIIIIIIZI', 'IIIIIIIIIIIIIIIIIIIIIIIIIIIIIIIIIIIIIZII', 'IIIIIIIIIIIIIIIIIIIIIIIIIIIIIIIIIIIIZIII', 'IIIIIIIIIIIIIIIIIIIIIIIIIIIIIIIIIIIZIIII', 'IIIIIIIIIIIIIIIIIIIIIIIIIIIIIIIIIIZIIIII', 'IIIIIIIIIIIIIIIIIIIIIIIIIIIIIIIIIZIIIIII', 'IIIIIIIIIIIIIIIIIIIIIIIIIIIIIIIIZIIIIIII', 'IIIIIIIIIIIIIIIIIIIIIIIIIIIIIIIZIIIIIIII', 'IIIIIIIIIIIIIIIIIIIIIIIIIIIIIIZIIIIIIIII', 'IIIIIIIIIIIIIIIIIIIIIIIIZIIIIIIIIIIIIIII', 'IIIIIIIIIIIIIIIIIIIIIIIZIIIIIIIIIIIIIIII', 'IIIIIIIIIIIIIIIIIIIIIIZIIIIIIIIIIIIIIIII', 'IIIIIIIIIIIIIIIIIIIIIZIIIIIIIIIIIIIIIIII', 'IIIIIIIIIIIIIIIIIIIIZIIIIIIIIIIIIIIIIIII', 'IIIIIIIIIIIIIIIIIIIZIIIIIIIIIIIIIIIIIIII', 'IIIIIIIIIIIIIIIIIIZIIIIIIIIIIIIIIIIIIIII', 'IIIIIIIIIIIIIIIIIZIIIIIIIIIIIIIIIIIIIIII', 'IIIIIIIIIIIIIIIIIIIIIIIIIIIIIZIIIIIIIIII', 'IIIIIIIIIIIIIIIIIIIIIIIIIIIIZIIIIIIIIIII', 'IIIIIIIIIIIIIIIIIIIIIIIIIIIZIIIIIIIIIIII', 'IIIIIIIIIIIIIIIIIIIIIIIIIIZIIIIIIIIIIIII', 'IIIIIIIIIIIIIIIIIIIIIIIIIZIIIIIIIIIIIIII', 'IIIIIIZIIIIIIIIIIIIIIIIIIIIIIIIIIIIIIIII', 'IIIIIZIIIIIIIIIIIIIIIIIIIIIIIIIIIIIIIIII', 'IIIIZIIIIIIIIIIIIIIIIIIIIIIIIIIIIIIIIIII', 'IIIZIIIIIIIIIIIIIIIIIIIIIIIIIIIIIIIIIIII', 'IIIIIIIIIIIIIIIIIIIIIIIIIIIIIIIIIIIIIIZZ', 'IIIIIIIIIIIIIIIIIIIIIIIIIIIIIIIIIIIIIZIZ', 'IIIIIIIIIIIIIIIIIIIIIIIIIIIIIIIIIIIIZIIZ', 'IIIIIIIIIIIIIIIIIIIIIIIIIIIIIIIIIIIZIIIZ', 'IIIIIIIIIIIIIIIIIIIIIIIIIIIIIIIIIIZIIIIZ', 'IIIIIIIIIIIIIIIIIIIIIIIIIIIIIIIIIZIIIIIZ', 'IIIIIIIIIIIIIIIIIIIIIIIIIIIIIIIIZIIIIIIZ', 'IIIIIIIIIIIIIIIIIIIIIIIIIIIIIIIZIIIIIIIZ', 'IIIIIIIIIIIIIIIIIIIIIIIIIIIIIIZIIIIIIIIZ', 'IIIIIIIIIIIIIIIIIIIIIIIIIIIIIZIIIIIIIIIZ', 'IIIIIIIIIIIIIIIIIIIIIIIIZIIIIIIIIIIIIIIZ', 'IIIIIIIIIIIIIIIIIIIIIIIZIIIIIIIIIIIIIIIZ', 'IIIIIIIIIIIIIIIIIIIIIIZIIIIIIIIIIIIIIIIZ', 'IIIIIIIIIIIIIIIIIIIIIZIIIIIIIIIIIIIIIIIZ', 'IIIIIIIIIIIIIIIIIIIIZIIIIIIIIIIIIIIIIIIZ', 'IIIIIIIIIIIIIIIIIIIZIIIIIIIIIIIIIIIIIIIZ', 'IIIIIIIIIIIIIIIIIIZIIIIIIIIIIIIIIIIIIIIZ', 'IIIIIIIIIIIIIIIIIZIIIIIIIIIIIIIIIIIIIIIZ', 'IIIIIIIIIIIIIIIIZIIIIIIIIIIIIIIIIIIIIIIZ', 'IIIIIIIIIIIIIIIZIIIIIIIIIIIIIIIIIIIIIIIZ', 'IIIIIIZIIIIIIIIIIIIIIIIIIIIIIIIIIIIIIIIZ', 'IIIIIZIIIIIIIIIIIIIIIIIIIIIIIIIIIIIIIIIZ', 'IIIIZIIIIIIIIIIIIIIIIIIIIIIIIIIIIIIIIIIZ', 'IIIZIIIIIIIIIIIIIIIIIIIIIIIIIIIIIIIIIIIZ', 'IIZIIIIIIIIIIIIIIIIIIIIIIIIIIIIIIIIIIIIZ', 'IIZIIIIIIIIIIIIIIIIIIIIIIIIIIIIIIIIIIIII', 'IZIIIIIIIIIIIIIIIIIIIIIIIIIIIIIIIIIIIIIZ', 'IZIIIIIIIIIIIIIIIIIIIIIIIIIIIIIIIIIIIIII', 'ZIIIIIIIIIIIIIIIIIIIIIIIIIIIIIIIIIIIIIIZ', 'ZIIIIIIIIIIIIIIIIIIIIIIIIIIIIIIIIIIIIIII', 'IIIIIIIIIIIIIIIIIIIIIIIIIIIIIIIIIIIIIZZI', 'IIIIIIIIIIIIIIIIIIIIIIIIIIIIIIIIIIIIZIZI', 'IIIIIIIIIIIIIIIIIIIIIIIIIIIIIIIIIIIZIIZI', 'IIIIIIIIIIIIIIIIIIIIIIIIIIIIIIIIIIZIIIZI', 'IIIIIIIIIIIIIIIIIIIIIIIIIIIIIIIIIZIIIIZI', 'IIIIIIIIIIIIIIIIIIIIIIIIIIIIIIIIZIIIIIZI', 'IIIIIIIIIIIIIIIIIIIIIIIIIIIIIIIZIIIIIIZI', 'IIIIIIIIIIIIIIIIIIIIIIIIIIIIIIZIIIIIIIZI', 'IIIIIIIIIIIIIIIIIIIIIIIIIIIIZIIIIIIIIIZI', 'IIIIIIIIIIIIIIIIIIIIIIIIZIIIIIIIIIIIIIZI', 'IIIIIIIIIIIIIIIIIIIIIIIZIIIIIIIIIIIIIIZI', 'IIIIIIIIIIIIIIIIIIIIIIZIIIIIIIIIIIIIIIZI', 'IIIIIIIIIIIIIIIIIIIIIZIIIIIIIIIIIIIIIIZI', 'IIIIIIIIIIIIIIIIIIIIZIIIIIIIIIIIIIIIIIZI', 'IIIIIIIIIIIIIIIIIIIZIIIIIIIIIIIIIIIIIIZI', 'IIIIIIIIIIIIIIIIIIZIIIIIIIIIIIIIIIIIIIZI', 'IIIIIIIIIIIIIIIIIZIIIIIIIIIIIIIIIIIIIIZI', 'IIIIIIIIIIIIIIZIIIIIIIIIIIIIIIIIIIIIIIZI', 'IIIIIIIIIIIIIZIIIIIIIIIIIIIIIIIIIIIIIIZI', 'IIIIIIZIIIIIIIIIIIIIIIIIIIIIIIIIIIIIIIZI', 'IIIIIZIIIIIIIIIIIIIIIIIIIIIIIIIIIIIIIIZI', 'IIIIZIIIIIIIIIIIIIIIIIIIIIIIIIIIIIIIIIZI', 'IIIZIIIIIIIIIIIIIIIIIIIIIIIIIIIIIIIIIIZI', 'IIZIIIIIIIIIIIIIIIIIIIIIIIIIIIIIIIIIIIZI', 'IZIIIIIIIIIIIIIIIIIIIIIIIIIIIIIIIIIIIIZI', 'ZIIIIIIIIIIIIIIIIIIIIIIIIIIIIIIIIIIIIIZI', 'IIIIIIIIIIIIIIIIIIIIIIIIIIIIIIIIIIIIZZII', 'IIIIIIIIIIIIIIIIIIIIIIIIIIIIIIIIIIIZIZII', 'IIIIIIIIIIIIIIIIIIIIIIIIIIIIIIIIIIZIIZII', 'IIIIIIIIIIIIIIIIIIIIIIIIIIIIIIIIIZIIIZII', 'IIIIIIIIIIIIIIIIIIIIIIIIIIIIIIIIZIIIIZII', 'IIIIIIIIIIIIIIIIIIIIIIIIIIIIIIIZIIIIIZII', 'IIIIIIIIIIIIIIIIIIIIIIIIIIIIIIZIIIIIIZII', 'IIIIIIIIIIIIIIIIIIIIIIIIIIIZIIIIIIIIIZII', 'IIIIIIIIIIIIIIIIIIIIIIIIZIIIIIIIIIIIIZII', 'IIIIIIIIIIIIIIIIIIIIIIIZIIIIIIIIIIIIIZII', 'IIIIIIIIIIIIIIIIIIIIIIZIIIIIIIIIIIIIIZII', 'IIIIIIIIIIIIIIIIIIIIIZIIIIIIIIIIIIIIIZII', 'IIIIIIIIIIIIIIIIIIIIZIIIIIIIIIIIIIIIIZII', 'IIIIIIIIIIIIIIIIIIIZIIIIIIIIIIIIIIIIIZII', 'IIIIIIIIIIIIIIIIIIZIIIIIIIIIIIIIIIIIIZII', 'IIIIIIIIIIIIIIIIIZIIIIIIIIIIIIIIIIIIIZII', 'IIIIIIIIIIIIZIIIIIIIIIIIIIIIIIIIIIIIIZII', 'IIIIIIIIIIIZIIIIIIIIIIIIIIIIIIIIIIIIIZII', 'IIIIIIZIIIIIIIIIIIIIIIIIIIIIIIIIIIIIIZII', 'IIIIIZIIIIIIIIIIIIIIIIIIIIIIIIIIIIIIIZII', 'IIIIZIIIIIIIIIIIIIIIIIIIIIIIIIIIIIIIIZII', 'IIIZIIIIIIIIIIIIIIIIIIIIIIIIIIIIIIIIIZII', 'IIZIIIIIIIIIIIIIIIIIIIIIIIIIIIIIIIIIIZII', 'IZIIIIIIIIIIIIIIIIIIIIIIIIIIIIIIIIIIIZII', 'ZIIIIIIIIIIIIIIIIIIIIIIIIIIIIIIIIIIIIZII', 'IIIIIIIIIIIIIIIIIIIIIIIIIIIIIIIIIIIZZIII', 'IIIIIIIIIIIIIIIIIIIIIIIIIIIIIIIIIIZIZIII', 'IIIIIIIIIIIIIIIIIIIIIIIIIIIIIIIIIZIIZIII', 'IIIIIIIIIIIIIIIIIIIIIIIIIIIIIIIIZIIIZIII', 'IIIIIIIIIIIIIIIIIIIIIIIIIIIIIIIZIIIIZIII', 'IIIIIIIIIIIIIIIIIIIIIIIIIIIIIIZIIIIIZIII', 'IIIIIIIIIIIIIIIIIIIIIIIIIIZIIIIIIIIIZIII', 'IIIIIIIIIIIIIIIIIIIIIIIIZIIIIIIIIIIIZIII', 'IIIIIIIIIIIIIIIIIIIIIIIZIIIIIIIIIIIIZIII', 'IIIIIIIIIIIIIIIIIIIIIIZIIIIIIIIIIIIIZIII', 'IIIIIIIIIIIIIIIIIIIIIZIIIIIIIIIIIIIIZIII', 'IIIIIIIIIIIIIIIIIIIIZIIIIIIIIIIIIIIIZIII', 'IIIIIIIIIIIIIIIIIIIZIIIIIIIIIIIIIIIIZIII', 'IIIIIIIIIIIIIIIIIIZIIIIIIIIIIIIIIIIIZIII', 'IIIIIIIIIIIIIIIIIZIIIIIIIIIIIIIIIIIIZIII', 'IIIIIIIIIIZIIIIIIIIIIIIIIIIIIIIIIIIIZIII', 'IIIIIIIIIZIIIIIIIIIIIIIIIIIIIIIIIIIIZIII', 'IIIIIIZIIIIIIIIIIIIIIIIIIIIIIIIIIIIIZIII', 'IIIIIZIIIIIIIIIIIIIIIIIIIIIIIIIIIIIIZIII', 'IIIIZIIIIIIIIIIIIIIIIIIIIIIIIIIIIIIIZIII', 'IIIZIIIIIIIIIIIIIIIIIIIIIIIIIIIIIIIIZIII', 'IIZIIIIIIIIIIIIIIIIIIIIIIIIIIIIIIIIIZIII', 'IZIIIIIIIIIIIIIIIIIIIIIIIIIIIIIIIIIIZIII', 'ZIIIIIIIIIIIIIIIIIIIIIIIIIIIIIIIIIIIZIII', 'IIIIIIIIIIIIIIIIIIIIIIIIIIIIIIIIIIZZIIII', 'IIIIIIIIIIIIIIIIIIIIIIIIIIIIIIIIIZIZIIII', 'IIIIIIIIIIIIIIIIIIIIIIIIIIIIIIIIZIIZIIII', 'IIIIIIIIIIIIIIIIIIIIIIIIIIIIIIIZIIIZIIII', 'IIIIIIIIIIIIIIIIIIIIIIIIIIIIIIZIIIIZIIII', 'IIIIIIIIIIIIIIIIIIIIIIIIIZIIIIIIIIIZIIII', 'IIIIIIIIIIIIIIIIIIIIIIIIZIIIIIIIIIIZIIII', 'IIIIIIIIIIIIIIIIIIIIIIIZIIIIIIIIIIIZIIII', 'IIIIIIIIIIIIIIIIIIIIIIZIIIIIIIIIIIIZIIII', 'IIIIIIIIIIIIIIIIIIIIIZIIIIIIIIIIIIIZIIII', 'IIIIIIIIIIIIIIIIIIIIZIIIIIIIIIIIIIIZIIII', 'IIIIIIIIIIIIIIIIIIIZIIIIIIIIIIIIIIIZIIII', 'IIIIIIIIIIIIIIIIIIZIIIIIIIIIIIIIIIIZIIII', 'IIIIIIIIIIIIIIIIIZIIIIIIIIIIIIIIIIIZIIII', 'IIIIIIIIZIIIIIIIIIIIIIIIIIIIIIIIIIIZIIII', 'IIIIIIIZIIIIIIIIIIIIIIIIIIIIIIIIIIIZIIII', 'IIIIIIZIIIIIIIIIIIIIIIIIIIIIIIIIIIIZIIII', 'IIIIIZIIIIIIIIIIIIIIIIIIIIIIIIIIIIIZIIII', 'IIIIZIIIIIIIIIIIIIIIIIIIIIIIIIIIIIIZIIII', 'IIIZIIIIIIIIIIIIIIIIIIIIIIIIIIIIIIIZIIII', 'IIZIIIIIIIIIIIIIIIIIIIIIIIIIIIIIIIIZIIII', 'IZIIIIIIIIIIIIIIIIIIIIIIIIIIIIIIIIIZIIII', 'ZIIIIIIIIIIIIIIIIIIIIIIIIIIIIIIIIIIZIIII', 'IIIIIIIIIIIIIIIIIIIIIIIIIIIIIIIIIZZIIIII', 'IIIIIIIIIIIIIIIIIIIIIIIIIIIIIIIIZIZIIIII', 'IIIIIIIIIIIIIIIIIIIIIIIIIIIIIIIZIIZIIIII', 'IIIIIIIIIIIIIIIIIIIIIIIIIIIIIIZIIIZIIIII', 'IIIIIIIIIIIIIIIIIIIIIIIIIIIIIZIIIIZIIIII', 'IIIIIIIIIIIIIIIIZIIIIIIIIIIIIIIIIIZIIIII', 'IIIIIIIIIIIIIIIZIIIIIIIIIIIIIIIIIIZIIIII', 'IIIIIIZIIIIIIIIIIIIIIIIIIIIIIIIIIIZIIIII', 'IIIIIZIIIIIIIIIIIIIIIIIIIIIIIIIIIIZIIIII', 'IIIIZIIIIIIIIIIIIIIIIIIIIIIIIIIIIIZIIIII', 'IIIZIIIIIIIIIIIIIIIIIIIIIIIIIIIIIIZIIIII', 'IIZIIIIIIIIIIIIIIIIIIIIIIIIIIIIIIIZIIIII', 'IZIIIIIIIIIIIIIIIIIIIIIIIIIIIIIIIIZIIIII', 'ZIIIIIIIIIIIIIIIIIIIIIIIIIIIIIIIIIZIIIII', 'IIIIIIIIIIIIIIIIIIIIIIIIIIIIIIIIZZIIIIII', 'IIIIIIIIIIIIIIIIIIIIIIIIIIIIIIIZIZIIIIII', 'IIIIIIIIIIIIIIIIIIIIIIIIIIIIIIZIIZIIIIII', 'IIIIIIIIIIIIIIIIIIIIIIIIIIIIZIIIIZIIIIII', 'IIIIIIIIIIIIIIZIIIIIIIIIIIIIIIIIIZIIIIII', 'IIIIIIIIIIIIIZIIIIIIIIIIIIIIIIIIIZIIIIII', 'IIIIIIZIIIIIIIIIIIIIIIIIIIIIIIIIIZIIIIII', 'IIIIIZIIIIIIIIIIIIIIIIIIIIIIIIIIIZIIIIII', 'IIIIZIIIIIIIIIIIIIIIIIIIIIIIIIIIIZIIIIII', 'IIIZIIIIIIIIIIIIIIIIIIIIIIIIIIIIIZIIIIII', 'IIZIIIIIIIIIIIIIIIIIIIIIIIIIIIIIIZIIIIII', 'IZIIIIIIIIIIIIIIIIIIIIIIIIIIIIIIIZIIIIII', 'ZIIIIIIIIIIIIIIIIIIIIIIIIIIIIIIIIZIIIIII', 'IIIIIIIIIIIIIIIIIIIIIIIIIIIIIIIZZIIIIIII', 'IIIIIIIIIIIIIIIIIIIIIIIIIIIIIIZIZIIIIIII', 'IIIIIIIIIIIIIIIIIIIIIIIIIIIZIIIIZIIIIIII', 'IIIIIIIIIIIIZIIIIIIIIIIIIIIIIIIIZIIIIIII', 'IIIIIIIIIIIZIIIIIIIIIIIIIIIIIIIIZIIIIIII', 'IIIIIIZIIIIIIIIIIIIIIIIIIIIIIIIIZIIIIIII', 'IIIIIZIIIIIIIIIIIIIIIIIIIIIIIIIIZIIIIIII', 'IIIIZIIIIIIIIIIIIIIIIIIIIIIIIIIIZIIIIIII', 'IIIZIIIIIIIIIIIIIIIIIIIIIIIIIIIIZIIIIIII', 'IIZIIIIIIIIIIIIIIIIIIIIIIIIIIIIIZIIIIIII', 'IZIIIIIIIIIIIIIIIIIIIIIIIIIIIIIIZIIIIIII', 'ZIIIIIIIIIIIIIIIIIIIIIIIIIIIIIIIZIIIIIII', 'IIIIIIIIIIIIIIIIIIIIIIIIIIIIIIZZIIIIIIII', 'IIIIIIIIIIIIIIIIIIIIIIIIIIZIIIIZIIIIIIII', 'IIIIIIIIIIZIIIIIIIIIIIIIIIIIIIIZIIIIIIII', 'IIIIIIIIIZIIIIIIIIIIIIIIIIIIIIIZIIIIIIII', 'IIIIIIZIIIIIIIIIIIIIIIIIIIIIIIIZIIIIIIII', 'IIIIIZIIIIIIIIIIIIIIIIIIIIIIIIIZIIIIIIII', 'IIIIZIIIIIIIIIIIIIIIIIIIIIIIIIIZIIIIIIII', 'IIIZIIIIIIIIIIIIIIIIIIIIIIIIIIIZIIIIIIII', 'IIZIIIIIIIIIIIIIIIIIIIIIIIIIIIIZIIIIIIII', 'IZIIIIIIIIIIIIIIIIIIIIIIIIIIIIIZIIIIIIII', 'ZIIIIIIIIIIIIIIIIIIIIIIIIIIIIIIZIIIIIIII', 'IIIIIIIIIIIIIIIIIIIIIIIIIZIIIIZIIIIIIIII', 'IIIIIIIIZIIIIIIIIIIIIIIIIIIIIIZIIIIIIIII', 'IIIIIIIZIIIIIIIIIIIIIIIIIIIIIIZIIIIIIIII', 'IIIIIIZIIIIIIIIIIIIIIIIIIIIIIIZIIIIIIIII', 'IIIIIZIIIIIIIIIIIIIIIIIIIIIIIIZIIIIIIIII', 'IIIIZIIIIIIIIIIIIIIIIIIIIIIIIIZIIIIIIIII', 'IIIZIIIIIIIIIIIIIIIIIIIIIIIIIIZIIIIIIIII', 'IIZIIIIIIIIIIIIIIIIIIIIIIIIIIIZIIIIIIIII', 'IZIIIIIIIIIIIIIIIIIIIIIIIIIIIIZIIIIIIIII', 'ZIIIIIIIIIIIIIIIIIIIIIIIIIIIIIZIIIIIIIII', 'IIIIIIIIIIIIIIIIIIIIIIIIIIIIZZIIIIIIIIII', 'IIIIIIIIIIIIIIIIIIIIIIIIIIIZIZIIIIIIIIII', 'IIIIIIIIIIIIIIIIIIIIIIIIIIZIIZIIIIIIIIII', 'IIIIIIIIIIIIIIIIIIIIIIIIIZIIIZIIIIIIIIII', 'IIIIIIIIIIIIIIIIZIIIIIIIIIIIIZIIIIIIIIII', 'IIIIIIIIIIIIIIIZIIIIIIIIIIIIIZIIIIIIIIII', 'IIIIIIIIIIIIIIIIIIIIIIIIIIIZZIIIIIIIIIII', 'IIIIIIIIIIIIIIIIIIIIIIIIIIZIZIIIIIIIIIII', 'IIIIIIIIIIIIIIIIIIIIIIIIIZIIZIIIIIIIIIII', 'IIIIIIIIIIIIIIZIIIIIIIIIIIIIZIIIIIIIIIII', 'IIIIIIIIIIIIIZIIIIIIIIIIIIIIZIIIIIIIIIII', 'IIIIIIIIIIIIIIIIIIIIIIIIIIZZIIIIIIIIIIII', 'IIIIIIIIIIIIIIIIIIIIIIIIIZIZIIIIIIIIIIII', 'IIIIIIIIIIIIZIIIIIIIIIIIIIIZIIIIIIIIIIII', 'IIIIIIIIIIIZIIIIIIIIIIIIIIIZIIIIIIIIIIII', 'IIIIIIIIIIIIIIIIIIIIIIIIIZZIIIIIIIIIIIII', 'IIIIIIIIIIZIIIIIIIIIIIIIIIZIIIIIIIIIIIII', 'IIIIIIIIIZIIIIIIIIIIIIIIIIZIIIIIIIIIIIII', 'IIIIIIIIZIIIIIIIIIIIIIIIIZIIIIIIIIIIIIII', 'IIIIIIIZIIIIIIIIIIIIIIIIIZIIIIIIIIIIIIII', 'IIIIIIIIIIIIIIIIIIIIIIIZZIIIIIIIIIIIIIII', 'IIIIIIIIIIIIIIIIIIIIIIZIZIIIIIIIIIIIIIII', 'IIIIIIIIIIIIIIIIIIIIIZIIZIIIIIIIIIIIIIII', 'IIIIIIIIIIIIIIIIIIIIZIIIZIIIIIIIIIIIIIII', 'IIIIIIIIIIIIIIIIIIIZIIIIZIIIIIIIIIIIIIII', 'IIIIIIIIIIIIIIIIIIZIIIIIZIIIIIIIIIIIIIII', 'IIIIIIIIIIIIIIIIIZIIIIIIZIIIIIIIIIIIIIII', 'IIIIIIIIIIIIIIIIIIIIIIZZIIIIIIIIIIIIIIII', 'IIIIIIIIIIIIIIIIIIIIIZIZIIIIIIIIIIIIIIII', 'IIIIIIIIIIIIIIIIIIIIZIIZIIIIIIIIIIIIIIII', 'IIIIIIIIIIIIIIIIIIIZIIIZIIIIIIIIIIIIIIII', 'IIIIIIIIIIIIIIIIIIZIIIIZIIIIIIIIIIIIIIII', 'IIIIIIIIIIIIIIIIIZIIIIIZIIIIIIIIIIIIIIII', 'IIIIIIIIIIIIIIIIIIIIIZZIIIIIIIIIIIIIIIII', 'IIIIIIIIIIIIIIIIIIIIZIZIIIIIIIIIIIIIIIII', 'IIIIIIIIIIIIIIIIIIIZIIZIIIIIIIIIIIIIIIII', 'IIIIIIIIIIIIIIIIIIZIIIZIIIIIIIIIIIIIIIII', 'IIIIIIIIIIIIIIIIIZIIIIZIIIIIIIIIIIIIIIII', 'IIIIIIIIIIIIIIIIIIIIZZIIIIIIIIIIIIIIIIII', 'IIIIIIIIIIIIIIIIIIIZIZIIIIIIIIIIIIIIIIII', 'IIIIIIIIIIIIIIIIIIZIIZIIIIIIIIIIIIIIIIII', 'IIIIIIIIIIIIIIIIIZIIIZIIIIIIIIIIIIIIIIII', 'IIIIIIIIIIIIIIIIIIIZZIIIIIIIIIIIIIIIIIII', 'IIIIIIIIIIIIIIIIIIZIZIIIIIIIIIIIIIIIIIII', 'IIIIIIIIIIIIIIIIIZIIZIIIIIIIIIIIIIIIIIII', 'IIIIIIIIIIIIIIIIIIZZIIIIIIIIIIIIIIIIIIII', 'IIIIIIIIIIIIIIIIIZIZIIIIIIIIIIIIIIIIIIII', 'IIIIIIIIIIIIIIIIIZZIIIIIIIIIIIIIIIIIIIII', 'IIIIIIIIIIIIIIIZZIIIIIIIIIIIIIIIIIIIIIII', 'IIIIIIIIIIIIIZZIIIIIIIIIIIIIIIIIIIIIIIII', 'IIIIIIIIIIIZZIIIIIIIIIIIIIIIIIIIIIIIIIII', 'IIIIIIIIIZZIIIIIIIIIIIIIIIIIIIIIIIIIIIII', 'IIIIIIIZZIIIIIIIIIIIIIIIIIIIIIIIIIIIIIII', 'IIIIIZZIIIIIIIIIIIIIIIIIIIIIIIIIIIIIIIII', 'IIIIZIZIIIIIIIIIIIIIIIIIIIIIIIIIIIIIIIII', 'IIIZIIZIIIIIIIIIIIIIIIIIIIIIIIIIIIIIIIII', 'IIIIZZIIIIIIIIIIIIIIIIIIIIIIIIIIIIIIIIII', 'IIIZIZIIIIIIIIIIIIIIIIIIIIIIIIIIIIIIIIII', 'IIIZZIIIIIIIIIIIIIIIIIIIIIIIIIIIIIIIIIII', 'IZZIIIIIIIIIIIIIIIIIIIIIIIIIIIIIIIIIIIII', 'ZIZIIIIIIIIIIIIIIIIIIIIIIIIIIIIIIIIIIIII', 'ZZIIIIIIIIIIIIIIIIIIIIIIIIIIIIIIIIIIIIII'],\n",
      "              coeffs=[ 9.73881250e+03+0.j,  9.73881250e+03+0.j,  9.73881250e+03+0.j,\n",
      "  9.73881250e+03+0.j,  9.73881250e+03+0.j, -2.63037500e+02+0.j,\n",
      " -2.63037500e+02+0.j, -2.63037500e+02+0.j, -2.63037500e+02+0.j,\n",
      " -2.63037500e+02+0.j,  9.47937500e+03+0.j,  1.89587500e+04+0.j,\n",
      "  3.79175000e+04+0.j,  7.58350000e+04+0.j,  1.51670000e+05+0.j,\n",
      "  3.03340000e+05+0.j,  6.06680000e+05+0.j,  2.18025625e+05+0.j,\n",
      " -3.23750000e+02+0.j, -3.23750000e+02+0.j, -3.23750000e+02+0.j,\n",
      " -3.23750000e+02+0.j, -3.23750000e+02+0.j, -6.53750000e+01+0.j,\n",
      " -1.30750000e+02+0.j, -2.61500000e+02+0.j, -1.30750000e+02+0.j,\n",
      "  2.61500000e+02+0.j,  2.61500000e+02+0.j,  2.61500000e+02+0.j,\n",
      "  2.61500000e+02+0.j, -1.30750000e+02+0.j, -1.96125000e+02+0.j,\n",
      " -1.96125000e+02+0.j, -1.96125000e+02+0.j, -1.96125000e+02+0.j,\n",
      " -6.69375000e+01+0.j,  6.53750000e+01+0.j,  1.30750000e+02+0.j,\n",
      "  2.61500000e+02+0.j,  5.23000000e+02+0.j,  1.04600000e+03+0.j,\n",
      "  2.09200000e+03+0.j,  4.18400000e+03+0.j,  1.50362500e+03+0.j,\n",
      " -6.53750000e+01+0.j, -1.30750000e+02+0.j,  6.53750000e+01+0.j,\n",
      "  1.30750000e+02+0.j,  2.61500000e+02+0.j,  1.30750000e+02+0.j,\n",
      " -6.53750000e+01+0.j, -3.26875000e+02+0.j, -1.30750000e+02+0.j,\n",
      " -6.53750000e+02+0.j, -1.30750000e+02+0.j, -6.53750000e+02+0.j,\n",
      "  2.61500000e+02+0.j,  2.61500000e+02+0.j,  2.61500000e+02+0.j,\n",
      " -1.96125000e+02+0.j, -1.30750000e+02+0.j, -1.96125000e+02+0.j,\n",
      " -1.96125000e+02+0.j, -1.96125000e+02+0.j, -6.69375000e+01+0.j,\n",
      "  6.53750000e+01+0.j,  1.30750000e+02+0.j,  2.61500000e+02+0.j,\n",
      "  5.23000000e+02+0.j,  1.04600000e+03+0.j,  2.09200000e+03+0.j,\n",
      "  4.18400000e+03+0.j,  1.50362500e+03+0.j, -6.53750000e+01+0.j,\n",
      " -1.30750000e+02+0.j,  6.53750000e+01+0.j,  1.30750000e+02+0.j,\n",
      "  2.61500000e+02+0.j,  1.30750000e+02+0.j, -6.53750000e+01+0.j,\n",
      " -1.30750000e+02+0.j, -1.30750000e+02+0.j,  2.61500000e+02+0.j,\n",
      "  2.61500000e+02+0.j, -1.96125000e+02+0.j, -1.96125000e+02+0.j,\n",
      " -1.30750000e+02+0.j, -1.96125000e+02+0.j, -1.96125000e+02+0.j,\n",
      " -6.69375000e+01+0.j,  6.53750000e+01+0.j,  1.30750000e+02+0.j,\n",
      "  2.61500000e+02+0.j,  5.23000000e+02+0.j,  1.04600000e+03+0.j,\n",
      "  2.09200000e+03+0.j,  4.18400000e+03+0.j,  1.50362500e+03+0.j,\n",
      " -6.53750000e+01+0.j, -1.30750000e+02+0.j,  6.53750000e+01+0.j,\n",
      "  1.30750000e+02+0.j,  2.61500000e+02+0.j,  1.30750000e+02+0.j,\n",
      " -6.53750000e+01+0.j, -1.30750000e+02+0.j, -1.30750000e+02+0.j,\n",
      "  2.61500000e+02+0.j, -1.96125000e+02+0.j, -1.96125000e+02+0.j,\n",
      " -1.96125000e+02+0.j, -1.30750000e+02+0.j, -1.96125000e+02+0.j,\n",
      " -6.69375000e+01+0.j,  6.53750000e+01+0.j,  1.30750000e+02+0.j,\n",
      "  2.61500000e+02+0.j,  5.23000000e+02+0.j,  1.04600000e+03+0.j,\n",
      "  2.09200000e+03+0.j,  4.18400000e+03+0.j,  1.50362500e+03+0.j,\n",
      " -6.53750000e+01+0.j, -1.30750000e+02+0.j,  6.53750000e+01+0.j,\n",
      "  1.30750000e+02+0.j,  2.61500000e+02+0.j,  1.30750000e+02+0.j,\n",
      " -6.53750000e+01+0.j, -1.30750000e+02+0.j, -1.30750000e+02+0.j,\n",
      " -1.96125000e+02+0.j, -1.96125000e+02+0.j, -1.96125000e+02+0.j,\n",
      " -1.96125000e+02+0.j, -1.30750000e+02+0.j, -6.69375000e+01+0.j,\n",
      "  6.53750000e+01+0.j,  1.30750000e+02+0.j,  2.61500000e+02+0.j,\n",
      "  5.23000000e+02+0.j,  1.04600000e+03+0.j,  2.09200000e+03+0.j,\n",
      "  4.18400000e+03+0.j,  1.50362500e+03+0.j, -6.53750000e+01+0.j,\n",
      " -1.30750000e+02+0.j,  6.53750000e+01+0.j,  1.30750000e+02+0.j,\n",
      "  2.61500000e+02+0.j,  1.30750000e+02+0.j, -6.53750000e+01+0.j,\n",
      " -1.30750000e+02+0.j, -1.30750000e+02+0.j,  1.96125000e+02+0.j,\n",
      "  1.96125000e+02+0.j,  1.96125000e+02+0.j,  1.96125000e+02+0.j,\n",
      " -6.69375000e+01+0.j, -6.53750000e+01+0.j, -1.30750000e+02+0.j,\n",
      " -6.53750000e+01+0.j, -1.30750000e+02+0.j, -2.61500000e+02+0.j,\n",
      " -1.30750000e+02+0.j,  6.53750000e+01+0.j,  1.30750000e+02+0.j,\n",
      "  1.30750000e+02+0.j,  1.96125000e+02+0.j,  1.96125000e+02+0.j,\n",
      "  1.96125000e+02+0.j, -6.69375000e+01+0.j, -6.53750000e+01+0.j,\n",
      " -1.30750000e+02+0.j, -6.53750000e+01+0.j, -1.30750000e+02+0.j,\n",
      " -2.61500000e+02+0.j, -1.30750000e+02+0.j,  6.53750000e+01+0.j,\n",
      "  1.30750000e+02+0.j,  1.30750000e+02+0.j,  1.96125000e+02+0.j,\n",
      "  1.96125000e+02+0.j, -6.69375000e+01+0.j, -6.53750000e+01+0.j,\n",
      " -1.30750000e+02+0.j, -6.53750000e+01+0.j, -1.30750000e+02+0.j,\n",
      " -2.61500000e+02+0.j, -1.30750000e+02+0.j,  6.53750000e+01+0.j,\n",
      "  1.30750000e+02+0.j,  1.30750000e+02+0.j,  1.96125000e+02+0.j,\n",
      " -6.69375000e+01+0.j, -6.53750000e+01+0.j, -1.30750000e+02+0.j,\n",
      " -6.53750000e+01+0.j, -1.30750000e+02+0.j, -2.61500000e+02+0.j,\n",
      " -1.30750000e+02+0.j,  6.53750000e+01+0.j,  1.30750000e+02+0.j,\n",
      "  1.30750000e+02+0.j, -6.69375000e+01+0.j, -6.53750000e+01+0.j,\n",
      " -1.30750000e+02+0.j, -6.53750000e+01+0.j, -1.30750000e+02+0.j,\n",
      " -2.61500000e+02+0.j, -1.30750000e+02+0.j,  6.53750000e+01+0.j,\n",
      "  1.30750000e+02+0.j,  1.30750000e+02+0.j,  6.53750000e+01+0.j,\n",
      "  6.53750000e+01+0.j,  6.53750000e+01+0.j,  6.53750000e+01+0.j,\n",
      "  6.53750000e+01+0.j,  1.30750000e+02+0.j,  6.53750000e+01+0.j,\n",
      "  6.53750000e+01+0.j,  6.53750000e+01+0.j,  6.53750000e+01+0.j,\n",
      "  1.30750000e+02+0.j,  6.53750000e+01+0.j,  6.53750000e+01+0.j,\n",
      "  6.53750000e+01+0.j,  1.30750000e+02+0.j,  6.53750000e+01+0.j,\n",
      "  6.53750000e+01+0.j,  1.30750000e+02+0.j,  6.53750000e+01+0.j,\n",
      "  1.30750000e+02+0.j,  1.30750000e+02+0.j,  2.61500000e+02+0.j,\n",
      "  5.23000000e+02+0.j,  1.04600000e+03+0.j,  2.09200000e+03+0.j,\n",
      "  4.18400000e+03+0.j,  1.50362500e+03+0.j,  5.23000000e+02+0.j,\n",
      "  1.04600000e+03+0.j,  2.09200000e+03+0.j,  4.18400000e+03+0.j,\n",
      "  8.36800000e+03+0.j,  3.00725000e+03+0.j,  2.09200000e+03+0.j,\n",
      "  4.18400000e+03+0.j,  8.36800000e+03+0.j,  1.67360000e+04+0.j,\n",
      "  6.01450000e+03+0.j,  8.36800000e+03+0.j,  1.67360000e+04+0.j,\n",
      "  3.34720000e+04+0.j,  1.20290000e+04+0.j,  3.34720000e+04+0.j,\n",
      "  6.69440000e+04+0.j,  2.40580000e+04+0.j,  1.33888000e+05+0.j,\n",
      "  4.81160000e+04+0.j,  9.62320000e+04+0.j,  1.30750000e+02+0.j,\n",
      "  1.30750000e+02+0.j,  1.30750000e+02+0.j,  1.30750000e+02+0.j,\n",
      "  1.30750000e+02+0.j,  1.30750000e+02+0.j,  2.61500000e+02+0.j,\n",
      "  1.30750000e+02+0.j,  5.23000000e+02+0.j,  2.61500000e+02+0.j,\n",
      "  5.23000000e+02+0.j,  1.30750000e+02+0.j,  1.30750000e+02+0.j,\n",
      "  2.61500000e+02+0.j])\n"
     ]
    }
   ],
   "source": [
    "qp2qubo = QuadraticProgramToQubo()\n",
    "qubo = qp2qubo.convert(mod)\n",
    "op, offset = qubo.to_ising()\n",
    "print(\"offset: {}\".format(offset))\n",
    "print(\"operator:\")\n",
    "print(op)"
   ]
  },
  {
   "cell_type": "code",
   "execution_count": 384,
   "metadata": {},
   "outputs": [
    {
     "name": "stdout",
     "output_type": "stream",
     "text": [
      "Problem name: \n",
      "\n",
      "Minimize\n",
      "  1046*x0*x1 - 267.75*x0*x10 + 261.5*x0*x15 + 523*x0*x16 + 1046*x0*x17\n",
      "  + 2092*x0*x18 + 4184*x0*x19 + 1046*x0*x2 + 8368*x0*x20 + 16736*x0*x21\n",
      "  + 6014.5*x0*x22 - 261.5*x0*x23 - 523*x0*x24 + 1046*x0*x3 + 261.5*x0*x33\n",
      "  + 523*x0*x34 + 1046*x0*x35 + 523*x0*x36 - 261.5*x0*x37 - 523*x0*x38\n",
      "  - 523*x0*x39 + 1046*x0*x4 - 523*x0*x5 - 784.5*x0*x6 - 784.5*x0*x7\n",
      "  - 784.5*x0*x8 - 784.5*x0*x9 - 267.75*x1*x11 + 261.5*x1*x15 + 523*x1*x16\n",
      "  + 1046*x1*x17 + 2092*x1*x18 + 4184*x1*x19 + 1046*x1*x2 + 8368*x1*x20\n",
      "  + 16736*x1*x21 + 6014.5*x1*x22 - 261.5*x1*x25 - 523*x1*x26 + 1046*x1*x3\n",
      "  + 261.5*x1*x33 + 523*x1*x34 + 1046*x1*x35 + 523*x1*x36 - 261.5*x1*x37\n",
      "  - 523*x1*x38 - 523*x1*x39 + 1046*x1*x4 - 784.5*x1*x5 - 523*x1*x6 - 784.5*x1*x7\n",
      "  - 784.5*x1*x8 - 784.5*x1*x9 + 261.5*x10*x11 + 261.5*x10*x12 + 261.5*x10*x13\n",
      "  + 261.5*x10*x14 + 261.5*x10*x23 + 523*x10*x24 + 261.5*x11*x12 + 261.5*x11*x13\n",
      "  + 261.5*x11*x14 + 261.5*x11*x25 + 523*x11*x26 + 261.5*x12*x13 + 261.5*x12*x14\n",
      "  + 261.5*x12*x27 + 523*x12*x28 + 261.5*x13*x14 + 261.5*x13*x29 + 523*x13*x30\n",
      "  + 261.5*x14*x31 + 523*x14*x32 + 523*x15*x16 + 1046*x15*x17 + 2092*x15*x18\n",
      "  + 4184*x15*x19 + 8368*x15*x20 + 16736*x15*x21 + 6014.5*x15*x22 + 2092*x16*x17\n",
      "  + 4184*x16*x18 + 8368*x16*x19 + 16736*x16*x20 + 33472*x16*x21 + 12029*x16*x22\n",
      "  + 8368*x17*x18 + 16736*x17*x19 + 33472*x17*x20 + 66944*x17*x21 + 24058*x17*x22\n",
      "  + 33472*x18*x19 + 66944*x18*x20 + 133888*x18*x21 + 48116*x18*x22\n",
      "  + 133888*x19*x20 + 267776*x19*x21 + 96232*x19*x22 - 267.75*x2*x12\n",
      "  + 261.5*x2*x15 + 523*x2*x16 + 1046*x2*x17 + 2092*x2*x18 + 4184*x2*x19\n",
      "  + 8368*x2*x20 + 16736*x2*x21 + 6014.5*x2*x22 - 261.5*x2*x27 - 523*x2*x28\n",
      "  + 1046*x2*x3 + 261.5*x2*x33 + 523*x2*x34 + 1046*x2*x35 + 523*x2*x36\n",
      "  - 261.5*x2*x37 - 523*x2*x38 - 523*x2*x39 + 1046*x2*x4 - 784.5*x2*x5\n",
      "  - 784.5*x2*x6 - 523*x2*x7 - 784.5*x2*x8 - 784.5*x2*x9 + 535552*x20*x21\n",
      "  + 192464*x20*x22 + 384928*x21*x22 + 523*x23*x24 + 523*x25*x26 + 523*x27*x28\n",
      "  + 523*x29*x30 - 267.75*x3*x13 + 261.5*x3*x15 + 523*x3*x16 + 1046*x3*x17\n",
      "  + 2092*x3*x18 + 4184*x3*x19 + 8368*x3*x20 + 16736*x3*x21 + 6014.5*x3*x22\n",
      "  - 261.5*x3*x29 - 523*x3*x30 + 261.5*x3*x33 + 523*x3*x34 + 1046*x3*x35\n",
      "  + 523*x3*x36 - 261.5*x3*x37 - 523*x3*x38 - 523*x3*x39 + 1046*x3*x4\n",
      "  - 784.5*x3*x5 - 784.5*x3*x6 - 784.5*x3*x7 - 523*x3*x8 - 784.5*x3*x9\n",
      "  + 523*x31*x32 + 523*x33*x34 + 1046*x33*x35 + 523*x33*x36 + 2092*x34*x35\n",
      "  + 1046*x34*x36 + 2092*x35*x36 + 523*x37*x38 + 523*x37*x39 + 1046*x38*x39\n",
      "  - 267.75*x4*x14 + 261.5*x4*x15 + 523*x4*x16 + 1046*x4*x17 + 2092*x4*x18\n",
      "  + 4184*x4*x19 + 8368*x4*x20 + 16736*x4*x21 + 6014.5*x4*x22 - 261.5*x4*x31\n",
      "  - 523*x4*x32 + 261.5*x4*x33 + 523*x4*x34 + 1046*x4*x35 + 523*x4*x36\n",
      "  - 261.5*x4*x37 - 523*x4*x38 - 523*x4*x39 - 784.5*x4*x5 - 784.5*x4*x6\n",
      "  - 784.5*x4*x7 - 784.5*x4*x8 - 523*x4*x9 - 267.75*x5*x10 - 261.5*x5*x23\n",
      "  - 523*x5*x24 - 261.5*x5*x33 - 523*x5*x34 - 1046*x5*x35 - 523*x5*x36\n",
      "  + 261.5*x5*x37 + 523*x5*x38 + 523*x5*x39 + 784.5*x5*x6 + 784.5*x5*x7\n",
      "  + 784.5*x5*x8 + 784.5*x5*x9 - 267.75*x6*x11 - 261.5*x6*x25 - 523*x6*x26\n",
      "  - 261.5*x6*x33 - 523*x6*x34 - 1046*x6*x35 - 523*x6*x36 + 261.5*x6*x37\n",
      "  + 523*x6*x38 + 523*x6*x39 + 784.5*x6*x7 + 784.5*x6*x8 + 784.5*x6*x9\n",
      "  - 267.75*x7*x12 - 261.5*x7*x27 - 523*x7*x28 - 261.5*x7*x33 - 523*x7*x34\n",
      "  - 1046*x7*x35 - 523*x7*x36 + 261.5*x7*x37 + 523*x7*x38 + 523*x7*x39\n",
      "  + 784.5*x7*x8 + 784.5*x7*x9 - 267.75*x8*x13 - 261.5*x8*x29 - 523*x8*x30\n",
      "  - 261.5*x8*x33 - 523*x8*x34 - 1046*x8*x35 - 523*x8*x36 + 261.5*x8*x37\n",
      "  + 523*x8*x38 + 523*x8*x39 + 784.5*x8*x9 - 267.75*x9*x14 - 261.5*x9*x31\n",
      "  - 523*x9*x32 - 261.5*x9*x33 - 523*x9*x34 - 1046*x9*x35 - 523*x9*x36\n",
      "  + 261.5*x9*x37 + 523*x9*x38 + 523*x9*x39 - 39348.5*x0 - 39348.5*x1\n",
      "  - 39094.25*x15 - 77927*x16 - 154808*x17 - 305432*x18 - 594128*x19 - 39348.5*x2\n",
      "  - 1121312*x20 - 1974848*x21 - 833008.25*x22 - 130.75*x23 - 130.75*x25\n",
      "  - 130.75*x27 - 130.75*x29 - 39348.5*x3 - 130.75*x31 - 915.25*x33 - 1569*x34\n",
      "  - 2092*x35 - 1569*x36 + 130.75*x37 + 523*x38 + 523*x39 - 39348.5*x4\n",
      "  + 1836.6999999999998*x5 + 1836.6999999999998*x6 + 1836.6999999999998*x7\n",
      "  + 1836.6999999999998*x8 + 1836.6999999999998*x9 + 2944620.7500000005\n",
      "\n",
      "Subject to\n",
      "  No constraints\n",
      "\n",
      "  Binary variables (40)\n",
      "    x0 x1 x2 x3 x4 x5 x6 x7 x8 x9 x10 x11 x12 x13 x14 x15 x16 x17 x18 x19 x20\n",
      "    x21 x22 x23 x24 x25 x26 x27 x28 x29 x30 x31 x32 x33 x34 x35 x36 x37 x38 x39\n",
      "\n"
     ]
    }
   ],
   "source": [
    "qp = QuadraticProgram()\n",
    "qp.from_ising(op, offset, linear=True)\n",
    "print(qp.prettyprint())"
   ]
  },
  {
   "cell_type": "markdown",
   "metadata": {},
   "source": [
    "Our optimization problem is now defined, let's solve it!"
   ]
  },
  {
   "cell_type": "markdown",
   "metadata": {},
   "source": [
    "### Get backend"
   ]
  },
  {
   "cell_type": "code",
   "execution_count": 385,
   "metadata": {},
   "outputs": [
    {
     "name": "stdout",
     "output_type": "stream",
     "text": [
      "least busy backend:  <IBMBackend('ibm_kyiv')>\n"
     ]
    }
   ],
   "source": [
    "#QiskitRuntimeService.save_account(channel=\"ibm_quantum\", token=\"127d9370ab5b85e463bb2aa2196cb842ded206746763d1197bf58b29fa2a34eefcb8651384d8e1ca8e17301293ec53cf9c5dd55acbe12113630dbf575ce497df\", set_as_default=True)\n",
    "# Load saved credentials\n",
    "service = QiskitRuntimeService()\n",
    "# Get the least busy backend\n",
    "backend = service.least_busy(operational=True, simulator=False)\n",
    "print(\"least busy backend: \", backend)"
   ]
  },
  {
   "cell_type": "code",
   "execution_count": 386,
   "metadata": {},
   "outputs": [
    {
     "name": "stdout",
     "output_type": "stream",
     "text": [
      "True\n",
      "\n"
     ]
    },
    {
     "name": "stderr",
     "output_type": "stream",
     "text": [
      "C:\\Users\\arthu\\AppData\\Local\\Temp\\ipykernel_16684\\1423153282.py:2: DeprecationWarning: The class ``qiskit.primitives.sampler.Sampler`` is deprecated as of qiskit 1.2. It will be removed no earlier than 3 months after the release date. All implementations of the `BaseSamplerV1` interface have been deprecated in favor of their V2 counterparts. The V2 alternative for the `Sampler` class is `StatevectorSampler`.\n",
      "  qaoa_mes = QAOA(sampler=Sampler(), optimizer=COBYLA())\n"
     ]
    }
   ],
   "source": [
    "algorithm_globals.random_seed = 10598\n",
    "qaoa_mes = QAOA(sampler=Sampler(), optimizer=COBYLA())\n",
    "qaoa = MinimumEigenOptimizer(qaoa_mes)  # using QAOA\n",
    "\n",
    "print(qaoa.is_compatible(problem=qp))\n",
    "print(qaoa.get_compatibility_msg(problem=qp))\n",
    "\n",
    "\n"
   ]
  },
  {
   "cell_type": "code",
   "execution_count": 388,
   "metadata": {},
   "outputs": [
    {
     "ename": "MemoryError",
     "evalue": "Unable to allocate 16.0 TiB for an array with shape (1099511627776,) and data type complex128",
     "output_type": "error",
     "traceback": [
      "\u001b[1;31m---------------------------------------------------------------------------\u001b[0m",
      "\u001b[1;31mMemoryError\u001b[0m                               Traceback (most recent call last)",
      "Cell \u001b[1;32mIn[388], line 1\u001b[0m\n\u001b[1;32m----> 1\u001b[0m qaoa_result \u001b[38;5;241m=\u001b[39m \u001b[43mqaoa\u001b[49m\u001b[38;5;241;43m.\u001b[39;49m\u001b[43msolve\u001b[49m\u001b[43m(\u001b[49m\u001b[43mproblem\u001b[49m\u001b[38;5;241;43m=\u001b[39;49m\u001b[43mqubo\u001b[49m\u001b[43m)\u001b[49m\n\u001b[0;32m      2\u001b[0m \u001b[38;5;28mprint\u001b[39m(qaoa_result\u001b[38;5;241m.\u001b[39mprettyprint())\n",
      "File \u001b[1;32mc:\\Users\\arthu\\miniconda3\\envs\\QuantumQiskit\\lib\\site-packages\\qiskit_optimization\\algorithms\\minimum_eigen_optimizer.py:205\u001b[0m, in \u001b[0;36mMinimumEigenOptimizer.solve\u001b[1;34m(self, problem)\u001b[0m\n\u001b[0;32m    202\u001b[0m \u001b[38;5;66;03m# construct operator and offset\u001b[39;00m\n\u001b[0;32m    203\u001b[0m operator, offset \u001b[38;5;241m=\u001b[39m problem_\u001b[38;5;241m.\u001b[39mto_ising()\n\u001b[1;32m--> 205\u001b[0m \u001b[38;5;28;01mreturn\u001b[39;00m \u001b[38;5;28;43mself\u001b[39;49m\u001b[38;5;241;43m.\u001b[39;49m\u001b[43m_solve_internal\u001b[49m\u001b[43m(\u001b[49m\u001b[43moperator\u001b[49m\u001b[43m,\u001b[49m\u001b[43m \u001b[49m\u001b[43moffset\u001b[49m\u001b[43m,\u001b[49m\u001b[43m \u001b[49m\u001b[43mproblem_\u001b[49m\u001b[43m,\u001b[49m\u001b[43m \u001b[49m\u001b[43mproblem\u001b[49m\u001b[43m)\u001b[49m\n",
      "File \u001b[1;32mc:\\Users\\arthu\\miniconda3\\envs\\QuantumQiskit\\lib\\site-packages\\qiskit_optimization\\algorithms\\minimum_eigen_optimizer.py:218\u001b[0m, in \u001b[0;36mMinimumEigenOptimizer._solve_internal\u001b[1;34m(self, operator, offset, converted_problem, original_problem)\u001b[0m\n\u001b[0;32m    215\u001b[0m eigen_result: Optional[MinimumEigensolverResult] \u001b[38;5;241m=\u001b[39m \u001b[38;5;28;01mNone\u001b[39;00m\n\u001b[0;32m    216\u001b[0m \u001b[38;5;28;01mif\u001b[39;00m operator\u001b[38;5;241m.\u001b[39mnum_qubits \u001b[38;5;241m>\u001b[39m \u001b[38;5;241m0\u001b[39m:\n\u001b[0;32m    217\u001b[0m     \u001b[38;5;66;03m# approximate ground state of operator using min eigen solver\u001b[39;00m\n\u001b[1;32m--> 218\u001b[0m     eigen_result \u001b[38;5;241m=\u001b[39m \u001b[38;5;28;43mself\u001b[39;49m\u001b[38;5;241;43m.\u001b[39;49m\u001b[43m_min_eigen_solver\u001b[49m\u001b[38;5;241;43m.\u001b[39;49m\u001b[43mcompute_minimum_eigenvalue\u001b[49m\u001b[43m(\u001b[49m\u001b[43moperator\u001b[49m\u001b[43m)\u001b[49m\n\u001b[0;32m    219\u001b[0m     \u001b[38;5;66;03m# analyze results\u001b[39;00m\n\u001b[0;32m    220\u001b[0m     raw_samples \u001b[38;5;241m=\u001b[39m \u001b[38;5;28;01mNone\u001b[39;00m\n",
      "File \u001b[1;32mc:\\Users\\arthu\\miniconda3\\envs\\QuantumQiskit\\lib\\site-packages\\qiskit_algorithms\\minimum_eigensolvers\\sampling_vqe.py:225\u001b[0m, in \u001b[0;36mSamplingVQE.compute_minimum_eigenvalue\u001b[1;34m(self, operator, aux_operators)\u001b[0m\n\u001b[0;32m    220\u001b[0m \u001b[38;5;28;01melse\u001b[39;00m:\n\u001b[0;32m    221\u001b[0m     \u001b[38;5;66;03m# we always want to submit as many estimations per job as possible for minimal\u001b[39;00m\n\u001b[0;32m    222\u001b[0m     \u001b[38;5;66;03m# overhead on the hardware\u001b[39;00m\n\u001b[0;32m    223\u001b[0m     was_updated \u001b[38;5;241m=\u001b[39m _set_default_batchsize(\u001b[38;5;28mself\u001b[39m\u001b[38;5;241m.\u001b[39moptimizer)\n\u001b[1;32m--> 225\u001b[0m     optimizer_result \u001b[38;5;241m=\u001b[39m \u001b[38;5;28;43mself\u001b[39;49m\u001b[38;5;241;43m.\u001b[39;49m\u001b[43moptimizer\u001b[49m\u001b[38;5;241;43m.\u001b[39;49m\u001b[43mminimize\u001b[49m\u001b[43m(\u001b[49m\n\u001b[0;32m    226\u001b[0m \u001b[43m        \u001b[49m\u001b[43mfun\u001b[49m\u001b[38;5;241;43m=\u001b[39;49m\u001b[43mevaluate_energy\u001b[49m\u001b[43m,\u001b[49m\u001b[43m  \u001b[49m\u001b[38;5;66;43;03m# type: ignore[arg-type]\u001b[39;49;00m\n\u001b[0;32m    227\u001b[0m \u001b[43m        \u001b[49m\u001b[43mx0\u001b[49m\u001b[38;5;241;43m=\u001b[39;49m\u001b[43minitial_point\u001b[49m\u001b[43m,\u001b[49m\n\u001b[0;32m    228\u001b[0m \u001b[43m        \u001b[49m\u001b[43mbounds\u001b[49m\u001b[38;5;241;43m=\u001b[39;49m\u001b[43mbounds\u001b[49m\u001b[43m,\u001b[49m\n\u001b[0;32m    229\u001b[0m \u001b[43m    \u001b[49m\u001b[43m)\u001b[49m\n\u001b[0;32m    231\u001b[0m     \u001b[38;5;66;03m# reset to original value\u001b[39;00m\n\u001b[0;32m    232\u001b[0m     \u001b[38;5;28;01mif\u001b[39;00m was_updated:\n",
      "File \u001b[1;32mc:\\Users\\arthu\\miniconda3\\envs\\QuantumQiskit\\lib\\site-packages\\qiskit_algorithms\\optimizers\\scipy_optimizer.py:148\u001b[0m, in \u001b[0;36mSciPyOptimizer.minimize\u001b[1;34m(self, fun, x0, jac, bounds)\u001b[0m\n\u001b[0;32m    145\u001b[0m     swapped_deprecated_args \u001b[38;5;241m=\u001b[39m \u001b[38;5;28;01mTrue\u001b[39;00m\n\u001b[0;32m    146\u001b[0m     \u001b[38;5;28mself\u001b[39m\u001b[38;5;241m.\u001b[39m_options[\u001b[38;5;124m\"\u001b[39m\u001b[38;5;124mmaxfun\u001b[39m\u001b[38;5;124m\"\u001b[39m] \u001b[38;5;241m=\u001b[39m \u001b[38;5;28mself\u001b[39m\u001b[38;5;241m.\u001b[39m_options\u001b[38;5;241m.\u001b[39mpop(\u001b[38;5;124m\"\u001b[39m\u001b[38;5;124mmaxiter\u001b[39m\u001b[38;5;124m\"\u001b[39m)\n\u001b[1;32m--> 148\u001b[0m raw_result \u001b[38;5;241m=\u001b[39m minimize(\n\u001b[0;32m    149\u001b[0m     fun\u001b[38;5;241m=\u001b[39mfun,\n\u001b[0;32m    150\u001b[0m     x0\u001b[38;5;241m=\u001b[39mx0,\n\u001b[0;32m    151\u001b[0m     method\u001b[38;5;241m=\u001b[39m\u001b[38;5;28mself\u001b[39m\u001b[38;5;241m.\u001b[39m_method,\n\u001b[0;32m    152\u001b[0m     jac\u001b[38;5;241m=\u001b[39mjac,\n\u001b[0;32m    153\u001b[0m     bounds\u001b[38;5;241m=\u001b[39mbounds,\n\u001b[0;32m    154\u001b[0m     options\u001b[38;5;241m=\u001b[39m\u001b[38;5;28mself\u001b[39m\u001b[38;5;241m.\u001b[39m_options,\n\u001b[0;32m    155\u001b[0m     \u001b[38;5;241m*\u001b[39m\u001b[38;5;241m*\u001b[39m\u001b[38;5;28mself\u001b[39m\u001b[38;5;241m.\u001b[39m_kwargs,\n\u001b[0;32m    156\u001b[0m )\n\u001b[0;32m    157\u001b[0m \u001b[38;5;28;01mif\u001b[39;00m swapped_deprecated_args:\n\u001b[0;32m    158\u001b[0m     \u001b[38;5;28mself\u001b[39m\u001b[38;5;241m.\u001b[39m_options[\u001b[38;5;124m\"\u001b[39m\u001b[38;5;124mmaxiter\u001b[39m\u001b[38;5;124m\"\u001b[39m] \u001b[38;5;241m=\u001b[39m \u001b[38;5;28mself\u001b[39m\u001b[38;5;241m.\u001b[39m_options\u001b[38;5;241m.\u001b[39mpop(\u001b[38;5;124m\"\u001b[39m\u001b[38;5;124mmaxfun\u001b[39m\u001b[38;5;124m\"\u001b[39m)\n",
      "File \u001b[1;32mc:\\Users\\arthu\\miniconda3\\envs\\QuantumQiskit\\lib\\site-packages\\scipy\\optimize\\_minimize.py:719\u001b[0m, in \u001b[0;36mminimize\u001b[1;34m(fun, x0, args, method, jac, hess, hessp, bounds, constraints, tol, callback, options)\u001b[0m\n\u001b[0;32m    716\u001b[0m     res \u001b[38;5;241m=\u001b[39m _minimize_tnc(fun, x0, args, jac, bounds, callback\u001b[38;5;241m=\u001b[39mcallback,\n\u001b[0;32m    717\u001b[0m                         \u001b[38;5;241m*\u001b[39m\u001b[38;5;241m*\u001b[39moptions)\n\u001b[0;32m    718\u001b[0m \u001b[38;5;28;01melif\u001b[39;00m meth \u001b[38;5;241m==\u001b[39m \u001b[38;5;124m'\u001b[39m\u001b[38;5;124mcobyla\u001b[39m\u001b[38;5;124m'\u001b[39m:\n\u001b[1;32m--> 719\u001b[0m     res \u001b[38;5;241m=\u001b[39m _minimize_cobyla(fun, x0, args, constraints, callback\u001b[38;5;241m=\u001b[39mcallback,\n\u001b[0;32m    720\u001b[0m                            bounds\u001b[38;5;241m=\u001b[39mbounds, \u001b[38;5;241m*\u001b[39m\u001b[38;5;241m*\u001b[39moptions)\n\u001b[0;32m    721\u001b[0m \u001b[38;5;28;01melif\u001b[39;00m meth \u001b[38;5;241m==\u001b[39m \u001b[38;5;124m'\u001b[39m\u001b[38;5;124mslsqp\u001b[39m\u001b[38;5;124m'\u001b[39m:\n\u001b[0;32m    722\u001b[0m     res \u001b[38;5;241m=\u001b[39m _minimize_slsqp(fun, x0, args, jac, bounds,\n\u001b[0;32m    723\u001b[0m                           constraints, callback\u001b[38;5;241m=\u001b[39mcallback, \u001b[38;5;241m*\u001b[39m\u001b[38;5;241m*\u001b[39moptions)\n",
      "File \u001b[1;32mc:\\Users\\arthu\\miniconda3\\envs\\QuantumQiskit\\lib\\site-packages\\scipy\\optimize\\_cobyla_py.py:35\u001b[0m, in \u001b[0;36msynchronized.<locals>.wrapper\u001b[1;34m(*args, **kwargs)\u001b[0m\n\u001b[0;32m     32\u001b[0m \u001b[38;5;129m@functools\u001b[39m\u001b[38;5;241m.\u001b[39mwraps(func)\n\u001b[0;32m     33\u001b[0m \u001b[38;5;28;01mdef\u001b[39;00m \u001b[38;5;21mwrapper\u001b[39m(\u001b[38;5;241m*\u001b[39margs, \u001b[38;5;241m*\u001b[39m\u001b[38;5;241m*\u001b[39mkwargs):\n\u001b[0;32m     34\u001b[0m     \u001b[38;5;28;01mwith\u001b[39;00m _module_lock:\n\u001b[1;32m---> 35\u001b[0m         \u001b[38;5;28;01mreturn\u001b[39;00m func(\u001b[38;5;241m*\u001b[39margs, \u001b[38;5;241m*\u001b[39m\u001b[38;5;241m*\u001b[39mkwargs)\n",
      "File \u001b[1;32mc:\\Users\\arthu\\miniconda3\\envs\\QuantumQiskit\\lib\\site-packages\\scipy\\optimize\\_cobyla_py.py:278\u001b[0m, in \u001b[0;36m_minimize_cobyla\u001b[1;34m(fun, x0, args, constraints, rhobeg, tol, maxiter, disp, catol, callback, bounds, **unknown_options)\u001b[0m\n\u001b[0;32m    275\u001b[0m \u001b[38;5;28;01mdef\u001b[39;00m \u001b[38;5;21m_jac\u001b[39m(x, \u001b[38;5;241m*\u001b[39margs):\n\u001b[0;32m    276\u001b[0m     \u001b[38;5;28;01mreturn\u001b[39;00m \u001b[38;5;28;01mNone\u001b[39;00m\n\u001b[1;32m--> 278\u001b[0m sf \u001b[38;5;241m=\u001b[39m \u001b[43m_prepare_scalar_function\u001b[49m\u001b[43m(\u001b[49m\u001b[43mfun\u001b[49m\u001b[43m,\u001b[49m\u001b[43m \u001b[49m\u001b[43mx0\u001b[49m\u001b[43m,\u001b[49m\u001b[43m \u001b[49m\u001b[43margs\u001b[49m\u001b[38;5;241;43m=\u001b[39;49m\u001b[43margs\u001b[49m\u001b[43m,\u001b[49m\u001b[43m \u001b[49m\u001b[43mjac\u001b[49m\u001b[38;5;241;43m=\u001b[39;49m\u001b[43m_jac\u001b[49m\u001b[43m)\u001b[49m\n\u001b[0;32m    280\u001b[0m \u001b[38;5;28;01mdef\u001b[39;00m \u001b[38;5;21mcalcfc\u001b[39m(x, con):\n\u001b[0;32m    281\u001b[0m     f \u001b[38;5;241m=\u001b[39m sf\u001b[38;5;241m.\u001b[39mfun(x)\n",
      "File \u001b[1;32mc:\\Users\\arthu\\miniconda3\\envs\\QuantumQiskit\\lib\\site-packages\\scipy\\optimize\\_optimize.py:288\u001b[0m, in \u001b[0;36m_prepare_scalar_function\u001b[1;34m(fun, x0, jac, args, bounds, epsilon, finite_diff_rel_step, hess)\u001b[0m\n\u001b[0;32m    284\u001b[0m     bounds \u001b[38;5;241m=\u001b[39m (\u001b[38;5;241m-\u001b[39mnp\u001b[38;5;241m.\u001b[39minf, np\u001b[38;5;241m.\u001b[39minf)\n\u001b[0;32m    286\u001b[0m \u001b[38;5;66;03m# ScalarFunction caches. Reuse of fun(x) during grad\u001b[39;00m\n\u001b[0;32m    287\u001b[0m \u001b[38;5;66;03m# calculation reduces overall function evaluations.\u001b[39;00m\n\u001b[1;32m--> 288\u001b[0m sf \u001b[38;5;241m=\u001b[39m \u001b[43mScalarFunction\u001b[49m\u001b[43m(\u001b[49m\u001b[43mfun\u001b[49m\u001b[43m,\u001b[49m\u001b[43m \u001b[49m\u001b[43mx0\u001b[49m\u001b[43m,\u001b[49m\u001b[43m \u001b[49m\u001b[43margs\u001b[49m\u001b[43m,\u001b[49m\u001b[43m \u001b[49m\u001b[43mgrad\u001b[49m\u001b[43m,\u001b[49m\u001b[43m \u001b[49m\u001b[43mhess\u001b[49m\u001b[43m,\u001b[49m\n\u001b[0;32m    289\u001b[0m \u001b[43m                    \u001b[49m\u001b[43mfinite_diff_rel_step\u001b[49m\u001b[43m,\u001b[49m\u001b[43m \u001b[49m\u001b[43mbounds\u001b[49m\u001b[43m,\u001b[49m\u001b[43m \u001b[49m\u001b[43mepsilon\u001b[49m\u001b[38;5;241;43m=\u001b[39;49m\u001b[43mepsilon\u001b[49m\u001b[43m)\u001b[49m\n\u001b[0;32m    291\u001b[0m \u001b[38;5;28;01mreturn\u001b[39;00m sf\n",
      "File \u001b[1;32mc:\\Users\\arthu\\miniconda3\\envs\\QuantumQiskit\\lib\\site-packages\\scipy\\optimize\\_differentiable_functions.py:166\u001b[0m, in \u001b[0;36mScalarFunction.__init__\u001b[1;34m(self, fun, x0, args, grad, hess, finite_diff_rel_step, finite_diff_bounds, epsilon)\u001b[0m\n\u001b[0;32m    163\u001b[0m     \u001b[38;5;28mself\u001b[39m\u001b[38;5;241m.\u001b[39mf \u001b[38;5;241m=\u001b[39m fun_wrapped(\u001b[38;5;28mself\u001b[39m\u001b[38;5;241m.\u001b[39mx)\n\u001b[0;32m    165\u001b[0m \u001b[38;5;28mself\u001b[39m\u001b[38;5;241m.\u001b[39m_update_fun_impl \u001b[38;5;241m=\u001b[39m update_fun\n\u001b[1;32m--> 166\u001b[0m \u001b[38;5;28;43mself\u001b[39;49m\u001b[38;5;241;43m.\u001b[39;49m\u001b[43m_update_fun\u001b[49m\u001b[43m(\u001b[49m\u001b[43m)\u001b[49m\n\u001b[0;32m    168\u001b[0m \u001b[38;5;66;03m# Gradient evaluation\u001b[39;00m\n\u001b[0;32m    169\u001b[0m \u001b[38;5;28;01mif\u001b[39;00m \u001b[38;5;28mcallable\u001b[39m(grad):\n",
      "File \u001b[1;32mc:\\Users\\arthu\\miniconda3\\envs\\QuantumQiskit\\lib\\site-packages\\scipy\\optimize\\_differentiable_functions.py:262\u001b[0m, in \u001b[0;36mScalarFunction._update_fun\u001b[1;34m(self)\u001b[0m\n\u001b[0;32m    260\u001b[0m \u001b[38;5;28;01mdef\u001b[39;00m \u001b[38;5;21m_update_fun\u001b[39m(\u001b[38;5;28mself\u001b[39m):\n\u001b[0;32m    261\u001b[0m     \u001b[38;5;28;01mif\u001b[39;00m \u001b[38;5;129;01mnot\u001b[39;00m \u001b[38;5;28mself\u001b[39m\u001b[38;5;241m.\u001b[39mf_updated:\n\u001b[1;32m--> 262\u001b[0m         \u001b[38;5;28;43mself\u001b[39;49m\u001b[38;5;241;43m.\u001b[39;49m\u001b[43m_update_fun_impl\u001b[49m\u001b[43m(\u001b[49m\u001b[43m)\u001b[49m\n\u001b[0;32m    263\u001b[0m         \u001b[38;5;28mself\u001b[39m\u001b[38;5;241m.\u001b[39mf_updated \u001b[38;5;241m=\u001b[39m \u001b[38;5;28;01mTrue\u001b[39;00m\n",
      "File \u001b[1;32mc:\\Users\\arthu\\miniconda3\\envs\\QuantumQiskit\\lib\\site-packages\\scipy\\optimize\\_differentiable_functions.py:163\u001b[0m, in \u001b[0;36mScalarFunction.__init__.<locals>.update_fun\u001b[1;34m()\u001b[0m\n\u001b[0;32m    162\u001b[0m \u001b[38;5;28;01mdef\u001b[39;00m \u001b[38;5;21mupdate_fun\u001b[39m():\n\u001b[1;32m--> 163\u001b[0m     \u001b[38;5;28mself\u001b[39m\u001b[38;5;241m.\u001b[39mf \u001b[38;5;241m=\u001b[39m \u001b[43mfun_wrapped\u001b[49m\u001b[43m(\u001b[49m\u001b[38;5;28;43mself\u001b[39;49m\u001b[38;5;241;43m.\u001b[39;49m\u001b[43mx\u001b[49m\u001b[43m)\u001b[49m\n",
      "File \u001b[1;32mc:\\Users\\arthu\\miniconda3\\envs\\QuantumQiskit\\lib\\site-packages\\scipy\\optimize\\_differentiable_functions.py:145\u001b[0m, in \u001b[0;36mScalarFunction.__init__.<locals>.fun_wrapped\u001b[1;34m(x)\u001b[0m\n\u001b[0;32m    141\u001b[0m \u001b[38;5;28mself\u001b[39m\u001b[38;5;241m.\u001b[39mnfev \u001b[38;5;241m+\u001b[39m\u001b[38;5;241m=\u001b[39m \u001b[38;5;241m1\u001b[39m\n\u001b[0;32m    142\u001b[0m \u001b[38;5;66;03m# Send a copy because the user may overwrite it.\u001b[39;00m\n\u001b[0;32m    143\u001b[0m \u001b[38;5;66;03m# Overwriting results in undefined behaviour because\u001b[39;00m\n\u001b[0;32m    144\u001b[0m \u001b[38;5;66;03m# fun(self.x) will change self.x, with the two no longer linked.\u001b[39;00m\n\u001b[1;32m--> 145\u001b[0m fx \u001b[38;5;241m=\u001b[39m \u001b[43mfun\u001b[49m\u001b[43m(\u001b[49m\u001b[43mnp\u001b[49m\u001b[38;5;241;43m.\u001b[39;49m\u001b[43mcopy\u001b[49m\u001b[43m(\u001b[49m\u001b[43mx\u001b[49m\u001b[43m)\u001b[49m\u001b[43m,\u001b[49m\u001b[43m \u001b[49m\u001b[38;5;241;43m*\u001b[39;49m\u001b[43margs\u001b[49m\u001b[43m)\u001b[49m\n\u001b[0;32m    146\u001b[0m \u001b[38;5;66;03m# Make sure the function returns a true scalar\u001b[39;00m\n\u001b[0;32m    147\u001b[0m \u001b[38;5;28;01mif\u001b[39;00m \u001b[38;5;129;01mnot\u001b[39;00m np\u001b[38;5;241m.\u001b[39misscalar(fx):\n",
      "File \u001b[1;32mc:\\Users\\arthu\\miniconda3\\envs\\QuantumQiskit\\lib\\site-packages\\qiskit_algorithms\\minimum_eigensolvers\\sampling_vqe.py:319\u001b[0m, in \u001b[0;36mSamplingVQE._get_evaluate_energy.<locals>.evaluate_energy\u001b[1;34m(parameters)\u001b[0m\n\u001b[0;32m    316\u001b[0m parameters \u001b[38;5;241m=\u001b[39m np\u001b[38;5;241m.\u001b[39mreshape(parameters, (\u001b[38;5;241m-\u001b[39m\u001b[38;5;241m1\u001b[39m, num_parameters))\u001b[38;5;241m.\u001b[39mtolist()\n\u001b[0;32m    317\u001b[0m batch_size \u001b[38;5;241m=\u001b[39m \u001b[38;5;28mlen\u001b[39m(parameters)\n\u001b[1;32m--> 319\u001b[0m estimator_result \u001b[38;5;241m=\u001b[39m \u001b[43mestimator\u001b[49m\u001b[38;5;241;43m.\u001b[39;49m\u001b[43mrun\u001b[49m\u001b[43m(\u001b[49m\n\u001b[0;32m    320\u001b[0m \u001b[43m    \u001b[49m\u001b[43mbatch_size\u001b[49m\u001b[43m \u001b[49m\u001b[38;5;241;43m*\u001b[39;49m\u001b[43m \u001b[49m\u001b[43m[\u001b[49m\u001b[43mansatz\u001b[49m\u001b[43m]\u001b[49m\u001b[43m,\u001b[49m\u001b[43m \u001b[49m\u001b[43mbatch_size\u001b[49m\u001b[43m \u001b[49m\u001b[38;5;241;43m*\u001b[39;49m\u001b[43m \u001b[49m\u001b[43m[\u001b[49m\u001b[43moperator\u001b[49m\u001b[43m]\u001b[49m\u001b[43m,\u001b[49m\u001b[43m \u001b[49m\u001b[43mparameters\u001b[49m\n\u001b[0;32m    321\u001b[0m \u001b[43m\u001b[49m\u001b[43m)\u001b[49m\u001b[38;5;241;43m.\u001b[39;49m\u001b[43mresult\u001b[49m\u001b[43m(\u001b[49m\u001b[43m)\u001b[49m\n\u001b[0;32m    322\u001b[0m values \u001b[38;5;241m=\u001b[39m estimator_result\u001b[38;5;241m.\u001b[39mvalues\n\u001b[0;32m    324\u001b[0m \u001b[38;5;28;01mif\u001b[39;00m \u001b[38;5;28mself\u001b[39m\u001b[38;5;241m.\u001b[39mcallback \u001b[38;5;129;01mis\u001b[39;00m \u001b[38;5;129;01mnot\u001b[39;00m \u001b[38;5;28;01mNone\u001b[39;00m:\n",
      "File \u001b[1;32mc:\\Users\\arthu\\miniconda3\\envs\\QuantumQiskit\\lib\\site-packages\\qiskit\\primitives\\primitive_job.py:51\u001b[0m, in \u001b[0;36mPrimitiveJob.result\u001b[1;34m(self)\u001b[0m\n\u001b[0;32m     49\u001b[0m \u001b[38;5;28;01mdef\u001b[39;00m \u001b[38;5;21mresult\u001b[39m(\u001b[38;5;28mself\u001b[39m) \u001b[38;5;241m-\u001b[39m\u001b[38;5;241m>\u001b[39m ResultT:\n\u001b[0;32m     50\u001b[0m     \u001b[38;5;28mself\u001b[39m\u001b[38;5;241m.\u001b[39m_check_submitted()\n\u001b[1;32m---> 51\u001b[0m     \u001b[38;5;28;01mreturn\u001b[39;00m \u001b[38;5;28;43mself\u001b[39;49m\u001b[38;5;241;43m.\u001b[39;49m\u001b[43m_future\u001b[49m\u001b[38;5;241;43m.\u001b[39;49m\u001b[43mresult\u001b[49m\u001b[43m(\u001b[49m\u001b[43m)\u001b[49m\n",
      "File \u001b[1;32mc:\\Users\\arthu\\miniconda3\\envs\\QuantumQiskit\\lib\\concurrent\\futures\\_base.py:446\u001b[0m, in \u001b[0;36mFuture.result\u001b[1;34m(self, timeout)\u001b[0m\n\u001b[0;32m    444\u001b[0m     \u001b[38;5;28;01mraise\u001b[39;00m CancelledError()\n\u001b[0;32m    445\u001b[0m \u001b[38;5;28;01melif\u001b[39;00m \u001b[38;5;28mself\u001b[39m\u001b[38;5;241m.\u001b[39m_state \u001b[38;5;241m==\u001b[39m FINISHED:\n\u001b[1;32m--> 446\u001b[0m     \u001b[38;5;28;01mreturn\u001b[39;00m \u001b[38;5;28;43mself\u001b[39;49m\u001b[38;5;241;43m.\u001b[39;49m\u001b[43m__get_result\u001b[49m\u001b[43m(\u001b[49m\u001b[43m)\u001b[49m\n\u001b[0;32m    447\u001b[0m \u001b[38;5;28;01melse\u001b[39;00m:\n\u001b[0;32m    448\u001b[0m     \u001b[38;5;28;01mraise\u001b[39;00m \u001b[38;5;167;01mTimeoutError\u001b[39;00m()\n",
      "File \u001b[1;32mc:\\Users\\arthu\\miniconda3\\envs\\QuantumQiskit\\lib\\concurrent\\futures\\_base.py:391\u001b[0m, in \u001b[0;36mFuture.__get_result\u001b[1;34m(self)\u001b[0m\n\u001b[0;32m    389\u001b[0m \u001b[38;5;28;01mif\u001b[39;00m \u001b[38;5;28mself\u001b[39m\u001b[38;5;241m.\u001b[39m_exception:\n\u001b[0;32m    390\u001b[0m     \u001b[38;5;28;01mtry\u001b[39;00m:\n\u001b[1;32m--> 391\u001b[0m         \u001b[38;5;28;01mraise\u001b[39;00m \u001b[38;5;28mself\u001b[39m\u001b[38;5;241m.\u001b[39m_exception\n\u001b[0;32m    392\u001b[0m     \u001b[38;5;28;01mfinally\u001b[39;00m:\n\u001b[0;32m    393\u001b[0m         \u001b[38;5;66;03m# Break a reference cycle with the exception in self._exception\u001b[39;00m\n\u001b[0;32m    394\u001b[0m         \u001b[38;5;28mself\u001b[39m \u001b[38;5;241m=\u001b[39m \u001b[38;5;28;01mNone\u001b[39;00m\n",
      "File \u001b[1;32mc:\\Users\\arthu\\miniconda3\\envs\\QuantumQiskit\\lib\\concurrent\\futures\\thread.py:58\u001b[0m, in \u001b[0;36m_WorkItem.run\u001b[1;34m(self)\u001b[0m\n\u001b[0;32m     55\u001b[0m     \u001b[38;5;28;01mreturn\u001b[39;00m\n\u001b[0;32m     57\u001b[0m \u001b[38;5;28;01mtry\u001b[39;00m:\n\u001b[1;32m---> 58\u001b[0m     result \u001b[38;5;241m=\u001b[39m \u001b[38;5;28mself\u001b[39m\u001b[38;5;241m.\u001b[39mfn(\u001b[38;5;241m*\u001b[39m\u001b[38;5;28mself\u001b[39m\u001b[38;5;241m.\u001b[39margs, \u001b[38;5;241m*\u001b[39m\u001b[38;5;241m*\u001b[39m\u001b[38;5;28mself\u001b[39m\u001b[38;5;241m.\u001b[39mkwargs)\n\u001b[0;32m     59\u001b[0m \u001b[38;5;28;01mexcept\u001b[39;00m \u001b[38;5;167;01mBaseException\u001b[39;00m \u001b[38;5;28;01mas\u001b[39;00m exc:\n\u001b[0;32m     60\u001b[0m     \u001b[38;5;28mself\u001b[39m\u001b[38;5;241m.\u001b[39mfuture\u001b[38;5;241m.\u001b[39mset_exception(exc)\n",
      "File \u001b[1;32mc:\\Users\\arthu\\miniconda3\\envs\\QuantumQiskit\\lib\\site-packages\\qiskit_algorithms\\minimum_eigensolvers\\diagonal_estimator.py:122\u001b[0m, in \u001b[0;36m_DiagonalEstimator._call\u001b[1;34m(self, circuits, observables, parameter_values, **run_options)\u001b[0m\n\u001b[0;32m    110\u001b[0m \u001b[38;5;28;01mdef\u001b[39;00m \u001b[38;5;21m_call\u001b[39m(\n\u001b[0;32m    111\u001b[0m     \u001b[38;5;28mself\u001b[39m,\n\u001b[0;32m    112\u001b[0m     circuits: Sequence[\u001b[38;5;28mint\u001b[39m],\n\u001b[1;32m   (...)\u001b[0m\n\u001b[0;32m    115\u001b[0m     \u001b[38;5;241m*\u001b[39m\u001b[38;5;241m*\u001b[39mrun_options,\n\u001b[0;32m    116\u001b[0m ) \u001b[38;5;241m-\u001b[39m\u001b[38;5;241m>\u001b[39m _DiagonalEstimatorResult:\n\u001b[0;32m    117\u001b[0m     job \u001b[38;5;241m=\u001b[39m \u001b[38;5;28mself\u001b[39m\u001b[38;5;241m.\u001b[39msampler\u001b[38;5;241m.\u001b[39mrun(\n\u001b[0;32m    118\u001b[0m         [\u001b[38;5;28mself\u001b[39m\u001b[38;5;241m.\u001b[39m_circuits[i] \u001b[38;5;28;01mfor\u001b[39;00m i \u001b[38;5;129;01min\u001b[39;00m circuits],\n\u001b[0;32m    119\u001b[0m         parameter_values,\n\u001b[0;32m    120\u001b[0m         \u001b[38;5;241m*\u001b[39m\u001b[38;5;241m*\u001b[39mrun_options,\n\u001b[0;32m    121\u001b[0m     )\n\u001b[1;32m--> 122\u001b[0m     sampler_result \u001b[38;5;241m=\u001b[39m \u001b[43mjob\u001b[49m\u001b[38;5;241;43m.\u001b[39;49m\u001b[43mresult\u001b[49m\u001b[43m(\u001b[49m\u001b[43m)\u001b[49m\n\u001b[0;32m    123\u001b[0m     samples \u001b[38;5;241m=\u001b[39m sampler_result\u001b[38;5;241m.\u001b[39mquasi_dists\n\u001b[0;32m    125\u001b[0m     \u001b[38;5;66;03m# a list of dictionaries containing: {state: (measurement probability, value)}\u001b[39;00m\n",
      "File \u001b[1;32mc:\\Users\\arthu\\miniconda3\\envs\\QuantumQiskit\\lib\\site-packages\\qiskit\\primitives\\primitive_job.py:51\u001b[0m, in \u001b[0;36mPrimitiveJob.result\u001b[1;34m(self)\u001b[0m\n\u001b[0;32m     49\u001b[0m \u001b[38;5;28;01mdef\u001b[39;00m \u001b[38;5;21mresult\u001b[39m(\u001b[38;5;28mself\u001b[39m) \u001b[38;5;241m-\u001b[39m\u001b[38;5;241m>\u001b[39m ResultT:\n\u001b[0;32m     50\u001b[0m     \u001b[38;5;28mself\u001b[39m\u001b[38;5;241m.\u001b[39m_check_submitted()\n\u001b[1;32m---> 51\u001b[0m     \u001b[38;5;28;01mreturn\u001b[39;00m \u001b[38;5;28;43mself\u001b[39;49m\u001b[38;5;241;43m.\u001b[39;49m\u001b[43m_future\u001b[49m\u001b[38;5;241;43m.\u001b[39;49m\u001b[43mresult\u001b[49m\u001b[43m(\u001b[49m\u001b[43m)\u001b[49m\n",
      "File \u001b[1;32mc:\\Users\\arthu\\miniconda3\\envs\\QuantumQiskit\\lib\\concurrent\\futures\\_base.py:446\u001b[0m, in \u001b[0;36mFuture.result\u001b[1;34m(self, timeout)\u001b[0m\n\u001b[0;32m    444\u001b[0m     \u001b[38;5;28;01mraise\u001b[39;00m CancelledError()\n\u001b[0;32m    445\u001b[0m \u001b[38;5;28;01melif\u001b[39;00m \u001b[38;5;28mself\u001b[39m\u001b[38;5;241m.\u001b[39m_state \u001b[38;5;241m==\u001b[39m FINISHED:\n\u001b[1;32m--> 446\u001b[0m     \u001b[38;5;28;01mreturn\u001b[39;00m \u001b[38;5;28;43mself\u001b[39;49m\u001b[38;5;241;43m.\u001b[39;49m\u001b[43m__get_result\u001b[49m\u001b[43m(\u001b[49m\u001b[43m)\u001b[49m\n\u001b[0;32m    447\u001b[0m \u001b[38;5;28;01melse\u001b[39;00m:\n\u001b[0;32m    448\u001b[0m     \u001b[38;5;28;01mraise\u001b[39;00m \u001b[38;5;167;01mTimeoutError\u001b[39;00m()\n",
      "File \u001b[1;32mc:\\Users\\arthu\\miniconda3\\envs\\QuantumQiskit\\lib\\concurrent\\futures\\_base.py:391\u001b[0m, in \u001b[0;36mFuture.__get_result\u001b[1;34m(self)\u001b[0m\n\u001b[0;32m    389\u001b[0m \u001b[38;5;28;01mif\u001b[39;00m \u001b[38;5;28mself\u001b[39m\u001b[38;5;241m.\u001b[39m_exception:\n\u001b[0;32m    390\u001b[0m     \u001b[38;5;28;01mtry\u001b[39;00m:\n\u001b[1;32m--> 391\u001b[0m         \u001b[38;5;28;01mraise\u001b[39;00m \u001b[38;5;28mself\u001b[39m\u001b[38;5;241m.\u001b[39m_exception\n\u001b[0;32m    392\u001b[0m     \u001b[38;5;28;01mfinally\u001b[39;00m:\n\u001b[0;32m    393\u001b[0m         \u001b[38;5;66;03m# Break a reference cycle with the exception in self._exception\u001b[39;00m\n\u001b[0;32m    394\u001b[0m         \u001b[38;5;28mself\u001b[39m \u001b[38;5;241m=\u001b[39m \u001b[38;5;28;01mNone\u001b[39;00m\n",
      "File \u001b[1;32mc:\\Users\\arthu\\miniconda3\\envs\\QuantumQiskit\\lib\\concurrent\\futures\\thread.py:58\u001b[0m, in \u001b[0;36m_WorkItem.run\u001b[1;34m(self)\u001b[0m\n\u001b[0;32m     55\u001b[0m     \u001b[38;5;28;01mreturn\u001b[39;00m\n\u001b[0;32m     57\u001b[0m \u001b[38;5;28;01mtry\u001b[39;00m:\n\u001b[1;32m---> 58\u001b[0m     result \u001b[38;5;241m=\u001b[39m \u001b[38;5;28mself\u001b[39m\u001b[38;5;241m.\u001b[39mfn(\u001b[38;5;241m*\u001b[39m\u001b[38;5;28mself\u001b[39m\u001b[38;5;241m.\u001b[39margs, \u001b[38;5;241m*\u001b[39m\u001b[38;5;241m*\u001b[39m\u001b[38;5;28mself\u001b[39m\u001b[38;5;241m.\u001b[39mkwargs)\n\u001b[0;32m     59\u001b[0m \u001b[38;5;28;01mexcept\u001b[39;00m \u001b[38;5;167;01mBaseException\u001b[39;00m \u001b[38;5;28;01mas\u001b[39;00m exc:\n\u001b[0;32m     60\u001b[0m     \u001b[38;5;28mself\u001b[39m\u001b[38;5;241m.\u001b[39mfuture\u001b[38;5;241m.\u001b[39mset_exception(exc)\n",
      "File \u001b[1;32mc:\\Users\\arthu\\miniconda3\\envs\\QuantumQiskit\\lib\\site-packages\\qiskit\\primitives\\sampler.py:108\u001b[0m, in \u001b[0;36mSampler._call\u001b[1;34m(self, circuits, parameter_values, **run_options)\u001b[0m\n\u001b[0;32m    102\u001b[0m     bound_circuits\u001b[38;5;241m.\u001b[39mappend(\n\u001b[0;32m    103\u001b[0m         \u001b[38;5;28mself\u001b[39m\u001b[38;5;241m.\u001b[39m_circuits[i]\n\u001b[0;32m    104\u001b[0m         \u001b[38;5;28;01mif\u001b[39;00m \u001b[38;5;28mlen\u001b[39m(value) \u001b[38;5;241m==\u001b[39m \u001b[38;5;241m0\u001b[39m\n\u001b[0;32m    105\u001b[0m         \u001b[38;5;28;01melse\u001b[39;00m \u001b[38;5;28mself\u001b[39m\u001b[38;5;241m.\u001b[39m_circuits[i]\u001b[38;5;241m.\u001b[39massign_parameters(\u001b[38;5;28mdict\u001b[39m(\u001b[38;5;28mzip\u001b[39m(\u001b[38;5;28mself\u001b[39m\u001b[38;5;241m.\u001b[39m_parameters[i], value)))\n\u001b[0;32m    106\u001b[0m     )\n\u001b[0;32m    107\u001b[0m     qargs_list\u001b[38;5;241m.\u001b[39mappend(\u001b[38;5;28mself\u001b[39m\u001b[38;5;241m.\u001b[39m_qargs_list[i])\n\u001b[1;32m--> 108\u001b[0m probabilities \u001b[38;5;241m=\u001b[39m [\n\u001b[0;32m    109\u001b[0m     Statevector(bound_circuit_to_instruction(circ))\u001b[38;5;241m.\u001b[39mprobabilities_dict(\n\u001b[0;32m    110\u001b[0m         qargs\u001b[38;5;241m=\u001b[39mqargs, decimals\u001b[38;5;241m=\u001b[39m\u001b[38;5;241m16\u001b[39m\n\u001b[0;32m    111\u001b[0m     )\n\u001b[0;32m    112\u001b[0m     \u001b[38;5;28;01mfor\u001b[39;00m circ, qargs \u001b[38;5;129;01min\u001b[39;00m \u001b[38;5;28mzip\u001b[39m(bound_circuits, qargs_list)\n\u001b[0;32m    113\u001b[0m ]\n\u001b[0;32m    114\u001b[0m \u001b[38;5;28;01mif\u001b[39;00m shots \u001b[38;5;129;01mis\u001b[39;00m \u001b[38;5;129;01mnot\u001b[39;00m \u001b[38;5;28;01mNone\u001b[39;00m:\n\u001b[0;32m    115\u001b[0m     \u001b[38;5;28;01mfor\u001b[39;00m i, prob_dict \u001b[38;5;129;01min\u001b[39;00m \u001b[38;5;28menumerate\u001b[39m(probabilities):\n",
      "File \u001b[1;32mc:\\Users\\arthu\\miniconda3\\envs\\QuantumQiskit\\lib\\site-packages\\qiskit\\primitives\\sampler.py:109\u001b[0m, in \u001b[0;36m<listcomp>\u001b[1;34m(.0)\u001b[0m\n\u001b[0;32m    102\u001b[0m     bound_circuits\u001b[38;5;241m.\u001b[39mappend(\n\u001b[0;32m    103\u001b[0m         \u001b[38;5;28mself\u001b[39m\u001b[38;5;241m.\u001b[39m_circuits[i]\n\u001b[0;32m    104\u001b[0m         \u001b[38;5;28;01mif\u001b[39;00m \u001b[38;5;28mlen\u001b[39m(value) \u001b[38;5;241m==\u001b[39m \u001b[38;5;241m0\u001b[39m\n\u001b[0;32m    105\u001b[0m         \u001b[38;5;28;01melse\u001b[39;00m \u001b[38;5;28mself\u001b[39m\u001b[38;5;241m.\u001b[39m_circuits[i]\u001b[38;5;241m.\u001b[39massign_parameters(\u001b[38;5;28mdict\u001b[39m(\u001b[38;5;28mzip\u001b[39m(\u001b[38;5;28mself\u001b[39m\u001b[38;5;241m.\u001b[39m_parameters[i], value)))\n\u001b[0;32m    106\u001b[0m     )\n\u001b[0;32m    107\u001b[0m     qargs_list\u001b[38;5;241m.\u001b[39mappend(\u001b[38;5;28mself\u001b[39m\u001b[38;5;241m.\u001b[39m_qargs_list[i])\n\u001b[0;32m    108\u001b[0m probabilities \u001b[38;5;241m=\u001b[39m [\n\u001b[1;32m--> 109\u001b[0m     \u001b[43mStatevector\u001b[49m\u001b[43m(\u001b[49m\u001b[43mbound_circuit_to_instruction\u001b[49m\u001b[43m(\u001b[49m\u001b[43mcirc\u001b[49m\u001b[43m)\u001b[49m\u001b[43m)\u001b[49m\u001b[38;5;241m.\u001b[39mprobabilities_dict(\n\u001b[0;32m    110\u001b[0m         qargs\u001b[38;5;241m=\u001b[39mqargs, decimals\u001b[38;5;241m=\u001b[39m\u001b[38;5;241m16\u001b[39m\n\u001b[0;32m    111\u001b[0m     )\n\u001b[0;32m    112\u001b[0m     \u001b[38;5;28;01mfor\u001b[39;00m circ, qargs \u001b[38;5;129;01min\u001b[39;00m \u001b[38;5;28mzip\u001b[39m(bound_circuits, qargs_list)\n\u001b[0;32m    113\u001b[0m ]\n\u001b[0;32m    114\u001b[0m \u001b[38;5;28;01mif\u001b[39;00m shots \u001b[38;5;129;01mis\u001b[39;00m \u001b[38;5;129;01mnot\u001b[39;00m \u001b[38;5;28;01mNone\u001b[39;00m:\n\u001b[0;32m    115\u001b[0m     \u001b[38;5;28;01mfor\u001b[39;00m i, prob_dict \u001b[38;5;129;01min\u001b[39;00m \u001b[38;5;28menumerate\u001b[39m(probabilities):\n",
      "File \u001b[1;32mc:\\Users\\arthu\\miniconda3\\envs\\QuantumQiskit\\lib\\site-packages\\qiskit\\quantum_info\\states\\statevector.py:93\u001b[0m, in \u001b[0;36mStatevector.__init__\u001b[1;34m(self, data, dims)\u001b[0m\n\u001b[0;32m     91\u001b[0m     \u001b[38;5;28mself\u001b[39m\u001b[38;5;241m.\u001b[39m_data \u001b[38;5;241m=\u001b[39m np\u001b[38;5;241m.\u001b[39mravel(data\u001b[38;5;241m.\u001b[39mdata)\n\u001b[0;32m     92\u001b[0m \u001b[38;5;28;01melif\u001b[39;00m \u001b[38;5;28misinstance\u001b[39m(data, (QuantumCircuit, Instruction)):\n\u001b[1;32m---> 93\u001b[0m     \u001b[38;5;28mself\u001b[39m\u001b[38;5;241m.\u001b[39m_data \u001b[38;5;241m=\u001b[39m \u001b[43mStatevector\u001b[49m\u001b[38;5;241;43m.\u001b[39;49m\u001b[43mfrom_instruction\u001b[49m\u001b[43m(\u001b[49m\u001b[43mdata\u001b[49m\u001b[43m)\u001b[49m\u001b[38;5;241m.\u001b[39mdata\n\u001b[0;32m     94\u001b[0m \u001b[38;5;28;01melse\u001b[39;00m:\n\u001b[0;32m     95\u001b[0m     \u001b[38;5;28;01mraise\u001b[39;00m QiskitError(\u001b[38;5;124m\"\u001b[39m\u001b[38;5;124mInvalid input data format for Statevector\u001b[39m\u001b[38;5;124m\"\u001b[39m)\n",
      "File \u001b[1;32mc:\\Users\\arthu\\miniconda3\\envs\\QuantumQiskit\\lib\\site-packages\\qiskit\\quantum_info\\states\\statevector.py:764\u001b[0m, in \u001b[0;36mStatevector.from_instruction\u001b[1;34m(cls, instruction)\u001b[0m\n\u001b[0;32m    762\u001b[0m     instruction \u001b[38;5;241m=\u001b[39m instruction\u001b[38;5;241m.\u001b[39mto_instruction()\n\u001b[0;32m    763\u001b[0m \u001b[38;5;66;03m# Initialize an the statevector in the all |0> state\u001b[39;00m\n\u001b[1;32m--> 764\u001b[0m init \u001b[38;5;241m=\u001b[39m \u001b[43mnp\u001b[49m\u001b[38;5;241;43m.\u001b[39;49m\u001b[43mzeros\u001b[49m\u001b[43m(\u001b[49m\u001b[38;5;241;43m2\u001b[39;49m\u001b[38;5;241;43m*\u001b[39;49m\u001b[38;5;241;43m*\u001b[39;49m\u001b[43minstruction\u001b[49m\u001b[38;5;241;43m.\u001b[39;49m\u001b[43mnum_qubits\u001b[49m\u001b[43m,\u001b[49m\u001b[43m \u001b[49m\u001b[43mdtype\u001b[49m\u001b[38;5;241;43m=\u001b[39;49m\u001b[38;5;28;43mcomplex\u001b[39;49m\u001b[43m)\u001b[49m\n\u001b[0;32m    765\u001b[0m init[\u001b[38;5;241m0\u001b[39m] \u001b[38;5;241m=\u001b[39m \u001b[38;5;241m1.0\u001b[39m\n\u001b[0;32m    766\u001b[0m vec \u001b[38;5;241m=\u001b[39m Statevector(init, dims\u001b[38;5;241m=\u001b[39minstruction\u001b[38;5;241m.\u001b[39mnum_qubits \u001b[38;5;241m*\u001b[39m (\u001b[38;5;241m2\u001b[39m,))\n",
      "\u001b[1;31mMemoryError\u001b[0m: Unable to allocate 16.0 TiB for an array with shape (1099511627776,) and data type complex128"
     ]
    }
   ],
   "source": [
    "qaoa_result = qaoa.solve(problem=qubo)\n",
    "print(qaoa_result.prettyprint())"
   ]
  },
  {
   "cell_type": "code",
   "execution_count": null,
   "metadata": {},
   "outputs": [],
   "source": [
    "sampler=Sampler(mode=backend)\n",
    "optimizer=COBYLA(maxiter=100)\n",
    "qaoa=QAOA(sampler=sampler, optimizer=optimizer)\n",
    "solver = MinimumEigenOptimizer(qaoa)"
   ]
  },
  {
   "cell_type": "code",
   "execution_count": null,
   "metadata": {},
   "outputs": [
    {
     "ename": "KeyboardInterrupt",
     "evalue": "",
     "output_type": "error",
     "traceback": [
      "\u001b[1;31m---------------------------------------------------------------------------\u001b[0m",
      "\u001b[1;31mKeyboardInterrupt\u001b[0m                         Traceback (most recent call last)",
      "Cell \u001b[1;32mIn[185], line 1\u001b[0m\n\u001b[1;32m----> 1\u001b[0m result \u001b[38;5;241m=\u001b[39m \u001b[43msolver\u001b[49m\u001b[38;5;241;43m.\u001b[39;49m\u001b[43msolve\u001b[49m\u001b[43m(\u001b[49m\u001b[43mqubo\u001b[49m\u001b[43m)\u001b[49m\n\u001b[0;32m      2\u001b[0m \u001b[38;5;28mprint\u001b[39m(\u001b[38;5;124m\"\u001b[39m\u001b[38;5;124mOptimal Solution:\u001b[39m\u001b[38;5;124m\"\u001b[39m, result)\n",
      "File \u001b[1;32mc:\\Users\\arthu\\miniconda3\\envs\\QuantumQiskit\\lib\\site-packages\\qiskit_optimization\\algorithms\\minimum_eigen_optimizer.py:203\u001b[0m, in \u001b[0;36mMinimumEigenOptimizer.solve\u001b[1;34m(self, problem)\u001b[0m\n\u001b[0;32m    200\u001b[0m problem_ \u001b[38;5;241m=\u001b[39m \u001b[38;5;28mself\u001b[39m\u001b[38;5;241m.\u001b[39m_convert(problem, \u001b[38;5;28mself\u001b[39m\u001b[38;5;241m.\u001b[39m_converters)\n\u001b[0;32m    202\u001b[0m \u001b[38;5;66;03m# construct operator and offset\u001b[39;00m\n\u001b[1;32m--> 203\u001b[0m operator, offset \u001b[38;5;241m=\u001b[39m \u001b[43mproblem_\u001b[49m\u001b[38;5;241;43m.\u001b[39;49m\u001b[43mto_ising\u001b[49m\u001b[43m(\u001b[49m\u001b[43m)\u001b[49m\n\u001b[0;32m    205\u001b[0m \u001b[38;5;28;01mreturn\u001b[39;00m \u001b[38;5;28mself\u001b[39m\u001b[38;5;241m.\u001b[39m_solve_internal(operator, offset, problem_, problem)\n",
      "File \u001b[1;32mc:\\Users\\arthu\\miniconda3\\envs\\QuantumQiskit\\lib\\site-packages\\qiskit_optimization\\problems\\quadratic_program.py:1029\u001b[0m, in \u001b[0;36mQuadraticProgram.to_ising\u001b[1;34m(self)\u001b[0m\n\u001b[0;32m   1026\u001b[0m \u001b[38;5;66;03m# pylint: disable=cyclic-import\u001b[39;00m\n\u001b[0;32m   1027\u001b[0m \u001b[38;5;28;01mfrom\u001b[39;00m \u001b[38;5;21;01m.\u001b[39;00m\u001b[38;5;21;01m.\u001b[39;00m\u001b[38;5;21;01mtranslators\u001b[39;00m\u001b[38;5;21;01m.\u001b[39;00m\u001b[38;5;21;01mising\u001b[39;00m \u001b[38;5;28;01mimport\u001b[39;00m to_ising\n\u001b[1;32m-> 1029\u001b[0m \u001b[38;5;28;01mreturn\u001b[39;00m \u001b[43mto_ising\u001b[49m\u001b[43m(\u001b[49m\u001b[38;5;28;43mself\u001b[39;49m\u001b[43m)\u001b[49m\n",
      "File \u001b[1;32mc:\\Users\\arthu\\miniconda3\\envs\\QuantumQiskit\\lib\\site-packages\\qiskit_optimization\\translators\\ising.py:109\u001b[0m, in \u001b[0;36mto_ising\u001b[1;34m(quad_prog)\u001b[0m\n\u001b[0;32m    105\u001b[0m     offset \u001b[38;5;241m+\u001b[39m\u001b[38;5;241m=\u001b[39m weight\n\u001b[0;32m    107\u001b[0m \u001b[38;5;28;01mif\u001b[39;00m pauli_list:\n\u001b[0;32m    108\u001b[0m     \u001b[38;5;66;03m# Remove paulis whose coefficients are zeros.\u001b[39;00m\n\u001b[1;32m--> 109\u001b[0m     qubit_op \u001b[38;5;241m=\u001b[39m \u001b[38;5;28;43msum\u001b[39;49m\u001b[43m(\u001b[49m\u001b[43mpauli_list\u001b[49m\u001b[43m)\u001b[49m\u001b[38;5;241m.\u001b[39msimplify(atol\u001b[38;5;241m=\u001b[39m\u001b[38;5;241m0\u001b[39m)\n\u001b[0;32m    110\u001b[0m \u001b[38;5;28;01melse\u001b[39;00m:\n\u001b[0;32m    111\u001b[0m     \u001b[38;5;66;03m# If there is no variable, we set num_nodes=1 so that qubit_op should be an operator.\u001b[39;00m\n\u001b[0;32m    112\u001b[0m     \u001b[38;5;66;03m# If num_nodes=0, I^0 = 1 (int).\u001b[39;00m\n\u001b[0;32m    113\u001b[0m     num_vars \u001b[38;5;241m=\u001b[39m \u001b[38;5;28mmax\u001b[39m(\u001b[38;5;241m1\u001b[39m, num_vars)\n",
      "File \u001b[1;32mc:\\Users\\arthu\\miniconda3\\envs\\QuantumQiskit\\lib\\site-packages\\qiskit\\quantum_info\\operators\\mixins\\linear.py:52\u001b[0m, in \u001b[0;36mLinearMixin.__add__\u001b[1;34m(self, other)\u001b[0m\n\u001b[0;32m     49\u001b[0m     \u001b[38;5;28;01mreturn\u001b[39;00m \u001b[38;5;28mself\u001b[39m\n\u001b[0;32m     51\u001b[0m qargs \u001b[38;5;241m=\u001b[39m \u001b[38;5;28mgetattr\u001b[39m(other, \u001b[38;5;124m\"\u001b[39m\u001b[38;5;124mqargs\u001b[39m\u001b[38;5;124m\"\u001b[39m, \u001b[38;5;28;01mNone\u001b[39;00m)\n\u001b[1;32m---> 52\u001b[0m \u001b[38;5;28;01mreturn\u001b[39;00m \u001b[38;5;28;43mself\u001b[39;49m\u001b[38;5;241;43m.\u001b[39;49m\u001b[43m_add\u001b[49m\u001b[43m(\u001b[49m\u001b[43mother\u001b[49m\u001b[43m,\u001b[49m\u001b[43m \u001b[49m\u001b[43mqargs\u001b[49m\u001b[38;5;241;43m=\u001b[39;49m\u001b[43mqargs\u001b[49m\u001b[43m)\u001b[49m\n",
      "File \u001b[1;32mc:\\Users\\arthu\\miniconda3\\envs\\QuantumQiskit\\lib\\site-packages\\qiskit\\quantum_info\\operators\\symplectic\\sparse_pauli_op.py:394\u001b[0m, in \u001b[0;36mSparsePauliOp._add\u001b[1;34m(self, other, qargs)\u001b[0m\n\u001b[0;32m    390\u001b[0m     other \u001b[38;5;241m=\u001b[39m SparsePauliOp(other)\n\u001b[0;32m    392\u001b[0m \u001b[38;5;28mself\u001b[39m\u001b[38;5;241m.\u001b[39m_op_shape\u001b[38;5;241m.\u001b[39m_validate_add(other\u001b[38;5;241m.\u001b[39m_op_shape, qargs)\n\u001b[1;32m--> 394\u001b[0m paulis \u001b[38;5;241m=\u001b[39m \u001b[38;5;28;43mself\u001b[39;49m\u001b[38;5;241;43m.\u001b[39;49m\u001b[43mpaulis\u001b[49m\u001b[38;5;241;43m.\u001b[39;49m\u001b[43m_add\u001b[49m\u001b[43m(\u001b[49m\u001b[43mother\u001b[49m\u001b[38;5;241;43m.\u001b[39;49m\u001b[43mpaulis\u001b[49m\u001b[43m,\u001b[49m\u001b[43m \u001b[49m\u001b[43mqargs\u001b[49m\u001b[38;5;241;43m=\u001b[39;49m\u001b[43mqargs\u001b[49m\u001b[43m)\u001b[49m\n\u001b[0;32m    395\u001b[0m coeffs \u001b[38;5;241m=\u001b[39m np\u001b[38;5;241m.\u001b[39mhstack((\u001b[38;5;28mself\u001b[39m\u001b[38;5;241m.\u001b[39mcoeffs, other\u001b[38;5;241m.\u001b[39mcoeffs))\n\u001b[0;32m    396\u001b[0m \u001b[38;5;28;01mreturn\u001b[39;00m SparsePauliOp(paulis, coeffs, ignore_pauli_phase\u001b[38;5;241m=\u001b[39m\u001b[38;5;28;01mTrue\u001b[39;00m, copy\u001b[38;5;241m=\u001b[39m\u001b[38;5;28;01mFalse\u001b[39;00m)\n",
      "File \u001b[1;32mc:\\Users\\arthu\\miniconda3\\envs\\QuantumQiskit\\lib\\site-packages\\qiskit\\quantum_info\\operators\\symplectic\\pauli_list.py:784\u001b[0m, in \u001b[0;36mPauliList._add\u001b[1;34m(self, other, qargs)\u001b[0m\n\u001b[0;32m    782\u001b[0m \u001b[38;5;28;01mif\u001b[39;00m qargs \u001b[38;5;129;01mis\u001b[39;00m \u001b[38;5;28;01mNone\u001b[39;00m \u001b[38;5;129;01mor\u001b[39;00m (\u001b[38;5;28msorted\u001b[39m(qargs) \u001b[38;5;241m==\u001b[39m qargs \u001b[38;5;129;01mand\u001b[39;00m \u001b[38;5;28mlen\u001b[39m(qargs) \u001b[38;5;241m==\u001b[39m \u001b[38;5;28mself\u001b[39m\u001b[38;5;241m.\u001b[39mnum_qubits):\n\u001b[0;32m    783\u001b[0m     base_z \u001b[38;5;241m=\u001b[39m np\u001b[38;5;241m.\u001b[39mvstack([\u001b[38;5;28mself\u001b[39m\u001b[38;5;241m.\u001b[39m_z, other\u001b[38;5;241m.\u001b[39m_z])\n\u001b[1;32m--> 784\u001b[0m     base_x \u001b[38;5;241m=\u001b[39m \u001b[43mnp\u001b[49m\u001b[38;5;241;43m.\u001b[39;49m\u001b[43mvstack\u001b[49m\u001b[43m(\u001b[49m\u001b[43m[\u001b[49m\u001b[38;5;28;43mself\u001b[39;49m\u001b[38;5;241;43m.\u001b[39;49m\u001b[43m_x\u001b[49m\u001b[43m,\u001b[49m\u001b[43m \u001b[49m\u001b[43mother\u001b[49m\u001b[38;5;241;43m.\u001b[39;49m\u001b[43m_x\u001b[49m\u001b[43m]\u001b[49m\u001b[43m)\u001b[49m\n\u001b[0;32m    785\u001b[0m \u001b[38;5;28;01melse\u001b[39;00m:\n\u001b[0;32m    786\u001b[0m     \u001b[38;5;66;03m# Pad other with identity and then add\u001b[39;00m\n\u001b[0;32m    787\u001b[0m     padded \u001b[38;5;241m=\u001b[39m BasePauli(\n\u001b[0;32m    788\u001b[0m         np\u001b[38;5;241m.\u001b[39mzeros((other\u001b[38;5;241m.\u001b[39msize, \u001b[38;5;28mself\u001b[39m\u001b[38;5;241m.\u001b[39mnum_qubits), dtype\u001b[38;5;241m=\u001b[39m\u001b[38;5;28mbool\u001b[39m),\n\u001b[0;32m    789\u001b[0m         np\u001b[38;5;241m.\u001b[39mzeros((other\u001b[38;5;241m.\u001b[39msize, \u001b[38;5;28mself\u001b[39m\u001b[38;5;241m.\u001b[39mnum_qubits), dtype\u001b[38;5;241m=\u001b[39m\u001b[38;5;28mbool\u001b[39m),\n\u001b[0;32m    790\u001b[0m         np\u001b[38;5;241m.\u001b[39mzeros(other\u001b[38;5;241m.\u001b[39msize, dtype\u001b[38;5;241m=\u001b[39m\u001b[38;5;28mint\u001b[39m),\n\u001b[0;32m    791\u001b[0m     )\n",
      "File \u001b[1;32mc:\\Users\\arthu\\miniconda3\\envs\\QuantumQiskit\\lib\\site-packages\\numpy\\_core\\shape_base.py:287\u001b[0m, in \u001b[0;36mvstack\u001b[1;34m(tup, dtype, casting)\u001b[0m\n\u001b[0;32m    285\u001b[0m \u001b[38;5;28;01mif\u001b[39;00m \u001b[38;5;129;01mnot\u001b[39;00m \u001b[38;5;28misinstance\u001b[39m(arrs, \u001b[38;5;28mtuple\u001b[39m):\n\u001b[0;32m    286\u001b[0m     arrs \u001b[38;5;241m=\u001b[39m (arrs,)\n\u001b[1;32m--> 287\u001b[0m \u001b[38;5;28;01mreturn\u001b[39;00m \u001b[43m_nx\u001b[49m\u001b[38;5;241;43m.\u001b[39;49m\u001b[43mconcatenate\u001b[49m\u001b[43m(\u001b[49m\u001b[43marrs\u001b[49m\u001b[43m,\u001b[49m\u001b[43m \u001b[49m\u001b[38;5;241;43m0\u001b[39;49m\u001b[43m,\u001b[49m\u001b[43m \u001b[49m\u001b[43mdtype\u001b[49m\u001b[38;5;241;43m=\u001b[39;49m\u001b[43mdtype\u001b[49m\u001b[43m,\u001b[49m\u001b[43m \u001b[49m\u001b[43mcasting\u001b[49m\u001b[38;5;241;43m=\u001b[39;49m\u001b[43mcasting\u001b[49m\u001b[43m)\u001b[49m\n",
      "\u001b[1;31mKeyboardInterrupt\u001b[0m: "
     ]
    }
   ],
   "source": [
    "qaoa_result = qaoa.solve(qubo)\n",
    "print(qaoa_result.prettyprint())"
   ]
  }
 ],
 "metadata": {
  "kernelspec": {
   "display_name": "QuantumQiskit",
   "language": "python",
   "name": "python3"
  },
  "language_info": {
   "codemirror_mode": {
    "name": "ipython",
    "version": 3
   },
   "file_extension": ".py",
   "mimetype": "text/x-python",
   "name": "python",
   "nbconvert_exporter": "python",
   "pygments_lexer": "ipython3",
   "version": "3.9.20"
  }
 },
 "nbformat": 4,
 "nbformat_minor": 2
}
