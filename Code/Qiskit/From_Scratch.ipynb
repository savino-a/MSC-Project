{
 "cells": [
  {
   "cell_type": "code",
   "execution_count": 10,
   "metadata": {},
   "outputs": [],
   "source": [
    "import qiskit\n",
    "from qiskit_optimization import QuadraticProgram\n",
    "from qiskit_algorithms import QAOA\n",
    "from qiskit_optimization.algorithms import MinimumEigenOptimizer\n",
    "from qiskit_algorithms.optimizers import COBYLA\n",
    "from qiskit_ibm_runtime import QiskitRuntimeService, SamplerV2 as SamplerV2\n",
    "from qiskit.primitives import Sampler\n",
    "from qiskit_optimization.converters import QuadraticProgramToQubo\n",
    "import qiskit_aer as Aer\n",
    "from qiskit_aer import AerSimulator\n",
    "from qiskit import transpile\n",
    "from qiskit.primitives import StatevectorSampler\n",
    "from qiskit_optimization.converters import InequalityToEquality"
   ]
  },
  {
   "cell_type": "code",
   "execution_count": 11,
   "metadata": {},
   "outputs": [
    {
     "data": {
      "text/plain": [
       "'Problem name: \\n\\nMinimize\\n  x_0 + x_1 + x_2 - 0.05*y_0 - 0.05*y_1 - 0.05*y_2\\n\\nSubject to\\n  No constraints\\n\\n  Binary variables (9)\\n    x_0 y_0 z_0 x_1 y_1 z_1 x_2 y_2 z_2\\n'"
      ]
     },
     "execution_count": 11,
     "metadata": {},
     "output_type": "execute_result"
    }
   ],
   "source": [
    "Nc= 3 # Nc is the number of seconds\n",
    "\n",
    "Dist=1 # Distance to travel\n",
    "\n",
    "tolerance = 1 # Tolerance in distance travelled\n",
    "\n",
    "delta_v=1 # Rate of acceleration/deceleration set to 1\n",
    "\n",
    "vmax=1 # Max speed of a TGV in France (in m/s)\n",
    "\n",
    "alpha=0.05 # Regenerative braking efficiency\n",
    "\n",
    "qp = QuadraticProgram()\n",
    "\n",
    "x={}\n",
    "for i in range(0,Nc):\n",
    "    qp.binary_var(f\"x_{i}\")\n",
    "    qp.binary_var(f\"y_{i}\")\n",
    "    qp.binary_var(f\"z_{i}\")\n",
    "\n",
    "linear_dict = {}\n",
    "for i in range(Nc):\n",
    "    linear_dict[f\"x_{i}\"] = delta_v**2\n",
    "    linear_dict[f\"y_{i}\"] = - alpha*delta_v**2\n",
    "\n",
    "qp.minimize(linear=linear_dict)\n",
    "\n",
    "\n",
    "\n",
    "qp.get_num_vars()\n",
    "qp.prettyprint()"
   ]
  },
  {
   "cell_type": "code",
   "execution_count": 12,
   "metadata": {},
   "outputs": [
    {
     "data": {
      "text/plain": [
       "9"
      ]
     },
     "execution_count": 12,
     "metadata": {},
     "output_type": "execute_result"
    }
   ],
   "source": [
    "# Constraint 1: No simultaneous braking/acceleration\n",
    "for i in range(0, Nc):\n",
    "    qp.linear_constraint(linear={f'z_{i}': 1, f'x_{i}': -1}, \n",
    "                        sense='<=', \n",
    "                        rhs=0, \n",
    "                        name=f'z_u_d_{i}')\n",
    "\n",
    "for i in range(0, Nc):\n",
    "    qp.linear_constraint(linear={f'z_{i}': 1, f'y_{i}': -1}, \n",
    "                        sense='<=', \n",
    "                        rhs=0, \n",
    "                        name=f'z_p_d_{i}')\n",
    "\n",
    "for i in range(0, Nc):\n",
    "    qp.linear_constraint(linear={f'z_{i}': 1, f'x_{i}': -1, f'y_{i}': -1}, \n",
    "                        sense='>=', \n",
    "                        rhs=-1, \n",
    "                        name=f'z_u_p_d_{i}')\n",
    "\n",
    "# Sum of z[i] should be 0\n",
    "linear_sum = {f'z_{i}': 1 for i in range(Nc)}\n",
    "qp.linear_constraint(linear=linear_sum,\n",
    "                    sense='==',\n",
    "                    rhs=0,\n",
    "                    name='No_simultaneous_braking_or_acceleration_constraint')\n",
    "\n",
    "# Print information about the model\n",
    "qp.get_num_vars()"
   ]
  },
  {
   "cell_type": "code",
   "execution_count": 13,
   "metadata": {},
   "outputs": [
    {
     "data": {
      "text/plain": [
       "\"Problem name: \\n\\nMinimize\\n  x_0 + x_1 + x_2 - 0.05*y_0 - 0.05*y_1 - 0.05*y_2\\n\\nSubject to\\n  Linear constraints (12)\\n    -x_0 + z_0 <= 0  'z_u_d_0'\\n    -x_1 + z_1 <= 0  'z_u_d_1'\\n    -x_2 + z_2 <= 0  'z_u_d_2'\\n    -y_0 + z_0 <= 0  'z_p_d_0'\\n    -y_1 + z_1 <= 0  'z_p_d_1'\\n    -y_2 + z_2 <= 0  'z_p_d_2'\\n    -x_0 - y_0 + z_0 >= -1  'z_u_p_d_0'\\n    -x_1 - y_1 + z_1 >= -1  'z_u_p_d_1'\\n    -x_2 - y_2 + z_2 >= -1  'z_u_p_d_2'\\n    z_0 + z_1 + z_2 == 0  'No_simultaneous_braking_or_acceleration_constraint'\\n    3*x_0 + 2*x_1 + x_2 - 3*y_0 - 2*y_1 - y_2 <= 2  'Max_Distance_constraint'\\n    3*x_0 + 2*x_1 + x_2 - 3*y_0 - 2*y_1 - y_2 >= 0  'Min_Distance_constraint'\\n\\n  Binary variables (9)\\n    x_0 y_0 z_0 x_1 y_1 z_1 x_2 y_2 z_2\\n\""
      ]
     },
     "execution_count": 13,
     "metadata": {},
     "output_type": "execute_result"
    }
   ],
   "source": [
    "# Constraint 2: Total Distance constraints\n",
    "\n",
    "# Add distance constraints with tolerance\n",
    "qp.linear_constraint(linear={f'x_{i}': coef for i, coef in enumerate([delta_v*(Nc-i) for i in range(Nc)]) if coef != 0} | \n",
    "                    {f'y_{i}': -coef for i, coef in enumerate([delta_v*(Nc-i) for i in range(Nc)]) if coef != 0},\n",
    "                    sense='<=',\n",
    "                    rhs=Dist + tolerance,\n",
    "                    name='Max_Distance_constraint')\n",
    "\n",
    "qp.linear_constraint(linear={f'x_{i}': coef for i, coef in enumerate([delta_v*(Nc-i) for i in range(Nc)]) if coef != 0} | \n",
    "                    {f'y_{i}': -coef for i, coef in enumerate([delta_v*(Nc-i) for i in range(Nc)]) if coef != 0},\n",
    "                    sense='>=',\n",
    "                    rhs=Dist - tolerance,\n",
    "                    name='Min_Distance_constraint')\n",
    "\n",
    "# Print model information\n",
    "qp.prettyprint()"
   ]
  },
  {
   "cell_type": "code",
   "execution_count": 14,
   "metadata": {},
   "outputs": [
    {
     "data": {
      "text/plain": [
       "\"Problem name: \\n\\nMinimize\\n  x_0 + x_1 + x_2 - 0.05*y_0 - 0.05*y_1 - 0.05*y_2\\n\\nSubject to\\n  Linear constraints (13)\\n    -x_0 + z_0 <= 0  'z_u_d_0'\\n    -x_1 + z_1 <= 0  'z_u_d_1'\\n    -x_2 + z_2 <= 0  'z_u_d_2'\\n    -y_0 + z_0 <= 0  'z_p_d_0'\\n    -y_1 + z_1 <= 0  'z_p_d_1'\\n    -y_2 + z_2 <= 0  'z_p_d_2'\\n    -x_0 - y_0 + z_0 >= -1  'z_u_p_d_0'\\n    -x_1 - y_1 + z_1 >= -1  'z_u_p_d_1'\\n    -x_2 - y_2 + z_2 >= -1  'z_u_p_d_2'\\n    z_0 + z_1 + z_2 == 0  'No_simultaneous_braking_or_acceleration_constraint'\\n    3*x_0 + 2*x_1 + x_2 - 3*y_0 - 2*y_1 - y_2 <= 2  'Max_Distance_constraint'\\n    3*x_0 + 2*x_1 + x_2 - 3*y_0 - 2*y_1 - y_2 >= 0  'Min_Distance_constraint'\\n    -x_0 - x_1 - x_2 + y_0 + y_1 + y_2 == 0  'Net_Zero_constraint'\\n\\n  Binary variables (9)\\n    x_0 y_0 z_0 x_1 y_1 z_1 x_2 y_2 z_2\\n\""
      ]
     },
     "execution_count": 14,
     "metadata": {},
     "output_type": "execute_result"
    }
   ],
   "source": [
    "# Constraint 3: Net-Zero constraint (sum of acceleration equals sum of deceleration)\n",
    "qp.linear_constraint(linear={f'x_{i}': -1 for i in range(Nc)} | {f'y_{i}': 1 for i in range(Nc)},\n",
    "                    sense='==',\n",
    "                    rhs=0,\n",
    "                    name='Net_Zero_constraint')\n",
    "\n",
    "# Print the optimization model info\n",
    "qp.prettyprint()"
   ]
  },
  {
   "cell_type": "code",
   "execution_count": 15,
   "metadata": {},
   "outputs": [
    {
     "data": {
      "text/plain": [
       "\"Problem name: \\n\\nMinimize\\n  x_0 + x_1 + x_2 - 0.05*y_0 - 0.05*y_1 - 0.05*y_2\\n\\nSubject to\\n  Linear constraints (14)\\n    -x_0 + z_0 <= 0  'z_u_d_0'\\n    -x_1 + z_1 <= 0  'z_u_d_1'\\n    -x_2 + z_2 <= 0  'z_u_d_2'\\n    -y_0 + z_0 <= 0  'z_p_d_0'\\n    -y_1 + z_1 <= 0  'z_p_d_1'\\n    -y_2 + z_2 <= 0  'z_p_d_2'\\n    -x_0 - y_0 + z_0 >= -1  'z_u_p_d_0'\\n    -x_1 - y_1 + z_1 >= -1  'z_u_p_d_1'\\n    -x_2 - y_2 + z_2 >= -1  'z_u_p_d_2'\\n    z_0 + z_1 + z_2 == 0  'No_simultaneous_braking_or_acceleration_constraint'\\n    3*x_0 + 2*x_1 + x_2 - 3*y_0 - 2*y_1 - y_2 <= 2  'Max_Distance_constraint'\\n    3*x_0 + 2*x_1 + x_2 - 3*y_0 - 2*y_1 - y_2 >= 0  'Min_Distance_constraint'\\n    -x_0 - x_1 - x_2 + y_0 + y_1 + y_2 == 0  'Net_Zero_constraint'\\n    x_0 + x_1 + x_2 - y_0 - y_1 - y_2 <= 1  'Maximum_Speed_constraint'\\n\\n  Binary variables (9)\\n    x_0 y_0 z_0 x_1 y_1 z_1 x_2 y_2 z_2\\n\""
      ]
     },
     "execution_count": 15,
     "metadata": {},
     "output_type": "execute_result"
    }
   ],
   "source": [
    "# Constraint 4: Maximum Speed constraint\n",
    "qp.linear_constraint(linear={f'x_{i}': delta_v for i in range(Nc)} | {f'y_{i}': -delta_v for i in range(Nc)},\n",
    "                    sense='<=',\n",
    "                    rhs=vmax,\n",
    "                    name='Maximum_Speed_constraint')\n",
    "\n",
    "# Print the optimization model info\n",
    "qp.prettyprint()"
   ]
  },
  {
   "cell_type": "code",
   "execution_count": 16,
   "metadata": {},
   "outputs": [
    {
     "ename": "",
     "evalue": "",
     "output_type": "error",
     "traceback": [
      "\u001b[1;31mThe Kernel crashed while executing code in the current cell or a previous cell. \n",
      "\u001b[1;31mPlease review the code in the cell(s) to identify a possible cause of the failure. \n",
      "\u001b[1;31mClick <a href='https://aka.ms/vscodeJupyterKernelCrash'>here</a> for more info. \n",
      "\u001b[1;31mView Jupyter <a href='command:jupyter.viewOutput'>log</a> for further details."
     ]
    }
   ],
   "source": [
    "conv = QuadraticProgramToQubo()\n",
    "qubo = conv.convert(qp)"
   ]
  },
  {
   "cell_type": "code",
   "execution_count": null,
   "metadata": {},
   "outputs": [
    {
     "name": "stderr",
     "output_type": "stream",
     "text": [
      "/tmp/ipykernel_7932/2819726164.py:3: DeprecationWarning: The class ``qiskit.primitives.sampler.Sampler`` is deprecated as of qiskit 1.2. It will be removed no earlier than 3 months after the release date. All implementations of the `BaseSamplerV1` interface have been deprecated in favor of their V2 counterparts. The V2 alternative for the `Sampler` class is `StatevectorSampler`.\n",
      "  qaoa = QAOA(sampler=Sampler(), optimizer=COBYLA(maxiter=1000))\n"
     ]
    }
   ],
   "source": [
    "simulator = AerSimulator(method='matrix_product_state',device='GPU')\n",
    "# Configuring solver\n",
    "qaoa = QAOA(sampler=Sampler(), optimizer=COBYLA(maxiter=1000))\n",
    "meo = MinimumEigenOptimizer(qaoa)\n",
    "# Solving\n",
    "result_qaoa = meo.solve(qubo)\n",
    "print(result_qaoa.x)\n",
    "print(result_qaoa.fval)"
   ]
  }
 ],
 "metadata": {
  "kernelspec": {
   "display_name": "QiskitEnv",
   "language": "python",
   "name": "python3"
  },
  "language_info": {
   "codemirror_mode": {
    "name": "ipython",
    "version": 3
   },
   "file_extension": ".py",
   "mimetype": "text/x-python",
   "name": "python",
   "nbconvert_exporter": "python",
   "pygments_lexer": "ipython3",
   "version": "3.9.21"
  }
 },
 "nbformat": 4,
 "nbformat_minor": 2
}
