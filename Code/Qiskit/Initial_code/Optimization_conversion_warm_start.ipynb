{
 "cells": [
  {
   "cell_type": "markdown",
   "metadata": {},
   "source": [
    "# This is the code for Quantum Optimization"
   ]
  },
  {
   "cell_type": "code",
   "execution_count": 94,
   "metadata": {},
   "outputs": [],
   "source": [
    "import unittest\n",
    "import qiskit\n",
    "from qiskit.quantum_info import SparsePauliOp\n",
    "from qiskit_optimization import QuadraticProgram\n",
    "from qiskit_optimization.translators import from_docplex_mp\n",
    "from docplex.mp.model import Model\n",
    "import numpy as np\n",
    "from qiskit_algorithms import QAOA\n",
    "from qiskit_optimization.algorithms import MinimumEigenOptimizer\n",
    "from qiskit_algorithms.optimizers import COBYLA\n",
    "from qiskit_ibm_runtime import QiskitRuntimeService, SamplerV2 as SamplerV2\n",
    "import operator\n",
    "from qiskit.primitives import Sampler, Estimator\n",
    "from qiskit_optimization.converters import QuadraticProgramToQubo\n",
    "from qiskit.circuit.library import QAOAAnsatz\n",
    "import qiskit_aer as Aer\n",
    "from qiskit_ibm_runtime import Session, EstimatorV2 as Estimator\n",
    "from scipy.optimize import minimize\n",
    "from qiskit_aer import AerSimulator\n",
    "from qiskit import transpile\n",
    "from qiskit.primitives import StatevectorSampler\n",
    "from qiskit_optimization.converters import InequalityToEquality\n",
    "from qiskit import QuantumCircuit, transpile\n",
    "from qiskit.visualization import circuit_drawer\n",
    "from qiskit.transpiler import PassManager\n",
    "from qiskit_aer.noise import NoiseModel, depolarizing_error, thermal_relaxation_error\n",
    "from qiskit.transpiler.passes import Optimize1qGates, CXCancellation\n",
    "from qiskit import QuantumCircuit, QuantumRegister\n",
    "from qiskit.circuit import Parameter\n",
    "import matplotlib\n",
    "matplotlib.use('TkAgg')  # Set non-interactive backend\n",
    "import matplotlib.pyplot as plt\n",
    "from qiskit import transpile\n",
    "from qiskit.visualization import circuit_drawer\n",
    "from qiskit.transpiler import PassManager\n",
    "from qiskit.transpiler.passes import Optimize1qGates, CXCancellation\n",
    "from qiskit_ibm_runtime import QiskitRuntimeService, SamplerV2 as Sampler2\n",
    "from qiskit.transpiler.preset_passmanagers import generate_preset_pass_manager\n",
    "import os\n",
    "from qiskit_algorithms import VQE\n",
    "from qiskit.primitives import Estimator as Estimator3\n",
    "from qiskit.circuit.library import TwoLocal\n",
    "from qiskit_algorithms.optimizers import COBYLA"
   ]
  },
  {
   "cell_type": "code",
   "execution_count": 95,
   "metadata": {},
   "outputs": [
    {
     "name": "stdout",
     "output_type": "stream",
     "text": [
      "Name: qiskit\n",
      "Version: 1.2.4\n",
      "Summary: An open-source SDK for working with quantum computers at the level of extended quantum circuits, operators, and primitives.\n",
      "Home-page: https://www.ibm.com/quantum/qiskit\n",
      "Author: \n",
      "Author-email: Qiskit Development Team <qiskit@us.ibm.com>\n",
      "License: Apache 2.0\n",
      "Location: c:\\users\\arthu\\miniconda3\\envs\\quantumqiskit\\lib\\site-packages\n",
      "Requires: dill, numpy, python-dateutil, rustworkx, scipy, stevedore, symengine, sympy, typing-extensions\n",
      "Required-by: qiskit-aer, qiskit-algorithms, qiskit-ibm-runtime, qiskit-machine-learning, qiskit-optimization\n",
      "Note: you may need to restart the kernel to use updated packages.\n"
     ]
    }
   ],
   "source": [
    "pip show qiskit"
   ]
  },
  {
   "cell_type": "markdown",
   "metadata": {},
   "source": [
    "## We first create the Docplex/Cplex optimization problem"
   ]
  },
  {
   "cell_type": "code",
   "execution_count": 96,
   "metadata": {},
   "outputs": [],
   "source": [
    "opt_model = Model(name=\"MIP Model\")\n",
    "\n",
    "Nc= 3 # Nc is the number of seconds\n",
    "\n",
    "Dist=2 # Distance to travel\n",
    "\n",
    "tolerance = 0 # Tolerance in distance travelled\n",
    "\n",
    "delta_v=1 # Rate of acceleration/deceleration set to 1\n",
    "\n",
    "vmax=2 # Max speed of a TGV in France (in m/s)\n",
    "\n",
    "alpha=0.05 # Regenerative braking efficiency\n",
    "\n",
    "\"\"\"\n",
    "We define two binary variables for two bits. \n",
    "When x=0 and y=0 then constant velocity\n",
    "When x=1 and y=0 then acceleration\n",
    "When x=0 and y=1 then breaking\n",
    "\"\"\"\n",
    "\n",
    "x={}\n",
    "for i in range(0, Nc):\n",
    "    x[i]= opt_model.binary_var(name=f\"x_{i}\")\n",
    "\n",
    "y={}\n",
    "for i in range(0, Nc):\n",
    "    y[i]= opt_model.binary_var(name=f\"y_{i}\")\n",
    "\n",
    "'''z={}\n",
    "for i in range(0, Nc):\n",
    "    z[i]= opt_model.binary_var(name=f\"z_{i}\")'''\n",
    "    \n",
    "\n",
    "objective = opt_model.linear_expr()\n",
    "## objective is the hamiltonian/energy value we want to minimize\n",
    "## Energy:\n",
    "for i in range(0, Nc):\n",
    "    '''objective += (delta_v**2) * x[i] - alpha*(delta_v**2)*y[i]'''\n",
    "    objective += (delta_v**2)*x[i]\n",
    "\n",
    "    \n",
    "opt_model.minimize(objective)"
   ]
  },
  {
   "cell_type": "code",
   "execution_count": 97,
   "metadata": {},
   "outputs": [
    {
     "name": "stdout",
     "output_type": "stream",
     "text": [
      "Model: MIP Model\n",
      " - number of variables: 6\n",
      "   - binary=6, integer=0, continuous=0\n",
      " - number of constraints: 3\n",
      "   - linear=3\n",
      " - parameters: defaults\n",
      " - objective: minimize\n",
      " - problem type is: MILP\n",
      "// This file has been generated by DOcplex\n",
      "// model name is: MIP Model\n",
      "// single vars section\n",
      "dvar bool x_0;\n",
      "dvar bool x_1;\n",
      "dvar bool x_2;\n",
      "dvar bool y_0;\n",
      "dvar bool y_1;\n",
      "dvar bool y_2;\n",
      "\n",
      "minimize\n",
      " x_0 + x_1 + x_2;\n",
      " \n",
      "subject to {\n",
      " simultaneous_braking_acceleration_constraint_0:\n",
      "  x_0 + y_0 -1 <= 0;\n",
      " simultaneous_braking_acceleration_constraint_1:\n",
      "  x_1 + y_1 -1 <= 0;\n",
      " simultaneous_braking_acceleration_constraint_2:\n",
      "  x_2 + y_2 -1 <= 0;\n",
      "\n",
      "}\n"
     ]
    }
   ],
   "source": [
    "## Constraint 1: (simultaneous braking/acceleration)\n",
    "\n",
    "\n",
    "'''for i in range(0, Nc):\n",
    "    opt_model.add_constraint(z[i] <= x[i] , f\"z_u_d_{i}\") \n",
    "\n",
    "for i in range(0, Nc):\n",
    "    opt_model.add_constraint(z[i] <= y[i], f\"z_p_d_{i}\")\n",
    "        \n",
    "for i in range(0, Nc):\n",
    "    opt_model.add_constraint(z[i] >= x[i]+ y[i] -1 , f\"z_u_p_d_{i}\") \n",
    "\n",
    "for i in range(0,Nc):\n",
    "    opt_model.add_constraint(z[i] == 0, \"No simultaneous braking or acceleration constraint\"+str(i))\n",
    "opt_model.add_constraint(opt_model.sum(z[i] for i in range(0, Nc)) == 0 , \"No_simultaneous_braking_or_acceleration_constraint\")\n",
    "'''\n",
    "\n",
    "for i in range(0, Nc):\n",
    "    opt_model.add_constraint(x[i]+ y[i] -1 <= 0 , f\"simultaneous_braking_acceleration_constraint_{i}\") \n",
    "#### Print the optimization model info\n",
    "\n",
    "opt_model.print_information()\n",
    "opt_model.prettyprint()"
   ]
  },
  {
   "cell_type": "code",
   "execution_count": 98,
   "metadata": {},
   "outputs": [
    {
     "name": "stdout",
     "output_type": "stream",
     "text": [
      "Model: MIP Model\n",
      " - number of variables: 6\n",
      "   - binary=6, integer=0, continuous=0\n",
      " - number of constraints: 4\n",
      "   - linear=4\n",
      " - parameters: defaults\n",
      " - objective: minimize\n",
      " - problem type is: MILP\n"
     ]
    }
   ],
   "source": [
    "\"\"\"\n",
    "Constraint 2: (Total Distance constraints)\n",
    "\"\"\"\n",
    "\n",
    "distance = opt_model.linear_expr()\n",
    "velocity = 0\n",
    "for i in range(0, Nc):\n",
    "    velocity = velocity + delta_v*(x[i]-y[i])\n",
    "    distance += velocity\n",
    "'''opt_model.add_constraint(distance <= Dist+tolerance, \"Max_Distance_constraint\")\n",
    "opt_model.add_constraint(distance >= Dist-tolerance, \"Min_Distance_constraint\")'''\n",
    "opt_model.add_constraint(distance == Dist, \"Distance_constraint\")\n",
    "\n",
    "#### Print the optimization model info\n",
    "\n",
    "opt_model.print_information() "
   ]
  },
  {
   "cell_type": "code",
   "execution_count": 99,
   "metadata": {},
   "outputs": [
    {
     "name": "stdout",
     "output_type": "stream",
     "text": [
      "Model: MIP Model\n",
      " - number of variables: 6\n",
      "   - binary=6, integer=0, continuous=0\n",
      " - number of constraints: 5\n",
      "   - linear=5\n",
      " - parameters: defaults\n",
      " - objective: minimize\n",
      " - problem type is: MILP\n"
     ]
    }
   ],
   "source": [
    "\"\"\"\n",
    "Constraint 3: (Net-Zero contraint)\n",
    "\n",
    "\"\"\"\n",
    "opt_model.add_constraint(opt_model.sum((y[i]-x[i]) for i in range(0, Nc)) == 0 , \"Net_Zero_constraint\")\n",
    "\n",
    "#### Print the optimization model info\n",
    "\n",
    "opt_model.print_information()"
   ]
  },
  {
   "cell_type": "code",
   "execution_count": 100,
   "metadata": {},
   "outputs": [
    {
     "name": "stdout",
     "output_type": "stream",
     "text": [
      "Model: MIP Model\n",
      " - number of variables: 6\n",
      "   - binary=6, integer=0, continuous=0\n",
      " - number of constraints: 6\n",
      "   - linear=6\n",
      " - parameters: defaults\n",
      " - objective: minimize\n",
      " - problem type is: MILP\n"
     ]
    }
   ],
   "source": [
    "\"\"\"\n",
    "Constraint 4: (Maximum Speed)\n",
    "\n",
    "\"\"\"\n",
    "opt_model.add_constraint(opt_model.sum((delta_v*(x[i]) for i in range(0, Nc))) <= vmax , \"Maximum_Speed_constraint\")\n",
    "\n",
    "#### Print the optimization model info\n",
    "\n",
    "opt_model.print_information() "
   ]
  },
  {
   "cell_type": "code",
   "execution_count": 101,
   "metadata": {},
   "outputs": [
    {
     "name": "stdout",
     "output_type": "stream",
     "text": [
      "Model: MIP Model\n",
      " - number of variables: 6\n",
      "   - binary=6, integer=0, continuous=0\n",
      " - number of constraints: 9\n",
      "   - linear=9\n",
      " - parameters: defaults\n",
      " - objective: minimize\n",
      " - problem type is: MILP\n"
     ]
    }
   ],
   "source": [
    "\n",
    "#Constraint 5: (Positive Speed)\n",
    "for i in range(Nc):\n",
    "    opt_model.add_constraint(opt_model.sum((x[i]-y[i]) for i in range(0, i)) >= 0 , \"Positive_Speed_constraint\"+str(i))\n",
    "\n",
    "    #### Print the optimization model\n",
    "\n",
    "opt_model.print_information()\n"
   ]
  },
  {
   "cell_type": "code",
   "execution_count": 102,
   "metadata": {},
   "outputs": [
    {
     "data": {
      "text/plain": [
       "'\\n#Constraint 6: (Must leave immediately)\\n\\nopt_model.add_constraint(x[0]==1, \"Must leave immediately constraint\")\\n    \\n\\n#### Print the optimization model info\\n\\nopt_model.print_information()\\n'"
      ]
     },
     "execution_count": 102,
     "metadata": {},
     "output_type": "execute_result"
    }
   ],
   "source": [
    "'''\n",
    "#Constraint 6: (Must leave immediately)\n",
    "\n",
    "opt_model.add_constraint(x[0]==1, \"Must leave immediately constraint\")\n",
    "    \n",
    "\n",
    "#### Print the optimization model info\n",
    "\n",
    "opt_model.print_information()\n",
    "'''"
   ]
  },
  {
   "cell_type": "code",
   "execution_count": 103,
   "metadata": {},
   "outputs": [
    {
     "name": "stdout",
     "output_type": "stream",
     "text": [
      "// This file has been generated by DOcplex\n",
      "// model name is: MIP Model\n",
      "// single vars section\n",
      "dvar bool x_0;\n",
      "dvar bool x_1;\n",
      "dvar bool x_2;\n",
      "dvar bool y_0;\n",
      "dvar bool y_1;\n",
      "dvar bool y_2;\n",
      "\n",
      "minimize\n",
      " x_0 + x_1 + x_2;\n",
      " \n",
      "subject to {\n",
      " simultaneous_braking_acceleration_constraint_0:\n",
      "  x_0 + y_0 -1 <= 0;\n",
      " simultaneous_braking_acceleration_constraint_1:\n",
      "  x_1 + y_1 -1 <= 0;\n",
      " simultaneous_braking_acceleration_constraint_2:\n",
      "  x_2 + y_2 -1 <= 0;\n",
      " Distance_constraint:\n",
      "  3 x_0 - 3 y_0 + 2 x_1 - 2 y_1 + x_2 - y_2 == 2;\n",
      " Net_Zero_constraint:\n",
      "  y_0 - x_0 + y_1 - x_1 + y_2 - x_2 == 0;\n",
      " Maximum_Speed_constraint:\n",
      "  x_0 + x_1 + x_2 <= 2;\n",
      " Positive_Speed_constraint0:\n",
      "  0 >= 0;\n",
      " Positive_Speed_constraint1:\n",
      "  x_0 - y_0 >= 0;\n",
      " Positive_Speed_constraint2:\n",
      "  x_0 - y_0 + x_1 - y_1 >= 0;\n",
      "\n",
      "}\n",
      "None\n"
     ]
    }
   ],
   "source": [
    "#### Print the optimization model\n",
    "print(opt_model.prettyprint())"
   ]
  },
  {
   "cell_type": "markdown",
   "metadata": {},
   "source": [
    "## Problem conversion"
   ]
  },
  {
   "cell_type": "code",
   "execution_count": 104,
   "metadata": {},
   "outputs": [
    {
     "name": "stdout",
     "output_type": "stream",
     "text": [
      "Number of variables: 6\n"
     ]
    },
    {
     "name": "stderr",
     "output_type": "stream",
     "text": [
      "C:\\Users\\arthu\\AppData\\Local\\Temp\\ipykernel_2252\\414607200.py:2: UserWarning: Trivial constraint: Positive_Speed_constraint0: 0 >= 0\n",
      "  qp_quad = from_docplex_mp(opt_model)\n"
     ]
    }
   ],
   "source": [
    "# Conversion to qad_model\n",
    "qp_quad = from_docplex_mp(opt_model)\n",
    "print(\"Number of variables:\", len(qp_quad.variables))"
   ]
  },
  {
   "cell_type": "code",
   "execution_count": 105,
   "metadata": {},
   "outputs": [
    {
     "name": "stdout",
     "output_type": "stream",
     "text": [
      "QUBO variables: 10\n",
      "QUBO constraints: 0\n"
     ]
    },
    {
     "data": {
      "text/plain": [
       "'opt_model.export_as_lp(\"qubo1.lp\")'"
      ]
     },
     "execution_count": 105,
     "metadata": {},
     "output_type": "execute_result"
    }
   ],
   "source": [
    "# Conversion to qubo\n",
    "conv = QuadraticProgramToQubo()\n",
    "qubo = conv.convert(qp_quad)\n",
    "\n",
    "print(f\"QUBO variables: {len(qubo.variables)}\")\n",
    "print(f\"QUBO constraints: {len(qubo.linear_constraints)}\")\n",
    "\n",
    "'''opt_model.export_as_lp(\"qubo1.lp\")'''"
   ]
  },
  {
   "cell_type": "code",
   "execution_count": 106,
   "metadata": {},
   "outputs": [
    {
     "name": "stdout",
     "output_type": "stream",
     "text": [
      "Offset: 269.5\n",
      "Ising Hamiltonian:\n",
      "SparsePauliOp(['IIIIIIIIIZ', 'IIIIIIIIZI', 'IIIIIIIZII', 'IIIIIIZIII', 'IIIIIZIIII', 'IIIIZIIIII', 'IIIZIIIIII', 'IIZIIIIIII', 'IIIIIIIIZZ', 'IIIIIIIZIZ', 'IIIIIIZIIZ', 'IIIIIZIIIZ', 'IIIIZIIIIZ', 'IIIZIIIIIZ', 'IIZIIIIIIZ', 'IZIIIIIIIZ', 'IZIIIIIIII', 'ZIIIIIIIIZ', 'ZIIIIIIIII', 'IIIIIIIZZI', 'IIIIIIZIZI', 'IIIIIZIIZI', 'IIIIZIIIZI', 'IIIZIIIIZI', 'IIZIIIIIZI', 'IZIIIIIIZI', 'ZIIIIIIIZI', 'IIIIIIZZII', 'IIIIIZIZII', 'IIIIZIIZII', 'IIIZIIIZII', 'IIZIIIIZII', 'IIIIIZZIII', 'IIIIZIZIII', 'IZIIIIZIII', 'ZIIIIIZIII', 'IIIIZZIIII', 'IZIIIZIIII', 'ZIIIIZIIII', 'IIZZIIIIII', 'ZZIIIIIIII'],\n",
      "              coeffs=[ 103.5+0.j,   70.5+0.j,   22.5+0.j, -114. +0.j,  -81. +0.j,  -33. +0.j,\n",
      "   -8. +0.j,   -8. +0.j,   72. +0.j,   40. +0.j,  -88. +0.j,  -64. +0.j,\n",
      "  -32. +0.j,    8. +0.j,    8. +0.j,   -8. +0.j,  -16. +0.j,   -8. +0.j,\n",
      "  -16. +0.j,   32. +0.j,  -64. +0.j,  -47. +0.j,  -24. +0.j,    8. +0.j,\n",
      "    8. +0.j,   -8. +0.j,   -8. +0.j,  -32. +0.j,  -24. +0.j,  -15. +0.j,\n",
      "    8. +0.j,    8. +0.j,   64. +0.j,   32. +0.j,    8. +0.j,    8. +0.j,\n",
      "   24. +0.j,    8. +0.j,    8. +0.j,    8. +0.j,    8. +0.j])\n",
      "10\n",
      "269.5\n"
     ]
    }
   ],
   "source": [
    "qubitOp, offset = qubo.to_ising()\n",
    "print(\"Offset:\", offset)\n",
    "print(\"Ising Hamiltonian:\")\n",
    "print(str(qubitOp))\n",
    "num_qubits = qubitOp.num_qubits\n",
    "print(num_qubits)\n",
    "print(offset)"
   ]
  },
  {
   "cell_type": "markdown",
   "metadata": {},
   "source": [
    "## Solving QUBO"
   ]
  },
  {
   "cell_type": "code",
   "execution_count": 107,
   "metadata": {},
   "outputs": [
    {
     "name": "stdout",
     "output_type": "stream",
     "text": [
      "10\n"
     ]
    }
   ],
   "source": [
    "p=2\n",
    "qubo_circuit = QAOAAnsatz(cost_operator=qubitOp, reps=p)\n",
    "qubo_circuit.measure_all()\n",
    "print(qubo_circuit.num_qubits)"
   ]
  },
  {
   "cell_type": "code",
   "execution_count": 108,
   "metadata": {},
   "outputs": [
    {
     "data": {
      "text/html": [
       "<pre style=\"word-wrap: normal;white-space: pre;background: #fff0;line-height: 1.1;font-family: &quot;Courier New&quot;,Courier,monospace\">         ┌────────────────────────────┐ ░ ┌─┐                           \n",
       "    q_0: ┤0                           ├─░─┤M├───────────────────────────\n",
       "         │                            │ ░ └╥┘┌─┐                        \n",
       "    q_1: ┤1                           ├─░──╫─┤M├────────────────────────\n",
       "         │                            │ ░  ║ └╥┘┌─┐                     \n",
       "    q_2: ┤2                           ├─░──╫──╫─┤M├─────────────────────\n",
       "         │                            │ ░  ║  ║ └╥┘┌─┐                  \n",
       "    q_3: ┤3                           ├─░──╫──╫──╫─┤M├──────────────────\n",
       "         │                            │ ░  ║  ║  ║ └╥┘┌─┐               \n",
       "    q_4: ┤4                           ├─░──╫──╫──╫──╫─┤M├───────────────\n",
       "         │  QAOA(γ[0],β[0],γ[1],β[1]) │ ░  ║  ║  ║  ║ └╥┘┌─┐            \n",
       "    q_5: ┤5                           ├─░──╫──╫──╫──╫──╫─┤M├────────────\n",
       "         │                            │ ░  ║  ║  ║  ║  ║ └╥┘┌─┐         \n",
       "    q_6: ┤6                           ├─░──╫──╫──╫──╫──╫──╫─┤M├─────────\n",
       "         │                            │ ░  ║  ║  ║  ║  ║  ║ └╥┘┌─┐      \n",
       "    q_7: ┤7                           ├─░──╫──╫──╫──╫──╫──╫──╫─┤M├──────\n",
       "         │                            │ ░  ║  ║  ║  ║  ║  ║  ║ └╥┘┌─┐   \n",
       "    q_8: ┤8                           ├─░──╫──╫──╫──╫──╫──╫──╫──╫─┤M├───\n",
       "         │                            │ ░  ║  ║  ║  ║  ║  ║  ║  ║ └╥┘┌─┐\n",
       "    q_9: ┤9                           ├─░──╫──╫──╫──╫──╫──╫──╫──╫──╫─┤M├\n",
       "         └────────────────────────────┘ ░  ║  ║  ║  ║  ║  ║  ║  ║  ║ └╥┘\n",
       "meas: 10/══════════════════════════════════╩══╩══╩══╩══╩══╩══╩══╩══╩══╩═\n",
       "                                           0  1  2  3  4  5  6  7  8  9 </pre>"
      ],
      "text/plain": [
       "         ┌────────────────────────────┐ ░ ┌─┐                           \n",
       "    q_0: ┤0                           ├─░─┤M├───────────────────────────\n",
       "         │                            │ ░ └╥┘┌─┐                        \n",
       "    q_1: ┤1                           ├─░──╫─┤M├────────────────────────\n",
       "         │                            │ ░  ║ └╥┘┌─┐                     \n",
       "    q_2: ┤2                           ├─░──╫──╫─┤M├─────────────────────\n",
       "         │                            │ ░  ║  ║ └╥┘┌─┐                  \n",
       "    q_3: ┤3                           ├─░──╫──╫──╫─┤M├──────────────────\n",
       "         │                            │ ░  ║  ║  ║ └╥┘┌─┐               \n",
       "    q_4: ┤4                           ├─░──╫──╫──╫──╫─┤M├───────────────\n",
       "         │  QAOA(γ[0],β[0],γ[1],β[1]) │ ░  ║  ║  ║  ║ └╥┘┌─┐            \n",
       "    q_5: ┤5                           ├─░──╫──╫──╫──╫──╫─┤M├────────────\n",
       "         │                            │ ░  ║  ║  ║  ║  ║ └╥┘┌─┐         \n",
       "    q_6: ┤6                           ├─░──╫──╫──╫──╫──╫──╫─┤M├─────────\n",
       "         │                            │ ░  ║  ║  ║  ║  ║  ║ └╥┘┌─┐      \n",
       "    q_7: ┤7                           ├─░──╫──╫──╫──╫──╫──╫──╫─┤M├──────\n",
       "         │                            │ ░  ║  ║  ║  ║  ║  ║  ║ └╥┘┌─┐   \n",
       "    q_8: ┤8                           ├─░──╫──╫──╫──╫──╫──╫──╫──╫─┤M├───\n",
       "         │                            │ ░  ║  ║  ║  ║  ║  ║  ║  ║ └╥┘┌─┐\n",
       "    q_9: ┤9                           ├─░──╫──╫──╫──╫──╫──╫──╫──╫──╫─┤M├\n",
       "         └────────────────────────────┘ ░  ║  ║  ║  ║  ║  ║  ║  ║  ║ └╥┘\n",
       "meas: 10/══════════════════════════════════╩══╩══╩══╩══╩══╩══╩══╩══╩══╩═\n",
       "                                           0  1  2  3  4  5  6  7  8  9 "
      ]
     },
     "execution_count": 108,
     "metadata": {},
     "output_type": "execute_result"
    }
   ],
   "source": [
    "qubo_circuit.draw( style={'backgroundcolor': '#FFFFFF'})"
   ]
  },
  {
   "cell_type": "code",
   "execution_count": 109,
   "metadata": {},
   "outputs": [
    {
     "data": {
      "text/plain": [
       "\"expanded_circuit = qubo_circuit.decompose()\\nexpanded_circuit.draw( style={'backgroundcolor': '#FFFFFF'})\""
      ]
     },
     "execution_count": 109,
     "metadata": {},
     "output_type": "execute_result"
    }
   ],
   "source": [
    "'''expanded_circuit = qubo_circuit.decompose()\n",
    "expanded_circuit.draw( style={'backgroundcolor': '#FFFFFF'})'''"
   ]
  },
  {
   "cell_type": "code",
   "execution_count": 110,
   "metadata": {},
   "outputs": [
    {
     "data": {
      "text/plain": [
       "ParameterView([ParameterVectorElement(β[0]), ParameterVectorElement(β[1]), ParameterVectorElement(γ[0]), ParameterVectorElement(γ[1])])"
      ]
     },
     "execution_count": 110,
     "metadata": {},
     "output_type": "execute_result"
    }
   ],
   "source": [
    "qubo_circuit.parameters"
   ]
  },
  {
   "cell_type": "markdown",
   "metadata": {},
   "source": [
    "### Optimize circuit"
   ]
  },
  {
   "cell_type": "code",
   "execution_count": 111,
   "metadata": {},
   "outputs": [
    {
     "name": "stdout",
     "output_type": "stream",
     "text": [
      "AerSimulator('aer_simulator')\n",
      "10\n"
     ]
    }
   ],
   "source": [
    "# QiskitRuntimeService.save_account(channel=\"ibm_quantum\", token=\"<MY_IBM_QUANTUM_TOKEN>\", overwrite=True, set_as_default=True)\n",
    "'''service = QiskitRuntimeService(channel='ibm_quantum')\n",
    "backend = service.least_busy(min_num_qubits=num_qubits+5)'''\n",
    "backend = AerSimulator()\n",
    "print(backend)\n",
    "\n",
    "# Create pass manager for transpilation\n",
    "pm = generate_preset_pass_manager(optimization_level=3,\n",
    "                                    backend=backend)\n",
    "\n",
    "candidate_circuit = pm.run(qubo_circuit)\n",
    "'''candidate_circuit.draw()'''\n",
    "num_qubits_circ = candidate_circuit.num_qubits\n",
    "print(num_qubits_circ)"
   ]
  },
  {
   "cell_type": "code",
   "execution_count": null,
   "metadata": {},
   "outputs": [],
   "source": [
    "def relax_problem(problem) -> QuadraticProgram:\n",
    "    \"\"\"Change all variables to continuous.\"\"\"\n",
    "    relaxed_problem = copy.deepcopy(problem)\n",
    "    for variable in relaxed_problem.variables:\n",
    "        variable.vartype = VarType.CONTINUOUS\n",
    "\n",
    "    return relaxed_problem\n",
    "\n",
    "mu = np.array([3.418, 2.0913, 6.2415, 4.4436, 10.892, 3.4051])\n",
    "sigma = np.array(\n",
    "    [\n",
    "        [1.07978412, 0.00768914, 0.11227606, -0.06842969, -0.01016793, -0.00839765],\n",
    "        [0.00768914, 0.10922887, -0.03043424, -0.0020045, 0.00670929, 0.0147937],\n",
    "        [0.11227606, -0.03043424, 0.985353, 0.02307313, -0.05249785, 0.00904119],\n",
    "        [-0.06842969, -0.0020045, 0.02307313, 0.6043817, 0.03740115, -0.00945322],\n",
    "        [-0.01016793, 0.00670929, -0.05249785, 0.03740115, 0.79839634, 0.07616951],\n",
    "        [-0.00839765, 0.0147937, 0.00904119, -0.00945322, 0.07616951, 1.08464544],\n",
    "    ]\n",
    ")\n",
    "\n",
    "qp_relax = relax_problem(QuadraticProgramToQubo().convert(qubo))\n",
    "sol = CplexOptimizer().solve(qp)\n",
    "print(sol.prettyprint())"
   ]
  },
  {
   "cell_type": "code",
   "execution_count": null,
   "metadata": {},
   "outputs": [],
   "source": [
    "c_stars = sol.samples[0].x\n",
    "print(c_stars)"
   ]
  },
  {
   "cell_type": "code",
   "execution_count": null,
   "metadata": {},
   "outputs": [],
   "source": [
    "thetas = [2 * np.arcsin(np.sqrt(c_star)) for c_star in c_stars]"
   ]
  },
  {
   "cell_type": "markdown",
   "metadata": {},
   "source": [
    "### Execute circuit"
   ]
  },
  {
   "cell_type": "code",
   "execution_count": 112,
   "metadata": {},
   "outputs": [],
   "source": [
    "import random\n",
    "initial_gamma = np.pi\n",
    "initial_beta = np.pi/2\n",
    "init_params = []\n",
    "for i in range(p):\n",
    "    initial_gamma = np.pi * random.random()\n",
    "    initial_beta = np.pi * random.random()\n",
    "    init_params.append(initial_gamma)\n",
    "    init_params.append(initial_beta)"
   ]
  },
  {
   "cell_type": "code",
   "execution_count": 113,
   "metadata": {},
   "outputs": [],
   "source": [
    "def cost_func_estimator(params, ansatz, hamiltonian, estimator):\n",
    "\n",
    "    # transform the observable defined on virtual qubits to\n",
    "    # an observable defined on all physical qubits\n",
    "    isa_hamiltonian = hamiltonian.apply_layout(ansatz.layout)\n",
    "\n",
    "    pub = (ansatz, isa_hamiltonian, params)\n",
    "    job = estimator.run([pub])\n",
    "\n",
    "    results = job.result()[0]\n",
    "    cost = results.data.evs\n",
    "    total_cost = cost + offset\n",
    "\n",
    "    objective_func_vals.append(total_cost)\n",
    "\n",
    "\n",
    "    return total_cost"
   ]
  },
  {
   "cell_type": "code",
   "execution_count": 114,
   "metadata": {},
   "outputs": [
    {
     "name": "stderr",
     "output_type": "stream",
     "text": [
      "c:\\Users\\arthu\\miniconda3\\envs\\QuantumQiskit\\lib\\site-packages\\qiskit_ibm_runtime\\fake_provider\\local_service.py:268: UserWarning: Options {'dynamical_decoupling': {'enable': True, 'sequence_type': 'XY4'}, 'twirling': {'enable_gates': True, 'num_randomizations': 'auto'}} have no effect in local testing mode.\n",
      "  warnings.warn(f\"Options {options_copy} have no effect in local testing mode.\")\n",
      "c:\\Users\\arthu\\miniconda3\\envs\\QuantumQiskit\\lib\\site-packages\\qiskit_ibm_runtime\\fake_provider\\local_service.py:268: UserWarning: Options {'dynamical_decoupling': {'enable': True, 'sequence_type': 'XY4'}, 'twirling': {'enable_gates': True, 'num_randomizations': 'auto'}} have no effect in local testing mode.\n",
      "  warnings.warn(f\"Options {options_copy} have no effect in local testing mode.\")\n",
      "c:\\Users\\arthu\\miniconda3\\envs\\QuantumQiskit\\lib\\site-packages\\qiskit_ibm_runtime\\fake_provider\\local_service.py:268: UserWarning: Options {'dynamical_decoupling': {'enable': True, 'sequence_type': 'XY4'}, 'twirling': {'enable_gates': True, 'num_randomizations': 'auto'}} have no effect in local testing mode.\n",
      "  warnings.warn(f\"Options {options_copy} have no effect in local testing mode.\")\n",
      "c:\\Users\\arthu\\miniconda3\\envs\\QuantumQiskit\\lib\\site-packages\\qiskit_ibm_runtime\\fake_provider\\local_service.py:268: UserWarning: Options {'dynamical_decoupling': {'enable': True, 'sequence_type': 'XY4'}, 'twirling': {'enable_gates': True, 'num_randomizations': 'auto'}} have no effect in local testing mode.\n",
      "  warnings.warn(f\"Options {options_copy} have no effect in local testing mode.\")\n",
      "c:\\Users\\arthu\\miniconda3\\envs\\QuantumQiskit\\lib\\site-packages\\qiskit_ibm_runtime\\fake_provider\\local_service.py:268: UserWarning: Options {'dynamical_decoupling': {'enable': True, 'sequence_type': 'XY4'}, 'twirling': {'enable_gates': True, 'num_randomizations': 'auto'}} have no effect in local testing mode.\n",
      "  warnings.warn(f\"Options {options_copy} have no effect in local testing mode.\")\n",
      "c:\\Users\\arthu\\miniconda3\\envs\\QuantumQiskit\\lib\\site-packages\\qiskit_ibm_runtime\\fake_provider\\local_service.py:268: UserWarning: Options {'dynamical_decoupling': {'enable': True, 'sequence_type': 'XY4'}, 'twirling': {'enable_gates': True, 'num_randomizations': 'auto'}} have no effect in local testing mode.\n",
      "  warnings.warn(f\"Options {options_copy} have no effect in local testing mode.\")\n",
      "c:\\Users\\arthu\\miniconda3\\envs\\QuantumQiskit\\lib\\site-packages\\qiskit_ibm_runtime\\fake_provider\\local_service.py:268: UserWarning: Options {'dynamical_decoupling': {'enable': True, 'sequence_type': 'XY4'}, 'twirling': {'enable_gates': True, 'num_randomizations': 'auto'}} have no effect in local testing mode.\n",
      "  warnings.warn(f\"Options {options_copy} have no effect in local testing mode.\")\n",
      "c:\\Users\\arthu\\miniconda3\\envs\\QuantumQiskit\\lib\\site-packages\\qiskit_ibm_runtime\\fake_provider\\local_service.py:268: UserWarning: Options {'dynamical_decoupling': {'enable': True, 'sequence_type': 'XY4'}, 'twirling': {'enable_gates': True, 'num_randomizations': 'auto'}} have no effect in local testing mode.\n",
      "  warnings.warn(f\"Options {options_copy} have no effect in local testing mode.\")\n",
      "c:\\Users\\arthu\\miniconda3\\envs\\QuantumQiskit\\lib\\site-packages\\qiskit_ibm_runtime\\fake_provider\\local_service.py:268: UserWarning: Options {'dynamical_decoupling': {'enable': True, 'sequence_type': 'XY4'}, 'twirling': {'enable_gates': True, 'num_randomizations': 'auto'}} have no effect in local testing mode.\n",
      "  warnings.warn(f\"Options {options_copy} have no effect in local testing mode.\")\n",
      "c:\\Users\\arthu\\miniconda3\\envs\\QuantumQiskit\\lib\\site-packages\\qiskit_ibm_runtime\\fake_provider\\local_service.py:268: UserWarning: Options {'dynamical_decoupling': {'enable': True, 'sequence_type': 'XY4'}, 'twirling': {'enable_gates': True, 'num_randomizations': 'auto'}} have no effect in local testing mode.\n",
      "  warnings.warn(f\"Options {options_copy} have no effect in local testing mode.\")\n",
      "c:\\Users\\arthu\\miniconda3\\envs\\QuantumQiskit\\lib\\site-packages\\qiskit_ibm_runtime\\fake_provider\\local_service.py:268: UserWarning: Options {'dynamical_decoupling': {'enable': True, 'sequence_type': 'XY4'}, 'twirling': {'enable_gates': True, 'num_randomizations': 'auto'}} have no effect in local testing mode.\n",
      "  warnings.warn(f\"Options {options_copy} have no effect in local testing mode.\")\n",
      "c:\\Users\\arthu\\miniconda3\\envs\\QuantumQiskit\\lib\\site-packages\\qiskit_ibm_runtime\\fake_provider\\local_service.py:268: UserWarning: Options {'dynamical_decoupling': {'enable': True, 'sequence_type': 'XY4'}, 'twirling': {'enable_gates': True, 'num_randomizations': 'auto'}} have no effect in local testing mode.\n",
      "  warnings.warn(f\"Options {options_copy} have no effect in local testing mode.\")\n",
      "c:\\Users\\arthu\\miniconda3\\envs\\QuantumQiskit\\lib\\site-packages\\qiskit_ibm_runtime\\fake_provider\\local_service.py:268: UserWarning: Options {'dynamical_decoupling': {'enable': True, 'sequence_type': 'XY4'}, 'twirling': {'enable_gates': True, 'num_randomizations': 'auto'}} have no effect in local testing mode.\n",
      "  warnings.warn(f\"Options {options_copy} have no effect in local testing mode.\")\n",
      "c:\\Users\\arthu\\miniconda3\\envs\\QuantumQiskit\\lib\\site-packages\\qiskit_ibm_runtime\\fake_provider\\local_service.py:268: UserWarning: Options {'dynamical_decoupling': {'enable': True, 'sequence_type': 'XY4'}, 'twirling': {'enable_gates': True, 'num_randomizations': 'auto'}} have no effect in local testing mode.\n",
      "  warnings.warn(f\"Options {options_copy} have no effect in local testing mode.\")\n",
      "c:\\Users\\arthu\\miniconda3\\envs\\QuantumQiskit\\lib\\site-packages\\qiskit_ibm_runtime\\fake_provider\\local_service.py:268: UserWarning: Options {'dynamical_decoupling': {'enable': True, 'sequence_type': 'XY4'}, 'twirling': {'enable_gates': True, 'num_randomizations': 'auto'}} have no effect in local testing mode.\n",
      "  warnings.warn(f\"Options {options_copy} have no effect in local testing mode.\")\n",
      "c:\\Users\\arthu\\miniconda3\\envs\\QuantumQiskit\\lib\\site-packages\\qiskit_ibm_runtime\\fake_provider\\local_service.py:268: UserWarning: Options {'dynamical_decoupling': {'enable': True, 'sequence_type': 'XY4'}, 'twirling': {'enable_gates': True, 'num_randomizations': 'auto'}} have no effect in local testing mode.\n",
      "  warnings.warn(f\"Options {options_copy} have no effect in local testing mode.\")\n",
      "c:\\Users\\arthu\\miniconda3\\envs\\QuantumQiskit\\lib\\site-packages\\qiskit_ibm_runtime\\fake_provider\\local_service.py:268: UserWarning: Options {'dynamical_decoupling': {'enable': True, 'sequence_type': 'XY4'}, 'twirling': {'enable_gates': True, 'num_randomizations': 'auto'}} have no effect in local testing mode.\n",
      "  warnings.warn(f\"Options {options_copy} have no effect in local testing mode.\")\n",
      "c:\\Users\\arthu\\miniconda3\\envs\\QuantumQiskit\\lib\\site-packages\\qiskit_ibm_runtime\\fake_provider\\local_service.py:268: UserWarning: Options {'dynamical_decoupling': {'enable': True, 'sequence_type': 'XY4'}, 'twirling': {'enable_gates': True, 'num_randomizations': 'auto'}} have no effect in local testing mode.\n",
      "  warnings.warn(f\"Options {options_copy} have no effect in local testing mode.\")\n",
      "c:\\Users\\arthu\\miniconda3\\envs\\QuantumQiskit\\lib\\site-packages\\qiskit_ibm_runtime\\fake_provider\\local_service.py:268: UserWarning: Options {'dynamical_decoupling': {'enable': True, 'sequence_type': 'XY4'}, 'twirling': {'enable_gates': True, 'num_randomizations': 'auto'}} have no effect in local testing mode.\n",
      "  warnings.warn(f\"Options {options_copy} have no effect in local testing mode.\")\n",
      "c:\\Users\\arthu\\miniconda3\\envs\\QuantumQiskit\\lib\\site-packages\\qiskit_ibm_runtime\\fake_provider\\local_service.py:268: UserWarning: Options {'dynamical_decoupling': {'enable': True, 'sequence_type': 'XY4'}, 'twirling': {'enable_gates': True, 'num_randomizations': 'auto'}} have no effect in local testing mode.\n",
      "  warnings.warn(f\"Options {options_copy} have no effect in local testing mode.\")\n",
      "c:\\Users\\arthu\\miniconda3\\envs\\QuantumQiskit\\lib\\site-packages\\qiskit_ibm_runtime\\fake_provider\\local_service.py:268: UserWarning: Options {'dynamical_decoupling': {'enable': True, 'sequence_type': 'XY4'}, 'twirling': {'enable_gates': True, 'num_randomizations': 'auto'}} have no effect in local testing mode.\n",
      "  warnings.warn(f\"Options {options_copy} have no effect in local testing mode.\")\n",
      "c:\\Users\\arthu\\miniconda3\\envs\\QuantumQiskit\\lib\\site-packages\\qiskit_ibm_runtime\\fake_provider\\local_service.py:268: UserWarning: Options {'dynamical_decoupling': {'enable': True, 'sequence_type': 'XY4'}, 'twirling': {'enable_gates': True, 'num_randomizations': 'auto'}} have no effect in local testing mode.\n",
      "  warnings.warn(f\"Options {options_copy} have no effect in local testing mode.\")\n",
      "c:\\Users\\arthu\\miniconda3\\envs\\QuantumQiskit\\lib\\site-packages\\qiskit_ibm_runtime\\fake_provider\\local_service.py:268: UserWarning: Options {'dynamical_decoupling': {'enable': True, 'sequence_type': 'XY4'}, 'twirling': {'enable_gates': True, 'num_randomizations': 'auto'}} have no effect in local testing mode.\n",
      "  warnings.warn(f\"Options {options_copy} have no effect in local testing mode.\")\n",
      "c:\\Users\\arthu\\miniconda3\\envs\\QuantumQiskit\\lib\\site-packages\\qiskit_ibm_runtime\\fake_provider\\local_service.py:268: UserWarning: Options {'dynamical_decoupling': {'enable': True, 'sequence_type': 'XY4'}, 'twirling': {'enable_gates': True, 'num_randomizations': 'auto'}} have no effect in local testing mode.\n",
      "  warnings.warn(f\"Options {options_copy} have no effect in local testing mode.\")\n",
      "c:\\Users\\arthu\\miniconda3\\envs\\QuantumQiskit\\lib\\site-packages\\qiskit_ibm_runtime\\fake_provider\\local_service.py:268: UserWarning: Options {'dynamical_decoupling': {'enable': True, 'sequence_type': 'XY4'}, 'twirling': {'enable_gates': True, 'num_randomizations': 'auto'}} have no effect in local testing mode.\n",
      "  warnings.warn(f\"Options {options_copy} have no effect in local testing mode.\")\n",
      "c:\\Users\\arthu\\miniconda3\\envs\\QuantumQiskit\\lib\\site-packages\\qiskit_ibm_runtime\\fake_provider\\local_service.py:268: UserWarning: Options {'dynamical_decoupling': {'enable': True, 'sequence_type': 'XY4'}, 'twirling': {'enable_gates': True, 'num_randomizations': 'auto'}} have no effect in local testing mode.\n",
      "  warnings.warn(f\"Options {options_copy} have no effect in local testing mode.\")\n",
      "c:\\Users\\arthu\\miniconda3\\envs\\QuantumQiskit\\lib\\site-packages\\qiskit_ibm_runtime\\fake_provider\\local_service.py:268: UserWarning: Options {'dynamical_decoupling': {'enable': True, 'sequence_type': 'XY4'}, 'twirling': {'enable_gates': True, 'num_randomizations': 'auto'}} have no effect in local testing mode.\n",
      "  warnings.warn(f\"Options {options_copy} have no effect in local testing mode.\")\n",
      "c:\\Users\\arthu\\miniconda3\\envs\\QuantumQiskit\\lib\\site-packages\\qiskit_ibm_runtime\\fake_provider\\local_service.py:268: UserWarning: Options {'dynamical_decoupling': {'enable': True, 'sequence_type': 'XY4'}, 'twirling': {'enable_gates': True, 'num_randomizations': 'auto'}} have no effect in local testing mode.\n",
      "  warnings.warn(f\"Options {options_copy} have no effect in local testing mode.\")\n",
      "c:\\Users\\arthu\\miniconda3\\envs\\QuantumQiskit\\lib\\site-packages\\qiskit_ibm_runtime\\fake_provider\\local_service.py:268: UserWarning: Options {'dynamical_decoupling': {'enable': True, 'sequence_type': 'XY4'}, 'twirling': {'enable_gates': True, 'num_randomizations': 'auto'}} have no effect in local testing mode.\n",
      "  warnings.warn(f\"Options {options_copy} have no effect in local testing mode.\")\n",
      "c:\\Users\\arthu\\miniconda3\\envs\\QuantumQiskit\\lib\\site-packages\\qiskit_ibm_runtime\\fake_provider\\local_service.py:268: UserWarning: Options {'dynamical_decoupling': {'enable': True, 'sequence_type': 'XY4'}, 'twirling': {'enable_gates': True, 'num_randomizations': 'auto'}} have no effect in local testing mode.\n",
      "  warnings.warn(f\"Options {options_copy} have no effect in local testing mode.\")\n",
      "c:\\Users\\arthu\\miniconda3\\envs\\QuantumQiskit\\lib\\site-packages\\qiskit_ibm_runtime\\fake_provider\\local_service.py:268: UserWarning: Options {'dynamical_decoupling': {'enable': True, 'sequence_type': 'XY4'}, 'twirling': {'enable_gates': True, 'num_randomizations': 'auto'}} have no effect in local testing mode.\n",
      "  warnings.warn(f\"Options {options_copy} have no effect in local testing mode.\")\n",
      "c:\\Users\\arthu\\miniconda3\\envs\\QuantumQiskit\\lib\\site-packages\\qiskit_ibm_runtime\\fake_provider\\local_service.py:268: UserWarning: Options {'dynamical_decoupling': {'enable': True, 'sequence_type': 'XY4'}, 'twirling': {'enable_gates': True, 'num_randomizations': 'auto'}} have no effect in local testing mode.\n",
      "  warnings.warn(f\"Options {options_copy} have no effect in local testing mode.\")\n",
      "c:\\Users\\arthu\\miniconda3\\envs\\QuantumQiskit\\lib\\site-packages\\qiskit_ibm_runtime\\fake_provider\\local_service.py:268: UserWarning: Options {'dynamical_decoupling': {'enable': True, 'sequence_type': 'XY4'}, 'twirling': {'enable_gates': True, 'num_randomizations': 'auto'}} have no effect in local testing mode.\n",
      "  warnings.warn(f\"Options {options_copy} have no effect in local testing mode.\")\n"
     ]
    },
    {
     "name": "stdout",
     "output_type": "stream",
     "text": [
      " message: Optimization terminated successfully.\n",
      " success: True\n",
      "  status: 1\n",
      "     fun: 247.7742\n",
      "       x: [ 2.374e+00  9.002e-01  1.799e+00  3.186e+00]\n",
      "    nfev: 35\n",
      "   maxcv: 0.0\n"
     ]
    },
    {
     "name": "stderr",
     "output_type": "stream",
     "text": [
      "c:\\Users\\arthu\\miniconda3\\envs\\QuantumQiskit\\lib\\site-packages\\qiskit_ibm_runtime\\fake_provider\\local_service.py:268: UserWarning: Options {'dynamical_decoupling': {'enable': True, 'sequence_type': 'XY4'}, 'twirling': {'enable_gates': True, 'num_randomizations': 'auto'}} have no effect in local testing mode.\n",
      "  warnings.warn(f\"Options {options_copy} have no effect in local testing mode.\")\n",
      "c:\\Users\\arthu\\miniconda3\\envs\\QuantumQiskit\\lib\\site-packages\\qiskit_ibm_runtime\\fake_provider\\local_service.py:268: UserWarning: Options {'dynamical_decoupling': {'enable': True, 'sequence_type': 'XY4'}, 'twirling': {'enable_gates': True, 'num_randomizations': 'auto'}} have no effect in local testing mode.\n",
      "  warnings.warn(f\"Options {options_copy} have no effect in local testing mode.\")\n"
     ]
    }
   ],
   "source": [
    "objective_func_vals = [] # Global variable\n",
    "with Session(backend=backend) as session:\n",
    "    # If using qiskit-ibm-runtime<0.24.0, change `mode=` to `session=`\n",
    "    estimator = Estimator(mode=session)\n",
    "    estimator.options.default_shots = 10000\n",
    "\n",
    "    # Set simple error suppression/mitigation options, this is for when on quantum hardware\n",
    "    estimator.options.dynamical_decoupling.enable = True\n",
    "    estimator.options.dynamical_decoupling.sequence_type = \"XY4\"\n",
    "    estimator.options.twirling.enable_gates = True\n",
    "    estimator.options.twirling.num_randomizations = \"auto\"\n",
    "\n",
    "    result = minimize(\n",
    "        cost_func_estimator,\n",
    "        init_params,\n",
    "        args=(candidate_circuit, qubitOp, estimator),\n",
    "        method=\"COBYLA\",\n",
    "        tol=1e-3,\n",
    "    )\n",
    "    print(result)"
   ]
  },
  {
   "cell_type": "code",
   "execution_count": 115,
   "metadata": {},
   "outputs": [],
   "source": [
    "plt.figure(figsize=(12, 6))\n",
    "plt.plot(objective_func_vals)\n",
    "plt.xlabel(\"Iteration\")\n",
    "plt.ylabel(\"Cost\")\n",
    "plt.show()"
   ]
  },
  {
   "cell_type": "code",
   "execution_count": 116,
   "metadata": {},
   "outputs": [],
   "source": [
    "optimized_circuit = candidate_circuit.assign_parameters(result.x)"
   ]
  },
  {
   "cell_type": "code",
   "execution_count": 117,
   "metadata": {},
   "outputs": [
    {
     "name": "stdout",
     "output_type": "stream",
     "text": [
      "{129: 0.0043, 987: 0.001, 41: 0.005, 608: 0.0013, 135: 0.0024, 56: 0.0073, 842: 0.0012, 530: 0.0007, 566: 0.0003, 228: 0.0017, 110: 0.0011, 451: 0.0024, 830: 0.0005, 105: 0.0005, 50: 0.0039, 646: 0.0004, 44: 0.0054, 1: 0.0068, 779: 0.0006, 181: 0.0012, 551: 0.0028, 35: 0.0058, 385: 0.0001, 819: 0.0047, 307: 0.0029, 588: 0.0005, 409: 0.0003, 140: 0.0007, 667: 0.0012, 165: 0.0021, 661: 0.0004, 512: 0.0005, 781: 0.002, 558: 0.0022, 724: 0.0004, 276: 0.0044, 317: 0.001, 257: 0.0012, 396: 0.0004, 63: 0.0029, 9: 0.0017, 600: 0.0017, 971: 0.0023, 537: 0.0021, 614: 0.0013, 206: 0.0004, 893: 0.0013, 131: 0.0074, 2: 0.0074, 119: 0.0022, 942: 0.0037, 798: 0.0014, 29: 0.0072, 926: 0.0005, 45: 0.0021, 435: 0.0023, 789: 0.0013, 998: 0.0025, 222: 0.0031, 691: 0.0025, 365: 0.0009, 197: 0.0084, 953: 0.0013, 985: 0.0022, 816: 0.0029, 479: 0.0016, 254: 0.0014, 483: 0.0013, 18: 0.0049, 418: 0.0013, 10: 0.0023, 994: 0.0015, 604: 0.0011, 227: 0.0006, 1005: 0.0023, 356: 0.0003, 536: 0.0012, 807: 0.0036, 164: 0.0005, 30: 0.002, 955: 0.0016, 982: 0.0046, 210: 0.0012, 226: 0.0031, 803: 0.0054, 523: 0.0019, 763: 0.0016, 885: 0.0021, 573: 0.0021, 28: 0.0041, 820: 0.0005, 664: 0.0015, 169: 0.0006, 54: 0.0049, 700: 0.0008, 545: 0.0033, 251: 0.0041, 544: 0.0009, 797: 0.0058, 731: 0.0012, 618: 0.0001, 925: 0.001, 477: 0.0016, 814: 0.0017, 61: 0.0043, 625: 0.0005, 74: 0.0005, 372: 0.0005, 81: 0.0031, 822: 0.0007, 692: 0.001, 6: 0.0023, 122: 0.0016, 516: 0.0051, 141: 0.0019, 224: 0.002, 253: 0.0008, 778: 0.0017, 548: 0.0002, 67: 0.0063, 19: 0.0024, 956: 0.0007, 59: 0.0005, 22: 0.0022, 513: 0.0007, 194: 0.0055, 182: 0.0006, 480: 0.0016, 680: 0.0005, 174: 0.0012, 77: 0.0017, 274: 0.0007, 1021: 0.0004, 594: 0.0006, 60: 0.0038, 299: 0.0032, 305: 0.0022, 120: 0.0029, 7: 0.0007, 828: 0.0046, 510: 0.0007, 574: 0.0013, 714: 0.001, 989: 0.0015, 889: 0.0014, 1003: 0.0006, 214: 0.0021, 208: 0.0014, 431: 0.0014, 160: 0.0022, 934: 0.001, 497: 0.0019, 517: 0.0003, 783: 0.0017, 768: 0.002, 635: 0.0024, 457: 0.0004, 990: 0.001, 351: 0.0011, 298: 0.0036, 291: 0.0025, 405: 0.0007, 438: 0.0002, 848: 0.0004, 217: 0.0001, 166: 0.0014, 13: 0.0035, 425: 0.0007, 53: 0.0023, 285: 0.0021, 532: 0.0038, 500: 0.0006, 218: 0.0046, 48: 0.0018, 547: 0.0026, 840: 0.0024, 281: 0.002, 36: 0.0026, 37: 0.0036, 812: 0.0005, 186: 0.002, 85: 0.0013, 456: 0.001, 73: 0.0006, 793: 0.0008, 801: 0.0063, 71: 0.0017, 151: 0.0001, 620: 0.0009, 865: 0.0009, 152: 0.002, 379: 0.0019, 16: 0.0052, 478: 0.001, 43: 0.0061, 563: 0.0028, 195: 0.0013, 69: 0.0026, 518: 0.0007, 799: 0.001, 133: 0.0032, 612: 0.0002, 534: 0.0008, 519: 0.0008, 849: 0.0031, 846: 0.0006, 367: 0.0009, 66: 0.0027, 791: 0.0018, 136: 0.0008, 1014: 0.0004, 764: 0.0004, 802: 0.0015, 26: 0.002, 190: 0.0013, 280: 0.0011, 149: 0.0015, 837: 0.001, 211: 0.0017, 289: 0.0031, 949: 0.0022, 458: 0.0007, 565: 0.0013, 999: 0.0018, 915: 0.0007, 539: 0.0018, 874: 0.0004, 3: 0.0008, 823: 0.0011, 740: 0.0002, 344: 0.0015, 412: 0.0008, 168: 0.0013, 284: 0.0026, 221: 0.0011, 42: 0.0038, 662: 0.0003, 162: 0.0008, 678: 0.0012, 878: 0.0036, 892: 0.0009, 947: 0.0031, 636: 0.0007, 269: 0.0008, 92: 0.0015, 102: 0.0009, 1020: 0.0018, 127: 0.001, 910: 0.0012, 882: 0.0019, 883: 0.003, 32: 0.0009, 541: 0.0023, 288: 0.002, 492: 0.0003, 899: 0.0012, 225: 0.0008, 39: 0.0031, 921: 0.0004, 937: 0.0016, 55: 0.0008, 826: 0.0007, 827: 0.0015, 576: 0.0006, 273: 0.0017, 443: 0.0027, 735: 0.0024, 808: 0.0016, 428: 0.0007, 673: 0.0008, 962: 0.0008, 205: 0.0017, 997: 0.0007, 308: 0.0003, 391: 0.0002, 117: 0.002, 867: 0.0017, 736: 0.0019, 976: 0.002, 699: 0.0014, 329: 0.0001, 163: 0.0025, 716: 0.0012, 891: 0.0016, 65: 0.0038, 426: 0.0002, 157: 0.0009, 235: 0.0011, 260: 0.0028, 320: 0.0009, 283: 0.0011, 259: 0.0029, 34: 0.0011, 907: 0.0006, 525: 0.0011, 499: 0.0005, 158: 0.0001, 196: 0.0012, 540: 0.0022, 21: 0.0019, 744: 0.0005, 917: 0.0017, 24: 0.0027, 191: 0.0008, 380: 0.0008, 810: 0.0023, 913: 0.002, 250: 0.0006, 52: 0.0006, 232: 0.0007, 658: 0.0004, 171: 0.0003, 531: 0.0025, 91: 0.0023, 155: 0.0021, 51: 0.0035, 130: 0.001, 868: 0.0007, 723: 0.0003, 447: 0.0002, 746: 0.0009, 975: 0.0016, 369: 0.001, 629: 0.0001, 4: 0.0094, 904: 0.0024, 970: 0.0007, 475: 0.0008, 1011: 0.0022, 983: 0.0012, 17: 0.0012, 38: 0.0017, 722: 0.0005, 788: 0.0042, 183: 0.0011, 209: 0.001, 972: 0.0015, 800: 0.0006, 707: 0.002, 769: 0.0017, 974: 0.0027, 147: 0.0013, 277: 0.0011, 316: 0.0003, 577: 0.0007, 946: 0.0009, 118: 0.0005, 682: 0.0001, 854: 0.0003, 1019: 0.0027, 924: 0.001, 302: 0.0021, 295: 0.0024, 272: 0.0011, 107: 0.0006, 132: 0.0014, 973: 0.0009, 777: 0.0012, 992: 0.0005, 1006: 0.0009, 275: 0.0032, 161: 0.0013, 203: 0.0026, 121: 0.0009, 550: 0.0028, 957: 0.0007, 103: 0.0019, 62: 0.0012, 852: 0.0002, 88: 0.0019, 58: 0.0012, 482: 0.0013, 640: 0.0007, 717: 0.0011, 657: 0.0001, 96: 0.0032, 172: 0.0017, 137: 0.0005, 309: 0.0018, 817: 0.003, 617: 0.0007, 761: 0.0006, 498: 0.0014, 319: 0.0003, 89: 0.0009, 467: 0.0004, 239: 0.0009, 406: 0.0006, 734: 0.0012, 515: 0.0034, 621: 0.0005, 229: 0.001, 390: 0.0002, 1001: 0.0008, 293: 0.0012, 187: 0.002, 348: 0.0012, 201: 0.0016, 511: 0.0008, 242: 0.0002, 528: 0.0012, 184: 0.0014, 202: 0.0004, 463: 0.0006, 237: 0.0012, 402: 0.0007, 360: 0.0007, 180: 0.0003, 674: 0.0005, 944: 0.0003, 193: 0.002, 176: 0.0025, 643: 0.0013, 623: 0.0009, 787: 0.0003, 687: 0.0008, 980: 0.0013, 471: 0.0007, 263: 0.0007, 80: 0.0003, 46: 0.0014, 245: 0.0027, 582: 0.0003, 15: 0.0016, 863: 0.0004, 358: 0.0016, 95: 0.0008, 487: 0.0012, 470: 0.0008, 415: 0.0012, 123: 0.0023, 571: 0.001, 8: 0.0015, 145: 0.0025, 156: 0.0016, 887: 0.0013, 871: 0.0008, 255: 0.0002, 422: 0.001, 297: 0.0016, 343: 0.0002, 354: 0.0011, 0: 0.0013, 559: 0.0008, 960: 0.0003, 762: 0.0003, 429: 0.0004, 76: 0.0005, 5: 0.0017, 782: 0.0006, 167: 0.0012, 676: 0.0005, 555: 0.0028, 652: 0.0007, 570: 0.0003, 278: 0.0011, 825: 0.0015, 323: 0.0007, 775: 0.0007, 945: 0.0006, 711: 0.0002, 400: 0.0002, 185: 0.0012, 906: 0.0008, 866: 0.0013, 389: 0.0002, 554: 0.0034, 318: 0.0008, 424: 0.0011, 991: 0.0032, 353: 0.0004, 772: 0.0003, 923: 0.0001, 965: 0.001, 589: 0.0005, 262: 0.0007, 111: 0.0022, 294: 0.0017, 841: 0.0001, 243: 0.0036, 192: 0.0004, 57: 0.0008, 905: 0.0002, 599: 0.0001, 603: 0.0012, 633: 0.001, 835: 0.0011, 376: 0.0007, 101: 0.0013, 198: 0.0001, 645: 0.0005, 112: 0.0017, 12: 0.0002, 939: 0.0008, 795: 0.0013, 884: 0.0003, 244: 0.0005, 462: 0.0002, 583: 0.0004, 862: 0.0007, 128: 0.0007, 1010: 0.0011, 697: 0.0012, 1007: 0.0004, 327: 0.0006, 231: 0.0007, 339: 0.0004, 370: 0.0008, 97: 0.0014, 408: 0.0019, 943: 0.0007, 433: 0.0013, 622: 0.0005, 175: 0.0018, 270: 0.0006, 321: 0.0004, 805: 0.0033, 267: 0.0019, 575: 0.0008, 14: 0.0012, 444: 0.0003, 712: 0.0011, 776: 0.0008, 715: 0.0014, 602: 0.0001, 877: 0.0004, 154: 0.001, 748: 0.0004, 627: 0.0017, 747: 0.0005, 345: 0.0007, 824: 0.0011, 83: 0.0012, 684: 0.0008, 90: 0.0004, 1008: 0.0004, 527: 0.0001, 1022: 0.0008, 104: 0.0023, 739: 0.0018, 466: 0.0005, 315: 0.001, 234: 0.0009, 609: 0.0004, 901: 0.0011, 753: 0.0019, 930: 0.0007, 821: 0.0014, 146: 0.0004, 355: 0.0002, 993: 0.0001, 371: 0.0023, 388: 0.0002, 411: 0.0008, 984: 0.0011, 98: 0.0009, 521: 0.0003, 671: 0.0013, 909: 0.0002, 977: 0.0007, 108: 0.001, 938: 0.0006, 839: 0.0001, 377: 0.0014, 690: 0.001, 266: 0.0005, 460: 0.0008, 1023: 0.0002, 713: 0.0008, 543: 0.0004, 417: 0.0004, 720: 0.0005, 271: 0.0004, 124: 0.0001, 304: 0.001, 33: 0.0007, 364: 0.0004, 705: 0.0009, 488: 0.0009, 20: 0.0028, 931: 0.0023, 419: 0.0006, 126: 0.0017, 561: 0.0007, 872: 0.0003, 189: 0.0003, 912: 0.0003, 505: 0.0005, 213: 0.0002, 708: 0.0002, 472: 0.0003, 626: 0.0009, 68: 0.0012, 685: 0.0009, 951: 0.0014, 529: 0.0014, 853: 0.0012, 49: 0.0002, 337: 0.0004, 139: 0.0002, 84: 0.0003, 663: 0.0003, 290: 0.0003, 689: 0.0008, 631: 0.0012, 968: 0.0013, 754: 0.0016, 461: 0.0016, 384: 0.0001, 756: 0.0009, 792: 0.0002, 489: 0.0012, 310: 0.001, 927: 0.0006, 790: 0.0003, 670: 0.0003, 490: 0.0005, 765: 0.0005, 246: 0.0004, 861: 0.0007, 806: 0.0007, 786: 0.0007, 25: 0.0004, 75: 0.0002, 745: 0.0008, 99: 0.0022, 936: 0.0005, 873: 0.0008, 549: 0.0015, 474: 0.0004, 138: 0.0009, 784: 0.001, 567: 0.001, 832: 0.0004, 387: 0.0002, 595: 0.0005, 726: 0.0008, 350: 0.0004, 918: 0.0002, 524: 0.0003, 639: 0.0002, 647: 0.0001, 683: 0.0003, 860: 0.0005, 728: 0.0009, 780: 0.0021, 895: 0.0001, 292: 0.0003, 888: 0.0001, 449: 0.0004, 212: 0.0014, 785: 0.0007, 508: 0.0003, 596: 0.0001, 616: 0.001, 940: 0.0001, 223: 0.0002, 47: 0.0002, 847: 0.0002, 935: 0.0003, 473: 0.0005, 414: 0.0004, 649: 0.0004, 809: 0.0003, 579: 0.0012, 896: 0.0003, 794: 0.0007, 79: 0.0006, 1009: 0.0004, 560: 0.0006, 526: 0.0004, 843: 0.0008, 520: 0.0006, 1012: 0.0005, 750: 0.0003, 929: 0.0007, 436: 0.0002, 870: 0.0007, 581: 0.0003, 1017: 0.0002, 553: 0.0009, 845: 0.0003, 928: 0.0004, 642: 0.0001, 93: 0.0003, 459: 0.0015, 586: 0.0007, 578: 0.0001, 11: 0.0002, 610: 0.0009, 733: 0.0006, 533: 0.0006, 507: 0.0006, 220: 0.0003, 709: 0.0006, 481: 0.0004, 303: 0.001, 1013: 0.0009, 628: 0.0005, 838: 0.0003, 695: 0.0004, 757: 0.0001, 677: 0.0005, 686: 0.0003, 1004: 0.0005, 978: 0.0008, 359: 0.0003, 659: 0.0002, 287: 0.0004, 361: 0.0005, 324: 0.0003, 738: 0.0005, 116: 0.0004, 759: 0.0002, 264: 0.0007, 641: 0.0005, 770: 0.0004, 996: 0.0012, 941: 0.0005, 580: 0.0002, 179: 0.0003, 464: 0.0007, 441: 0.0012, 72: 0.0008, 719: 0.0005, 833: 0.0002, 911: 0.0005, 326: 0.0004, 897: 0.0001, 598: 0.0003, 363: 0.0001, 967: 0.0001, 1000: 0.0004, 503: 0.0002, 199: 0.0005, 258: 0.0003, 216: 0.0006, 399: 0.0001, 265: 0.0002, 587: 0.0002, 347: 0.0005, 282: 0.0004, 737: 0.0002, 876: 0.0002, 256: 0.0005, 325: 0.0002, 241: 0.0014, 238: 0.0002, 727: 0.0004, 404: 0.0003, 114: 0.001, 407: 0.0003, 204: 0.0001, 850: 0.0001, 468: 0.0002, 607: 0.0009, 752: 0.0004, 346: 0.0002, 933: 0.0003, 268: 0.0002, 219: 0.0004, 569: 0.0003, 64: 0.0007, 879: 0.001, 125: 0.0005, 252: 0.0003, 834: 0.001, 755: 0.0005, 450: 0.0001, 439: 0.0005, 143: 0.0002, 332: 0.0004, 672: 0.0006, 150: 0.0002, 434: 0.0007, 381: 0.0001, 341: 0.0004, 894: 0.0005, 730: 0.0003, 375: 0.0005, 486: 0.001, 410: 0.0001, 178: 0.0007, 668: 0.0002, 416: 0.0007, 655: 0.0001, 688: 0.0003, 514: 0.0002, 153: 0.0009, 613: 0.0001, 880: 0.0003, 374: 0.0001, 465: 0.0003, 430: 0.0006, 100: 0.0004, 1018: 0.0006, 440: 0.0003, 394: 0.0006, 919: 0.0004, 493: 0.0001, 170: 0.0002, 742: 0.0003, 665: 0.0005, 134: 0.0006, 442: 0.0002, 751: 0.0001, 979: 0.0002, 342: 0.0001, 743: 0.0005, 386: 0.0002, 240: 0.001, 362: 0.0002, 82: 0.0002, 932: 0.0002, 948: 0.0003, 813: 0.0005, 729: 0.0003, 148: 0.0003, 437: 0.0001, 916: 0.0002, 236: 0.0002, 86: 0.0003, 94: 0.0004, 40: 0.0001, 902: 0.0002, 23: 0.0004, 986: 0.0002, 624: 0.0004, 900: 0.0001, 328: 0.0001, 958: 0.0002, 857: 0.0001, 681: 0.0006, 568: 0.0002, 401: 0.0001, 230: 0.0001, 453: 0.0003, 654: 0.0001, 966: 0.0003, 597: 0.0002, 773: 0.0008, 908: 0.0001, 142: 0.0001, 352: 0.0003, 959: 0.0001, 31: 0.0002, 660: 0.0002, 338: 0.0002, 188: 0.0004, 619: 0.0001, 496: 0.0001, 491: 0.0003, 749: 0.0001, 311: 0.0006, 881: 0.0004, 556: 0.0001, 767: 0.0005, 373: 0.0003, 864: 0.0001, 552: 0.0001, 648: 0.0001, 393: 0.0002, 330: 0.0001, 710: 0.0002, 366: 0.0002, 301: 0.0001, 113: 0.0001, 538: 0.0003, 546: 0.0006, 601: 0.0001, 693: 0.0002, 766: 0.0001, 557: 0.0001, 963: 0.0002, 109: 0.0001, 679: 0.0003, 811: 0.0005, 452: 0.0001, 572: 0.0001, 340: 0.0001, 27: 0.0002, 898: 0.0001, 592: 0.0001, 969: 0.0002, 397: 0.0001, 159: 0.0002, 455: 0.0001, 445: 0.0001, 392: 0.0001, 261: 0.0001, 87: 0.0001, 469: 0.0002, 314: 0.0002, 506: 0.0004, 914: 0.0001, 427: 0.0002, 446: 0.0001, 886: 0.0001, 368: 0.0001, 760: 0.0001, 630: 0.0002, 593: 0.0002, 106: 0.0001, 644: 0.0002, 382: 0.0001, 420: 0.0001, 650: 0.0002, 694: 0.0001, 423: 0.0001, 869: 0.0002, 585: 0.0001, 502: 0.0001, 855: 0.0001, 632: 0.0001, 522: 0.0004, 725: 0.0001, 334: 0.0001, 144: 0.0001, 509: 0.0002, 584: 0.0001, 398: 0.0003, 696: 0.0002, 432: 0.0001, 950: 0.0001, 875: 0.0001, 675: 0.0001, 988: 0.0001, 995: 0.0001, 383: 0.0001, 858: 0.0001, 421: 0.0001, 357: 0.0001, 651: 0.0001, 296: 0.0001}\n",
      "{'0010000001': 0.0043, '1111011011': 0.001, '0000101001': 0.005, '1001100000': 0.0013, '0010000111': 0.0024, '0000111000': 0.0073, '1101001010': 0.0012, '1000010010': 0.0007, '1000110110': 0.0003, '0011100100': 0.0017, '0001101110': 0.0011, '0111000011': 0.0024, '1100111110': 0.0005, '0001101001': 0.0005, '0000110010': 0.0039, '1010000110': 0.0004, '0000101100': 0.0054, '0000000001': 0.0068, '1100001011': 0.0006, '0010110101': 0.0012, '1000100111': 0.0028, '0000100011': 0.0058, '0110000001': 0.0001, '1100110011': 0.0047, '0100110011': 0.0029, '1001001100': 0.0005, '0110011001': 0.0003, '0010001100': 0.0007, '1010011011': 0.0012, '0010100101': 0.0021, '1010010101': 0.0004, '1000000000': 0.0005, '1100001101': 0.002, '1000101110': 0.0022, '1011010100': 0.0004, '0100010100': 0.0044, '0100111101': 0.001, '0100000001': 0.0012, '0110001100': 0.0004, '0000111111': 0.0029, '0000001001': 0.0017, '1001011000': 0.0017, '1111001011': 0.0023, '1000011001': 0.0021, '1001100110': 0.0013, '0011001110': 0.0004, '1101111101': 0.0013, '0010000011': 0.0074, '0000000010': 0.0074, '0001110111': 0.0022, '1110101110': 0.0037, '1100011110': 0.0014, '0000011101': 0.0072, '1110011110': 0.0005, '0000101101': 0.0021, '0110110011': 0.0023, '1100010101': 0.0013, '1111100110': 0.0025, '0011011110': 0.0031, '1010110011': 0.0025, '0101101101': 0.0009, '0011000101': 0.0084, '1110111001': 0.0013, '1111011001': 0.0022, '1100110000': 0.0029, '0111011111': 0.0016, '0011111110': 0.0014, '0111100011': 0.0013, '0000010010': 0.0049, '0110100010': 0.0013, '0000001010': 0.0023, '1111100010': 0.0015, '1001011100': 0.0011, '0011100011': 0.0006, '1111101101': 0.0023, '0101100100': 0.0003, '1000011000': 0.0012, '1100100111': 0.0036, '0010100100': 0.0005, '0000011110': 0.002, '1110111011': 0.0016, '1111010110': 0.0046, '0011010010': 0.0012, '0011100010': 0.0031, '1100100011': 0.0054, '1000001011': 0.0019, '1011111011': 0.0016, '1101110101': 0.0021, '1000111101': 0.0021, '0000011100': 0.0041, '1100110100': 0.0005, '1010011000': 0.0015, '0010101001': 0.0006, '0000110110': 0.0049, '1010111100': 0.0008, '1000100001': 0.0033, '0011111011': 0.0041, '1000100000': 0.0009, '1100011101': 0.0058, '1011011011': 0.0012, '1001101010': 0.0001, '1110011101': 0.001, '0111011101': 0.0016, '1100101110': 0.0017, '0000111101': 0.0043, '1001110001': 0.0005, '0001001010': 0.0005, '0101110100': 0.0005, '0001010001': 0.0031, '1100110110': 0.0007, '1010110100': 0.001, '0000000110': 0.0023, '0001111010': 0.0016, '1000000100': 0.0051, '0010001101': 0.0019, '0011100000': 0.002, '0011111101': 0.0008, '1100001010': 0.0017, '1000100100': 0.0002, '0001000011': 0.0063, '0000010011': 0.0024, '1110111100': 0.0007, '0000111011': 0.0005, '0000010110': 0.0022, '1000000001': 0.0007, '0011000010': 0.0055, '0010110110': 0.0006, '0111100000': 0.0016, '1010101000': 0.0005, '0010101110': 0.0012, '0001001101': 0.0017, '0100010010': 0.0007, '1111111101': 0.0004, '1001010010': 0.0006, '0000111100': 0.0038, '0100101011': 0.0032, '0100110001': 0.0022, '0001111000': 0.0029, '0000000111': 0.0007, '1100111100': 0.0046, '0111111110': 0.0007, '1000111110': 0.0013, '1011001010': 0.001, '1111011101': 0.0015, '1101111001': 0.0014, '1111101011': 0.0006, '0011010110': 0.0021, '0011010000': 0.0014, '0110101111': 0.0014, '0010100000': 0.0022, '1110100110': 0.001, '0111110001': 0.0019, '1000000101': 0.0003, '1100001111': 0.0017, '1100000000': 0.002, '1001111011': 0.0024, '0111001001': 0.0004, '1111011110': 0.001, '0101011111': 0.0011, '0100101010': 0.0036, '0100100011': 0.0025, '0110010101': 0.0007, '0110110110': 0.0002, '1101010000': 0.0004, '0011011001': 0.0001, '0010100110': 0.0014, '0000001101': 0.0035, '0110101001': 0.0007, '0000110101': 0.0023, '0100011101': 0.0021, '1000010100': 0.0038, '0111110100': 0.0006, '0011011010': 0.0046, '0000110000': 0.0018, '1000100011': 0.0026, '1101001000': 0.0024, '0100011001': 0.002, '0000100100': 0.0026, '0000100101': 0.0036, '1100101100': 0.0005, '0010111010': 0.002, '0001010101': 0.0013, '0111001000': 0.001, '0001001001': 0.0006, '1100011001': 0.0008, '1100100001': 0.0063, '0001000111': 0.0017, '0010010111': 0.0001, '1001101100': 0.0009, '1101100001': 0.0009, '0010011000': 0.002, '0101111011': 0.0019, '0000010000': 0.0052, '0111011110': 0.001, '0000101011': 0.0061, '1000110011': 0.0028, '0011000011': 0.0013, '0001000101': 0.0026, '1000000110': 0.0007, '1100011111': 0.001, '0010000101': 0.0032, '1001100100': 0.0002, '1000010110': 0.0008, '1000000111': 0.0008, '1101010001': 0.0031, '1101001110': 0.0006, '0101101111': 0.0009, '0001000010': 0.0027, '1100010111': 0.0018, '0010001000': 0.0008, '1111110110': 0.0004, '1011111100': 0.0004, '1100100010': 0.0015, '0000011010': 0.002, '0010111110': 0.0013, '0100011000': 0.0011, '0010010101': 0.0015, '1101000101': 0.001, '0011010011': 0.0017, '0100100001': 0.0031, '1110110101': 0.0022, '0111001010': 0.0007, '1000110101': 0.0013, '1111100111': 0.0018, '1110010011': 0.0007, '1000011011': 0.0018, '1101101010': 0.0004, '0000000011': 0.0008, '1100110111': 0.0011, '1011100100': 0.0002, '0101011000': 0.0015, '0110011100': 0.0008, '0010101000': 0.0013, '0100011100': 0.0026, '0011011101': 0.0011, '0000101010': 0.0038, '1010010110': 0.0003, '0010100010': 0.0008, '1010100110': 0.0012, '1101101110': 0.0036, '1101111100': 0.0009, '1110110011': 0.0031, '1001111100': 0.0007, '0100001101': 0.0008, '0001011100': 0.0015, '0001100110': 0.0009, '1111111100': 0.0018, '0001111111': 0.001, '1110001110': 0.0012, '1101110010': 0.0019, '1101110011': 0.003, '0000100000': 0.0009, '1000011101': 0.0023, '0100100000': 0.002, '0111101100': 0.0003, '1110000011': 0.0012, '0011100001': 0.0008, '0000100111': 0.0031, '1110011001': 0.0004, '1110101001': 0.0016, '0000110111': 0.0008, '1100111010': 0.0007, '1100111011': 0.0015, '1001000000': 0.0006, '0100010001': 0.0017, '0110111011': 0.0027, '1011011111': 0.0024, '1100101000': 0.0016, '0110101100': 0.0007, '1010100001': 0.0008, '1111000010': 0.0008, '0011001101': 0.0017, '1111100101': 0.0007, '0100110100': 0.0003, '0110000111': 0.0002, '0001110101': 0.002, '1101100011': 0.0017, '1011100000': 0.0019, '1111010000': 0.002, '1010111011': 0.0014, '0101001001': 0.0001, '0010100011': 0.0025, '1011001100': 0.0012, '1101111011': 0.0016, '0001000001': 0.0038, '0110101010': 0.0002, '0010011101': 0.0009, '0011101011': 0.0011, '0100000100': 0.0028, '0101000000': 0.0009, '0100011011': 0.0011, '0100000011': 0.0029, '0000100010': 0.0011, '1110001011': 0.0006, '1000001101': 0.0011, '0111110011': 0.0005, '0010011110': 0.0001, '0011000100': 0.0012, '1000011100': 0.0022, '0000010101': 0.0019, '1011101000': 0.0005, '1110010101': 0.0017, '0000011000': 0.0027, '0010111111': 0.0008, '0101111100': 0.0008, '1100101010': 0.0023, '1110010001': 0.002, '0011111010': 0.0006, '0000110100': 0.0006, '0011101000': 0.0007, '1010010010': 0.0004, '0010101011': 0.0003, '1000010011': 0.0025, '0001011011': 0.0023, '0010011011': 0.0021, '0000110011': 0.0035, '0010000010': 0.001, '1101100100': 0.0007, '1011010011': 0.0003, '0110111111': 0.0002, '1011101010': 0.0009, '1111001111': 0.0016, '0101110001': 0.001, '1001110101': 0.0001, '0000000100': 0.0094, '1110001000': 0.0024, '1111001010': 0.0007, '0111011011': 0.0008, '1111110011': 0.0022, '1111010111': 0.0012, '0000010001': 0.0012, '0000100110': 0.0017, '1011010010': 0.0005, '1100010100': 0.0042, '0010110111': 0.0011, '0011010001': 0.001, '1111001100': 0.0015, '1100100000': 0.0006, '1011000011': 0.002, '1100000001': 0.0017, '1111001110': 0.0027, '0010010011': 0.0013, '0100010101': 0.0011, '0100111100': 0.0003, '1001000001': 0.0007, '1110110010': 0.0009, '0001110110': 0.0005, '1010101010': 0.0001, '1101010110': 0.0003, '1111111011': 0.0027, '1110011100': 0.001, '0100101110': 0.0021, '0100100111': 0.0024, '0100010000': 0.0011, '0001101011': 0.0006, '0010000100': 0.0014, '1111001101': 0.0009, '1100001001': 0.0012, '1111100000': 0.0005, '1111101110': 0.0009, '0100010011': 0.0032, '0010100001': 0.0013, '0011001011': 0.0026, '0001111001': 0.0009, '1000100110': 0.0028, '1110111101': 0.0007, '0001100111': 0.0019, '0000111110': 0.0012, '1101010100': 0.0002, '0001011000': 0.0019, '0000111010': 0.0012, '0111100010': 0.0013, '1010000000': 0.0007, '1011001101': 0.0011, '1010010001': 0.0001, '0001100000': 0.0032, '0010101100': 0.0017, '0010001001': 0.0005, '0100110101': 0.0018, '1100110001': 0.003, '1001101001': 0.0007, '1011111001': 0.0006, '0111110010': 0.0014, '0100111111': 0.0003, '0001011001': 0.0009, '0111010011': 0.0004, '0011101111': 0.0009, '0110010110': 0.0006, '1011011110': 0.0012, '1000000011': 0.0034, '1001101101': 0.0005, '0011100101': 0.001, '0110000110': 0.0002, '1111101001': 0.0008, '0100100101': 0.0012, '0010111011': 0.002, '0101011100': 0.0012, '0011001001': 0.0016, '0111111111': 0.0008, '0011110010': 0.0002, '1000010000': 0.0012, '0010111000': 0.0014, '0011001010': 0.0004, '0111001111': 0.0006, '0011101101': 0.0012, '0110010010': 0.0007, '0101101000': 0.0007, '0010110100': 0.0003, '1010100010': 0.0005, '1110110000': 0.0003, '0011000001': 0.002, '0010110000': 0.0025, '1010000011': 0.0013, '1001101111': 0.0009, '1100010011': 0.0003, '1010101111': 0.0008, '1111010100': 0.0013, '0111010111': 0.0007, '0100000111': 0.0007, '0001010000': 0.0003, '0000101110': 0.0014, '0011110101': 0.0027, '1001000110': 0.0003, '0000001111': 0.0016, '1101011111': 0.0004, '0101100110': 0.0016, '0001011111': 0.0008, '0111100111': 0.0012, '0111010110': 0.0008, '0110011111': 0.0012, '0001111011': 0.0023, '1000111011': 0.001, '0000001000': 0.0015, '0010010001': 0.0025, '0010011100': 0.0016, '1101110111': 0.0013, '1101100111': 0.0008, '0011111111': 0.0002, '0110100110': 0.001, '0100101001': 0.0016, '0101010111': 0.0002, '0101100010': 0.0011, '0000000000': 0.0013, '1000101111': 0.0008, '1111000000': 0.0003, '1011111010': 0.0003, '0110101101': 0.0004, '0001001100': 0.0005, '0000000101': 0.0017, '1100001110': 0.0006, '0010100111': 0.0012, '1010100100': 0.0005, '1000101011': 0.0028, '1010001100': 0.0007, '1000111010': 0.0003, '0100010110': 0.0011, '1100111001': 0.0015, '0101000011': 0.0007, '1100000111': 0.0007, '1110110001': 0.0006, '1011000111': 0.0002, '0110010000': 0.0002, '0010111001': 0.0012, '1110001010': 0.0008, '1101100010': 0.0013, '0110000101': 0.0002, '1000101010': 0.0034, '0100111110': 0.0008, '0110101000': 0.0011, '1111011111': 0.0032, '0101100001': 0.0004, '1100000100': 0.0003, '1110011011': 0.0001, '1111000101': 0.001, '1001001101': 0.0005, '0100000110': 0.0007, '0001101111': 0.0022, '0100100110': 0.0017, '1101001001': 0.0001, '0011110011': 0.0036, '0011000000': 0.0004, '0000111001': 0.0008, '1110001001': 0.0002, '1001010111': 0.0001, '1001011011': 0.0012, '1001111001': 0.001, '1101000011': 0.0011, '0101111000': 0.0007, '0001100101': 0.0013, '0011000110': 0.0001, '1010000101': 0.0005, '0001110000': 0.0017, '0000001100': 0.0002, '1110101011': 0.0008, '1100011011': 0.0013, '1101110100': 0.0003, '0011110100': 0.0005, '0111001110': 0.0002, '1001000111': 0.0004, '1101011110': 0.0007, '0010000000': 0.0007, '1111110010': 0.0011, '1010111001': 0.0012, '1111101111': 0.0004, '0101000111': 0.0006, '0011100111': 0.0007, '0101010011': 0.0004, '0101110010': 0.0008, '0001100001': 0.0014, '0110011000': 0.0019, '1110101111': 0.0007, '0110110001': 0.0013, '1001101110': 0.0005, '0010101111': 0.0018, '0100001110': 0.0006, '0101000001': 0.0004, '1100100101': 0.0033, '0100001011': 0.0019, '1000111111': 0.0008, '0000001110': 0.0012, '0110111100': 0.0003, '1011001000': 0.0011, '1100001000': 0.0008, '1011001011': 0.0014, '1001011010': 0.0001, '1101101101': 0.0004, '0010011010': 0.001, '1011101100': 0.0004, '1001110011': 0.0017, '1011101011': 0.0005, '0101011001': 0.0007, '1100111000': 0.0011, '0001010011': 0.0012, '1010101100': 0.0008, '0001011010': 0.0004, '1111110000': 0.0004, '1000001111': 0.0001, '1111111110': 0.0008, '0001101000': 0.0023, '1011100011': 0.0018, '0111010010': 0.0005, '0100111011': 0.001, '0011101010': 0.0009, '1001100001': 0.0004, '1110000101': 0.0011, '1011110001': 0.0019, '1110100010': 0.0007, '1100110101': 0.0014, '0010010010': 0.0004, '0101100011': 0.0002, '1111100001': 0.0001, '0101110011': 0.0023, '0110000100': 0.0002, '0110011011': 0.0008, '1111011000': 0.0011, '0001100010': 0.0009, '1000001001': 0.0003, '1010011111': 0.0013, '1110001101': 0.0002, '1111010001': 0.0007, '0001101100': 0.001, '1110101010': 0.0006, '1101000111': 0.0001, '0101111001': 0.0014, '1010110010': 0.001, '0100001010': 0.0005, '0111001100': 0.0008, '1111111111': 0.0002, '1011001001': 0.0008, '1000011111': 0.0004, '0110100001': 0.0004, '1011010000': 0.0005, '0100001111': 0.0004, '0001111100': 0.0001, '0100110000': 0.001, '0000100001': 0.0007, '0101101100': 0.0004, '1011000001': 0.0009, '0111101000': 0.0009, '0000010100': 0.0028, '1110100011': 0.0023, '0110100011': 0.0006, '0001111110': 0.0017, '1000110001': 0.0007, '1101101000': 0.0003, '0010111101': 0.0003, '1110010000': 0.0003, '0111111001': 0.0005, '0011010101': 0.0002, '1011000100': 0.0002, '0111011000': 0.0003, '1001110010': 0.0009, '0001000100': 0.0012, '1010101101': 0.0009, '1110110111': 0.0014, '1000010001': 0.0014, '1101010101': 0.0012, '0000110001': 0.0002, '0101010001': 0.0004, '0010001011': 0.0002, '0001010100': 0.0003, '1010010111': 0.0003, '0100100010': 0.0003, '1010110001': 0.0008, '1001110111': 0.0012, '1111001000': 0.0013, '1011110010': 0.0016, '0111001101': 0.0016, '0110000000': 0.0001, '1011110100': 0.0009, '1100011000': 0.0002, '0111101001': 0.0012, '0100110110': 0.001, '1110011111': 0.0006, '1100010110': 0.0003, '1010011110': 0.0003, '0111101010': 0.0005, '1011111101': 0.0005, '0011110110': 0.0004, '1101011101': 0.0007, '1100100110': 0.0007, '1100010010': 0.0007, '0000011001': 0.0004, '0001001011': 0.0002, '1011101001': 0.0008, '0001100011': 0.0022, '1110101000': 0.0005, '1101101001': 0.0008, '1000100101': 0.0015, '0111011010': 0.0004, '0010001010': 0.0009, '1100010000': 0.001, '1000110111': 0.001, '1101000000': 0.0004, '0110000011': 0.0002, '1001010011': 0.0005, '1011010110': 0.0008, '0101011110': 0.0004, '1110010110': 0.0002, '1000001100': 0.0003, '1001111111': 0.0002, '1010000111': 0.0001, '1010101011': 0.0003, '1101011100': 0.0005, '1011011000': 0.0009, '1100001100': 0.0021, '1101111111': 0.0001, '0100100100': 0.0003, '1101111000': 0.0001, '0111000001': 0.0004, '0011010100': 0.0014, '1100010001': 0.0007, '0111111100': 0.0003, '1001010100': 0.0001, '1001101000': 0.001, '1110101100': 0.0001, '0011011111': 0.0002, '0000101111': 0.0002, '1101001111': 0.0002, '1110100111': 0.0003, '0111011001': 0.0005, '0110011110': 0.0004, '1010001001': 0.0004, '1100101001': 0.0003, '1001000011': 0.0012, '1110000000': 0.0003, '1100011010': 0.0007, '0001001111': 0.0006, '1111110001': 0.0004, '1000110000': 0.0006, '1000001110': 0.0004, '1101001011': 0.0008, '1000001000': 0.0006, '1111110100': 0.0005, '1011101110': 0.0003, '1110100001': 0.0007, '0110110100': 0.0002, '1101100110': 0.0007, '1001000101': 0.0003, '1111111001': 0.0002, '1000101001': 0.0009, '1101001101': 0.0003, '1110100000': 0.0004, '1010000010': 0.0001, '0001011101': 0.0003, '0111001011': 0.0015, '1001001010': 0.0007, '1001000010': 0.0001, '0000001011': 0.0002, '1001100010': 0.0009, '1011011101': 0.0006, '1000010101': 0.0006, '0111111011': 0.0006, '0011011100': 0.0003, '1011000101': 0.0006, '0111100001': 0.0004, '0100101111': 0.001, '1111110101': 0.0009, '1001110100': 0.0005, '1101000110': 0.0003, '1010110111': 0.0004, '1011110101': 0.0001, '1010100101': 0.0005, '1010101110': 0.0003, '1111101100': 0.0005, '1111010010': 0.0008, '0101100111': 0.0003, '1010010011': 0.0002, '0100011111': 0.0004, '0101101001': 0.0005, '0101000100': 0.0003, '1011100010': 0.0005, '0001110100': 0.0004, '1011110111': 0.0002, '0100001000': 0.0007, '1010000001': 0.0005, '1100000010': 0.0004, '1111100100': 0.0012, '1110101101': 0.0005, '1001000100': 0.0002, '0010110011': 0.0003, '0111010000': 0.0007, '0110111001': 0.0012, '0001001000': 0.0008, '1011001111': 0.0005, '1101000001': 0.0002, '1110001111': 0.0005, '0101000110': 0.0004, '1110000001': 0.0001, '1001010110': 0.0003, '0101101011': 0.0001, '1111000111': 0.0001, '1111101000': 0.0004, '0111110111': 0.0002, '0011000111': 0.0005, '0100000010': 0.0003, '0011011000': 0.0006, '0110001111': 0.0001, '0100001001': 0.0002, '1001001011': 0.0002, '0101011011': 0.0005, '0100011010': 0.0004, '1011100001': 0.0002, '1101101100': 0.0002, '0100000000': 0.0005, '0101000101': 0.0002, '0011110001': 0.0014, '0011101110': 0.0002, '1011010111': 0.0004, '0110010100': 0.0003, '0001110010': 0.001, '0110010111': 0.0003, '0011001100': 0.0001, '1101010010': 0.0001, '0111010100': 0.0002, '1001011111': 0.0009, '1011110000': 0.0004, '0101011010': 0.0002, '1110100101': 0.0003, '0100001100': 0.0002, '0011011011': 0.0004, '1000111001': 0.0003, '0001000000': 0.0007, '1101101111': 0.001, '0001111101': 0.0005, '0011111100': 0.0003, '1101000010': 0.001, '1011110011': 0.0005, '0111000010': 0.0001, '0110110111': 0.0005, '0010001111': 0.0002, '0101001100': 0.0004, '1010100000': 0.0006, '0010010110': 0.0002, '0110110010': 0.0007, '0101111101': 0.0001, '0101010101': 0.0004, '1101111110': 0.0005, '1011011010': 0.0003, '0101110111': 0.0005, '0111100110': 0.001, '0110011010': 0.0001, '0010110010': 0.0007, '1010011100': 0.0002, '0110100000': 0.0007, '1010001111': 0.0001, '1010110000': 0.0003, '1000000010': 0.0002, '0010011001': 0.0009, '1001100101': 0.0001, '1101110000': 0.0003, '0101110110': 0.0001, '0111010001': 0.0003, '0110101110': 0.0006, '0001100100': 0.0004, '1111111010': 0.0006, '0110111000': 0.0003, '0110001010': 0.0006, '1110010111': 0.0004, '0111101101': 0.0001, '0010101010': 0.0002, '1011100110': 0.0003, '1010011001': 0.0005, '0010000110': 0.0006, '0110111010': 0.0002, '1011101111': 0.0001, '1111010011': 0.0002, '0101010110': 0.0001, '1011100111': 0.0005, '0110000010': 0.0002, '0011110000': 0.001, '0101101010': 0.0002, '0001010010': 0.0002, '1110100100': 0.0002, '1110110100': 0.0003, '1100101101': 0.0005, '1011011001': 0.0003, '0010010100': 0.0003, '0110110101': 0.0001, '1110010100': 0.0002, '0011101100': 0.0002, '0001010110': 0.0003, '0001011110': 0.0004, '0000101000': 0.0001, '1110000110': 0.0002, '0000010111': 0.0004, '1111011010': 0.0002, '1001110000': 0.0004, '1110000100': 0.0001, '0101001000': 0.0001, '1110111110': 0.0002, '1101011001': 0.0001, '1010101001': 0.0006, '1000111000': 0.0002, '0110010001': 0.0001, '0011100110': 0.0001, '0111000101': 0.0003, '1010001110': 0.0001, '1111000110': 0.0003, '1001010101': 0.0002, '1100000101': 0.0008, '1110001100': 0.0001, '0010001110': 0.0001, '0101100000': 0.0003, '1110111111': 0.0001, '0000011111': 0.0002, '1010010100': 0.0002, '0101010010': 0.0002, '0010111100': 0.0004, '1001101011': 0.0001, '0111110000': 0.0001, '0111101011': 0.0003, '1011101101': 0.0001, '0100110111': 0.0006, '1101110001': 0.0004, '1000101100': 0.0001, '1011111111': 0.0005, '0101110101': 0.0003, '1101100000': 0.0001, '1000101000': 0.0001, '1010001000': 0.0001, '0110001001': 0.0002, '0101001010': 0.0001, '1011000110': 0.0002, '0101101110': 0.0002, '0100101101': 0.0001, '0001110001': 0.0001, '1000011010': 0.0003, '1000100010': 0.0006, '1001011001': 0.0001, '1010110101': 0.0002, '1011111110': 0.0001, '1000101101': 0.0001, '1111000011': 0.0002, '0001101101': 0.0001, '1010100111': 0.0003, '1100101011': 0.0005, '0111000100': 0.0001, '1000111100': 0.0001, '0101010100': 0.0001, '0000011011': 0.0002, '1110000010': 0.0001, '1001010000': 0.0001, '1111001001': 0.0002, '0110001101': 0.0001, '0010011111': 0.0002, '0111000111': 0.0001, '0110111101': 0.0001, '0110001000': 0.0001, '0100000101': 0.0001, '0001010111': 0.0001, '0111010101': 0.0002, '0100111010': 0.0002, '0111111010': 0.0004, '1110010010': 0.0001, '0110101011': 0.0002, '0110111110': 0.0001, '1101110110': 0.0001, '0101110000': 0.0001, '1011111000': 0.0001, '1001110110': 0.0002, '1001010001': 0.0002, '0001101010': 0.0001, '1010000100': 0.0002, '0101111110': 0.0001, '0110100100': 0.0001, '1010001010': 0.0002, '1010110110': 0.0001, '0110100111': 0.0001, '1101100101': 0.0002, '1001001001': 0.0001, '0111110110': 0.0001, '1101010111': 0.0001, '1001111000': 0.0001, '1000001010': 0.0004, '1011010101': 0.0001, '0101001110': 0.0001, '0010010000': 0.0001, '0111111101': 0.0002, '1001001000': 0.0001, '0110001110': 0.0003, '1010111000': 0.0002, '0110110000': 0.0001, '1110110110': 0.0001, '1101101011': 0.0001, '1010100011': 0.0001, '1111011100': 0.0001, '1111100011': 0.0001, '0101111111': 0.0001, '1101011010': 0.0001, '0110100101': 0.0001, '0101100101': 0.0001, '1010001011': 0.0001, '0100101000': 0.0001}\n"
     ]
    },
    {
     "name": "stderr",
     "output_type": "stream",
     "text": [
      "c:\\Users\\arthu\\miniconda3\\envs\\QuantumQiskit\\lib\\site-packages\\qiskit_ibm_runtime\\fake_provider\\local_service.py:268: UserWarning: Options {'dynamical_decoupling': {'enable': True, 'sequence_type': 'XY4'}, 'twirling': {'enable_gates': True, 'num_randomizations': 'auto'}} have no effect in local testing mode.\n",
      "  warnings.warn(f\"Options {options_copy} have no effect in local testing mode.\")\n"
     ]
    }
   ],
   "source": [
    "from qiskit_ibm_runtime import SamplerV2 as Sampler\n",
    "\n",
    "# If using qiskit-ibm-runtime<0.24.0, change `mode=` to `backend=`\n",
    "sampler = Sampler(mode=backend)\n",
    "sampler.options.default_shots = 10000\n",
    "\n",
    "# Set simple error suppression/mitigation options\n",
    "sampler.options.dynamical_decoupling.enable = True\n",
    "sampler.options.dynamical_decoupling.sequence_type = \"XY4\"\n",
    "sampler.options.twirling.enable_gates = True\n",
    "sampler.options.twirling.num_randomizations = \"auto\"\n",
    "\n",
    "pub= (optimized_circuit, )\n",
    "job = sampler.run([pub], shots=int(1e4))\n",
    "\n",
    "counts_int = job.result()[0].data.meas.get_int_counts()\n",
    "counts_bin = job.result()[0].data.meas.get_counts()\n",
    "shots = sum(counts_int.values())\n",
    "final_distribution_100_int = {key: val/shots for key, val in counts_int.items()}\n",
    "\n",
    "final_distribution_int = {key: val/shots for key, val in counts_int.items()}\n",
    "final_distribution_bin = {key: val/shots for key, val in counts_bin.items()}\n",
    "print(final_distribution_int)\n",
    "print(final_distribution_bin)"
   ]
  },
  {
   "cell_type": "code",
   "execution_count": null,
   "metadata": {},
   "outputs": [],
   "source": [
    "# Sort both distributions by probability in descending order\n",
    "sorted_dist_int = dict(sorted(final_distribution_int.items(), key=lambda x: x[1], reverse=True))\n",
    "sorted_dist_bin = dict(sorted(final_distribution_bin.items(), key=lambda x: x[1], reverse=True))\n",
    "\n",
    "# Print top 10 most likely outcomes\n",
    "top_bin_list = []\n",
    "for k, v in list(sorted_dist_bin.items())[:20]:\n",
    "    temp_list = list(k)\n",
    "    top_bin_list.append([int(re) for re in temp_list])\n"
   ]
  },
  {
   "cell_type": "code",
   "execution_count": 119,
   "metadata": {},
   "outputs": [
    {
     "name": "stdout",
     "output_type": "stream",
     "text": [
      "8\n"
     ]
    }
   ],
   "source": [
    "def calculate_cost_from_qubo(bitstring):\n",
    "    # Convert bitstring to a dictionary of variable assignments\n",
    "    var_assignment = {var.name: bit for var, bit in zip(qubo.variables, bitstring)}\n",
    "    \n",
    "    # Evaluate the cost function\n",
    "    cost = qubo.objective.evaluate(var_assignment)\n",
    "    \n",
    "    return cost\n",
    "\n",
    "# Example usage\n",
    "cost_l = []\n",
    "for bin in top_bin_list:\n",
    "    cost = calculate_cost_from_qubo(bin)\n",
    "    cost_l.append(cost)\n",
    "\n",
    "min_index, min_value = min(enumerate(cost_l), key=operator.itemgetter(1))\n",
    "print(min_index)\n",
    "\n",
    "most_likely_bitstring = top_bin_list[min_index]"
   ]
  },
  {
   "cell_type": "markdown",
   "metadata": {},
   "source": [
    "### Post-process"
   ]
  },
  {
   "cell_type": "code",
   "execution_count": 120,
   "metadata": {},
   "outputs": [
    {
     "name": "stdout",
     "output_type": "stream",
     "text": [
      "[1, 1, 0]\n",
      "[0, 1, 0]\n"
     ]
    }
   ],
   "source": [
    "x_value = most_likely_bitstring[0:Nc]\n",
    "y_value = most_likely_bitstring[Nc:2*Nc]\n",
    "\n",
    "print(x_value)\n",
    "print(y_value)"
   ]
  },
  {
   "cell_type": "markdown",
   "metadata": {},
   "source": [
    "### Visualization"
   ]
  },
  {
   "cell_type": "code",
   "execution_count": 121,
   "metadata": {},
   "outputs": [],
   "source": [
    "def distance(x, y, Nc):\n",
    "    velocity = 0\n",
    "    vel = [0]\n",
    "    dist = [0]\n",
    "    dist_tot= 0\n",
    "    for i in range(0, Nc):\n",
    "        velocity = velocity + delta_v*(x[i]-y[i])\n",
    "        if velocity < 0:\n",
    "            velocity = -velocity\n",
    "        vel.append(velocity)\n",
    "        dist_tot += velocity\n",
    "        dist.append(dist_tot)\n",
    "    return dist,vel"
   ]
  },
  {
   "cell_type": "code",
   "execution_count": 122,
   "metadata": {},
   "outputs": [],
   "source": [
    "time= np.arange(Nc+1)\n",
    "distn, velo = distance(x_value, y_value, Nc)"
   ]
  },
  {
   "cell_type": "code",
   "execution_count": 123,
   "metadata": {},
   "outputs": [
    {
     "name": "stderr",
     "output_type": "stream",
     "text": [
      "C:\\Users\\arthu\\AppData\\Local\\Temp\\ipykernel_2252\\2353725290.py:12: UserWarning: No artists with labels found to put in legend.  Note that artists whose label start with an underscore are ignored when legend() is called with no argument.\n",
      "  plt.legend()\n"
     ]
    }
   ],
   "source": [
    "plt.figure(figsize=(15,8))\n",
    "\n",
    "matplotlib.rcParams.update({\"font.size\": 15})\n",
    "\n",
    "plt.plot(time, velo, c='b', marker=\"o\", markersize=2, linestyle='-')#, label='label)\n",
    "\n",
    "plt.xlabel('Time')\n",
    "plt.ylabel('Velocity')\n",
    "plt.title(\"Velocity vs Time\")\n",
    "plt.grid(axis='x')\n",
    "plt.grid(axis='y')\n",
    "plt.legend()\n",
    "plt.show()"
   ]
  },
  {
   "cell_type": "code",
   "execution_count": 124,
   "metadata": {},
   "outputs": [
    {
     "name": "stderr",
     "output_type": "stream",
     "text": [
      "C:\\Users\\arthu\\AppData\\Local\\Temp\\ipykernel_2252\\1348846773.py:9: UserWarning: No artists with labels found to put in legend.  Note that artists whose label start with an underscore are ignored when legend() is called with no argument.\n",
      "  plt.legend()\n"
     ]
    }
   ],
   "source": [
    "plt.figure(figsize=(10,6))\n",
    "\n",
    "matplotlib.rcParams.update({\"font.size\": 15})\n",
    "\n",
    "plt.plot(time, distn, c='b', marker=\"o\", markersize=1, linestyle='-')#, label='label')\n",
    "plt.xlabel('Time')\n",
    "plt.ylabel('Distance')\n",
    "plt.title(\"Distance vs Time\")\n",
    "plt.legend()\n",
    "plt.show()"
   ]
  }
 ],
 "metadata": {
  "kernelspec": {
   "display_name": "QuantumQiskit",
   "language": "python",
   "name": "python3"
  },
  "language_info": {
   "codemirror_mode": {
    "name": "ipython",
    "version": 3
   },
   "file_extension": ".py",
   "mimetype": "text/x-python",
   "name": "python",
   "nbconvert_exporter": "python",
   "pygments_lexer": "ipython3",
   "version": "3.9.20"
  }
 },
 "nbformat": 4,
 "nbformat_minor": 2
}
