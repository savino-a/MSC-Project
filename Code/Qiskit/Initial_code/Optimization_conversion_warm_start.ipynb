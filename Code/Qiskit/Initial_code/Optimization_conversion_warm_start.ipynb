{
 "cells": [
  {
   "cell_type": "markdown",
   "metadata": {},
   "source": [
    "# This is the code for Quantum Optimization"
   ]
  },
  {
   "cell_type": "code",
   "execution_count": 77,
   "metadata": {},
   "outputs": [],
   "source": [
    "import unittest\n",
    "import qiskit\n",
    "from qiskit.quantum_info import SparsePauliOp\n",
    "from qiskit_optimization import QuadraticProgram\n",
    "from qiskit_optimization.translators import from_docplex_mp\n",
    "from docplex.mp.model import Model\n",
    "import numpy as np\n",
    "from qiskit_algorithms import QAOA\n",
    "from qiskit_optimization.algorithms import MinimumEigenOptimizer\n",
    "from qiskit_algorithms.optimizers import COBYLA\n",
    "from qiskit_ibm_runtime import QiskitRuntimeService, SamplerV2 as SamplerV2\n",
    "import operator\n",
    "from qiskit.primitives import Sampler, Estimator\n",
    "from qiskit_optimization.converters import QuadraticProgramToQubo\n",
    "from qiskit.circuit.library import QAOAAnsatz\n",
    "import qiskit_aer as Aer\n",
    "from qiskit_ibm_runtime import Session, EstimatorV2 as Estimator\n",
    "from scipy.optimize import minimize\n",
    "from qiskit_aer import AerSimulator\n",
    "from qiskit import transpile\n",
    "from qiskit.primitives import StatevectorSampler\n",
    "from qiskit_optimization.converters import InequalityToEquality\n",
    "from qiskit import QuantumCircuit, transpile\n",
    "from qiskit.visualization import circuit_drawer\n",
    "from qiskit.transpiler import PassManager\n",
    "from qiskit_aer.noise import NoiseModel, depolarizing_error, thermal_relaxation_error\n",
    "from qiskit.transpiler.passes import Optimize1qGates, CXCancellation\n",
    "from qiskit import QuantumCircuit, QuantumRegister\n",
    "from qiskit.circuit import Parameter\n",
    "import matplotlib\n",
    "matplotlib.use('TkAgg')  # Set non-interactive backend\n",
    "import matplotlib.pyplot as plt\n",
    "from qiskit import transpile\n",
    "from qiskit.visualization import circuit_drawer\n",
    "from qiskit.transpiler import PassManager\n",
    "from qiskit.transpiler.passes import Optimize1qGates, CXCancellation\n",
    "from qiskit_ibm_runtime import QiskitRuntimeService, SamplerV2 as Sampler2\n",
    "from qiskit.transpiler.preset_passmanagers import generate_preset_pass_manager\n",
    "import os\n",
    "from qiskit_algorithms import VQE\n",
    "from qiskit.primitives import Estimator as Estimator3\n",
    "from qiskit.circuit.library import TwoLocal\n",
    "from qiskit_algorithms.optimizers import COBYLA"
   ]
  },
  {
   "cell_type": "code",
   "execution_count": 78,
   "metadata": {},
   "outputs": [
    {
     "name": "stdout",
     "output_type": "stream",
     "text": [
      "Name: qiskit\n",
      "Version: 1.2.4\n",
      "Summary: An open-source SDK for working with quantum computers at the level of extended quantum circuits, operators, and primitives.\n",
      "Home-page: https://www.ibm.com/quantum/qiskit\n",
      "Author: \n",
      "Author-email: Qiskit Development Team <qiskit@us.ibm.com>\n",
      "License: Apache 2.0\n",
      "Location: c:\\users\\arthu\\miniconda3\\envs\\quantumqiskit\\lib\\site-packages\n",
      "Requires: dill, numpy, python-dateutil, rustworkx, scipy, stevedore, symengine, sympy, typing-extensions\n",
      "Required-by: qiskit-aer, qiskit-algorithms, qiskit-ibm-runtime, qiskit-machine-learning, qiskit-optimization\n",
      "Note: you may need to restart the kernel to use updated packages.\n"
     ]
    }
   ],
   "source": [
    "pip show qiskit"
   ]
  },
  {
   "cell_type": "markdown",
   "metadata": {},
   "source": [
    "## We first create the Docplex/Cplex optimization problem"
   ]
  },
  {
   "cell_type": "code",
   "execution_count": 79,
   "metadata": {},
   "outputs": [],
   "source": [
    "opt_model = Model(name=\"MIP Model\")\n",
    "\n",
    "Nc= 3 # Nc is the number of seconds\n",
    "\n",
    "Dist=2 # Distance to travel\n",
    "\n",
    "tolerance = 0 # Tolerance in distance travelled\n",
    "\n",
    "delta_v=1 # Rate of acceleration/deceleration set to 1\n",
    "\n",
    "vmax=2 # Max speed of a TGV in France (in m/s)\n",
    "\n",
    "alpha=0.05 # Regenerative braking efficiency\n",
    "\n",
    "\"\"\"\n",
    "We define two binary variables for two bits. \n",
    "When x=0 and y=0 then constant velocity\n",
    "When x=1 and y=0 then acceleration\n",
    "When x=0 and y=1 then breaking\n",
    "\"\"\"\n",
    "\n",
    "x={}\n",
    "for i in range(0, Nc):\n",
    "    x[i]= opt_model.binary_var(name=f\"x_{i}\")\n",
    "\n",
    "y={}\n",
    "for i in range(0, Nc):\n",
    "    y[i]= opt_model.binary_var(name=f\"y_{i}\")\n",
    "\n",
    "'''z={}\n",
    "for i in range(0, Nc):\n",
    "    z[i]= opt_model.binary_var(name=f\"z_{i}\")'''\n",
    "    \n",
    "\n",
    "objective = opt_model.linear_expr()\n",
    "## objective is the hamiltonian/energy value we want to minimize\n",
    "## Energy:\n",
    "for i in range(0, Nc):\n",
    "    '''objective += (delta_v**2) * x[i] - alpha*(delta_v**2)*y[i]'''\n",
    "    objective += (delta_v**2)*x[i]\n",
    "\n",
    "    \n",
    "opt_model.minimize(objective)"
   ]
  },
  {
   "cell_type": "code",
   "execution_count": 80,
   "metadata": {},
   "outputs": [
    {
     "name": "stdout",
     "output_type": "stream",
     "text": [
      "Model: MIP Model\n",
      " - number of variables: 6\n",
      "   - binary=6, integer=0, continuous=0\n",
      " - number of constraints: 3\n",
      "   - linear=3\n",
      " - parameters: defaults\n",
      " - objective: minimize\n",
      " - problem type is: MILP\n",
      "// This file has been generated by DOcplex\n",
      "// model name is: MIP Model\n",
      "// single vars section\n",
      "dvar bool x_0;\n",
      "dvar bool x_1;\n",
      "dvar bool x_2;\n",
      "dvar bool y_0;\n",
      "dvar bool y_1;\n",
      "dvar bool y_2;\n",
      "\n",
      "minimize\n",
      " x_0 + x_1 + x_2;\n",
      " \n",
      "subject to {\n",
      " simultaneous_braking_acceleration_constraint_0:\n",
      "  x_0 + y_0 -1 <= 0;\n",
      " simultaneous_braking_acceleration_constraint_1:\n",
      "  x_1 + y_1 -1 <= 0;\n",
      " simultaneous_braking_acceleration_constraint_2:\n",
      "  x_2 + y_2 -1 <= 0;\n",
      "\n",
      "}\n"
     ]
    }
   ],
   "source": [
    "## Constraint 1: (simultaneous braking/acceleration)\n",
    "\n",
    "\n",
    "'''for i in range(0, Nc):\n",
    "    opt_model.add_constraint(z[i] <= x[i] , f\"z_u_d_{i}\") \n",
    "\n",
    "for i in range(0, Nc):\n",
    "    opt_model.add_constraint(z[i] <= y[i], f\"z_p_d_{i}\")\n",
    "        \n",
    "for i in range(0, Nc):\n",
    "    opt_model.add_constraint(z[i] >= x[i]+ y[i] -1 , f\"z_u_p_d_{i}\") \n",
    "\n",
    "for i in range(0,Nc):\n",
    "    opt_model.add_constraint(z[i] == 0, \"No simultaneous braking or acceleration constraint\"+str(i))\n",
    "opt_model.add_constraint(opt_model.sum(z[i] for i in range(0, Nc)) == 0 , \"No_simultaneous_braking_or_acceleration_constraint\")\n",
    "'''\n",
    "\n",
    "for i in range(0, Nc):\n",
    "    opt_model.add_constraint(x[i]+ y[i] -1 <= 0 , f\"simultaneous_braking_acceleration_constraint_{i}\") \n",
    "#### Print the optimization model info\n",
    "\n",
    "opt_model.print_information()\n",
    "opt_model.prettyprint()"
   ]
  },
  {
   "cell_type": "code",
   "execution_count": 81,
   "metadata": {},
   "outputs": [
    {
     "name": "stdout",
     "output_type": "stream",
     "text": [
      "Model: MIP Model\n",
      " - number of variables: 6\n",
      "   - binary=6, integer=0, continuous=0\n",
      " - number of constraints: 4\n",
      "   - linear=4\n",
      " - parameters: defaults\n",
      " - objective: minimize\n",
      " - problem type is: MILP\n"
     ]
    }
   ],
   "source": [
    "\"\"\"\n",
    "Constraint 2: (Total Distance constraints)\n",
    "\"\"\"\n",
    "\n",
    "distance = opt_model.linear_expr()\n",
    "velocity = 0\n",
    "for i in range(0, Nc):\n",
    "    velocity = velocity + delta_v*(x[i]-y[i])\n",
    "    distance += velocity\n",
    "'''opt_model.add_constraint(distance <= Dist+tolerance, \"Max_Distance_constraint\")\n",
    "opt_model.add_constraint(distance >= Dist-tolerance, \"Min_Distance_constraint\")'''\n",
    "opt_model.add_constraint(distance == Dist, \"Distance_constraint\")\n",
    "\n",
    "#### Print the optimization model info\n",
    "\n",
    "opt_model.print_information() "
   ]
  },
  {
   "cell_type": "code",
   "execution_count": 82,
   "metadata": {},
   "outputs": [
    {
     "name": "stdout",
     "output_type": "stream",
     "text": [
      "Model: MIP Model\n",
      " - number of variables: 6\n",
      "   - binary=6, integer=0, continuous=0\n",
      " - number of constraints: 5\n",
      "   - linear=5\n",
      " - parameters: defaults\n",
      " - objective: minimize\n",
      " - problem type is: MILP\n"
     ]
    }
   ],
   "source": [
    "\"\"\"\n",
    "Constraint 3: (Net-Zero contraint)\n",
    "\n",
    "\"\"\"\n",
    "opt_model.add_constraint(opt_model.sum((y[i]-x[i]) for i in range(0, Nc)) == 0 , \"Net_Zero_constraint\")\n",
    "\n",
    "#### Print the optimization model info\n",
    "\n",
    "opt_model.print_information()"
   ]
  },
  {
   "cell_type": "code",
   "execution_count": 83,
   "metadata": {},
   "outputs": [
    {
     "name": "stdout",
     "output_type": "stream",
     "text": [
      "Model: MIP Model\n",
      " - number of variables: 6\n",
      "   - binary=6, integer=0, continuous=0\n",
      " - number of constraints: 6\n",
      "   - linear=6\n",
      " - parameters: defaults\n",
      " - objective: minimize\n",
      " - problem type is: MILP\n"
     ]
    }
   ],
   "source": [
    "\"\"\"\n",
    "Constraint 4: (Maximum Speed)\n",
    "\n",
    "\"\"\"\n",
    "opt_model.add_constraint(opt_model.sum((delta_v*(x[i]) for i in range(0, Nc))) <= vmax , \"Maximum_Speed_constraint\")\n",
    "\n",
    "#### Print the optimization model info\n",
    "\n",
    "opt_model.print_information() "
   ]
  },
  {
   "cell_type": "code",
   "execution_count": 84,
   "metadata": {},
   "outputs": [
    {
     "name": "stdout",
     "output_type": "stream",
     "text": [
      "Model: MIP Model\n",
      " - number of variables: 6\n",
      "   - binary=6, integer=0, continuous=0\n",
      " - number of constraints: 9\n",
      "   - linear=9\n",
      " - parameters: defaults\n",
      " - objective: minimize\n",
      " - problem type is: MILP\n"
     ]
    }
   ],
   "source": [
    "\n",
    "#Constraint 5: (Positive Speed)\n",
    "for i in range(Nc):\n",
    "    opt_model.add_constraint(opt_model.sum((x[i]-y[i]) for i in range(0, i)) >= 0 , \"Positive_Speed_constraint\"+str(i))\n",
    "\n",
    "    #### Print the optimization model\n",
    "\n",
    "opt_model.print_information()\n"
   ]
  },
  {
   "cell_type": "code",
   "execution_count": 85,
   "metadata": {},
   "outputs": [
    {
     "data": {
      "text/plain": [
       "'\\n#Constraint 6: (Must leave immediately)\\n\\nopt_model.add_constraint(x[0]==1, \"Must leave immediately constraint\")\\n    \\n\\n#### Print the optimization model info\\n\\nopt_model.print_information()\\n'"
      ]
     },
     "execution_count": 85,
     "metadata": {},
     "output_type": "execute_result"
    }
   ],
   "source": [
    "'''\n",
    "#Constraint 6: (Must leave immediately)\n",
    "\n",
    "opt_model.add_constraint(x[0]==1, \"Must leave immediately constraint\")\n",
    "    \n",
    "\n",
    "#### Print the optimization model info\n",
    "\n",
    "opt_model.print_information()\n",
    "'''"
   ]
  },
  {
   "cell_type": "code",
   "execution_count": 86,
   "metadata": {},
   "outputs": [
    {
     "name": "stdout",
     "output_type": "stream",
     "text": [
      "// This file has been generated by DOcplex\n",
      "// model name is: MIP Model\n",
      "// single vars section\n",
      "dvar bool x_0;\n",
      "dvar bool x_1;\n",
      "dvar bool x_2;\n",
      "dvar bool y_0;\n",
      "dvar bool y_1;\n",
      "dvar bool y_2;\n",
      "\n",
      "minimize\n",
      " x_0 + x_1 + x_2;\n",
      " \n",
      "subject to {\n",
      " simultaneous_braking_acceleration_constraint_0:\n",
      "  x_0 + y_0 -1 <= 0;\n",
      " simultaneous_braking_acceleration_constraint_1:\n",
      "  x_1 + y_1 -1 <= 0;\n",
      " simultaneous_braking_acceleration_constraint_2:\n",
      "  x_2 + y_2 -1 <= 0;\n",
      " Distance_constraint:\n",
      "  3 x_0 - 3 y_0 + 2 x_1 - 2 y_1 + x_2 - y_2 == 2;\n",
      " Net_Zero_constraint:\n",
      "  y_0 - x_0 + y_1 - x_1 + y_2 - x_2 == 0;\n",
      " Maximum_Speed_constraint:\n",
      "  x_0 + x_1 + x_2 <= 2;\n",
      " Positive_Speed_constraint0:\n",
      "  0 >= 0;\n",
      " Positive_Speed_constraint1:\n",
      "  x_0 - y_0 >= 0;\n",
      " Positive_Speed_constraint2:\n",
      "  x_0 - y_0 + x_1 - y_1 >= 0;\n",
      "\n",
      "}\n",
      "None\n"
     ]
    }
   ],
   "source": [
    "#### Print the optimization model\n",
    "print(opt_model.prettyprint())"
   ]
  },
  {
   "cell_type": "markdown",
   "metadata": {},
   "source": [
    "## Problem conversion"
   ]
  },
  {
   "cell_type": "code",
   "execution_count": 87,
   "metadata": {},
   "outputs": [
    {
     "name": "stdout",
     "output_type": "stream",
     "text": [
      "Number of variables: 6\n"
     ]
    },
    {
     "name": "stderr",
     "output_type": "stream",
     "text": [
      "C:\\Users\\arthu\\AppData\\Local\\Temp\\ipykernel_17824\\414607200.py:2: UserWarning: Trivial constraint: Positive_Speed_constraint0: 0 >= 0\n",
      "  qp_quad = from_docplex_mp(opt_model)\n"
     ]
    }
   ],
   "source": [
    "# Conversion to qad_model\n",
    "qp_quad = from_docplex_mp(opt_model)\n",
    "print(\"Number of variables:\", len(qp_quad.variables))"
   ]
  },
  {
   "cell_type": "code",
   "execution_count": 88,
   "metadata": {},
   "outputs": [
    {
     "name": "stdout",
     "output_type": "stream",
     "text": [
      "QUBO variables: 10\n",
      "QUBO constraints: 0\n"
     ]
    },
    {
     "data": {
      "text/plain": [
       "'opt_model.export_as_lp(\"qubo1.lp\")'"
      ]
     },
     "execution_count": 88,
     "metadata": {},
     "output_type": "execute_result"
    }
   ],
   "source": [
    "# Conversion to qubo\n",
    "conv = QuadraticProgramToQubo()\n",
    "qubo = conv.convert(qp_quad)\n",
    "\n",
    "print(f\"QUBO variables: {len(qubo.variables)}\")\n",
    "print(f\"QUBO constraints: {len(qubo.linear_constraints)}\")\n",
    "\n",
    "'''opt_model.export_as_lp(\"qubo1.lp\")'''"
   ]
  },
  {
   "cell_type": "code",
   "execution_count": 89,
   "metadata": {},
   "outputs": [
    {
     "name": "stdout",
     "output_type": "stream",
     "text": [
      "Offset: 269.5\n",
      "Ising Hamiltonian:\n",
      "SparsePauliOp(['IIIIIIIIIZ', 'IIIIIIIIZI', 'IIIIIIIZII', 'IIIIIIZIII', 'IIIIIZIIII', 'IIIIZIIIII', 'IIIZIIIIII', 'IIZIIIIIII', 'IIIIIIIIZZ', 'IIIIIIIZIZ', 'IIIIIIZIIZ', 'IIIIIZIIIZ', 'IIIIZIIIIZ', 'IIIZIIIIIZ', 'IIZIIIIIIZ', 'IZIIIIIIIZ', 'IZIIIIIIII', 'ZIIIIIIIIZ', 'ZIIIIIIIII', 'IIIIIIIZZI', 'IIIIIIZIZI', 'IIIIIZIIZI', 'IIIIZIIIZI', 'IIIZIIIIZI', 'IIZIIIIIZI', 'IZIIIIIIZI', 'ZIIIIIIIZI', 'IIIIIIZZII', 'IIIIIZIZII', 'IIIIZIIZII', 'IIIZIIIZII', 'IIZIIIIZII', 'IIIIIZZIII', 'IIIIZIZIII', 'IZIIIIZIII', 'ZIIIIIZIII', 'IIIIZZIIII', 'IZIIIZIIII', 'ZIIIIZIIII', 'IIZZIIIIII', 'ZZIIIIIIII'],\n",
      "              coeffs=[ 103.5+0.j,   70.5+0.j,   22.5+0.j, -114. +0.j,  -81. +0.j,  -33. +0.j,\n",
      "   -8. +0.j,   -8. +0.j,   72. +0.j,   40. +0.j,  -88. +0.j,  -64. +0.j,\n",
      "  -32. +0.j,    8. +0.j,    8. +0.j,   -8. +0.j,  -16. +0.j,   -8. +0.j,\n",
      "  -16. +0.j,   32. +0.j,  -64. +0.j,  -47. +0.j,  -24. +0.j,    8. +0.j,\n",
      "    8. +0.j,   -8. +0.j,   -8. +0.j,  -32. +0.j,  -24. +0.j,  -15. +0.j,\n",
      "    8. +0.j,    8. +0.j,   64. +0.j,   32. +0.j,    8. +0.j,    8. +0.j,\n",
      "   24. +0.j,    8. +0.j,    8. +0.j,    8. +0.j,    8. +0.j])\n",
      "10\n",
      "269.5\n"
     ]
    }
   ],
   "source": [
    "qubitOp, offset = qubo.to_ising()\n",
    "print(\"Offset:\", offset)\n",
    "print(\"Ising Hamiltonian:\")\n",
    "print(str(qubitOp))\n",
    "num_qubits = qubitOp.num_qubits\n",
    "print(num_qubits)\n",
    "print(offset)"
   ]
  },
  {
   "cell_type": "markdown",
   "metadata": {},
   "source": [
    "## Solving QUBO"
   ]
  },
  {
   "cell_type": "code",
   "execution_count": 90,
   "metadata": {},
   "outputs": [
    {
     "name": "stdout",
     "output_type": "stream",
     "text": [
      "10\n"
     ]
    }
   ],
   "source": [
    "p=2\n",
    "qubo_circuit = QAOAAnsatz(cost_operator=qubitOp, reps=p)\n",
    "qubo_circuit.measure_all()\n",
    "print(qubo_circuit.num_qubits)"
   ]
  },
  {
   "cell_type": "code",
   "execution_count": 91,
   "metadata": {},
   "outputs": [
    {
     "data": {
      "text/html": [
       "<pre style=\"word-wrap: normal;white-space: pre;background: #fff0;line-height: 1.1;font-family: &quot;Courier New&quot;,Courier,monospace\">         ┌────────────────────────────┐ ░ ┌─┐                           \n",
       "    q_0: ┤0                           ├─░─┤M├───────────────────────────\n",
       "         │                            │ ░ └╥┘┌─┐                        \n",
       "    q_1: ┤1                           ├─░──╫─┤M├────────────────────────\n",
       "         │                            │ ░  ║ └╥┘┌─┐                     \n",
       "    q_2: ┤2                           ├─░──╫──╫─┤M├─────────────────────\n",
       "         │                            │ ░  ║  ║ └╥┘┌─┐                  \n",
       "    q_3: ┤3                           ├─░──╫──╫──╫─┤M├──────────────────\n",
       "         │                            │ ░  ║  ║  ║ └╥┘┌─┐               \n",
       "    q_4: ┤4                           ├─░──╫──╫──╫──╫─┤M├───────────────\n",
       "         │  QAOA(γ[0],β[0],γ[1],β[1]) │ ░  ║  ║  ║  ║ └╥┘┌─┐            \n",
       "    q_5: ┤5                           ├─░──╫──╫──╫──╫──╫─┤M├────────────\n",
       "         │                            │ ░  ║  ║  ║  ║  ║ └╥┘┌─┐         \n",
       "    q_6: ┤6                           ├─░──╫──╫──╫──╫──╫──╫─┤M├─────────\n",
       "         │                            │ ░  ║  ║  ║  ║  ║  ║ └╥┘┌─┐      \n",
       "    q_7: ┤7                           ├─░──╫──╫──╫──╫──╫──╫──╫─┤M├──────\n",
       "         │                            │ ░  ║  ║  ║  ║  ║  ║  ║ └╥┘┌─┐   \n",
       "    q_8: ┤8                           ├─░──╫──╫──╫──╫──╫──╫──╫──╫─┤M├───\n",
       "         │                            │ ░  ║  ║  ║  ║  ║  ║  ║  ║ └╥┘┌─┐\n",
       "    q_9: ┤9                           ├─░──╫──╫──╫──╫──╫──╫──╫──╫──╫─┤M├\n",
       "         └────────────────────────────┘ ░  ║  ║  ║  ║  ║  ║  ║  ║  ║ └╥┘\n",
       "meas: 10/══════════════════════════════════╩══╩══╩══╩══╩══╩══╩══╩══╩══╩═\n",
       "                                           0  1  2  3  4  5  6  7  8  9 </pre>"
      ],
      "text/plain": [
       "         ┌────────────────────────────┐ ░ ┌─┐                           \n",
       "    q_0: ┤0                           ├─░─┤M├───────────────────────────\n",
       "         │                            │ ░ └╥┘┌─┐                        \n",
       "    q_1: ┤1                           ├─░──╫─┤M├────────────────────────\n",
       "         │                            │ ░  ║ └╥┘┌─┐                     \n",
       "    q_2: ┤2                           ├─░──╫──╫─┤M├─────────────────────\n",
       "         │                            │ ░  ║  ║ └╥┘┌─┐                  \n",
       "    q_3: ┤3                           ├─░──╫──╫──╫─┤M├──────────────────\n",
       "         │                            │ ░  ║  ║  ║ └╥┘┌─┐               \n",
       "    q_4: ┤4                           ├─░──╫──╫──╫──╫─┤M├───────────────\n",
       "         │  QAOA(γ[0],β[0],γ[1],β[1]) │ ░  ║  ║  ║  ║ └╥┘┌─┐            \n",
       "    q_5: ┤5                           ├─░──╫──╫──╫──╫──╫─┤M├────────────\n",
       "         │                            │ ░  ║  ║  ║  ║  ║ └╥┘┌─┐         \n",
       "    q_6: ┤6                           ├─░──╫──╫──╫──╫──╫──╫─┤M├─────────\n",
       "         │                            │ ░  ║  ║  ║  ║  ║  ║ └╥┘┌─┐      \n",
       "    q_7: ┤7                           ├─░──╫──╫──╫──╫──╫──╫──╫─┤M├──────\n",
       "         │                            │ ░  ║  ║  ║  ║  ║  ║  ║ └╥┘┌─┐   \n",
       "    q_8: ┤8                           ├─░──╫──╫──╫──╫──╫──╫──╫──╫─┤M├───\n",
       "         │                            │ ░  ║  ║  ║  ║  ║  ║  ║  ║ └╥┘┌─┐\n",
       "    q_9: ┤9                           ├─░──╫──╫──╫──╫──╫──╫──╫──╫──╫─┤M├\n",
       "         └────────────────────────────┘ ░  ║  ║  ║  ║  ║  ║  ║  ║  ║ └╥┘\n",
       "meas: 10/══════════════════════════════════╩══╩══╩══╩══╩══╩══╩══╩══╩══╩═\n",
       "                                           0  1  2  3  4  5  6  7  8  9 "
      ]
     },
     "execution_count": 91,
     "metadata": {},
     "output_type": "execute_result"
    }
   ],
   "source": [
    "qubo_circuit.draw( style={'backgroundcolor': '#FFFFFF'})"
   ]
  },
  {
   "cell_type": "code",
   "execution_count": 92,
   "metadata": {},
   "outputs": [
    {
     "data": {
      "text/plain": [
       "\"expanded_circuit = qubo_circuit.decompose()\\nexpanded_circuit.draw( style={'backgroundcolor': '#FFFFFF'})\""
      ]
     },
     "execution_count": 92,
     "metadata": {},
     "output_type": "execute_result"
    }
   ],
   "source": [
    "'''expanded_circuit = qubo_circuit.decompose()\n",
    "expanded_circuit.draw( style={'backgroundcolor': '#FFFFFF'})'''"
   ]
  },
  {
   "cell_type": "code",
   "execution_count": 93,
   "metadata": {},
   "outputs": [
    {
     "data": {
      "text/plain": [
       "ParameterView([ParameterVectorElement(β[0]), ParameterVectorElement(β[1]), ParameterVectorElement(γ[0]), ParameterVectorElement(γ[1])])"
      ]
     },
     "execution_count": 93,
     "metadata": {},
     "output_type": "execute_result"
    }
   ],
   "source": [
    "qubo_circuit.parameters"
   ]
  },
  {
   "cell_type": "markdown",
   "metadata": {},
   "source": [
    "### Optimize circuit"
   ]
  },
  {
   "cell_type": "code",
   "execution_count": 94,
   "metadata": {},
   "outputs": [
    {
     "name": "stdout",
     "output_type": "stream",
     "text": [
      "AerSimulator('aer_simulator')\n",
      "10\n"
     ]
    }
   ],
   "source": [
    "# QiskitRuntimeService.save_account(channel=\"ibm_quantum\", token=\"<MY_IBM_QUANTUM_TOKEN>\", overwrite=True, set_as_default=True)\n",
    "'''service = QiskitRuntimeService(channel='ibm_quantum')\n",
    "backend = service.least_busy(min_num_qubits=num_qubits+5)'''\n",
    "backend = AerSimulator()\n",
    "print(backend)\n",
    "\n",
    "# Create pass manager for transpilation\n",
    "pm = generate_preset_pass_manager(optimization_level=3,\n",
    "                                    backend=backend)\n",
    "\n",
    "candidate_circuit = pm.run(qubo_circuit)\n",
    "'''candidate_circuit.draw()'''\n",
    "num_qubits_circ = candidate_circuit.num_qubits\n",
    "print(num_qubits_circ)"
   ]
  },
  {
   "cell_type": "code",
   "execution_count": 95,
   "metadata": {},
   "outputs": [
    {
     "name": "stdout",
     "output_type": "stream",
     "text": [
      "Error: Model has non-convex objective: 192 x_0^2 + 288 x_0 * x_1 + 160 x_0 * x_2 - 352 \n",
      "objective function value: 128.0\n",
      "variable values: x_0=0.0, x_1=0.0, x_2=0.0, y_0=0.0, y_1=0.0, y_2=0.0, Maximum_Speed_constraint@int_slack@0=0.0, Maximum_Speed_constraint@int_slack@1=0.0, Positive_Speed_constraint2@int_slack@0=0.0, Positive_Speed_constraint2@int_slack@1=0.0\n",
      "status: FAILURE\n"
     ]
    },
    {
     "name": "stderr",
     "output_type": "stream",
     "text": [
      "c:\\Users\\arthu\\miniconda3\\envs\\QuantumQiskit\\lib\\site-packages\\qiskit_optimization\\algorithms\\cplex_optimizer.py:128: UserWarning: CPLEX cannot solve the model\n",
      "  warn(\"CPLEX cannot solve the model\")\n"
     ]
    }
   ],
   "source": [
    "import copy\n",
    "from qiskit_optimization.problems.variable import VarType\n",
    "from qiskit_optimization.algorithms import MinimumEigenOptimizer, CplexOptimizer\n",
    "\n",
    "def relax_problem(problem) -> QuadraticProgram:\n",
    "    \"\"\"Change all variables to continuous.\"\"\"\n",
    "    relaxed_problem = copy.deepcopy(problem)\n",
    "    for variable in relaxed_problem.variables:\n",
    "        variable.vartype = VarType.CONTINUOUS\n",
    "\n",
    "    return relaxed_problem\n",
    "\n",
    "mu = np.array([3.418, 2.0913, 6.2415, 4.4436, 10.892, 3.4051])\n",
    "sigma = np.array(\n",
    "    [\n",
    "        [1.07978412, 0.00768914, 0.11227606, -0.06842969, -0.01016793, -0.00839765],\n",
    "        [0.00768914, 0.10922887, -0.03043424, -0.0020045, 0.00670929, 0.0147937],\n",
    "        [0.11227606, -0.03043424, 0.985353, 0.02307313, -0.05249785, 0.00904119],\n",
    "        [-0.06842969, -0.0020045, 0.02307313, 0.6043817, 0.03740115, -0.00945322],\n",
    "        [-0.01016793, 0.00670929, -0.05249785, 0.03740115, 0.79839634, 0.07616951],\n",
    "        [-0.00839765, 0.0147937, 0.00904119, -0.00945322, 0.07616951, 1.08464544],\n",
    "    ]\n",
    ")\n",
    "\n",
    "qp_relax = relax_problem(QuadraticProgramToQubo().convert(qubo))\n",
    "sol = CplexOptimizer().solve(qp_relax)\n",
    "print(sol.prettyprint())"
   ]
  },
  {
   "cell_type": "code",
   "execution_count": 96,
   "metadata": {},
   "outputs": [
    {
     "name": "stdout",
     "output_type": "stream",
     "text": [
      "[0.0, 0.0, 0.0, 0.0, 0.0, 0.0, 0.0, 0.0, 0.0, 0.0]\n"
     ]
    }
   ],
   "source": [
    "c_stars = sol.samples[0].x\n",
    "print(c_stars)"
   ]
  },
  {
   "cell_type": "code",
   "execution_count": 97,
   "metadata": {},
   "outputs": [],
   "source": [
    "thetas = [2 * np.arcsin(np.sqrt(c_star)) for c_star in c_stars]"
   ]
  },
  {
   "cell_type": "markdown",
   "metadata": {},
   "source": [
    "### Execute circuit"
   ]
  },
  {
   "cell_type": "code",
   "execution_count": 98,
   "metadata": {},
   "outputs": [],
   "source": [
    "import random\n",
    "initial_gamma = np.pi\n",
    "initial_beta = np.pi/2\n",
    "init_params = []\n",
    "for i in range(p):\n",
    "    initial_gamma = np.pi * random.random()\n",
    "    initial_beta = np.pi * random.random()\n",
    "    init_params.append(initial_gamma)\n",
    "    init_params.append(initial_beta)"
   ]
  },
  {
   "cell_type": "code",
   "execution_count": 99,
   "metadata": {},
   "outputs": [],
   "source": [
    "def cost_func_estimator(params, ansatz, hamiltonian, estimator):\n",
    "\n",
    "    # transform the observable defined on virtual qubits to\n",
    "    # an observable defined on all physical qubits\n",
    "    isa_hamiltonian = hamiltonian.apply_layout(ansatz.layout)\n",
    "\n",
    "    pub = (ansatz, isa_hamiltonian, params)\n",
    "    job = estimator.run([pub])\n",
    "\n",
    "    results = job.result()[0]\n",
    "    cost = results.data.evs\n",
    "    total_cost = cost + offset\n",
    "\n",
    "    objective_func_vals.append(total_cost)\n",
    "\n",
    "\n",
    "    return total_cost"
   ]
  },
  {
   "cell_type": "code",
   "execution_count": 100,
   "metadata": {},
   "outputs": [
    {
     "name": "stderr",
     "output_type": "stream",
     "text": [
      "c:\\Users\\arthu\\miniconda3\\envs\\QuantumQiskit\\lib\\site-packages\\qiskit_ibm_runtime\\fake_provider\\local_service.py:268: UserWarning: Options {'dynamical_decoupling': {'enable': True, 'sequence_type': 'XY4'}, 'twirling': {'enable_gates': True, 'num_randomizations': 'auto'}} have no effect in local testing mode.\n",
      "  warnings.warn(f\"Options {options_copy} have no effect in local testing mode.\")\n",
      "c:\\Users\\arthu\\miniconda3\\envs\\QuantumQiskit\\lib\\site-packages\\qiskit_ibm_runtime\\fake_provider\\local_service.py:268: UserWarning: Options {'dynamical_decoupling': {'enable': True, 'sequence_type': 'XY4'}, 'twirling': {'enable_gates': True, 'num_randomizations': 'auto'}} have no effect in local testing mode.\n",
      "  warnings.warn(f\"Options {options_copy} have no effect in local testing mode.\")\n",
      "c:\\Users\\arthu\\miniconda3\\envs\\QuantumQiskit\\lib\\site-packages\\qiskit_ibm_runtime\\fake_provider\\local_service.py:268: UserWarning: Options {'dynamical_decoupling': {'enable': True, 'sequence_type': 'XY4'}, 'twirling': {'enable_gates': True, 'num_randomizations': 'auto'}} have no effect in local testing mode.\n",
      "  warnings.warn(f\"Options {options_copy} have no effect in local testing mode.\")\n",
      "c:\\Users\\arthu\\miniconda3\\envs\\QuantumQiskit\\lib\\site-packages\\qiskit_ibm_runtime\\fake_provider\\local_service.py:268: UserWarning: Options {'dynamical_decoupling': {'enable': True, 'sequence_type': 'XY4'}, 'twirling': {'enable_gates': True, 'num_randomizations': 'auto'}} have no effect in local testing mode.\n",
      "  warnings.warn(f\"Options {options_copy} have no effect in local testing mode.\")\n",
      "c:\\Users\\arthu\\miniconda3\\envs\\QuantumQiskit\\lib\\site-packages\\qiskit_ibm_runtime\\fake_provider\\local_service.py:268: UserWarning: Options {'dynamical_decoupling': {'enable': True, 'sequence_type': 'XY4'}, 'twirling': {'enable_gates': True, 'num_randomizations': 'auto'}} have no effect in local testing mode.\n",
      "  warnings.warn(f\"Options {options_copy} have no effect in local testing mode.\")\n",
      "c:\\Users\\arthu\\miniconda3\\envs\\QuantumQiskit\\lib\\site-packages\\qiskit_ibm_runtime\\fake_provider\\local_service.py:268: UserWarning: Options {'dynamical_decoupling': {'enable': True, 'sequence_type': 'XY4'}, 'twirling': {'enable_gates': True, 'num_randomizations': 'auto'}} have no effect in local testing mode.\n",
      "  warnings.warn(f\"Options {options_copy} have no effect in local testing mode.\")\n",
      "c:\\Users\\arthu\\miniconda3\\envs\\QuantumQiskit\\lib\\site-packages\\qiskit_ibm_runtime\\fake_provider\\local_service.py:268: UserWarning: Options {'dynamical_decoupling': {'enable': True, 'sequence_type': 'XY4'}, 'twirling': {'enable_gates': True, 'num_randomizations': 'auto'}} have no effect in local testing mode.\n",
      "  warnings.warn(f\"Options {options_copy} have no effect in local testing mode.\")\n",
      "c:\\Users\\arthu\\miniconda3\\envs\\QuantumQiskit\\lib\\site-packages\\qiskit_ibm_runtime\\fake_provider\\local_service.py:268: UserWarning: Options {'dynamical_decoupling': {'enable': True, 'sequence_type': 'XY4'}, 'twirling': {'enable_gates': True, 'num_randomizations': 'auto'}} have no effect in local testing mode.\n",
      "  warnings.warn(f\"Options {options_copy} have no effect in local testing mode.\")\n",
      "c:\\Users\\arthu\\miniconda3\\envs\\QuantumQiskit\\lib\\site-packages\\qiskit_ibm_runtime\\fake_provider\\local_service.py:268: UserWarning: Options {'dynamical_decoupling': {'enable': True, 'sequence_type': 'XY4'}, 'twirling': {'enable_gates': True, 'num_randomizations': 'auto'}} have no effect in local testing mode.\n",
      "  warnings.warn(f\"Options {options_copy} have no effect in local testing mode.\")\n",
      "c:\\Users\\arthu\\miniconda3\\envs\\QuantumQiskit\\lib\\site-packages\\qiskit_ibm_runtime\\fake_provider\\local_service.py:268: UserWarning: Options {'dynamical_decoupling': {'enable': True, 'sequence_type': 'XY4'}, 'twirling': {'enable_gates': True, 'num_randomizations': 'auto'}} have no effect in local testing mode.\n",
      "  warnings.warn(f\"Options {options_copy} have no effect in local testing mode.\")\n",
      "c:\\Users\\arthu\\miniconda3\\envs\\QuantumQiskit\\lib\\site-packages\\qiskit_ibm_runtime\\fake_provider\\local_service.py:268: UserWarning: Options {'dynamical_decoupling': {'enable': True, 'sequence_type': 'XY4'}, 'twirling': {'enable_gates': True, 'num_randomizations': 'auto'}} have no effect in local testing mode.\n",
      "  warnings.warn(f\"Options {options_copy} have no effect in local testing mode.\")\n",
      "c:\\Users\\arthu\\miniconda3\\envs\\QuantumQiskit\\lib\\site-packages\\qiskit_ibm_runtime\\fake_provider\\local_service.py:268: UserWarning: Options {'dynamical_decoupling': {'enable': True, 'sequence_type': 'XY4'}, 'twirling': {'enable_gates': True, 'num_randomizations': 'auto'}} have no effect in local testing mode.\n",
      "  warnings.warn(f\"Options {options_copy} have no effect in local testing mode.\")\n",
      "c:\\Users\\arthu\\miniconda3\\envs\\QuantumQiskit\\lib\\site-packages\\qiskit_ibm_runtime\\fake_provider\\local_service.py:268: UserWarning: Options {'dynamical_decoupling': {'enable': True, 'sequence_type': 'XY4'}, 'twirling': {'enable_gates': True, 'num_randomizations': 'auto'}} have no effect in local testing mode.\n",
      "  warnings.warn(f\"Options {options_copy} have no effect in local testing mode.\")\n",
      "c:\\Users\\arthu\\miniconda3\\envs\\QuantumQiskit\\lib\\site-packages\\qiskit_ibm_runtime\\fake_provider\\local_service.py:268: UserWarning: Options {'dynamical_decoupling': {'enable': True, 'sequence_type': 'XY4'}, 'twirling': {'enable_gates': True, 'num_randomizations': 'auto'}} have no effect in local testing mode.\n",
      "  warnings.warn(f\"Options {options_copy} have no effect in local testing mode.\")\n",
      "c:\\Users\\arthu\\miniconda3\\envs\\QuantumQiskit\\lib\\site-packages\\qiskit_ibm_runtime\\fake_provider\\local_service.py:268: UserWarning: Options {'dynamical_decoupling': {'enable': True, 'sequence_type': 'XY4'}, 'twirling': {'enable_gates': True, 'num_randomizations': 'auto'}} have no effect in local testing mode.\n",
      "  warnings.warn(f\"Options {options_copy} have no effect in local testing mode.\")\n",
      "c:\\Users\\arthu\\miniconda3\\envs\\QuantumQiskit\\lib\\site-packages\\qiskit_ibm_runtime\\fake_provider\\local_service.py:268: UserWarning: Options {'dynamical_decoupling': {'enable': True, 'sequence_type': 'XY4'}, 'twirling': {'enable_gates': True, 'num_randomizations': 'auto'}} have no effect in local testing mode.\n",
      "  warnings.warn(f\"Options {options_copy} have no effect in local testing mode.\")\n",
      "c:\\Users\\arthu\\miniconda3\\envs\\QuantumQiskit\\lib\\site-packages\\qiskit_ibm_runtime\\fake_provider\\local_service.py:268: UserWarning: Options {'dynamical_decoupling': {'enable': True, 'sequence_type': 'XY4'}, 'twirling': {'enable_gates': True, 'num_randomizations': 'auto'}} have no effect in local testing mode.\n",
      "  warnings.warn(f\"Options {options_copy} have no effect in local testing mode.\")\n",
      "c:\\Users\\arthu\\miniconda3\\envs\\QuantumQiskit\\lib\\site-packages\\qiskit_ibm_runtime\\fake_provider\\local_service.py:268: UserWarning: Options {'dynamical_decoupling': {'enable': True, 'sequence_type': 'XY4'}, 'twirling': {'enable_gates': True, 'num_randomizations': 'auto'}} have no effect in local testing mode.\n",
      "  warnings.warn(f\"Options {options_copy} have no effect in local testing mode.\")\n",
      "c:\\Users\\arthu\\miniconda3\\envs\\QuantumQiskit\\lib\\site-packages\\qiskit_ibm_runtime\\fake_provider\\local_service.py:268: UserWarning: Options {'dynamical_decoupling': {'enable': True, 'sequence_type': 'XY4'}, 'twirling': {'enable_gates': True, 'num_randomizations': 'auto'}} have no effect in local testing mode.\n",
      "  warnings.warn(f\"Options {options_copy} have no effect in local testing mode.\")\n",
      "c:\\Users\\arthu\\miniconda3\\envs\\QuantumQiskit\\lib\\site-packages\\qiskit_ibm_runtime\\fake_provider\\local_service.py:268: UserWarning: Options {'dynamical_decoupling': {'enable': True, 'sequence_type': 'XY4'}, 'twirling': {'enable_gates': True, 'num_randomizations': 'auto'}} have no effect in local testing mode.\n",
      "  warnings.warn(f\"Options {options_copy} have no effect in local testing mode.\")\n",
      "c:\\Users\\arthu\\miniconda3\\envs\\QuantumQiskit\\lib\\site-packages\\qiskit_ibm_runtime\\fake_provider\\local_service.py:268: UserWarning: Options {'dynamical_decoupling': {'enable': True, 'sequence_type': 'XY4'}, 'twirling': {'enable_gates': True, 'num_randomizations': 'auto'}} have no effect in local testing mode.\n",
      "  warnings.warn(f\"Options {options_copy} have no effect in local testing mode.\")\n",
      "c:\\Users\\arthu\\miniconda3\\envs\\QuantumQiskit\\lib\\site-packages\\qiskit_ibm_runtime\\fake_provider\\local_service.py:268: UserWarning: Options {'dynamical_decoupling': {'enable': True, 'sequence_type': 'XY4'}, 'twirling': {'enable_gates': True, 'num_randomizations': 'auto'}} have no effect in local testing mode.\n",
      "  warnings.warn(f\"Options {options_copy} have no effect in local testing mode.\")\n",
      "c:\\Users\\arthu\\miniconda3\\envs\\QuantumQiskit\\lib\\site-packages\\qiskit_ibm_runtime\\fake_provider\\local_service.py:268: UserWarning: Options {'dynamical_decoupling': {'enable': True, 'sequence_type': 'XY4'}, 'twirling': {'enable_gates': True, 'num_randomizations': 'auto'}} have no effect in local testing mode.\n",
      "  warnings.warn(f\"Options {options_copy} have no effect in local testing mode.\")\n",
      "c:\\Users\\arthu\\miniconda3\\envs\\QuantumQiskit\\lib\\site-packages\\qiskit_ibm_runtime\\fake_provider\\local_service.py:268: UserWarning: Options {'dynamical_decoupling': {'enable': True, 'sequence_type': 'XY4'}, 'twirling': {'enable_gates': True, 'num_randomizations': 'auto'}} have no effect in local testing mode.\n",
      "  warnings.warn(f\"Options {options_copy} have no effect in local testing mode.\")\n",
      "c:\\Users\\arthu\\miniconda3\\envs\\QuantumQiskit\\lib\\site-packages\\qiskit_ibm_runtime\\fake_provider\\local_service.py:268: UserWarning: Options {'dynamical_decoupling': {'enable': True, 'sequence_type': 'XY4'}, 'twirling': {'enable_gates': True, 'num_randomizations': 'auto'}} have no effect in local testing mode.\n",
      "  warnings.warn(f\"Options {options_copy} have no effect in local testing mode.\")\n",
      "c:\\Users\\arthu\\miniconda3\\envs\\QuantumQiskit\\lib\\site-packages\\qiskit_ibm_runtime\\fake_provider\\local_service.py:268: UserWarning: Options {'dynamical_decoupling': {'enable': True, 'sequence_type': 'XY4'}, 'twirling': {'enable_gates': True, 'num_randomizations': 'auto'}} have no effect in local testing mode.\n",
      "  warnings.warn(f\"Options {options_copy} have no effect in local testing mode.\")\n",
      "c:\\Users\\arthu\\miniconda3\\envs\\QuantumQiskit\\lib\\site-packages\\qiskit_ibm_runtime\\fake_provider\\local_service.py:268: UserWarning: Options {'dynamical_decoupling': {'enable': True, 'sequence_type': 'XY4'}, 'twirling': {'enable_gates': True, 'num_randomizations': 'auto'}} have no effect in local testing mode.\n",
      "  warnings.warn(f\"Options {options_copy} have no effect in local testing mode.\")\n",
      "c:\\Users\\arthu\\miniconda3\\envs\\QuantumQiskit\\lib\\site-packages\\qiskit_ibm_runtime\\fake_provider\\local_service.py:268: UserWarning: Options {'dynamical_decoupling': {'enable': True, 'sequence_type': 'XY4'}, 'twirling': {'enable_gates': True, 'num_randomizations': 'auto'}} have no effect in local testing mode.\n",
      "  warnings.warn(f\"Options {options_copy} have no effect in local testing mode.\")\n",
      "c:\\Users\\arthu\\miniconda3\\envs\\QuantumQiskit\\lib\\site-packages\\qiskit_ibm_runtime\\fake_provider\\local_service.py:268: UserWarning: Options {'dynamical_decoupling': {'enable': True, 'sequence_type': 'XY4'}, 'twirling': {'enable_gates': True, 'num_randomizations': 'auto'}} have no effect in local testing mode.\n",
      "  warnings.warn(f\"Options {options_copy} have no effect in local testing mode.\")\n",
      "c:\\Users\\arthu\\miniconda3\\envs\\QuantumQiskit\\lib\\site-packages\\qiskit_ibm_runtime\\fake_provider\\local_service.py:268: UserWarning: Options {'dynamical_decoupling': {'enable': True, 'sequence_type': 'XY4'}, 'twirling': {'enable_gates': True, 'num_randomizations': 'auto'}} have no effect in local testing mode.\n",
      "  warnings.warn(f\"Options {options_copy} have no effect in local testing mode.\")\n",
      "c:\\Users\\arthu\\miniconda3\\envs\\QuantumQiskit\\lib\\site-packages\\qiskit_ibm_runtime\\fake_provider\\local_service.py:268: UserWarning: Options {'dynamical_decoupling': {'enable': True, 'sequence_type': 'XY4'}, 'twirling': {'enable_gates': True, 'num_randomizations': 'auto'}} have no effect in local testing mode.\n",
      "  warnings.warn(f\"Options {options_copy} have no effect in local testing mode.\")\n",
      "c:\\Users\\arthu\\miniconda3\\envs\\QuantumQiskit\\lib\\site-packages\\qiskit_ibm_runtime\\fake_provider\\local_service.py:268: UserWarning: Options {'dynamical_decoupling': {'enable': True, 'sequence_type': 'XY4'}, 'twirling': {'enable_gates': True, 'num_randomizations': 'auto'}} have no effect in local testing mode.\n",
      "  warnings.warn(f\"Options {options_copy} have no effect in local testing mode.\")\n",
      "c:\\Users\\arthu\\miniconda3\\envs\\QuantumQiskit\\lib\\site-packages\\qiskit_ibm_runtime\\fake_provider\\local_service.py:268: UserWarning: Options {'dynamical_decoupling': {'enable': True, 'sequence_type': 'XY4'}, 'twirling': {'enable_gates': True, 'num_randomizations': 'auto'}} have no effect in local testing mode.\n",
      "  warnings.warn(f\"Options {options_copy} have no effect in local testing mode.\")\n",
      "c:\\Users\\arthu\\miniconda3\\envs\\QuantumQiskit\\lib\\site-packages\\qiskit_ibm_runtime\\fake_provider\\local_service.py:268: UserWarning: Options {'dynamical_decoupling': {'enable': True, 'sequence_type': 'XY4'}, 'twirling': {'enable_gates': True, 'num_randomizations': 'auto'}} have no effect in local testing mode.\n",
      "  warnings.warn(f\"Options {options_copy} have no effect in local testing mode.\")\n",
      "c:\\Users\\arthu\\miniconda3\\envs\\QuantumQiskit\\lib\\site-packages\\qiskit_ibm_runtime\\fake_provider\\local_service.py:268: UserWarning: Options {'dynamical_decoupling': {'enable': True, 'sequence_type': 'XY4'}, 'twirling': {'enable_gates': True, 'num_randomizations': 'auto'}} have no effect in local testing mode.\n",
      "  warnings.warn(f\"Options {options_copy} have no effect in local testing mode.\")\n",
      "c:\\Users\\arthu\\miniconda3\\envs\\QuantumQiskit\\lib\\site-packages\\qiskit_ibm_runtime\\fake_provider\\local_service.py:268: UserWarning: Options {'dynamical_decoupling': {'enable': True, 'sequence_type': 'XY4'}, 'twirling': {'enable_gates': True, 'num_randomizations': 'auto'}} have no effect in local testing mode.\n",
      "  warnings.warn(f\"Options {options_copy} have no effect in local testing mode.\")\n",
      "c:\\Users\\arthu\\miniconda3\\envs\\QuantumQiskit\\lib\\site-packages\\qiskit_ibm_runtime\\fake_provider\\local_service.py:268: UserWarning: Options {'dynamical_decoupling': {'enable': True, 'sequence_type': 'XY4'}, 'twirling': {'enable_gates': True, 'num_randomizations': 'auto'}} have no effect in local testing mode.\n",
      "  warnings.warn(f\"Options {options_copy} have no effect in local testing mode.\")\n",
      "c:\\Users\\arthu\\miniconda3\\envs\\QuantumQiskit\\lib\\site-packages\\qiskit_ibm_runtime\\fake_provider\\local_service.py:268: UserWarning: Options {'dynamical_decoupling': {'enable': True, 'sequence_type': 'XY4'}, 'twirling': {'enable_gates': True, 'num_randomizations': 'auto'}} have no effect in local testing mode.\n",
      "  warnings.warn(f\"Options {options_copy} have no effect in local testing mode.\")\n",
      "c:\\Users\\arthu\\miniconda3\\envs\\QuantumQiskit\\lib\\site-packages\\qiskit_ibm_runtime\\fake_provider\\local_service.py:268: UserWarning: Options {'dynamical_decoupling': {'enable': True, 'sequence_type': 'XY4'}, 'twirling': {'enable_gates': True, 'num_randomizations': 'auto'}} have no effect in local testing mode.\n",
      "  warnings.warn(f\"Options {options_copy} have no effect in local testing mode.\")\n"
     ]
    },
    {
     "name": "stdout",
     "output_type": "stream",
     "text": [
      " message: Optimization terminated successfully.\n",
      " success: True\n",
      "  status: 1\n",
      "     fun: 136.81349999999998\n",
      "       x: [ 1.792e+00  2.229e+00  2.922e+00  4.539e+00]\n",
      "    nfev: 40\n",
      "   maxcv: 0.0\n"
     ]
    },
    {
     "name": "stderr",
     "output_type": "stream",
     "text": [
      "c:\\Users\\arthu\\miniconda3\\envs\\QuantumQiskit\\lib\\site-packages\\qiskit_ibm_runtime\\fake_provider\\local_service.py:268: UserWarning: Options {'dynamical_decoupling': {'enable': True, 'sequence_type': 'XY4'}, 'twirling': {'enable_gates': True, 'num_randomizations': 'auto'}} have no effect in local testing mode.\n",
      "  warnings.warn(f\"Options {options_copy} have no effect in local testing mode.\")\n"
     ]
    }
   ],
   "source": [
    "objective_func_vals = [] # Global variable\n",
    "with Session(backend=backend) as session:\n",
    "    # If using qiskit-ibm-runtime<0.24.0, change `mode=` to `session=`\n",
    "    estimator = Estimator(mode=session)\n",
    "    estimator.options.default_shots = 10000\n",
    "\n",
    "    # Set simple error suppression/mitigation options, this is for when on quantum hardware\n",
    "    estimator.options.dynamical_decoupling.enable = True\n",
    "    estimator.options.dynamical_decoupling.sequence_type = \"XY4\"\n",
    "    estimator.options.twirling.enable_gates = True\n",
    "    estimator.options.twirling.num_randomizations = \"auto\"\n",
    "\n",
    "    result = minimize(\n",
    "        cost_func_estimator,\n",
    "        init_params,\n",
    "        args=(candidate_circuit, qubitOp, estimator),\n",
    "        method=\"COBYLA\",\n",
    "        tol=1e-3,\n",
    "    )\n",
    "    print(result)"
   ]
  },
  {
   "cell_type": "code",
   "execution_count": 101,
   "metadata": {},
   "outputs": [],
   "source": [
    "plt.figure(figsize=(12, 6))\n",
    "plt.plot(objective_func_vals)\n",
    "plt.xlabel(\"Iteration\")\n",
    "plt.ylabel(\"Cost\")\n",
    "plt.show()"
   ]
  },
  {
   "cell_type": "code",
   "execution_count": 102,
   "metadata": {},
   "outputs": [],
   "source": [
    "optimized_circuit = candidate_circuit.assign_parameters(result.x)"
   ]
  },
  {
   "cell_type": "code",
   "execution_count": 103,
   "metadata": {},
   "outputs": [
    {
     "name": "stdout",
     "output_type": "stream",
     "text": [
      "{1: 0.0098, 33: 0.0024, 13: 0.088, 157: 0.0036, 123: 0.0042, 268: 0.001, 45: 0.1263, 256: 0.0017, 75: 0.0013, 173: 0.04, 77: 0.0273, 137: 0.0101, 59: 0.0109, 105: 0.0175, 47: 0.0081, 178: 0.0017, 91: 0.0055, 121: 0.0052, 37: 0.0077, 237: 0.0083, 27: 0.0157, 238: 0.0004, 93: 0.0035, 525: 0.0066, 9: 0.0299, 109: 0.0348, 249: 0.0023, 41: 0.0193, 301: 0.0099, 255: 0.0028, 11: 0.0058, 48: 0.0016, 22: 0.0041, 283: 0.0014, 292: 0.0012, 443: 0.0009, 141: 0.0249, 5: 0.0033, 544: 0.0012, 269: 0.0073, 20: 0.0019, 573: 0.003, 15: 0.0135, 473: 0.0001, 429: 0.0028, 749: 0.0003, 397: 0.0012, 207: 0.0015, 169: 0.0179, 111: 0.0043, 0: 0.0074, 812: 0.0004, 127: 0.0068, 133: 0.0012, 175: 0.0025, 50: 0.004, 51: 0.0011, 31: 0.0165, 10: 0.0014, 904: 0.0001, 615: 0.0002, 187: 0.0047, 205: 0.0059, 296: 0.001, 559: 0.0009, 57: 0.0069, 32: 0.0042, 63: 0.0082, 34: 0.0019, 781: 0.0026, 29: 0.0112, 61: 0.0045, 307: 0.0004, 46: 0.0022, 190: 0.0008, 36: 0.0037, 512: 0.0017, 557: 0.0098, 585: 0.0007, 18: 0.008, 287: 0.0015, 769: 0.0003, 43: 0.0079, 95: 0.0035, 167: 0.0001, 185: 0.0053, 87: 0.0005, 164: 0.0008, 384: 0.0001, 821: 0.0002, 131: 0.0005, 143: 0.0032, 233: 0.0049, 155: 0.0048, 285: 0.0015, 171: 0.0027, 651: 0.0003, 768: 0.0005, 62: 0.0033, 8: 0.0021, 86: 0.0014, 811: 0.0001, 941: 0.0009, 832: 0.0001, 697: 0.0009, 548: 0.0023, 160: 0.0005, 613: 0.0005, 201: 0.0015, 303: 0.0005, 771: 0.0001, 150: 0.0004, 19: 0.0035, 523: 0.0012, 777: 0.0004, 214: 0.0006, 68: 0.0006, 12: 0.003, 317: 0.0019, 434: 0.0001, 97: 0.001, 96: 0.0012, 73: 0.011, 229: 0.0004, 873: 0.0003, 35: 0.0042, 621: 0.0021, 347: 0.0005, 101: 0.0019, 128: 0.0006, 589: 0.0018, 114: 0.0012, 278: 0.0004, 441: 0.001, 54: 0.0031, 605: 0.0005, 588: 0.0001, 650: 0.0001, 219: 0.001, 100: 0.0006, 107: 0.002, 103: 0.0003, 549: 0.0005, 177: 0.0004, 527: 0.0011, 79: 0.0032, 44: 0.0052, 235: 0.0007, 267: 0.0013, 885: 0.0001, 14: 0.0008, 356: 0.0002, 400: 0.0001, 561: 0.0002, 537: 0.0009, 148: 0.0003, 310: 0.0007, 293: 0.0006, 313: 0.0012, 553: 0.0015, 653: 0.0012, 633: 0.0009, 297: 0.0015, 539: 0.0018, 159: 0.003, 88: 0.0008, 647: 0.0001, 208: 0.0003, 569: 0.0012, 430: 0.0001, 799: 0.0003, 517: 0.0004, 162: 0.0013, 685: 0.0018, 230: 0.0007, 877: 0.0012, 568: 0.0001, 80: 0.0002, 671: 0.0004, 129: 0.0013, 115: 0.001, 99: 0.0006, 530: 0.0006, 226: 0.0006, 23: 0.0009, 555: 0.0011, 248: 0.0001, 393: 0.0005, 55: 0.0005, 522: 0.0004, 841: 0.0005, 153: 0.0007, 3: 0.0004, 279: 0.0002, 411: 0.0003, 502: 0.0001, 597: 0.0001, 299: 0.0013, 454: 0.0003, 168: 0.0003, 349: 0.0005, 21: 0.0011, 793: 0.0006, 90: 0.0004, 420: 0.0008, 335: 0.0003, 163: 0.001, 521: 0.0004, 65: 0.0022, 783: 0.0005, 800: 0.0004, 318: 0.0003, 288: 0.0011, 813: 0.0028, 261: 0.0005, 199: 0.0009, 130: 0.0004, 701: 0.0004, 179: 0.001, 822: 0.0005, 113: 0.0003, 733: 0.0008, 196: 0.0004, 2: 0.0015, 362: 0.0002, 911: 0.0002, 191: 0.0055, 891: 0.0002, 746: 0.0001, 271: 0.0004, 445: 0.0001, 831: 0.0005, 365: 0.0015, 552: 0.0007, 378: 0.0003, 950: 0.0002, 333: 0.0014, 779: 0.0004, 717: 0.0005, 364: 0.0001, 528: 0.0005, 76: 0.0002, 513: 0.0009, 377: 0.0009, 221: 0.0009, 493: 0.0008, 257: 0.0006, 64: 0.0008, 843: 0.0001, 239: 0.0017, 26: 0.0005, 554: 0.0005, 814: 0.0003, 808: 0.0006, 567: 0.0004, 266: 0.0009, 405: 0.0001, 186: 0.0003, 126: 0.0004, 206: 0.0005, 40: 0.0017, 102: 0.0008, 425: 0.0007, 833: 0.0003, 338: 0.0001, 622: 0.0001, 300: 0.0006, 728: 0.0001, 98: 0.001, 614: 0.0001, 243: 0.0005, 566: 0.0007, 204: 0.0009, 367: 0.0001, 38: 0.0006, 192: 0.0003, 329: 0.0003, 494: 0.0001, 94: 0.0003, 461: 0.0007, 281: 0.0011, 217: 0.0004, 139: 0.0007, 909: 0.001, 669: 0.0006, 655: 0.0001, 524: 0.0012, 648: 0.0005, 328: 0.0004, 138: 0.0002, 617: 0.0009, 174: 0.0007, 183: 0.0001, 330: 0.0002, 83: 0.0004, 687: 0.0002, 274: 0.0005, 84: 0.0001, 136: 0.0002, 584: 0.0003, 726: 0.0002, 997: 0.0003, 937: 0.0003, 565: 0.0003, 712: 0.0004, 231: 0.0002, 176: 0.0006, 264: 0.0004, 132: 0.0004, 626: 0.0002, 415: 0.0002, 595: 0.0002, 486: 0.0001, 49: 0.0007, 845: 0.0008, 884: 0.0001, 381: 0.0002, 564: 0.0001, 282: 0.0002, 791: 0.0001, 505: 0.0002, 498: 0.0001, 144: 0.0003, 541: 0.0009, 200: 0.0002, 534: 0.0004, 464: 0.0001, 795: 0.0001, 166: 0.0008, 730: 0.0001, 546: 0.0003, 955: 0.0002, 489: 0.0004, 424: 0.0003, 973: 0.0002, 197: 0.0002, 184: 0.0003, 69: 0.001, 72: 0.0008, 124: 0.0001, 263: 0.0002, 1005: 0.0001, 188: 0.0003, 82: 0.0002, 590: 0.0001, 563: 0.0006, 147: 0.0003, 151: 0.0005, 515: 0.0001, 334: 0.0003, 413: 0.001, 251: 0.0005, 7: 0.0003, 678: 0.0001, 776: 0.0011, 306: 0.0009, 680: 0.0007, 273: 0.0001, 699: 0.0005, 161: 0.0011, 492: 0.0002, 711: 0.0002, 110: 0.0006, 570: 0.0003, 407: 0.0001, 545: 0.0002, 431: 0.0001, 556: 0.0006, 234: 0.0001, 758: 0.0001, 529: 0.0001, 745: 0.0002, 662: 0.0001, 933: 0.0002, 936: 0.0002, 6: 0.0004, 277: 0.0002, 818: 0.0003, 165: 0.0021, 635: 0.0004, 25: 0.0018, 829: 0.0005, 140: 0.0001, 957: 0.0001, 298: 0.0006, 620: 0.0003, 392: 0.0003, 225: 0.0003, 562: 0.0004, 24: 0.001, 311: 0.0003, 907: 0.0001, 242: 0.0007, 477: 0.0003, 446: 0.0001, 39: 0.0003, 134: 0.0001, 876: 0.0002, 125: 0.0004, 442: 0.0002, 1006: 0.0001, 316: 0.0001, 738: 0.0002, 623: 0.0001, 773: 0.0001, 216: 0.0003, 272: 0.0006, 182: 0.0002, 684: 0.0001, 484: 0.0002, 270: 0.0002, 887: 0.0001, 616: 0.0003, 193: 0.0005, 152: 0.0004, 612: 0.0003, 536: 0.0001, 426: 0.0004, 587: 0.0002, 360: 0.0003, 458: 0.0001, 399: 0.0005, 253: 0.0005, 507: 0.0002, 847: 0.0003, 67: 0.0002, 802: 0.0001, 640: 0.0001, 575: 0.0003, 331: 0.0001, 218: 0.0002, 459: 0.0002, 30: 0.0001, 519: 0.0002, 149: 0.0004, 504: 0.0001, 889: 0.0001, 351: 0.0003, 421: 0.0003, 591: 0.0002, 742: 0.0001, 535: 0.0001, 265: 0.0003, 203: 0.0002, 1001: 0.0001, 358: 0.0002, 861: 0.0001, 379: 0.0005, 682: 0.0001, 4: 0.0001, 60: 0.0002, 514: 0.0001, 608: 0.0001, 118: 0.0002, 905: 0.0002, 485: 0.0001, 409: 0.0001, 104: 0.0001, 645: 0.0001, 574: 0.0002, 543: 0.0002, 385: 0.0001, 805: 0.0002, 863: 0.0001, 17: 0.0002, 336: 0.0001, 474: 0.0001, 189: 0.0001, 232: 0.0002, 649: 0.0004, 346: 0.0001, 975: 0.0001, 747: 0.0001, 748: 0.0001, 593: 0.0001, 603: 0.0002, 386: 0.0002, 112: 0.0002, 58: 0.0003, 761: 0.0002, 71: 0.0001, 735: 0.0002, 809: 0.0004, 606: 0.0002, 823: 0.0003, 359: 0.0001, 676: 0.0002, 790: 0.0001, 667: 0.0002, 290: 0.0002, 74: 0.0003, 934: 0.0001, 759: 0.0001, 361: 0.0002, 428: 0.0003, 804: 0.0002, 516: 0.0001, 897: 0.0001, 122: 0.0002, 864: 0.0001, 715: 0.0001, 686: 0.0002, 227: 0.0001, 212: 0.0001, 341: 0.0001, 350: 0.0001, 211: 0.0001, 198: 0.0002, 116: 0.0001, 319: 0.0002, 520: 0.0004, 222: 0.0001, 308: 0.0001, 825: 0.0003, 927: 0.0002, 398: 0.0001, 327: 0.0002, 142: 0.0001, 642: 0.0001, 696: 0.0001, 1011: 0.0001, 455: 0.0001, 246: 0.0003, 637: 0.0001, 991: 0.0002, 374: 0.0001, 158: 0.0001, 66: 0.0001, 503: 0.0001, 538: 0.0001, 741: 0.0002, 354: 0.0001, 220: 0.0001, 690: 0.0001, 827: 0.0001, 382: 0.0001, 395: 0.0001, 951: 0.0001, 801: 0.0001, 928: 0.0001, 488: 0.0001, 820: 0.0001, 689: 0.0001, 391: 0.0001, 339: 0.0001, 533: 0.0001, 598: 0.0001, 236: 0.0001, 85: 0.0001, 705: 0.0001, 893: 0.0001, 786: 0.0001, 869: 0.0001, 435: 0.0001, 571: 0.0001, 854: 0.0001, 370: 0.0001, 778: 0.0001, 1020: 0.0001, 803: 0.0001, 714: 0.0001, 634: 0.0001, 252: 0.0001, 56: 0.0001}\n",
      "{'0000000001': 0.0098, '0000100001': 0.0024, '0000001101': 0.088, '0010011101': 0.0036, '0001111011': 0.0042, '0100001100': 0.001, '0000101101': 0.1263, '0100000000': 0.0017, '0001001011': 0.0013, '0010101101': 0.04, '0001001101': 0.0273, '0010001001': 0.0101, '0000111011': 0.0109, '0001101001': 0.0175, '0000101111': 0.0081, '0010110010': 0.0017, '0001011011': 0.0055, '0001111001': 0.0052, '0000100101': 0.0077, '0011101101': 0.0083, '0000011011': 0.0157, '0011101110': 0.0004, '0001011101': 0.0035, '1000001101': 0.0066, '0000001001': 0.0299, '0001101101': 0.0348, '0011111001': 0.0023, '0000101001': 0.0193, '0100101101': 0.0099, '0011111111': 0.0028, '0000001011': 0.0058, '0000110000': 0.0016, '0000010110': 0.0041, '0100011011': 0.0014, '0100100100': 0.0012, '0110111011': 0.0009, '0010001101': 0.0249, '0000000101': 0.0033, '1000100000': 0.0012, '0100001101': 0.0073, '0000010100': 0.0019, '1000111101': 0.003, '0000001111': 0.0135, '0111011001': 0.0001, '0110101101': 0.0028, '1011101101': 0.0003, '0110001101': 0.0012, '0011001111': 0.0015, '0010101001': 0.0179, '0001101111': 0.0043, '0000000000': 0.0074, '1100101100': 0.0004, '0001111111': 0.0068, '0010000101': 0.0012, '0010101111': 0.0025, '0000110010': 0.004, '0000110011': 0.0011, '0000011111': 0.0165, '0000001010': 0.0014, '1110001000': 0.0001, '1001100111': 0.0002, '0010111011': 0.0047, '0011001101': 0.0059, '0100101000': 0.001, '1000101111': 0.0009, '0000111001': 0.0069, '0000100000': 0.0042, '0000111111': 0.0082, '0000100010': 0.0019, '1100001101': 0.0026, '0000011101': 0.0112, '0000111101': 0.0045, '0100110011': 0.0004, '0000101110': 0.0022, '0010111110': 0.0008, '0000100100': 0.0037, '1000000000': 0.0017, '1000101101': 0.0098, '1001001001': 0.0007, '0000010010': 0.008, '0100011111': 0.0015, '1100000001': 0.0003, '0000101011': 0.0079, '0001011111': 0.0035, '0010100111': 0.0001, '0010111001': 0.0053, '0001010111': 0.0005, '0010100100': 0.0008, '0110000000': 0.0001, '1100110101': 0.0002, '0010000011': 0.0005, '0010001111': 0.0032, '0011101001': 0.0049, '0010011011': 0.0048, '0100011101': 0.0015, '0010101011': 0.0027, '1010001011': 0.0003, '1100000000': 0.0005, '0000111110': 0.0033, '0000001000': 0.0021, '0001010110': 0.0014, '1100101011': 0.0001, '1110101101': 0.0009, '1101000000': 0.0001, '1010111001': 0.0009, '1000100100': 0.0023, '0010100000': 0.0005, '1001100101': 0.0005, '0011001001': 0.0015, '0100101111': 0.0005, '1100000011': 0.0001, '0010010110': 0.0004, '0000010011': 0.0035, '1000001011': 0.0012, '1100001001': 0.0004, '0011010110': 0.0006, '0001000100': 0.0006, '0000001100': 0.003, '0100111101': 0.0019, '0110110010': 0.0001, '0001100001': 0.001, '0001100000': 0.0012, '0001001001': 0.011, '0011100101': 0.0004, '1101101001': 0.0003, '0000100011': 0.0042, '1001101101': 0.0021, '0101011011': 0.0005, '0001100101': 0.0019, '0010000000': 0.0006, '1001001101': 0.0018, '0001110010': 0.0012, '0100010110': 0.0004, '0110111001': 0.001, '0000110110': 0.0031, '1001011101': 0.0005, '1001001100': 0.0001, '1010001010': 0.0001, '0011011011': 0.001, '0001100100': 0.0006, '0001101011': 0.002, '0001100111': 0.0003, '1000100101': 0.0005, '0010110001': 0.0004, '1000001111': 0.0011, '0001001111': 0.0032, '0000101100': 0.0052, '0011101011': 0.0007, '0100001011': 0.0013, '1101110101': 0.0001, '0000001110': 0.0008, '0101100100': 0.0002, '0110010000': 0.0001, '1000110001': 0.0002, '1000011001': 0.0009, '0010010100': 0.0003, '0100110110': 0.0007, '0100100101': 0.0006, '0100111001': 0.0012, '1000101001': 0.0015, '1010001101': 0.0012, '1001111001': 0.0009, '0100101001': 0.0015, '1000011011': 0.0018, '0010011111': 0.003, '0001011000': 0.0008, '1010000111': 0.0001, '0011010000': 0.0003, '1000111001': 0.0012, '0110101110': 0.0001, '1100011111': 0.0003, '1000000101': 0.0004, '0010100010': 0.0013, '1010101101': 0.0018, '0011100110': 0.0007, '1101101101': 0.0012, '1000111000': 0.0001, '0001010000': 0.0002, '1010011111': 0.0004, '0010000001': 0.0013, '0001110011': 0.001, '0001100011': 0.0006, '1000010010': 0.0006, '0011100010': 0.0006, '0000010111': 0.0009, '1000101011': 0.0011, '0011111000': 0.0001, '0110001001': 0.0005, '0000110111': 0.0005, '1000001010': 0.0004, '1101001001': 0.0005, '0010011001': 0.0007, '0000000011': 0.0004, '0100010111': 0.0002, '0110011011': 0.0003, '0111110110': 0.0001, '1001010101': 0.0001, '0100101011': 0.0013, '0111000110': 0.0003, '0010101000': 0.0003, '0101011101': 0.0005, '0000010101': 0.0011, '1100011001': 0.0006, '0001011010': 0.0004, '0110100100': 0.0008, '0101001111': 0.0003, '0010100011': 0.001, '1000001001': 0.0004, '0001000001': 0.0022, '1100001111': 0.0005, '1100100000': 0.0004, '0100111110': 0.0003, '0100100000': 0.0011, '1100101101': 0.0028, '0100000101': 0.0005, '0011000111': 0.0009, '0010000010': 0.0004, '1010111101': 0.0004, '0010110011': 0.001, '1100110110': 0.0005, '0001110001': 0.0003, '1011011101': 0.0008, '0011000100': 0.0004, '0000000010': 0.0015, '0101101010': 0.0002, '1110001111': 0.0002, '0010111111': 0.0055, '1101111011': 0.0002, '1011101010': 0.0001, '0100001111': 0.0004, '0110111101': 0.0001, '1100111111': 0.0005, '0101101101': 0.0015, '1000101000': 0.0007, '0101111010': 0.0003, '1110110110': 0.0002, '0101001101': 0.0014, '1100001011': 0.0004, '1011001101': 0.0005, '0101101100': 0.0001, '1000010000': 0.0005, '0001001100': 0.0002, '1000000001': 0.0009, '0101111001': 0.0009, '0011011101': 0.0009, '0111101101': 0.0008, '0100000001': 0.0006, '0001000000': 0.0008, '1101001011': 0.0001, '0011101111': 0.0017, '0000011010': 0.0005, '1000101010': 0.0005, '1100101110': 0.0003, '1100101000': 0.0006, '1000110111': 0.0004, '0100001010': 0.0009, '0110010101': 0.0001, '0010111010': 0.0003, '0001111110': 0.0004, '0011001110': 0.0005, '0000101000': 0.0017, '0001100110': 0.0008, '0110101001': 0.0007, '1101000001': 0.0003, '0101010010': 0.0001, '1001101110': 0.0001, '0100101100': 0.0006, '1011011000': 0.0001, '0001100010': 0.001, '1001100110': 0.0001, '0011110011': 0.0005, '1000110110': 0.0007, '0011001100': 0.0009, '0101101111': 0.0001, '0000100110': 0.0006, '0011000000': 0.0003, '0101001001': 0.0003, '0111101110': 0.0001, '0001011110': 0.0003, '0111001101': 0.0007, '0100011001': 0.0011, '0011011001': 0.0004, '0010001011': 0.0007, '1110001101': 0.001, '1010011101': 0.0006, '1010001111': 0.0001, '1000001100': 0.0012, '1010001000': 0.0005, '0101001000': 0.0004, '0010001010': 0.0002, '1001101001': 0.0009, '0010101110': 0.0007, '0010110111': 0.0001, '0101001010': 0.0002, '0001010011': 0.0004, '1010101111': 0.0002, '0100010010': 0.0005, '0001010100': 0.0001, '0010001000': 0.0002, '1001001000': 0.0003, '1011010110': 0.0002, '1111100101': 0.0003, '1110101001': 0.0003, '1000110101': 0.0003, '1011001000': 0.0004, '0011100111': 0.0002, '0010110000': 0.0006, '0100001000': 0.0004, '0010000100': 0.0004, '1001110010': 0.0002, '0110011111': 0.0002, '1001010011': 0.0002, '0111100110': 0.0001, '0000110001': 0.0007, '1101001101': 0.0008, '1101110100': 0.0001, '0101111101': 0.0002, '1000110100': 0.0001, '0100011010': 0.0002, '1100010111': 0.0001, '0111111001': 0.0002, '0111110010': 0.0001, '0010010000': 0.0003, '1000011101': 0.0009, '0011001000': 0.0002, '1000010110': 0.0004, '0111010000': 0.0001, '1100011011': 0.0001, '0010100110': 0.0008, '1011011010': 0.0001, '1000100010': 0.0003, '1110111011': 0.0002, '0111101001': 0.0004, '0110101000': 0.0003, '1111001101': 0.0002, '0011000101': 0.0002, '0010111000': 0.0003, '0001000101': 0.001, '0001001000': 0.0008, '0001111100': 0.0001, '0100000111': 0.0002, '1111101101': 0.0001, '0010111100': 0.0003, '0001010010': 0.0002, '1001001110': 0.0001, '1000110011': 0.0006, '0010010011': 0.0003, '0010010111': 0.0005, '1000000011': 0.0001, '0101001110': 0.0003, '0110011101': 0.001, '0011111011': 0.0005, '0000000111': 0.0003, '1010100110': 0.0001, '1100001000': 0.0011, '0100110010': 0.0009, '1010101000': 0.0007, '0100010001': 0.0001, '1010111011': 0.0005, '0010100001': 0.0011, '0111101100': 0.0002, '1011000111': 0.0002, '0001101110': 0.0006, '1000111010': 0.0003, '0110010111': 0.0001, '1000100001': 0.0002, '0110101111': 0.0001, '1000101100': 0.0006, '0011101010': 0.0001, '1011110110': 0.0001, '1000010001': 0.0001, '1011101001': 0.0002, '1010010110': 0.0001, '1110100101': 0.0002, '1110101000': 0.0002, '0000000110': 0.0004, '0100010101': 0.0002, '1100110010': 0.0003, '0010100101': 0.0021, '1001111011': 0.0004, '0000011001': 0.0018, '1100111101': 0.0005, '0010001100': 0.0001, '1110111101': 0.0001, '0100101010': 0.0006, '1001101100': 0.0003, '0110001000': 0.0003, '0011100001': 0.0003, '1000110010': 0.0004, '0000011000': 0.001, '0100110111': 0.0003, '1110001011': 0.0001, '0011110010': 0.0007, '0111011101': 0.0003, '0110111110': 0.0001, '0000100111': 0.0003, '0010000110': 0.0001, '1101101100': 0.0002, '0001111101': 0.0004, '0110111010': 0.0002, '1111101110': 0.0001, '0100111100': 0.0001, '1011100010': 0.0002, '1001101111': 0.0001, '1100000101': 0.0001, '0011011000': 0.0003, '0100010000': 0.0006, '0010110110': 0.0002, '1010101100': 0.0001, '0111100100': 0.0002, '0100001110': 0.0002, '1101110111': 0.0001, '1001101000': 0.0003, '0011000001': 0.0005, '0010011000': 0.0004, '1001100100': 0.0003, '1000011000': 0.0001, '0110101010': 0.0004, '1001001011': 0.0002, '0101101000': 0.0003, '0111001010': 0.0001, '0110001111': 0.0005, '0011111101': 0.0005, '0111111011': 0.0002, '1101001111': 0.0003, '0001000011': 0.0002, '1100100010': 0.0001, '1010000000': 0.0001, '1000111111': 0.0003, '0101001011': 0.0001, '0011011010': 0.0002, '0111001011': 0.0002, '0000011110': 0.0001, '1000000111': 0.0002, '0010010101': 0.0004, '0111111000': 0.0001, '1101111001': 0.0001, '0101011111': 0.0003, '0110100101': 0.0003, '1001001111': 0.0002, '1011100110': 0.0001, '1000010111': 0.0001, '0100001001': 0.0003, '0011001011': 0.0002, '1111101001': 0.0001, '0101100110': 0.0002, '1101011101': 0.0001, '0101111011': 0.0005, '1010101010': 0.0001, '0000000100': 0.0001, '0000111100': 0.0002, '1000000010': 0.0001, '1001100000': 0.0001, '0001110110': 0.0002, '1110001001': 0.0002, '0111100101': 0.0001, '0110011001': 0.0001, '0001101000': 0.0001, '1010000101': 0.0001, '1000111110': 0.0002, '1000011111': 0.0002, '0110000001': 0.0001, '1100100101': 0.0002, '1101011111': 0.0001, '0000010001': 0.0002, '0101010000': 0.0001, '0111011010': 0.0001, '0010111101': 0.0001, '0011101000': 0.0002, '1010001001': 0.0004, '0101011010': 0.0001, '1111001111': 0.0001, '1011101011': 0.0001, '1011101100': 0.0001, '1001010001': 0.0001, '1001011011': 0.0002, '0110000010': 0.0002, '0001110000': 0.0002, '0000111010': 0.0003, '1011111001': 0.0002, '0001000111': 0.0001, '1011011111': 0.0002, '1100101001': 0.0004, '1001011110': 0.0002, '1100110111': 0.0003, '0101100111': 0.0001, '1010100100': 0.0002, '1100010110': 0.0001, '1010011011': 0.0002, '0100100010': 0.0002, '0001001010': 0.0003, '1110100110': 0.0001, '1011110111': 0.0001, '0101101001': 0.0002, '0110101100': 0.0003, '1100100100': 0.0002, '1000000100': 0.0001, '1110000001': 0.0001, '0001111010': 0.0002, '1101100000': 0.0001, '1011001011': 0.0001, '1010101110': 0.0002, '0011100011': 0.0001, '0011010100': 0.0001, '0101010101': 0.0001, '0101011110': 0.0001, '0011010011': 0.0001, '0011000110': 0.0002, '0001110100': 0.0001, '0100111111': 0.0002, '1000001000': 0.0004, '0011011110': 0.0001, '0100110100': 0.0001, '1100111001': 0.0003, '1110011111': 0.0002, '0110001110': 0.0001, '0101000111': 0.0002, '0010001110': 0.0001, '1010000010': 0.0001, '1010111000': 0.0001, '1111110011': 0.0001, '0111000111': 0.0001, '0011110110': 0.0003, '1001111101': 0.0001, '1111011111': 0.0002, '0101110110': 0.0001, '0010011110': 0.0001, '0001000010': 0.0001, '0111110111': 0.0001, '1000011010': 0.0001, '1011100101': 0.0002, '0101100010': 0.0001, '0011011100': 0.0001, '1010110010': 0.0001, '1100111011': 0.0001, '0101111110': 0.0001, '0110001011': 0.0001, '1110110111': 0.0001, '1100100001': 0.0001, '1110100000': 0.0001, '0111101000': 0.0001, '1100110100': 0.0001, '1010110001': 0.0001, '0110000111': 0.0001, '0101010011': 0.0001, '1000010101': 0.0001, '1001010110': 0.0001, '0011101100': 0.0001, '0001010101': 0.0001, '1011000001': 0.0001, '1101111101': 0.0001, '1100010010': 0.0001, '1101100101': 0.0001, '0110110011': 0.0001, '1000111011': 0.0001, '1101010110': 0.0001, '0101110010': 0.0001, '1100001010': 0.0001, '1111111100': 0.0001, '1100100011': 0.0001, '1011001010': 0.0001, '1001111010': 0.0001, '0011111100': 0.0001, '0000111000': 0.0001}\n"
     ]
    },
    {
     "name": "stderr",
     "output_type": "stream",
     "text": [
      "c:\\Users\\arthu\\miniconda3\\envs\\QuantumQiskit\\lib\\site-packages\\qiskit_ibm_runtime\\fake_provider\\local_service.py:268: UserWarning: Options {'dynamical_decoupling': {'enable': True, 'sequence_type': 'XY4'}, 'twirling': {'enable_gates': True, 'num_randomizations': 'auto'}} have no effect in local testing mode.\n",
      "  warnings.warn(f\"Options {options_copy} have no effect in local testing mode.\")\n"
     ]
    }
   ],
   "source": [
    "from qiskit_ibm_runtime import SamplerV2 as Sampler\n",
    "\n",
    "# If using qiskit-ibm-runtime<0.24.0, change `mode=` to `backend=`\n",
    "sampler = Sampler(mode=backend)\n",
    "sampler.options.default_shots = 10000\n",
    "\n",
    "# Set simple error suppression/mitigation options\n",
    "sampler.options.dynamical_decoupling.enable = True\n",
    "sampler.options.dynamical_decoupling.sequence_type = \"XY4\"\n",
    "sampler.options.twirling.enable_gates = True\n",
    "sampler.options.twirling.num_randomizations = \"auto\"\n",
    "\n",
    "pub= (optimized_circuit, )\n",
    "job = sampler.run([pub], shots=int(1e4))\n",
    "\n",
    "counts_int = job.result()[0].data.meas.get_int_counts()\n",
    "counts_bin = job.result()[0].data.meas.get_counts()\n",
    "shots = sum(counts_int.values())\n",
    "final_distribution_100_int = {key: val/shots for key, val in counts_int.items()}\n",
    "\n",
    "final_distribution_int = {key: val/shots for key, val in counts_int.items()}\n",
    "final_distribution_bin = {key: val/shots for key, val in counts_bin.items()}\n",
    "print(final_distribution_int)\n",
    "print(final_distribution_bin)"
   ]
  },
  {
   "cell_type": "code",
   "execution_count": 104,
   "metadata": {},
   "outputs": [],
   "source": [
    "# Sort both distributions by probability in descending order\n",
    "sorted_dist_int = dict(sorted(final_distribution_int.items(), key=lambda x: x[1], reverse=True))\n",
    "sorted_dist_bin = dict(sorted(final_distribution_bin.items(), key=lambda x: x[1], reverse=True))\n",
    "\n",
    "# Print top 10 most likely outcomes\n",
    "top_bin_list = []\n",
    "for k, v in list(sorted_dist_bin.items())[:20]:\n",
    "    temp_list = list(k)\n",
    "    top_bin_list.append([int(re) for re in temp_list])\n"
   ]
  },
  {
   "cell_type": "code",
   "execution_count": 105,
   "metadata": {},
   "outputs": [
    {
     "name": "stdout",
     "output_type": "stream",
     "text": [
      "16\n"
     ]
    }
   ],
   "source": [
    "def calculate_cost_from_qubo(bitstring):\n",
    "    # Convert bitstring to a dictionary of variable assignments\n",
    "    var_assignment = {var.name: bit for var, bit in zip(qubo.variables, bitstring)}\n",
    "    \n",
    "    # Evaluate the cost function\n",
    "    cost = qubo.objective.evaluate(var_assignment)\n",
    "    \n",
    "    return cost\n",
    "\n",
    "# Example usage\n",
    "cost_l = []\n",
    "for bin in top_bin_list:\n",
    "    cost = calculate_cost_from_qubo(bin)\n",
    "    cost_l.append(cost)\n",
    "\n",
    "min_index, min_value = min(enumerate(cost_l), key=operator.itemgetter(1))\n",
    "print(min_index)\n",
    "\n",
    "most_likely_bitstring = top_bin_list[min_index]"
   ]
  },
  {
   "cell_type": "markdown",
   "metadata": {},
   "source": [
    "### Post-process"
   ]
  },
  {
   "cell_type": "code",
   "execution_count": 106,
   "metadata": {},
   "outputs": [
    {
     "name": "stdout",
     "output_type": "stream",
     "text": [
      "[0, 0, 1]\n",
      "[0, 0, 0]\n"
     ]
    }
   ],
   "source": [
    "x_value = most_likely_bitstring[0:Nc]\n",
    "y_value = most_likely_bitstring[Nc:2*Nc]\n",
    "\n",
    "print(x_value)\n",
    "print(y_value)"
   ]
  },
  {
   "cell_type": "markdown",
   "metadata": {},
   "source": [
    "### Visualization"
   ]
  },
  {
   "cell_type": "code",
   "execution_count": 107,
   "metadata": {},
   "outputs": [],
   "source": [
    "def distance(x, y, Nc):\n",
    "    velocity = 0\n",
    "    vel = [0]\n",
    "    dist = [0]\n",
    "    dist_tot= 0\n",
    "    for i in range(0, Nc):\n",
    "        velocity = velocity + delta_v*(x[i]-y[i])\n",
    "        if velocity < 0:\n",
    "            velocity = -velocity\n",
    "        vel.append(velocity)\n",
    "        dist_tot += velocity\n",
    "        dist.append(dist_tot)\n",
    "    return dist,vel"
   ]
  },
  {
   "cell_type": "code",
   "execution_count": 108,
   "metadata": {},
   "outputs": [],
   "source": [
    "time= np.arange(Nc+1)\n",
    "distn, velo = distance(x_value, y_value, Nc)"
   ]
  },
  {
   "cell_type": "code",
   "execution_count": 109,
   "metadata": {},
   "outputs": [
    {
     "name": "stderr",
     "output_type": "stream",
     "text": [
      "C:\\Users\\arthu\\AppData\\Local\\Temp\\ipykernel_17824\\2353725290.py:12: UserWarning: No artists with labels found to put in legend.  Note that artists whose label start with an underscore are ignored when legend() is called with no argument.\n",
      "  plt.legend()\n"
     ]
    }
   ],
   "source": [
    "plt.figure(figsize=(15,8))\n",
    "\n",
    "matplotlib.rcParams.update({\"font.size\": 15})\n",
    "\n",
    "plt.plot(time, velo, c='b', marker=\"o\", markersize=2, linestyle='-')#, label='label)\n",
    "\n",
    "plt.xlabel('Time')\n",
    "plt.ylabel('Velocity')\n",
    "plt.title(\"Velocity vs Time\")\n",
    "plt.grid(axis='x')\n",
    "plt.grid(axis='y')\n",
    "plt.legend()\n",
    "plt.show()"
   ]
  },
  {
   "cell_type": "code",
   "execution_count": null,
   "metadata": {},
   "outputs": [
    {
     "name": "stderr",
     "output_type": "stream",
     "text": [
      "C:\\Users\\arthu\\AppData\\Local\\Temp\\ipykernel_17824\\1348846773.py:9: UserWarning: No artists with labels found to put in legend.  Note that artists whose label start with an underscore are ignored when legend() is called with no argument.\n",
      "  plt.legend()\n"
     ]
    },
    {
     "ename": "",
     "evalue": "",
     "output_type": "error",
     "traceback": [
      "\u001b[1;31mThe Kernel crashed while executing code in the current cell or a previous cell. \n",
      "\u001b[1;31mPlease review the code in the cell(s) to identify a possible cause of the failure. \n",
      "\u001b[1;31mClick <a href='https://aka.ms/vscodeJupyterKernelCrash'>here</a> for more info. \n",
      "\u001b[1;31mView Jupyter <a href='command:jupyter.viewOutput'>log</a> for further details."
     ]
    }
   ],
   "source": [
    "plt.figure(figsize=(10,6))\n",
    "\n",
    "matplotlib.rcParams.update({\"font.size\": 15})\n",
    "\n",
    "plt.plot(time, distn, c='b', marker=\"o\", markersize=1, linestyle='-')#, label='label')\n",
    "plt.xlabel('Time')\n",
    "plt.ylabel('Distance')\n",
    "plt.title(\"Distance vs Time\")\n",
    "plt.legend()\n",
    "plt.show()"
   ]
  }
 ],
 "metadata": {
  "kernelspec": {
   "display_name": "QuantumQiskit",
   "language": "python",
   "name": "python3"
  },
  "language_info": {
   "codemirror_mode": {
    "name": "ipython",
    "version": 3
   },
   "file_extension": ".py",
   "mimetype": "text/x-python",
   "name": "python",
   "nbconvert_exporter": "python",
   "pygments_lexer": "ipython3",
   "version": "3.9.20"
  }
 },
 "nbformat": 4,
 "nbformat_minor": 2
}
