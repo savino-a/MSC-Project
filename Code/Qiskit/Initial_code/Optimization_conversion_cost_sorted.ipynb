{
 "cells": [
  {
   "cell_type": "markdown",
   "metadata": {},
   "source": [
    "# This is the code for Quantum Optimization"
   ]
  },
  {
   "cell_type": "code",
   "execution_count": 125,
   "metadata": {},
   "outputs": [],
   "source": [
    "import unittest\n",
    "import qiskit\n",
    "from qiskit.quantum_info import SparsePauliOp\n",
    "from qiskit_optimization import QuadraticProgram\n",
    "from qiskit_optimization.translators import from_docplex_mp\n",
    "from docplex.mp.model import Model\n",
    "import numpy as np\n",
    "from qiskit_algorithms import QAOA\n",
    "from qiskit_optimization.algorithms import MinimumEigenOptimizer\n",
    "from qiskit_algorithms.optimizers import COBYLA\n",
    "from qiskit_ibm_runtime import QiskitRuntimeService, SamplerV2 as SamplerV2\n",
    "import operator\n",
    "from qiskit.primitives import Sampler, Estimator\n",
    "from qiskit_optimization.converters import QuadraticProgramToQubo\n",
    "from qiskit.circuit.library import QAOAAnsatz\n",
    "import qiskit_aer as Aer\n",
    "from qiskit_ibm_runtime import Session, EstimatorV2 as Estimator\n",
    "from scipy.optimize import minimize\n",
    "from qiskit_aer import AerSimulator\n",
    "from qiskit import transpile\n",
    "from qiskit.primitives import StatevectorSampler\n",
    "from qiskit_optimization.converters import InequalityToEquality\n",
    "from qiskit import QuantumCircuit, transpile\n",
    "from qiskit.visualization import circuit_drawer\n",
    "from qiskit.transpiler import PassManager\n",
    "from qiskit_aer.noise import NoiseModel, depolarizing_error, thermal_relaxation_error\n",
    "from qiskit.transpiler.passes import Optimize1qGates, CXCancellation\n",
    "from qiskit import QuantumCircuit, QuantumRegister\n",
    "from qiskit.circuit import Parameter\n",
    "import matplotlib\n",
    "matplotlib.use('TkAgg')  # Set non-interactive backend\n",
    "import matplotlib.pyplot as plt\n",
    "from qiskit import transpile\n",
    "from qiskit.visualization import circuit_drawer\n",
    "from qiskit.transpiler import PassManager\n",
    "from qiskit.transpiler.passes import Optimize1qGates, CXCancellation\n",
    "from qiskit_ibm_runtime import QiskitRuntimeService, SamplerV2 as Sampler2\n",
    "from qiskit.transpiler.preset_passmanagers import generate_preset_pass_manager\n",
    "import os\n",
    "from qiskit_algorithms import VQE\n",
    "from qiskit.primitives import Estimator as Estimator3\n",
    "from qiskit.circuit.library import TwoLocal\n",
    "from qiskit_algorithms.optimizers import COBYLA"
   ]
  },
  {
   "cell_type": "code",
   "execution_count": 126,
   "metadata": {},
   "outputs": [
    {
     "name": "stdout",
     "output_type": "stream",
     "text": [
      "Name: qiskit\n",
      "Version: 1.2.4\n",
      "Summary: An open-source SDK for working with quantum computers at the level of extended quantum circuits, operators, and primitives.\n",
      "Home-page: https://www.ibm.com/quantum/qiskit\n",
      "Author: \n",
      "Author-email: Qiskit Development Team <qiskit@us.ibm.com>\n",
      "License: Apache 2.0\n",
      "Location: c:\\users\\arthu\\miniconda3\\envs\\quantumqiskit\\lib\\site-packages\n",
      "Requires: dill, numpy, python-dateutil, rustworkx, scipy, stevedore, symengine, sympy, typing-extensions\n",
      "Required-by: qiskit-aer, qiskit-algorithms, qiskit-ibm-runtime, qiskit-machine-learning, qiskit-optimization\n",
      "Note: you may need to restart the kernel to use updated packages.\n"
     ]
    }
   ],
   "source": [
    "pip show qiskit"
   ]
  },
  {
   "cell_type": "markdown",
   "metadata": {},
   "source": [
    "## We first create the Docplex/Cplex optimization problem"
   ]
  },
  {
   "cell_type": "code",
   "execution_count": 127,
   "metadata": {},
   "outputs": [],
   "source": [
    "opt_model = Model(name=\"MIP Model\")\n",
    "\n",
    "Nc= 3 # Nc is the number of seconds\n",
    "\n",
    "Dist=2 # Distance to travel\n",
    "\n",
    "tolerance = 0 # Tolerance in distance travelled\n",
    "\n",
    "delta_v=1 # Rate of acceleration/deceleration set to 1\n",
    "\n",
    "vmax=2 # Max speed of a TGV in France (in m/s)\n",
    "\n",
    "alpha=0.05 # Regenerative braking efficiency\n",
    "\n",
    "\"\"\"\n",
    "We define two binary variables for two bits. \n",
    "When x=0 and y=0 then constant velocity\n",
    "When x=1 and y=0 then acceleration\n",
    "When x=0 and y=1 then breaking\n",
    "\"\"\"\n",
    "\n",
    "x={}\n",
    "for i in range(0, Nc):\n",
    "    x[i]= opt_model.binary_var(name=f\"x_{i}\")\n",
    "\n",
    "y={}\n",
    "for i in range(0, Nc):\n",
    "    y[i]= opt_model.binary_var(name=f\"y_{i}\")\n",
    "\n",
    "'''z={}\n",
    "for i in range(0, Nc):\n",
    "    z[i]= opt_model.binary_var(name=f\"z_{i}\")'''\n",
    "    \n",
    "\n",
    "objective = opt_model.linear_expr()\n",
    "## objective is the hamiltonian/energy value we want to minimize\n",
    "## Energy:\n",
    "for i in range(0, Nc):\n",
    "    '''objective += (delta_v**2) * x[i] - alpha*(delta_v**2)*y[i]'''\n",
    "    objective += (delta_v**2)*x[i]\n",
    "\n",
    "    \n",
    "opt_model.minimize(objective)"
   ]
  },
  {
   "cell_type": "code",
   "execution_count": 128,
   "metadata": {},
   "outputs": [
    {
     "name": "stdout",
     "output_type": "stream",
     "text": [
      "Model: MIP Model\n",
      " - number of variables: 6\n",
      "   - binary=6, integer=0, continuous=0\n",
      " - number of constraints: 3\n",
      "   - linear=3\n",
      " - parameters: defaults\n",
      " - objective: minimize\n",
      " - problem type is: MILP\n",
      "// This file has been generated by DOcplex\n",
      "// model name is: MIP Model\n",
      "// single vars section\n",
      "dvar bool x_0;\n",
      "dvar bool x_1;\n",
      "dvar bool x_2;\n",
      "dvar bool y_0;\n",
      "dvar bool y_1;\n",
      "dvar bool y_2;\n",
      "\n",
      "minimize\n",
      " x_0 + x_1 + x_2;\n",
      " \n",
      "subject to {\n",
      " simultaneous_braking_acceleration_constraint_0:\n",
      "  x_0 + y_0 -1 <= 0;\n",
      " simultaneous_braking_acceleration_constraint_1:\n",
      "  x_1 + y_1 -1 <= 0;\n",
      " simultaneous_braking_acceleration_constraint_2:\n",
      "  x_2 + y_2 -1 <= 0;\n",
      "\n",
      "}\n"
     ]
    }
   ],
   "source": [
    "## Constraint 1: (simultaneous braking/acceleration)\n",
    "\n",
    "\n",
    "'''for i in range(0, Nc):\n",
    "    opt_model.add_constraint(z[i] <= x[i] , f\"z_u_d_{i}\") \n",
    "\n",
    "for i in range(0, Nc):\n",
    "    opt_model.add_constraint(z[i] <= y[i], f\"z_p_d_{i}\")\n",
    "        \n",
    "for i in range(0, Nc):\n",
    "    opt_model.add_constraint(z[i] >= x[i]+ y[i] -1 , f\"z_u_p_d_{i}\") \n",
    "\n",
    "for i in range(0,Nc):\n",
    "    opt_model.add_constraint(z[i] == 0, \"No simultaneous braking or acceleration constraint\"+str(i))\n",
    "opt_model.add_constraint(opt_model.sum(z[i] for i in range(0, Nc)) == 0 , \"No_simultaneous_braking_or_acceleration_constraint\")\n",
    "'''\n",
    "\n",
    "for i in range(0, Nc):\n",
    "    opt_model.add_constraint(x[i]+ y[i] -1 <= 0 , f\"simultaneous_braking_acceleration_constraint_{i}\") \n",
    "#### Print the optimization model info\n",
    "\n",
    "opt_model.print_information()\n",
    "opt_model.prettyprint()"
   ]
  },
  {
   "cell_type": "code",
   "execution_count": 129,
   "metadata": {},
   "outputs": [
    {
     "name": "stdout",
     "output_type": "stream",
     "text": [
      "Model: MIP Model\n",
      " - number of variables: 6\n",
      "   - binary=6, integer=0, continuous=0\n",
      " - number of constraints: 4\n",
      "   - linear=4\n",
      " - parameters: defaults\n",
      " - objective: minimize\n",
      " - problem type is: MILP\n"
     ]
    }
   ],
   "source": [
    "\"\"\"\n",
    "Constraint 2: (Total Distance constraints)\n",
    "\"\"\"\n",
    "\n",
    "distance = opt_model.linear_expr()\n",
    "velocity = 0\n",
    "for i in range(0, Nc):\n",
    "    velocity = velocity + delta_v*(x[i]-y[i])\n",
    "    distance += velocity\n",
    "'''opt_model.add_constraint(distance <= Dist+tolerance, \"Max_Distance_constraint\")\n",
    "opt_model.add_constraint(distance >= Dist-tolerance, \"Min_Distance_constraint\")'''\n",
    "opt_model.add_constraint(distance == Dist, \"Distance_constraint\")\n",
    "\n",
    "#### Print the optimization model info\n",
    "\n",
    "opt_model.print_information() "
   ]
  },
  {
   "cell_type": "code",
   "execution_count": 130,
   "metadata": {},
   "outputs": [
    {
     "name": "stdout",
     "output_type": "stream",
     "text": [
      "Model: MIP Model\n",
      " - number of variables: 6\n",
      "   - binary=6, integer=0, continuous=0\n",
      " - number of constraints: 5\n",
      "   - linear=5\n",
      " - parameters: defaults\n",
      " - objective: minimize\n",
      " - problem type is: MILP\n"
     ]
    }
   ],
   "source": [
    "\"\"\"\n",
    "Constraint 3: (Net-Zero contraint)\n",
    "\n",
    "\"\"\"\n",
    "opt_model.add_constraint(opt_model.sum((y[i]-x[i]) for i in range(0, Nc)) == 0 , \"Net_Zero_constraint\")\n",
    "\n",
    "#### Print the optimization model info\n",
    "\n",
    "opt_model.print_information()"
   ]
  },
  {
   "cell_type": "code",
   "execution_count": 131,
   "metadata": {},
   "outputs": [
    {
     "name": "stdout",
     "output_type": "stream",
     "text": [
      "Model: MIP Model\n",
      " - number of variables: 6\n",
      "   - binary=6, integer=0, continuous=0\n",
      " - number of constraints: 6\n",
      "   - linear=6\n",
      " - parameters: defaults\n",
      " - objective: minimize\n",
      " - problem type is: MILP\n"
     ]
    }
   ],
   "source": [
    "\"\"\"\n",
    "Constraint 4: (Maximum Speed)\n",
    "\n",
    "\"\"\"\n",
    "opt_model.add_constraint(opt_model.sum((delta_v*(x[i]) for i in range(0, Nc))) <= vmax , \"Maximum_Speed_constraint\")\n",
    "\n",
    "#### Print the optimization model info\n",
    "\n",
    "opt_model.print_information() "
   ]
  },
  {
   "cell_type": "code",
   "execution_count": 132,
   "metadata": {},
   "outputs": [
    {
     "name": "stdout",
     "output_type": "stream",
     "text": [
      "Model: MIP Model\n",
      " - number of variables: 6\n",
      "   - binary=6, integer=0, continuous=0\n",
      " - number of constraints: 9\n",
      "   - linear=9\n",
      " - parameters: defaults\n",
      " - objective: minimize\n",
      " - problem type is: MILP\n"
     ]
    }
   ],
   "source": [
    "\n",
    "#Constraint 5: (Positive Speed)\n",
    "for i in range(Nc):\n",
    "    opt_model.add_constraint(opt_model.sum((x[i]-y[i]) for i in range(0, i)) >= 0 , \"Positive_Speed_constraint\"+str(i))\n",
    "\n",
    "    #### Print the optimization model\n",
    "\n",
    "opt_model.print_information()\n"
   ]
  },
  {
   "cell_type": "code",
   "execution_count": 133,
   "metadata": {},
   "outputs": [
    {
     "data": {
      "text/plain": [
       "'\\n#Constraint 6: (Must leave immediately)\\n\\nopt_model.add_constraint(x[0]==1, \"Must leave immediately constraint\")\\n    \\n\\n#### Print the optimization model info\\n\\nopt_model.print_information()\\n'"
      ]
     },
     "execution_count": 133,
     "metadata": {},
     "output_type": "execute_result"
    }
   ],
   "source": [
    "'''\n",
    "#Constraint 6: (Must leave immediately)\n",
    "\n",
    "opt_model.add_constraint(x[0]==1, \"Must leave immediately constraint\")\n",
    "    \n",
    "\n",
    "#### Print the optimization model info\n",
    "\n",
    "opt_model.print_information()\n",
    "'''"
   ]
  },
  {
   "cell_type": "code",
   "execution_count": 134,
   "metadata": {},
   "outputs": [
    {
     "name": "stdout",
     "output_type": "stream",
     "text": [
      "// This file has been generated by DOcplex\n",
      "// model name is: MIP Model\n",
      "// single vars section\n",
      "dvar bool x_0;\n",
      "dvar bool x_1;\n",
      "dvar bool x_2;\n",
      "dvar bool y_0;\n",
      "dvar bool y_1;\n",
      "dvar bool y_2;\n",
      "\n",
      "minimize\n",
      " x_0 + x_1 + x_2;\n",
      " \n",
      "subject to {\n",
      " simultaneous_braking_acceleration_constraint_0:\n",
      "  x_0 + y_0 -1 <= 0;\n",
      " simultaneous_braking_acceleration_constraint_1:\n",
      "  x_1 + y_1 -1 <= 0;\n",
      " simultaneous_braking_acceleration_constraint_2:\n",
      "  x_2 + y_2 -1 <= 0;\n",
      " Distance_constraint:\n",
      "  3 x_0 - 3 y_0 + 2 x_1 - 2 y_1 + x_2 - y_2 == 2;\n",
      " Net_Zero_constraint:\n",
      "  y_0 - x_0 + y_1 - x_1 + y_2 - x_2 == 0;\n",
      " Maximum_Speed_constraint:\n",
      "  x_0 + x_1 + x_2 <= 2;\n",
      " Positive_Speed_constraint0:\n",
      "  0 >= 0;\n",
      " Positive_Speed_constraint1:\n",
      "  x_0 - y_0 >= 0;\n",
      " Positive_Speed_constraint2:\n",
      "  x_0 - y_0 + x_1 - y_1 >= 0;\n",
      "\n",
      "}\n",
      "None\n"
     ]
    }
   ],
   "source": [
    "#### Print the optimization model\n",
    "print(opt_model.prettyprint())"
   ]
  },
  {
   "cell_type": "markdown",
   "metadata": {},
   "source": [
    "## Problem conversion"
   ]
  },
  {
   "cell_type": "code",
   "execution_count": 135,
   "metadata": {},
   "outputs": [
    {
     "name": "stdout",
     "output_type": "stream",
     "text": [
      "Number of variables: 6\n"
     ]
    },
    {
     "name": "stderr",
     "output_type": "stream",
     "text": [
      "C:\\Users\\arthu\\AppData\\Local\\Temp\\ipykernel_2252\\414607200.py:2: UserWarning: Trivial constraint: Positive_Speed_constraint0: 0 >= 0\n",
      "  qp_quad = from_docplex_mp(opt_model)\n"
     ]
    }
   ],
   "source": [
    "# Conversion to qad_model\n",
    "qp_quad = from_docplex_mp(opt_model)\n",
    "print(\"Number of variables:\", len(qp_quad.variables))"
   ]
  },
  {
   "cell_type": "code",
   "execution_count": 136,
   "metadata": {},
   "outputs": [
    {
     "name": "stdout",
     "output_type": "stream",
     "text": [
      "QUBO variables: 10\n",
      "QUBO constraints: 0\n"
     ]
    },
    {
     "data": {
      "text/plain": [
       "'opt_model.export_as_lp(\"qubo1.lp\")'"
      ]
     },
     "execution_count": 136,
     "metadata": {},
     "output_type": "execute_result"
    }
   ],
   "source": [
    "# Conversion to qubo\n",
    "conv = QuadraticProgramToQubo()\n",
    "qubo = conv.convert(qp_quad)\n",
    "\n",
    "print(f\"QUBO variables: {len(qubo.variables)}\")\n",
    "print(f\"QUBO constraints: {len(qubo.linear_constraints)}\")\n",
    "\n",
    "'''opt_model.export_as_lp(\"qubo1.lp\")'''"
   ]
  },
  {
   "cell_type": "code",
   "execution_count": 137,
   "metadata": {},
   "outputs": [
    {
     "name": "stdout",
     "output_type": "stream",
     "text": [
      "Offset: 269.5\n",
      "Ising Hamiltonian:\n",
      "SparsePauliOp(['IIIIIIIIIZ', 'IIIIIIIIZI', 'IIIIIIIZII', 'IIIIIIZIII', 'IIIIIZIIII', 'IIIIZIIIII', 'IIIZIIIIII', 'IIZIIIIIII', 'IIIIIIIIZZ', 'IIIIIIIZIZ', 'IIIIIIZIIZ', 'IIIIIZIIIZ', 'IIIIZIIIIZ', 'IIIZIIIIIZ', 'IIZIIIIIIZ', 'IZIIIIIIIZ', 'IZIIIIIIII', 'ZIIIIIIIIZ', 'ZIIIIIIIII', 'IIIIIIIZZI', 'IIIIIIZIZI', 'IIIIIZIIZI', 'IIIIZIIIZI', 'IIIZIIIIZI', 'IIZIIIIIZI', 'IZIIIIIIZI', 'ZIIIIIIIZI', 'IIIIIIZZII', 'IIIIIZIZII', 'IIIIZIIZII', 'IIIZIIIZII', 'IIZIIIIZII', 'IIIIIZZIII', 'IIIIZIZIII', 'IZIIIIZIII', 'ZIIIIIZIII', 'IIIIZZIIII', 'IZIIIZIIII', 'ZIIIIZIIII', 'IIZZIIIIII', 'ZZIIIIIIII'],\n",
      "              coeffs=[ 103.5+0.j,   70.5+0.j,   22.5+0.j, -114. +0.j,  -81. +0.j,  -33. +0.j,\n",
      "   -8. +0.j,   -8. +0.j,   72. +0.j,   40. +0.j,  -88. +0.j,  -64. +0.j,\n",
      "  -32. +0.j,    8. +0.j,    8. +0.j,   -8. +0.j,  -16. +0.j,   -8. +0.j,\n",
      "  -16. +0.j,   32. +0.j,  -64. +0.j,  -47. +0.j,  -24. +0.j,    8. +0.j,\n",
      "    8. +0.j,   -8. +0.j,   -8. +0.j,  -32. +0.j,  -24. +0.j,  -15. +0.j,\n",
      "    8. +0.j,    8. +0.j,   64. +0.j,   32. +0.j,    8. +0.j,    8. +0.j,\n",
      "   24. +0.j,    8. +0.j,    8. +0.j,    8. +0.j,    8. +0.j])\n",
      "10\n",
      "269.5\n"
     ]
    }
   ],
   "source": [
    "qubitOp, offset = qubo.to_ising()\n",
    "print(\"Offset:\", offset)\n",
    "print(\"Ising Hamiltonian:\")\n",
    "print(str(qubitOp))\n",
    "num_qubits = qubitOp.num_qubits\n",
    "print(num_qubits)\n",
    "print(offset)"
   ]
  },
  {
   "cell_type": "code",
   "execution_count": 138,
   "metadata": {},
   "outputs": [
    {
     "name": "stdout",
     "output_type": "stream",
     "text": [
      "10\n"
     ]
    }
   ],
   "source": [
    "p=2\n",
    "qubo_circuit = QAOAAnsatz(cost_operator=qubitOp, reps=p)\n",
    "qubo_circuit.measure_all()\n",
    "print(qubo_circuit.num_qubits)"
   ]
  },
  {
   "cell_type": "code",
   "execution_count": 139,
   "metadata": {},
   "outputs": [
    {
     "data": {
      "text/html": [
       "<pre style=\"word-wrap: normal;white-space: pre;background: #fff0;line-height: 1.1;font-family: &quot;Courier New&quot;,Courier,monospace\">         ┌────────────────────────────┐ ░ ┌─┐                           \n",
       "    q_0: ┤0                           ├─░─┤M├───────────────────────────\n",
       "         │                            │ ░ └╥┘┌─┐                        \n",
       "    q_1: ┤1                           ├─░──╫─┤M├────────────────────────\n",
       "         │                            │ ░  ║ └╥┘┌─┐                     \n",
       "    q_2: ┤2                           ├─░──╫──╫─┤M├─────────────────────\n",
       "         │                            │ ░  ║  ║ └╥┘┌─┐                  \n",
       "    q_3: ┤3                           ├─░──╫──╫──╫─┤M├──────────────────\n",
       "         │                            │ ░  ║  ║  ║ └╥┘┌─┐               \n",
       "    q_4: ┤4                           ├─░──╫──╫──╫──╫─┤M├───────────────\n",
       "         │  QAOA(γ[0],β[0],γ[1],β[1]) │ ░  ║  ║  ║  ║ └╥┘┌─┐            \n",
       "    q_5: ┤5                           ├─░──╫──╫──╫──╫──╫─┤M├────────────\n",
       "         │                            │ ░  ║  ║  ║  ║  ║ └╥┘┌─┐         \n",
       "    q_6: ┤6                           ├─░──╫──╫──╫──╫──╫──╫─┤M├─────────\n",
       "         │                            │ ░  ║  ║  ║  ║  ║  ║ └╥┘┌─┐      \n",
       "    q_7: ┤7                           ├─░──╫──╫──╫──╫──╫──╫──╫─┤M├──────\n",
       "         │                            │ ░  ║  ║  ║  ║  ║  ║  ║ └╥┘┌─┐   \n",
       "    q_8: ┤8                           ├─░──╫──╫──╫──╫──╫──╫──╫──╫─┤M├───\n",
       "         │                            │ ░  ║  ║  ║  ║  ║  ║  ║  ║ └╥┘┌─┐\n",
       "    q_9: ┤9                           ├─░──╫──╫──╫──╫──╫──╫──╫──╫──╫─┤M├\n",
       "         └────────────────────────────┘ ░  ║  ║  ║  ║  ║  ║  ║  ║  ║ └╥┘\n",
       "meas: 10/══════════════════════════════════╩══╩══╩══╩══╩══╩══╩══╩══╩══╩═\n",
       "                                           0  1  2  3  4  5  6  7  8  9 </pre>"
      ],
      "text/plain": [
       "         ┌────────────────────────────┐ ░ ┌─┐                           \n",
       "    q_0: ┤0                           ├─░─┤M├───────────────────────────\n",
       "         │                            │ ░ └╥┘┌─┐                        \n",
       "    q_1: ┤1                           ├─░──╫─┤M├────────────────────────\n",
       "         │                            │ ░  ║ └╥┘┌─┐                     \n",
       "    q_2: ┤2                           ├─░──╫──╫─┤M├─────────────────────\n",
       "         │                            │ ░  ║  ║ └╥┘┌─┐                  \n",
       "    q_3: ┤3                           ├─░──╫──╫──╫─┤M├──────────────────\n",
       "         │                            │ ░  ║  ║  ║ └╥┘┌─┐               \n",
       "    q_4: ┤4                           ├─░──╫──╫──╫──╫─┤M├───────────────\n",
       "         │  QAOA(γ[0],β[0],γ[1],β[1]) │ ░  ║  ║  ║  ║ └╥┘┌─┐            \n",
       "    q_5: ┤5                           ├─░──╫──╫──╫──╫──╫─┤M├────────────\n",
       "         │                            │ ░  ║  ║  ║  ║  ║ └╥┘┌─┐         \n",
       "    q_6: ┤6                           ├─░──╫──╫──╫──╫──╫──╫─┤M├─────────\n",
       "         │                            │ ░  ║  ║  ║  ║  ║  ║ └╥┘┌─┐      \n",
       "    q_7: ┤7                           ├─░──╫──╫──╫──╫──╫──╫──╫─┤M├──────\n",
       "         │                            │ ░  ║  ║  ║  ║  ║  ║  ║ └╥┘┌─┐   \n",
       "    q_8: ┤8                           ├─░──╫──╫──╫──╫──╫──╫──╫──╫─┤M├───\n",
       "         │                            │ ░  ║  ║  ║  ║  ║  ║  ║  ║ └╥┘┌─┐\n",
       "    q_9: ┤9                           ├─░──╫──╫──╫──╫──╫──╫──╫──╫──╫─┤M├\n",
       "         └────────────────────────────┘ ░  ║  ║  ║  ║  ║  ║  ║  ║  ║ └╥┘\n",
       "meas: 10/══════════════════════════════════╩══╩══╩══╩══╩══╩══╩══╩══╩══╩═\n",
       "                                           0  1  2  3  4  5  6  7  8  9 "
      ]
     },
     "execution_count": 139,
     "metadata": {},
     "output_type": "execute_result"
    }
   ],
   "source": [
    "qubo_circuit.draw( style={'backgroundcolor': '#FFFFFF'})"
   ]
  },
  {
   "cell_type": "code",
   "execution_count": 140,
   "metadata": {},
   "outputs": [
    {
     "data": {
      "text/plain": [
       "\"expanded_circuit = qubo_circuit.decompose()\\nexpanded_circuit.draw( style={'backgroundcolor': '#FFFFFF'})\""
      ]
     },
     "execution_count": 140,
     "metadata": {},
     "output_type": "execute_result"
    }
   ],
   "source": [
    "'''expanded_circuit = qubo_circuit.decompose()\n",
    "expanded_circuit.draw( style={'backgroundcolor': '#FFFFFF'})'''"
   ]
  },
  {
   "cell_type": "code",
   "execution_count": 141,
   "metadata": {},
   "outputs": [
    {
     "data": {
      "text/plain": [
       "ParameterView([ParameterVectorElement(β[0]), ParameterVectorElement(β[1]), ParameterVectorElement(γ[0]), ParameterVectorElement(γ[1])])"
      ]
     },
     "execution_count": 141,
     "metadata": {},
     "output_type": "execute_result"
    }
   ],
   "source": [
    "qubo_circuit.parameters"
   ]
  },
  {
   "cell_type": "markdown",
   "metadata": {},
   "source": [
    "### Optimize circuit"
   ]
  },
  {
   "cell_type": "code",
   "execution_count": 142,
   "metadata": {},
   "outputs": [
    {
     "name": "stdout",
     "output_type": "stream",
     "text": [
      "AerSimulator('aer_simulator')\n",
      "10\n"
     ]
    }
   ],
   "source": [
    "# QiskitRuntimeService.save_account(channel=\"ibm_quantum\", token=\"<MY_IBM_QUANTUM_TOKEN>\", overwrite=True, set_as_default=True)\n",
    "'''service = QiskitRuntimeService(channel='ibm_quantum')\n",
    "backend = service.least_busy(min_num_qubits=num_qubits+5)'''\n",
    "backend = AerSimulator()\n",
    "print(backend)\n",
    "\n",
    "# Create pass manager for transpilation\n",
    "pm = generate_preset_pass_manager(optimization_level=3,\n",
    "                                    backend=backend)\n",
    "\n",
    "candidate_circuit = pm.run(qubo_circuit)\n",
    "'''candidate_circuit.draw()'''\n",
    "num_qubits_circ = candidate_circuit.num_qubits\n",
    "print(num_qubits_circ)"
   ]
  },
  {
   "cell_type": "markdown",
   "metadata": {},
   "source": [
    "### Execute circuit"
   ]
  },
  {
   "cell_type": "code",
   "execution_count": 143,
   "metadata": {},
   "outputs": [],
   "source": [
    "import random\n",
    "initial_gamma = np.pi\n",
    "initial_beta = np.pi/2\n",
    "init_params = []\n",
    "for i in range(p):\n",
    "    initial_gamma = np.pi * random.random()\n",
    "    initial_beta = np.pi * random.random()\n",
    "    init_params.append(initial_gamma)\n",
    "    init_params.append(initial_beta)"
   ]
  },
  {
   "cell_type": "code",
   "execution_count": 144,
   "metadata": {},
   "outputs": [],
   "source": [
    "def cost_func_estimator(params, ansatz, hamiltonian, estimator):\n",
    "\n",
    "    # transform the observable defined on virtual qubits to\n",
    "    # an observable defined on all physical qubits\n",
    "    isa_hamiltonian = hamiltonian.apply_layout(ansatz.layout)\n",
    "\n",
    "    pub = (ansatz, isa_hamiltonian, params)\n",
    "    job = estimator.run([pub])\n",
    "\n",
    "    results = job.result()[0]\n",
    "    cost = results.data.evs\n",
    "    total_cost = cost + offset\n",
    "\n",
    "    objective_func_vals.append(total_cost)\n",
    "\n",
    "\n",
    "    return total_cost"
   ]
  },
  {
   "cell_type": "code",
   "execution_count": 145,
   "metadata": {},
   "outputs": [
    {
     "name": "stderr",
     "output_type": "stream",
     "text": [
      "c:\\Users\\arthu\\miniconda3\\envs\\QuantumQiskit\\lib\\site-packages\\qiskit_ibm_runtime\\fake_provider\\local_service.py:268: UserWarning: Options {'dynamical_decoupling': {'enable': True, 'sequence_type': 'XY4'}, 'twirling': {'enable_gates': True, 'num_randomizations': 'auto'}} have no effect in local testing mode.\n",
      "  warnings.warn(f\"Options {options_copy} have no effect in local testing mode.\")\n",
      "c:\\Users\\arthu\\miniconda3\\envs\\QuantumQiskit\\lib\\site-packages\\qiskit_ibm_runtime\\fake_provider\\local_service.py:268: UserWarning: Options {'dynamical_decoupling': {'enable': True, 'sequence_type': 'XY4'}, 'twirling': {'enable_gates': True, 'num_randomizations': 'auto'}} have no effect in local testing mode.\n",
      "  warnings.warn(f\"Options {options_copy} have no effect in local testing mode.\")\n",
      "c:\\Users\\arthu\\miniconda3\\envs\\QuantumQiskit\\lib\\site-packages\\qiskit_ibm_runtime\\fake_provider\\local_service.py:268: UserWarning: Options {'dynamical_decoupling': {'enable': True, 'sequence_type': 'XY4'}, 'twirling': {'enable_gates': True, 'num_randomizations': 'auto'}} have no effect in local testing mode.\n",
      "  warnings.warn(f\"Options {options_copy} have no effect in local testing mode.\")\n",
      "c:\\Users\\arthu\\miniconda3\\envs\\QuantumQiskit\\lib\\site-packages\\qiskit_ibm_runtime\\fake_provider\\local_service.py:268: UserWarning: Options {'dynamical_decoupling': {'enable': True, 'sequence_type': 'XY4'}, 'twirling': {'enable_gates': True, 'num_randomizations': 'auto'}} have no effect in local testing mode.\n",
      "  warnings.warn(f\"Options {options_copy} have no effect in local testing mode.\")\n",
      "c:\\Users\\arthu\\miniconda3\\envs\\QuantumQiskit\\lib\\site-packages\\qiskit_ibm_runtime\\fake_provider\\local_service.py:268: UserWarning: Options {'dynamical_decoupling': {'enable': True, 'sequence_type': 'XY4'}, 'twirling': {'enable_gates': True, 'num_randomizations': 'auto'}} have no effect in local testing mode.\n",
      "  warnings.warn(f\"Options {options_copy} have no effect in local testing mode.\")\n",
      "c:\\Users\\arthu\\miniconda3\\envs\\QuantumQiskit\\lib\\site-packages\\qiskit_ibm_runtime\\fake_provider\\local_service.py:268: UserWarning: Options {'dynamical_decoupling': {'enable': True, 'sequence_type': 'XY4'}, 'twirling': {'enable_gates': True, 'num_randomizations': 'auto'}} have no effect in local testing mode.\n",
      "  warnings.warn(f\"Options {options_copy} have no effect in local testing mode.\")\n",
      "c:\\Users\\arthu\\miniconda3\\envs\\QuantumQiskit\\lib\\site-packages\\qiskit_ibm_runtime\\fake_provider\\local_service.py:268: UserWarning: Options {'dynamical_decoupling': {'enable': True, 'sequence_type': 'XY4'}, 'twirling': {'enable_gates': True, 'num_randomizations': 'auto'}} have no effect in local testing mode.\n",
      "  warnings.warn(f\"Options {options_copy} have no effect in local testing mode.\")\n",
      "c:\\Users\\arthu\\miniconda3\\envs\\QuantumQiskit\\lib\\site-packages\\qiskit_ibm_runtime\\fake_provider\\local_service.py:268: UserWarning: Options {'dynamical_decoupling': {'enable': True, 'sequence_type': 'XY4'}, 'twirling': {'enable_gates': True, 'num_randomizations': 'auto'}} have no effect in local testing mode.\n",
      "  warnings.warn(f\"Options {options_copy} have no effect in local testing mode.\")\n",
      "c:\\Users\\arthu\\miniconda3\\envs\\QuantumQiskit\\lib\\site-packages\\qiskit_ibm_runtime\\fake_provider\\local_service.py:268: UserWarning: Options {'dynamical_decoupling': {'enable': True, 'sequence_type': 'XY4'}, 'twirling': {'enable_gates': True, 'num_randomizations': 'auto'}} have no effect in local testing mode.\n",
      "  warnings.warn(f\"Options {options_copy} have no effect in local testing mode.\")\n",
      "c:\\Users\\arthu\\miniconda3\\envs\\QuantumQiskit\\lib\\site-packages\\qiskit_ibm_runtime\\fake_provider\\local_service.py:268: UserWarning: Options {'dynamical_decoupling': {'enable': True, 'sequence_type': 'XY4'}, 'twirling': {'enable_gates': True, 'num_randomizations': 'auto'}} have no effect in local testing mode.\n",
      "  warnings.warn(f\"Options {options_copy} have no effect in local testing mode.\")\n",
      "c:\\Users\\arthu\\miniconda3\\envs\\QuantumQiskit\\lib\\site-packages\\qiskit_ibm_runtime\\fake_provider\\local_service.py:268: UserWarning: Options {'dynamical_decoupling': {'enable': True, 'sequence_type': 'XY4'}, 'twirling': {'enable_gates': True, 'num_randomizations': 'auto'}} have no effect in local testing mode.\n",
      "  warnings.warn(f\"Options {options_copy} have no effect in local testing mode.\")\n",
      "c:\\Users\\arthu\\miniconda3\\envs\\QuantumQiskit\\lib\\site-packages\\qiskit_ibm_runtime\\fake_provider\\local_service.py:268: UserWarning: Options {'dynamical_decoupling': {'enable': True, 'sequence_type': 'XY4'}, 'twirling': {'enable_gates': True, 'num_randomizations': 'auto'}} have no effect in local testing mode.\n",
      "  warnings.warn(f\"Options {options_copy} have no effect in local testing mode.\")\n",
      "c:\\Users\\arthu\\miniconda3\\envs\\QuantumQiskit\\lib\\site-packages\\qiskit_ibm_runtime\\fake_provider\\local_service.py:268: UserWarning: Options {'dynamical_decoupling': {'enable': True, 'sequence_type': 'XY4'}, 'twirling': {'enable_gates': True, 'num_randomizations': 'auto'}} have no effect in local testing mode.\n",
      "  warnings.warn(f\"Options {options_copy} have no effect in local testing mode.\")\n",
      "c:\\Users\\arthu\\miniconda3\\envs\\QuantumQiskit\\lib\\site-packages\\qiskit_ibm_runtime\\fake_provider\\local_service.py:268: UserWarning: Options {'dynamical_decoupling': {'enable': True, 'sequence_type': 'XY4'}, 'twirling': {'enable_gates': True, 'num_randomizations': 'auto'}} have no effect in local testing mode.\n",
      "  warnings.warn(f\"Options {options_copy} have no effect in local testing mode.\")\n",
      "c:\\Users\\arthu\\miniconda3\\envs\\QuantumQiskit\\lib\\site-packages\\qiskit_ibm_runtime\\fake_provider\\local_service.py:268: UserWarning: Options {'dynamical_decoupling': {'enable': True, 'sequence_type': 'XY4'}, 'twirling': {'enable_gates': True, 'num_randomizations': 'auto'}} have no effect in local testing mode.\n",
      "  warnings.warn(f\"Options {options_copy} have no effect in local testing mode.\")\n",
      "c:\\Users\\arthu\\miniconda3\\envs\\QuantumQiskit\\lib\\site-packages\\qiskit_ibm_runtime\\fake_provider\\local_service.py:268: UserWarning: Options {'dynamical_decoupling': {'enable': True, 'sequence_type': 'XY4'}, 'twirling': {'enable_gates': True, 'num_randomizations': 'auto'}} have no effect in local testing mode.\n",
      "  warnings.warn(f\"Options {options_copy} have no effect in local testing mode.\")\n",
      "c:\\Users\\arthu\\miniconda3\\envs\\QuantumQiskit\\lib\\site-packages\\qiskit_ibm_runtime\\fake_provider\\local_service.py:268: UserWarning: Options {'dynamical_decoupling': {'enable': True, 'sequence_type': 'XY4'}, 'twirling': {'enable_gates': True, 'num_randomizations': 'auto'}} have no effect in local testing mode.\n",
      "  warnings.warn(f\"Options {options_copy} have no effect in local testing mode.\")\n",
      "c:\\Users\\arthu\\miniconda3\\envs\\QuantumQiskit\\lib\\site-packages\\qiskit_ibm_runtime\\fake_provider\\local_service.py:268: UserWarning: Options {'dynamical_decoupling': {'enable': True, 'sequence_type': 'XY4'}, 'twirling': {'enable_gates': True, 'num_randomizations': 'auto'}} have no effect in local testing mode.\n",
      "  warnings.warn(f\"Options {options_copy} have no effect in local testing mode.\")\n",
      "c:\\Users\\arthu\\miniconda3\\envs\\QuantumQiskit\\lib\\site-packages\\qiskit_ibm_runtime\\fake_provider\\local_service.py:268: UserWarning: Options {'dynamical_decoupling': {'enable': True, 'sequence_type': 'XY4'}, 'twirling': {'enable_gates': True, 'num_randomizations': 'auto'}} have no effect in local testing mode.\n",
      "  warnings.warn(f\"Options {options_copy} have no effect in local testing mode.\")\n",
      "c:\\Users\\arthu\\miniconda3\\envs\\QuantumQiskit\\lib\\site-packages\\qiskit_ibm_runtime\\fake_provider\\local_service.py:268: UserWarning: Options {'dynamical_decoupling': {'enable': True, 'sequence_type': 'XY4'}, 'twirling': {'enable_gates': True, 'num_randomizations': 'auto'}} have no effect in local testing mode.\n",
      "  warnings.warn(f\"Options {options_copy} have no effect in local testing mode.\")\n",
      "c:\\Users\\arthu\\miniconda3\\envs\\QuantumQiskit\\lib\\site-packages\\qiskit_ibm_runtime\\fake_provider\\local_service.py:268: UserWarning: Options {'dynamical_decoupling': {'enable': True, 'sequence_type': 'XY4'}, 'twirling': {'enable_gates': True, 'num_randomizations': 'auto'}} have no effect in local testing mode.\n",
      "  warnings.warn(f\"Options {options_copy} have no effect in local testing mode.\")\n",
      "c:\\Users\\arthu\\miniconda3\\envs\\QuantumQiskit\\lib\\site-packages\\qiskit_ibm_runtime\\fake_provider\\local_service.py:268: UserWarning: Options {'dynamical_decoupling': {'enable': True, 'sequence_type': 'XY4'}, 'twirling': {'enable_gates': True, 'num_randomizations': 'auto'}} have no effect in local testing mode.\n",
      "  warnings.warn(f\"Options {options_copy} have no effect in local testing mode.\")\n",
      "c:\\Users\\arthu\\miniconda3\\envs\\QuantumQiskit\\lib\\site-packages\\qiskit_ibm_runtime\\fake_provider\\local_service.py:268: UserWarning: Options {'dynamical_decoupling': {'enable': True, 'sequence_type': 'XY4'}, 'twirling': {'enable_gates': True, 'num_randomizations': 'auto'}} have no effect in local testing mode.\n",
      "  warnings.warn(f\"Options {options_copy} have no effect in local testing mode.\")\n",
      "c:\\Users\\arthu\\miniconda3\\envs\\QuantumQiskit\\lib\\site-packages\\qiskit_ibm_runtime\\fake_provider\\local_service.py:268: UserWarning: Options {'dynamical_decoupling': {'enable': True, 'sequence_type': 'XY4'}, 'twirling': {'enable_gates': True, 'num_randomizations': 'auto'}} have no effect in local testing mode.\n",
      "  warnings.warn(f\"Options {options_copy} have no effect in local testing mode.\")\n",
      "c:\\Users\\arthu\\miniconda3\\envs\\QuantumQiskit\\lib\\site-packages\\qiskit_ibm_runtime\\fake_provider\\local_service.py:268: UserWarning: Options {'dynamical_decoupling': {'enable': True, 'sequence_type': 'XY4'}, 'twirling': {'enable_gates': True, 'num_randomizations': 'auto'}} have no effect in local testing mode.\n",
      "  warnings.warn(f\"Options {options_copy} have no effect in local testing mode.\")\n",
      "c:\\Users\\arthu\\miniconda3\\envs\\QuantumQiskit\\lib\\site-packages\\qiskit_ibm_runtime\\fake_provider\\local_service.py:268: UserWarning: Options {'dynamical_decoupling': {'enable': True, 'sequence_type': 'XY4'}, 'twirling': {'enable_gates': True, 'num_randomizations': 'auto'}} have no effect in local testing mode.\n",
      "  warnings.warn(f\"Options {options_copy} have no effect in local testing mode.\")\n",
      "c:\\Users\\arthu\\miniconda3\\envs\\QuantumQiskit\\lib\\site-packages\\qiskit_ibm_runtime\\fake_provider\\local_service.py:268: UserWarning: Options {'dynamical_decoupling': {'enable': True, 'sequence_type': 'XY4'}, 'twirling': {'enable_gates': True, 'num_randomizations': 'auto'}} have no effect in local testing mode.\n",
      "  warnings.warn(f\"Options {options_copy} have no effect in local testing mode.\")\n",
      "c:\\Users\\arthu\\miniconda3\\envs\\QuantumQiskit\\lib\\site-packages\\qiskit_ibm_runtime\\fake_provider\\local_service.py:268: UserWarning: Options {'dynamical_decoupling': {'enable': True, 'sequence_type': 'XY4'}, 'twirling': {'enable_gates': True, 'num_randomizations': 'auto'}} have no effect in local testing mode.\n",
      "  warnings.warn(f\"Options {options_copy} have no effect in local testing mode.\")\n",
      "c:\\Users\\arthu\\miniconda3\\envs\\QuantumQiskit\\lib\\site-packages\\qiskit_ibm_runtime\\fake_provider\\local_service.py:268: UserWarning: Options {'dynamical_decoupling': {'enable': True, 'sequence_type': 'XY4'}, 'twirling': {'enable_gates': True, 'num_randomizations': 'auto'}} have no effect in local testing mode.\n",
      "  warnings.warn(f\"Options {options_copy} have no effect in local testing mode.\")\n",
      "c:\\Users\\arthu\\miniconda3\\envs\\QuantumQiskit\\lib\\site-packages\\qiskit_ibm_runtime\\fake_provider\\local_service.py:268: UserWarning: Options {'dynamical_decoupling': {'enable': True, 'sequence_type': 'XY4'}, 'twirling': {'enable_gates': True, 'num_randomizations': 'auto'}} have no effect in local testing mode.\n",
      "  warnings.warn(f\"Options {options_copy} have no effect in local testing mode.\")\n",
      "c:\\Users\\arthu\\miniconda3\\envs\\QuantumQiskit\\lib\\site-packages\\qiskit_ibm_runtime\\fake_provider\\local_service.py:268: UserWarning: Options {'dynamical_decoupling': {'enable': True, 'sequence_type': 'XY4'}, 'twirling': {'enable_gates': True, 'num_randomizations': 'auto'}} have no effect in local testing mode.\n",
      "  warnings.warn(f\"Options {options_copy} have no effect in local testing mode.\")\n",
      "c:\\Users\\arthu\\miniconda3\\envs\\QuantumQiskit\\lib\\site-packages\\qiskit_ibm_runtime\\fake_provider\\local_service.py:268: UserWarning: Options {'dynamical_decoupling': {'enable': True, 'sequence_type': 'XY4'}, 'twirling': {'enable_gates': True, 'num_randomizations': 'auto'}} have no effect in local testing mode.\n",
      "  warnings.warn(f\"Options {options_copy} have no effect in local testing mode.\")\n",
      "c:\\Users\\arthu\\miniconda3\\envs\\QuantumQiskit\\lib\\site-packages\\qiskit_ibm_runtime\\fake_provider\\local_service.py:268: UserWarning: Options {'dynamical_decoupling': {'enable': True, 'sequence_type': 'XY4'}, 'twirling': {'enable_gates': True, 'num_randomizations': 'auto'}} have no effect in local testing mode.\n",
      "  warnings.warn(f\"Options {options_copy} have no effect in local testing mode.\")\n",
      "c:\\Users\\arthu\\miniconda3\\envs\\QuantumQiskit\\lib\\site-packages\\qiskit_ibm_runtime\\fake_provider\\local_service.py:268: UserWarning: Options {'dynamical_decoupling': {'enable': True, 'sequence_type': 'XY4'}, 'twirling': {'enable_gates': True, 'num_randomizations': 'auto'}} have no effect in local testing mode.\n",
      "  warnings.warn(f\"Options {options_copy} have no effect in local testing mode.\")\n",
      "c:\\Users\\arthu\\miniconda3\\envs\\QuantumQiskit\\lib\\site-packages\\qiskit_ibm_runtime\\fake_provider\\local_service.py:268: UserWarning: Options {'dynamical_decoupling': {'enable': True, 'sequence_type': 'XY4'}, 'twirling': {'enable_gates': True, 'num_randomizations': 'auto'}} have no effect in local testing mode.\n",
      "  warnings.warn(f\"Options {options_copy} have no effect in local testing mode.\")\n"
     ]
    },
    {
     "name": "stdout",
     "output_type": "stream",
     "text": [
      " message: Optimization terminated successfully.\n",
      " success: True\n",
      "  status: 1\n",
      "     fun: 184.16149999999996\n",
      "       x: [ 1.927e+00  2.253e+00  2.112e+00  2.470e-01]\n",
      "    nfev: 37\n",
      "   maxcv: 0.0\n"
     ]
    },
    {
     "name": "stderr",
     "output_type": "stream",
     "text": [
      "c:\\Users\\arthu\\miniconda3\\envs\\QuantumQiskit\\lib\\site-packages\\qiskit_ibm_runtime\\fake_provider\\local_service.py:268: UserWarning: Options {'dynamical_decoupling': {'enable': True, 'sequence_type': 'XY4'}, 'twirling': {'enable_gates': True, 'num_randomizations': 'auto'}} have no effect in local testing mode.\n",
      "  warnings.warn(f\"Options {options_copy} have no effect in local testing mode.\")\n",
      "c:\\Users\\arthu\\miniconda3\\envs\\QuantumQiskit\\lib\\site-packages\\qiskit_ibm_runtime\\fake_provider\\local_service.py:268: UserWarning: Options {'dynamical_decoupling': {'enable': True, 'sequence_type': 'XY4'}, 'twirling': {'enable_gates': True, 'num_randomizations': 'auto'}} have no effect in local testing mode.\n",
      "  warnings.warn(f\"Options {options_copy} have no effect in local testing mode.\")\n"
     ]
    }
   ],
   "source": [
    "objective_func_vals = [] # Global variable\n",
    "with Session(backend=backend) as session:\n",
    "    # If using qiskit-ibm-runtime<0.24.0, change `mode=` to `session=`\n",
    "    estimator = Estimator(mode=session)\n",
    "    estimator.options.default_shots = 10000\n",
    "\n",
    "    # Set simple error suppression/mitigation options, this is for when on quantum hardware\n",
    "    estimator.options.dynamical_decoupling.enable = True\n",
    "    estimator.options.dynamical_decoupling.sequence_type = \"XY4\"\n",
    "    estimator.options.twirling.enable_gates = True\n",
    "    estimator.options.twirling.num_randomizations = \"auto\"\n",
    "\n",
    "    result = minimize(\n",
    "        cost_func_estimator,\n",
    "        init_params,\n",
    "        args=(candidate_circuit, qubitOp, estimator),\n",
    "        method=\"COBYLA\",\n",
    "        tol=1e-3,\n",
    "    )\n",
    "    print(result)"
   ]
  },
  {
   "cell_type": "code",
   "execution_count": 146,
   "metadata": {},
   "outputs": [],
   "source": [
    "plt.figure(figsize=(12, 6))\n",
    "plt.plot(objective_func_vals)\n",
    "plt.xlabel(\"Iteration\")\n",
    "plt.ylabel(\"Cost\")\n",
    "plt.show()"
   ]
  },
  {
   "cell_type": "code",
   "execution_count": 147,
   "metadata": {},
   "outputs": [],
   "source": [
    "optimized_circuit = candidate_circuit.assign_parameters(result.x)"
   ]
  },
  {
   "cell_type": "code",
   "execution_count": 148,
   "metadata": {},
   "outputs": [
    {
     "name": "stdout",
     "output_type": "stream",
     "text": [
      "{563: 0.0007, 561: 0.0025, 495: 0.0012, 964: 0.003, 258: 0.0069, 726: 0.0006, 806: 0.0285, 791: 0.0012, 14: 0.0021, 414: 0.0006, 775: 0.0059, 568: 0.0003, 1: 0.0106, 913: 0.0014, 960: 0.0022, 11: 0.002, 399: 0.0004, 822: 0.0146, 103: 0.0016, 704: 0.0015, 565: 0.0042, 59: 0.001, 558: 0.0029, 548: 0.0047, 765: 0.0005, 159: 0.0002, 518: 0.0025, 17: 0.0118, 969: 0.0011, 852: 0.0005, 50: 0.0026, 290: 0.0015, 115: 0.0033, 751: 0.0005, 787: 0.0062, 896: 0.0027, 314: 0.0003, 43: 0.0025, 537: 0.0005, 851: 0.0005, 950: 0.001, 832: 0.0029, 21: 0.0101, 230: 0.0013, 494: 0.0006, 794: 0.0051, 586: 0.0002, 774: 0.0032, 980: 0.0012, 141: 0.0015, 530: 0.0016, 554: 0.0009, 830: 0.0051, 758: 0.0009, 868: 0.0026, 299: 0.0028, 324: 0.0008, 514: 0.0073, 747: 0.0006, 785: 0.0154, 256: 0.0054, 67: 0.0011, 795: 0.0046, 1015: 0.0007, 770: 0.0156, 436: 0.0003, 301: 0.0044, 992: 0.0013, 83: 0.0016, 643: 0.0006, 607: 0.0001, 270: 0.0035, 214: 0.0004, 295: 0.002, 30: 0.0014, 818: 0.0025, 533: 0.0056, 62: 0.0013, 788: 0.0012, 536: 0.0005, 265: 0.0033, 218: 0.0004, 29: 0.0052, 804: 0.0117, 999: 0.0019, 288: 0.0012, 566: 0.0038, 273: 0.008, 113: 0.0048, 96: 0.0005, 311: 0.0035, 963: 0.0005, 91: 0.0016, 801: 0.0032, 136: 0.0007, 267: 0.0014, 202: 0.0006, 275: 0.0064, 625: 0.0012, 512: 0.006, 1014: 0.0017, 834: 0.0052, 771: 0.0042, 820: 0.0035, 848: 0.0045, 559: 0.0018, 723: 0.0018, 807: 0.0013, 663: 0.0001, 790: 0.0018, 8: 0.0026, 870: 0.0018, 310: 0.0053, 841: 0.0001, 306: 0.0033, 304: 0.0011, 9: 0.0084, 479: 0.0004, 1012: 0.006, 388: 0.001, 5: 0.0011, 768: 0.0081, 836: 0.0007, 292: 0.0044, 966: 0.0025, 513: 0.003, 901: 0.0013, 466: 0.0008, 491: 0.0011, 19: 0.0069, 903: 0.0012, 535: 0.0019, 659: 0.0005, 529: 0.0079, 37: 0.0068, 179: 0.0022, 54: 0.0032, 241: 0.0021, 279: 0.0021, 789: 0.0057, 77: 0.0023, 97: 0.0002, 264: 0.0032, 997: 0.0023, 816: 0.0036, 144: 0.0026, 521: 0.0033, 948: 0.0045, 991: 0.0001, 477: 0.0004, 522: 0.0024, 833: 0.0012, 923: 0.0007, 609: 0.0003, 384: 0.0006, 313: 0.0026, 934: 0.0035, 274: 0.0031, 821: 0.0062, 167: 0.001, 713: 0.0002, 884: 0.0062, 487: 0.0008, 195: 0.0003, 2: 0.0027, 881: 0.0014, 805: 0.0027, 786: 0.0036, 464: 0.0007, 456: 0.0004, 605: 0.0011, 245: 0.0044, 674: 0.0006, 520: 0.0025, 540: 0.0015, 837: 0.0012, 667: 0.0011, 130: 0.0003, 544: 0.0018, 337: 0.0008, 262: 0.0025, 547: 0.002, 471: 0.0005, 40: 0.0006, 550: 0.0096, 257: 0.0024, 523: 0.0023, 981: 0.0006, 81: 0.0005, 802: 0.0013, 831: 0.0037, 556: 0.0037, 52: 0.0002, 60: 0.0048, 205: 0.0005, 898: 0.0054, 782: 0.0004, 823: 0.0028, 1013: 0.0022, 1001: 0.0007, 998: 0.0033, 369: 0.0011, 24: 0.0024, 962: 0.0018, 58: 0.0003, 6: 0.0013, 49: 0.008, 22: 0.0005, 189: 0.0007, 0: 0.0008, 778: 0.0019, 829: 0.0007, 177: 0.005, 63: 0.0008, 181: 0.0004, 475: 0.0006, 562: 0.0037, 405: 0.0002, 203: 0.002, 707: 0.0008, 993: 0.0009, 20: 0.0012, 431: 0.0001, 662: 0.0001, 33: 0.003, 451: 0.0007, 549: 0.0016, 300: 0.0033, 447: 0.0003, 207: 0.0012, 283: 0.0025, 613: 0.0004, 250: 0.0019, 319: 0.0004, 988: 0.0003, 45: 0.0041, 146: 0.0009, 531: 0.0057, 13: 0.0015, 746: 0.0008, 305: 0.0017, 105: 0.0008, 154: 0.0005, 53: 0.004, 602: 0.0006, 636: 0.0002, 303: 0.0021, 900: 0.0012, 1008: 0.0011, 825: 0.0012, 435: 0.0009, 912: 0.0024, 286: 0.0003, 976: 0.0015, 557: 0.0032, 979: 0.0009, 541: 0.0004, 282: 0.0023, 526: 0.0036, 815: 0.0002, 919: 0.0015, 61: 0.0021, 363: 0.0001, 984: 0.0001, 741: 0.0006, 413: 0.0013, 740: 0.0005, 539: 0.0014, 280: 0.0003, 965: 0.0011, 467: 0.0013, 564: 0.0011, 65: 0.001, 354: 0.0009, 341: 0.0001, 410: 0.001, 517: 0.0016, 575: 0.0012, 745: 0.0004, 839: 0.0007, 289: 0.0018, 438: 0.0004, 339: 0.0004, 524: 0.0006, 328: 0.0003, 899: 0.0009, 448: 0.0018, 853: 0.0006, 780: 0.0008, 72: 0.0004, 213: 0.0011, 1011: 0.002, 90: 0.0007, 725: 0.0005, 885: 0.0004, 38: 0.001, 708: 0.0006, 352: 0.0002, 715: 0.0014, 811: 0.0002, 961: 0.0006, 200: 0.0007, 437: 0.001, 951: 0.0005, 867: 0.0007, 458: 0.0009, 302: 0.0021, 1020: 0.0005, 156: 0.0012, 551: 0.0025, 452: 0.0009, 534: 0.0001, 171: 0.0003, 748: 0.0003, 326: 0.0006, 838: 0.0015, 219: 0.0026, 172: 0.002, 538: 0.0019, 294: 0.0077, 266: 0.0019, 92: 0.001, 952: 0.0002, 359: 0.0005, 798: 0.0003, 472: 0.0002, 387: 0.0007, 619: 0.0003, 23: 0.0007, 854: 0.0002, 395: 0.0003, 814: 0.0028, 336: 0.0008, 879: 0.0009, 844: 0.0001, 293: 0.0032, 229: 0.0011, 943: 0.0008, 755: 0.001, 866: 0.0002, 131: 0.0012, 48: 0.0011, 418: 0.0005, 409: 0.0002, 277: 0.0048, 569: 0.002, 699: 0.0003, 309: 0.0033, 1005: 0.0002, 666: 0.0006, 567: 0.0032, 647: 0.0001, 433: 0.0013, 742: 0.0007, 259: 0.0006, 819: 0.0033, 729: 0.0003, 932: 0.0023, 882: 0.0004, 902: 0.0017, 676: 0.001, 634: 0.0004, 244: 0.0013, 703: 0.0002, 108: 0.0018, 80: 0.0018, 116: 0.0003, 161: 0.0001, 584: 0.0008, 721: 0.0004, 125: 0.0006, 18: 0.0037, 55: 0.0013, 945: 0.0018, 626: 0.0001, 756: 0.0003, 947: 0.0006, 612: 0.0005, 396: 0.0003, 773: 0.001, 12: 0.0007, 25: 0.0028, 56: 0.0004, 123: 0.0002, 129: 0.0006, 371: 0.0005, 149: 0.0001, 501: 0.0004, 855: 0.0011, 209: 0.0013, 810: 0.0003, 196: 0.0005, 983: 0.0018, 955: 0.0006, 66: 0.0004, 809: 0.0011, 391: 0.0002, 628: 0.0005, 235: 0.0009, 591: 0.0003, 291: 0.0008, 44: 0.0023, 769: 0.0011, 722: 0.0008, 368: 0.0001, 499: 0.0008, 592: 0.0008, 239: 0.0008, 194: 0.001, 677: 0.0007, 145: 0.0004, 719: 0.0004, 210: 0.0023, 891: 0.0003, 35: 0.0012, 400: 0.0014, 906: 0.0002, 754: 0.0002, 528: 0.0007, 155: 0.0008, 996: 0.0017, 595: 0.0004, 669: 0.0009, 164: 0.0006, 886: 0.001, 697: 0.0001, 630: 0.0003, 455: 0.001, 904: 0.0001, 835: 0.0009, 312: 0.0007, 985: 0.0006, 589: 0.0003, 228: 0.0006, 112: 0.0009, 757: 0.0005, 749: 0.0006, 346: 0.0007, 100: 0.0004, 502: 0.0006, 284: 0.0013, 147: 0.0015, 206: 0.0008, 180: 0.0009, 28: 0.001, 47: 0.0018, 204: 0.0002, 269: 0.0004, 372: 0.0007, 736: 0.0003, 970: 0.0003, 632: 0.0004, 683: 0.0002, 335: 0.0008, 585: 0.0005, 555: 0.0011, 423: 0.0005, 212: 0.0012, 509: 0.0004, 473: 0.0002, 515: 0.0009, 573: 0.0006, 34: 0.0008, 10: 0.0011, 692: 0.0008, 863: 0.0003, 36: 0.001, 39: 0.0013, 579: 0.0005, 117: 0.0004, 542: 0.0002, 463: 0.0002, 615: 0.0006, 493: 0.0006, 198: 0.0002, 351: 0.0004, 403: 0.0004, 645: 0.0001, 126: 0.0005, 169: 0.0006, 192: 0.0013, 175: 0.0009, 897: 0.001, 843: 0.0008, 967: 0.0007, 953: 0.0004, 139: 0.0005, 88: 0.0004, 232: 0.0002, 308: 0.0007, 215: 0.0004, 698: 0.0004, 552: 0.0006, 317: 0.0006, 3: 0.0008, 873: 0.0005, 892: 0.0001, 655: 0.0002, 545: 0.0011, 864: 0.0006, 350: 0.0004, 783: 0.0007, 711: 0.0007, 824: 0.0004, 937: 0.0012, 261: 0.0013, 137: 0.0006, 243: 0.0013, 374: 0.0004, 95: 0.0005, 682: 0.0004, 859: 0.0013, 917: 0.0005, 973: 0.0003, 503: 0.0008, 281: 0.0004, 251: 0.0006, 486: 0.0003, 143: 0.0007, 995: 0.0015, 587: 0.0002, 211: 0.0007, 977: 0.0011, 652: 0.0004, 731: 0.0004, 849: 0.0008, 507: 0.0004, 527: 0.0003, 915: 0.0004, 197: 0.0005, 378: 0.0003, 31: 0.0009, 398: 0.0001, 193: 0.0005, 397: 0.0005, 784: 0.0006, 57: 0.0004, 416: 0.0003, 484: 0.0012, 224: 0.0004, 183: 0.0006, 858: 0.0008, 661: 0.0004, 469: 0.0006, 26: 0.0004, 325: 0.0001, 329: 0.0003, 670: 0.0002, 347: 0.0008, 936: 0.0004, 989: 0.0001, 887: 0.0009, 157: 0.0004, 928: 0.0016, 583: 0.0003, 679: 0.0005, 511: 0.0002, 356: 0.0014, 365: 0.0001, 922: 0.0004, 119: 0.0008, 272: 0.0011, 927: 0.0002, 750: 0.001, 603: 0.0009, 429: 0.0003, 759: 0.0006, 925: 0.0001, 650: 0.0001, 41: 0.0009, 576: 0.0005, 489: 0.0007, 173: 0.0006, 606: 0.0005, 490: 0.0007, 553: 0.0001, 700: 0.0004, 728: 0.0001, 327: 0.0003, 227: 0.0005, 160: 0.0005, 162: 0.0004, 109: 0.0007, 225: 0.0004, 813: 0.0006, 1010: 0.0005, 481: 0.0002, 656: 0.0009, 411: 0.0011, 908: 0.0001, 651: 0.0001, 664: 0.0001, 27: 0.0003, 298: 0.0005, 543: 0.0001, 379: 0.0002, 678: 0.0002, 420: 0.0014, 570: 0.0002, 580: 0.0005, 380: 0.0004, 247: 0.0001, 76: 0.0004, 974: 0.0001, 426: 0.0002, 140: 0.0005, 454: 0.0001, 827: 0.0011, 689: 0.0009, 504: 0.0006, 419: 0.0005, 799: 0.0003, 914: 0.0002, 572: 0.0003, 476: 0.0002, 646: 0.0005, 623: 0.0003, 188: 0.0002, 242: 0.0003, 560: 0.001, 817: 0.0003, 498: 0.0002, 124: 0.0003, 106: 0.0002, 871: 0.0002, 826: 0.0003, 593: 0.0005, 4: 0.0008, 840: 0.0003, 430: 0.0002, 743: 0.0005, 170: 0.0003, 79: 0.0004, 199: 0.0003, 877: 0.0001, 427: 0.0004, 46: 0.0002, 865: 0.0002, 373: 0.0005, 883: 0.0005, 712: 0.0003, 135: 0.0001, 393: 0.0005, 714: 0.0002, 668: 0.0001, 223: 0.0002, 404: 0.0002, 246: 0.0005, 111: 0.0004, 724: 0.0005, 1017: 0.0002, 7: 0.0001, 1004: 0.0005, 649: 0.0007, 850: 0.0001, 956: 0.0001, 929: 0.0001, 480: 0.0007, 525: 0.0002, 777: 0.0004, 330: 0.0001, 763: 0.0005, 660: 0.0005, 693: 0.0003, 696: 0.0004, 658: 0.0002, 506: 0.0002, 357: 0.0006, 450: 0.0001, 971: 0.0002, 675: 0.0003, 907: 0.0006, 93: 0.0002, 760: 0.0004, 694: 0.0002, 946: 0.0003, 1009: 0.0001, 916: 0.0004, 252: 0.0004, 640: 0.0004, 465: 0.0004, 82: 0.0012, 516: 0.0005, 307: 0.0002, 255: 0.0005, 762: 0.0002, 107: 0.0003, 237: 0.0001, 315: 0.0003, 546: 0.0009, 440: 0.0003, 792: 0.0006, 846: 0.0002, 153: 0.0002, 321: 0.0001, 87: 0.0001, 588: 0.0002, 296: 0.0001, 122: 0.0001, 470: 0.0003, 598: 0.0002, 734: 0.0002, 872: 0.0003, 888: 0.0001, 982: 0.0001, 718: 0.0001, 376: 0.0005, 84: 0.0001, 32: 0.0002, 622: 0.0002, 15: 0.0003, 444: 0.0003, 68: 0.0002, 648: 0.0004, 803: 0.0001, 1021: 0.0002, 101: 0.0001, 260: 0.0001, 73: 0.0002, 720: 0.0004, 268: 0.0006, 449: 0.0004, 362: 0.0005, 120: 0.0001, 320: 0.0004, 408: 0.0001, 978: 0.0005, 86: 0.0001, 684: 0.0001, 461: 0.0001, 1019: 0.0001, 248: 0.0003, 443: 0.0001, 847: 0.0002, 599: 0.0001, 889: 0.0002, 323: 0.0005, 285: 0.0004, 578: 0.0001, 949: 0.0003, 233: 0.0005, 158: 0.0002, 931: 0.0002, 385: 0.0002, 618: 0.0002, 236: 0.0006, 253: 0.0003, 271: 0.0002, 500: 0.0001, 709: 0.0001, 920: 0.0001, 190: 0.0004, 70: 0.0003, 604: 0.0002, 610: 0.0003, 621: 0.0003, 611: 0.0005, 442: 0.0003, 644: 0.0006, 16: 0.0001, 733: 0.0005, 735: 0.0005, 812: 0.0001, 222: 0.0004, 702: 0.0001, 249: 0.0002, 238: 0.0001, 394: 0.0005, 808: 0.0002, 89: 0.0001, 608: 0.0001, 217: 0.0003, 148: 0.0001, 345: 0.0003, 98: 0.0005, 361: 0.0002, 383: 0.0001, 114: 0.0002, 459: 0.0005, 797: 0.0001, 176: 0.0002, 635: 0.0004, 401: 0.0004, 930: 0.0002, 178: 0.0001, 933: 0.0002, 1006: 0.0001, 382: 0.0001, 474: 0.0001, 343: 0.0001, 221: 0.0002, 163: 0.0003, 132: 0.0001, 918: 0.0004, 935: 0.0001, 860: 0.0001, 226: 0.0005, 638: 0.0001, 460: 0.0002, 71: 0.0001, 895: 0.0002, 184: 0.0002, 492: 0.0001, 921: 0.0002, 358: 0.0001, 685: 0.0002, 994: 0.0005, 1022: 0.0001, 665: 0.0001, 672: 0.0001, 254: 0.0001, 571: 0.0001, 911: 0.0001, 392: 0.0004, 51: 0.0002, 986: 0.0003, 508: 0.0001, 428: 0.0001, 85: 0.0001, 478: 0.0001, 355: 0.0002, 987: 0.0002, 99: 0.0001, 201: 0.0002, 793: 0.0001, 856: 0.0002, 389: 0.0001, 316: 0.0004, 415: 0.0001, 151: 0.0004, 417: 0.0001, 234: 0.0002, 278: 0.0001, 954: 0.0002, 717: 0.0003, 366: 0.0001, 334: 0.0002, 42: 0.0002, 333: 0.0002, 878: 0.0001, 772: 0.0002, 468: 0.0003, 390: 0.0005, 367: 0.0002, 627: 0.0003, 596: 0.0001, 407: 0.0001, 64: 0.0002, 653: 0.0001, 890: 0.0001, 75: 0.0002, 869: 0.0001, 842: 0.0001, 485: 0.0001, 134: 0.0002, 152: 0.0003, 767: 0.0001, 216: 0.0001, 617: 0.0001, 600: 0.0001, 349: 0.0003, 432: 0.0001, 727: 0.0001, 845: 0.0001, 753: 0.0002, 446: 0.0001, 975: 0.0001, 497: 0.0002, 657: 0.0002, 857: 0.0001, 776: 0.0002, 1000: 0.0001, 462: 0.0002, 78: 0.0001, 910: 0.0001, 688: 0.0001, 353: 0.0001, 342: 0.0001, 318: 0.0002, 133: 0.0001, 231: 0.0001, 752: 0.0001, 332: 0.0001}\n",
      "{'1000110011': 0.0007, '1000110001': 0.0025, '0111101111': 0.0012, '1111000100': 0.003, '0100000010': 0.0069, '1011010110': 0.0006, '1100100110': 0.0285, '1100010111': 0.0012, '0000001110': 0.0021, '0110011110': 0.0006, '1100000111': 0.0059, '1000111000': 0.0003, '0000000001': 0.0106, '1110010001': 0.0014, '1111000000': 0.0022, '0000001011': 0.002, '0110001111': 0.0004, '1100110110': 0.0146, '0001100111': 0.0016, '1011000000': 0.0015, '1000110101': 0.0042, '0000111011': 0.001, '1000101110': 0.0029, '1000100100': 0.0047, '1011111101': 0.0005, '0010011111': 0.0002, '1000000110': 0.0025, '0000010001': 0.0118, '1111001001': 0.0011, '1101010100': 0.0005, '0000110010': 0.0026, '0100100010': 0.0015, '0001110011': 0.0033, '1011101111': 0.0005, '1100010011': 0.0062, '1110000000': 0.0027, '0100111010': 0.0003, '0000101011': 0.0025, '1000011001': 0.0005, '1101010011': 0.0005, '1110110110': 0.001, '1101000000': 0.0029, '0000010101': 0.0101, '0011100110': 0.0013, '0111101110': 0.0006, '1100011010': 0.0051, '1001001010': 0.0002, '1100000110': 0.0032, '1111010100': 0.0012, '0010001101': 0.0015, '1000010010': 0.0016, '1000101010': 0.0009, '1100111110': 0.0051, '1011110110': 0.0009, '1101100100': 0.0026, '0100101011': 0.0028, '0101000100': 0.0008, '1000000010': 0.0073, '1011101011': 0.0006, '1100010001': 0.0154, '0100000000': 0.0054, '0001000011': 0.0011, '1100011011': 0.0046, '1111110111': 0.0007, '1100000010': 0.0156, '0110110100': 0.0003, '0100101101': 0.0044, '1111100000': 0.0013, '0001010011': 0.0016, '1010000011': 0.0006, '1001011111': 0.0001, '0100001110': 0.0035, '0011010110': 0.0004, '0100100111': 0.002, '0000011110': 0.0014, '1100110010': 0.0025, '1000010101': 0.0056, '0000111110': 0.0013, '1100010100': 0.0012, '1000011000': 0.0005, '0100001001': 0.0033, '0011011010': 0.0004, '0000011101': 0.0052, '1100100100': 0.0117, '1111100111': 0.0019, '0100100000': 0.0012, '1000110110': 0.0038, '0100010001': 0.008, '0001110001': 0.0048, '0001100000': 0.0005, '0100110111': 0.0035, '1111000011': 0.0005, '0001011011': 0.0016, '1100100001': 0.0032, '0010001000': 0.0007, '0100001011': 0.0014, '0011001010': 0.0006, '0100010011': 0.0064, '1001110001': 0.0012, '1000000000': 0.006, '1111110110': 0.0017, '1101000010': 0.0052, '1100000011': 0.0042, '1100110100': 0.0035, '1101010000': 0.0045, '1000101111': 0.0018, '1011010011': 0.0018, '1100100111': 0.0013, '1010010111': 0.0001, '1100010110': 0.0018, '0000001000': 0.0026, '1101100110': 0.0018, '0100110110': 0.0053, '1101001001': 0.0001, '0100110010': 0.0033, '0100110000': 0.0011, '0000001001': 0.0084, '0111011111': 0.0004, '1111110100': 0.006, '0110000100': 0.001, '0000000101': 0.0011, '1100000000': 0.0081, '1101000100': 0.0007, '0100100100': 0.0044, '1111000110': 0.0025, '1000000001': 0.003, '1110000101': 0.0013, '0111010010': 0.0008, '0111101011': 0.0011, '0000010011': 0.0069, '1110000111': 0.0012, '1000010111': 0.0019, '1010010011': 0.0005, '1000010001': 0.0079, '0000100101': 0.0068, '0010110011': 0.0022, '0000110110': 0.0032, '0011110001': 0.0021, '0100010111': 0.0021, '1100010101': 0.0057, '0001001101': 0.0023, '0001100001': 0.0002, '0100001000': 0.0032, '1111100101': 0.0023, '1100110000': 0.0036, '0010010000': 0.0026, '1000001001': 0.0033, '1110110100': 0.0045, '1111011111': 0.0001, '0111011101': 0.0004, '1000001010': 0.0024, '1101000001': 0.0012, '1110011011': 0.0007, '1001100001': 0.0003, '0110000000': 0.0006, '0100111001': 0.0026, '1110100110': 0.0035, '0100010010': 0.0031, '1100110101': 0.0062, '0010100111': 0.001, '1011001001': 0.0002, '1101110100': 0.0062, '0111100111': 0.0008, '0011000011': 0.0003, '0000000010': 0.0027, '1101110001': 0.0014, '1100100101': 0.0027, '1100010010': 0.0036, '0111010000': 0.0007, '0111001000': 0.0004, '1001011101': 0.0011, '0011110101': 0.0044, '1010100010': 0.0006, '1000001000': 0.0025, '1000011100': 0.0015, '1101000101': 0.0012, '1010011011': 0.0011, '0010000010': 0.0003, '1000100000': 0.0018, '0101010001': 0.0008, '0100000110': 0.0025, '1000100011': 0.002, '0111010111': 0.0005, '0000101000': 0.0006, '1000100110': 0.0096, '0100000001': 0.0024, '1000001011': 0.0023, '1111010101': 0.0006, '0001010001': 0.0005, '1100100010': 0.0013, '1100111111': 0.0037, '1000101100': 0.0037, '0000110100': 0.0002, '0000111100': 0.0048, '0011001101': 0.0005, '1110000010': 0.0054, '1100001110': 0.0004, '1100110111': 0.0028, '1111110101': 0.0022, '1111101001': 0.0007, '1111100110': 0.0033, '0101110001': 0.0011, '0000011000': 0.0024, '1111000010': 0.0018, '0000111010': 0.0003, '0000000110': 0.0013, '0000110001': 0.008, '0000010110': 0.0005, '0010111101': 0.0007, '0000000000': 0.0008, '1100001010': 0.0019, '1100111101': 0.0007, '0010110001': 0.005, '0000111111': 0.0008, '0010110101': 0.0004, '0111011011': 0.0006, '1000110010': 0.0037, '0110010101': 0.0002, '0011001011': 0.002, '1011000011': 0.0008, '1111100001': 0.0009, '0000010100': 0.0012, '0110101111': 0.0001, '1010010110': 0.0001, '0000100001': 0.003, '0111000011': 0.0007, '1000100101': 0.0016, '0100101100': 0.0033, '0110111111': 0.0003, '0011001111': 0.0012, '0100011011': 0.0025, '1001100101': 0.0004, '0011111010': 0.0019, '0100111111': 0.0004, '1111011100': 0.0003, '0000101101': 0.0041, '0010010010': 0.0009, '1000010011': 0.0057, '0000001101': 0.0015, '1011101010': 0.0008, '0100110001': 0.0017, '0001101001': 0.0008, '0010011010': 0.0005, '0000110101': 0.004, '1001011010': 0.0006, '1001111100': 0.0002, '0100101111': 0.0021, '1110000100': 0.0012, '1111110000': 0.0011, '1100111001': 0.0012, '0110110011': 0.0009, '1110010000': 0.0024, '0100011110': 0.0003, '1111010000': 0.0015, '1000101101': 0.0032, '1111010011': 0.0009, '1000011101': 0.0004, '0100011010': 0.0023, '1000001110': 0.0036, '1100101111': 0.0002, '1110010111': 0.0015, '0000111101': 0.0021, '0101101011': 0.0001, '1111011000': 0.0001, '1011100101': 0.0006, '0110011101': 0.0013, '1011100100': 0.0005, '1000011011': 0.0014, '0100011000': 0.0003, '1111000101': 0.0011, '0111010011': 0.0013, '1000110100': 0.0011, '0001000001': 0.001, '0101100010': 0.0009, '0101010101': 0.0001, '0110011010': 0.001, '1000000101': 0.0016, '1000111111': 0.0012, '1011101001': 0.0004, '1101000111': 0.0007, '0100100001': 0.0018, '0110110110': 0.0004, '0101010011': 0.0004, '1000001100': 0.0006, '0101001000': 0.0003, '1110000011': 0.0009, '0111000000': 0.0018, '1101010101': 0.0006, '1100001100': 0.0008, '0001001000': 0.0004, '0011010101': 0.0011, '1111110011': 0.002, '0001011010': 0.0007, '1011010101': 0.0005, '1101110101': 0.0004, '0000100110': 0.001, '1011000100': 0.0006, '0101100000': 0.0002, '1011001011': 0.0014, '1100101011': 0.0002, '1111000001': 0.0006, '0011001000': 0.0007, '0110110101': 0.001, '1110110111': 0.0005, '1101100011': 0.0007, '0111001010': 0.0009, '0100101110': 0.0021, '1111111100': 0.0005, '0010011100': 0.0012, '1000100111': 0.0025, '0111000100': 0.0009, '1000010110': 0.0001, '0010101011': 0.0003, '1011101100': 0.0003, '0101000110': 0.0006, '1101000110': 0.0015, '0011011011': 0.0026, '0010101100': 0.002, '1000011010': 0.0019, '0100100110': 0.0077, '0100001010': 0.0019, '0001011100': 0.001, '1110111000': 0.0002, '0101100111': 0.0005, '1100011110': 0.0003, '0111011000': 0.0002, '0110000011': 0.0007, '1001101011': 0.0003, '0000010111': 0.0007, '1101010110': 0.0002, '0110001011': 0.0003, '1100101110': 0.0028, '0101010000': 0.0008, '1101101111': 0.0009, '1101001100': 0.0001, '0100100101': 0.0032, '0011100101': 0.0011, '1110101111': 0.0008, '1011110011': 0.001, '1101100010': 0.0002, '0010000011': 0.0012, '0000110000': 0.0011, '0110100010': 0.0005, '0110011001': 0.0002, '0100010101': 0.0048, '1000111001': 0.002, '1010111011': 0.0003, '0100110101': 0.0033, '1111101101': 0.0002, '1010011010': 0.0006, '1000110111': 0.0032, '1010000111': 0.0001, '0110110001': 0.0013, '1011100110': 0.0007, '0100000011': 0.0006, '1100110011': 0.0033, '1011011001': 0.0003, '1110100100': 0.0023, '1101110010': 0.0004, '1110000110': 0.0017, '1010100100': 0.001, '1001111010': 0.0004, '0011110100': 0.0013, '1010111111': 0.0002, '0001101100': 0.0018, '0001010000': 0.0018, '0001110100': 0.0003, '0010100001': 0.0001, '1001001000': 0.0008, '1011010001': 0.0004, '0001111101': 0.0006, '0000010010': 0.0037, '0000110111': 0.0013, '1110110001': 0.0018, '1001110010': 0.0001, '1011110100': 0.0003, '1110110011': 0.0006, '1001100100': 0.0005, '0110001100': 0.0003, '1100000101': 0.001, '0000001100': 0.0007, '0000011001': 0.0028, '0000111000': 0.0004, '0001111011': 0.0002, '0010000001': 0.0006, '0101110011': 0.0005, '0010010101': 0.0001, '0111110101': 0.0004, '1101010111': 0.0011, '0011010001': 0.0013, '1100101010': 0.0003, '0011000100': 0.0005, '1111010111': 0.0018, '1110111011': 0.0006, '0001000010': 0.0004, '1100101001': 0.0011, '0110000111': 0.0002, '1001110100': 0.0005, '0011101011': 0.0009, '1001001111': 0.0003, '0100100011': 0.0008, '0000101100': 0.0023, '1100000001': 0.0011, '1011010010': 0.0008, '0101110000': 0.0001, '0111110011': 0.0008, '1001010000': 0.0008, '0011101111': 0.0008, '0011000010': 0.001, '1010100101': 0.0007, '0010010001': 0.0004, '1011001111': 0.0004, '0011010010': 0.0023, '1101111011': 0.0003, '0000100011': 0.0012, '0110010000': 0.0014, '1110001010': 0.0002, '1011110010': 0.0002, '1000010000': 0.0007, '0010011011': 0.0008, '1111100100': 0.0017, '1001010011': 0.0004, '1010011101': 0.0009, '0010100100': 0.0006, '1101110110': 0.001, '1010111001': 0.0001, '1001110110': 0.0003, '0111000111': 0.001, '1110001000': 0.0001, '1101000011': 0.0009, '0100111000': 0.0007, '1111011001': 0.0006, '1001001101': 0.0003, '0011100100': 0.0006, '0001110000': 0.0009, '1011110101': 0.0005, '1011101101': 0.0006, '0101011010': 0.0007, '0001100100': 0.0004, '0111110110': 0.0006, '0100011100': 0.0013, '0010010011': 0.0015, '0011001110': 0.0008, '0010110100': 0.0009, '0000011100': 0.001, '0000101111': 0.0018, '0011001100': 0.0002, '0100001101': 0.0004, '0101110100': 0.0007, '1011100000': 0.0003, '1111001010': 0.0003, '1001111000': 0.0004, '1010101011': 0.0002, '0101001111': 0.0008, '1001001001': 0.0005, '1000101011': 0.0011, '0110100111': 0.0005, '0011010100': 0.0012, '0111111101': 0.0004, '0111011001': 0.0002, '1000000011': 0.0009, '1000111101': 0.0006, '0000100010': 0.0008, '0000001010': 0.0011, '1010110100': 0.0008, '1101011111': 0.0003, '0000100100': 0.001, '0000100111': 0.0013, '1001000011': 0.0005, '0001110101': 0.0004, '1000011110': 0.0002, '0111001111': 0.0002, '1001100111': 0.0006, '0111101101': 0.0006, '0011000110': 0.0002, '0101011111': 0.0004, '0110010011': 0.0004, '1010000101': 0.0001, '0001111110': 0.0005, '0010101001': 0.0006, '0011000000': 0.0013, '0010101111': 0.0009, '1110000001': 0.001, '1101001011': 0.0008, '1111000111': 0.0007, '1110111001': 0.0004, '0010001011': 0.0005, '0001011000': 0.0004, '0011101000': 0.0002, '0100110100': 0.0007, '0011010111': 0.0004, '1010111010': 0.0004, '1000101000': 0.0006, '0100111101': 0.0006, '0000000011': 0.0008, '1101101001': 0.0005, '1101111100': 0.0001, '1010001111': 0.0002, '1000100001': 0.0011, '1101100000': 0.0006, '0101011110': 0.0004, '1100001111': 0.0007, '1011000111': 0.0007, '1100111000': 0.0004, '1110101001': 0.0012, '0100000101': 0.0013, '0010001001': 0.0006, '0011110011': 0.0013, '0101110110': 0.0004, '0001011111': 0.0005, '1010101010': 0.0004, '1101011011': 0.0013, '1110010101': 0.0005, '1111001101': 0.0003, '0111110111': 0.0008, '0100011001': 0.0004, '0011111011': 0.0006, '0111100110': 0.0003, '0010001111': 0.0007, '1111100011': 0.0015, '1001001011': 0.0002, '0011010011': 0.0007, '1111010001': 0.0011, '1010001100': 0.0004, '1011011011': 0.0004, '1101010001': 0.0008, '0111111011': 0.0004, '1000001111': 0.0003, '1110010011': 0.0004, '0011000101': 0.0005, '0101111010': 0.0003, '0000011111': 0.0009, '0110001110': 0.0001, '0011000001': 0.0005, '0110001101': 0.0005, '1100010000': 0.0006, '0000111001': 0.0004, '0110100000': 0.0003, '0111100100': 0.0012, '0011100000': 0.0004, '0010110111': 0.0006, '1101011010': 0.0008, '1010010101': 0.0004, '0111010101': 0.0006, '0000011010': 0.0004, '0101000101': 0.0001, '0101001001': 0.0003, '1010011110': 0.0002, '0101011011': 0.0008, '1110101000': 0.0004, '1111011101': 0.0001, '1101110111': 0.0009, '0010011101': 0.0004, '1110100000': 0.0016, '1001000111': 0.0003, '1010100111': 0.0005, '0111111111': 0.0002, '0101100100': 0.0014, '0101101101': 0.0001, '1110011010': 0.0004, '0001110111': 0.0008, '0100010000': 0.0011, '1110011111': 0.0002, '1011101110': 0.001, '1001011011': 0.0009, '0110101101': 0.0003, '1011110111': 0.0006, '1110011101': 0.0001, '1010001010': 0.0001, '0000101001': 0.0009, '1001000000': 0.0005, '0111101001': 0.0007, '0010101101': 0.0006, '1001011110': 0.0005, '0111101010': 0.0007, '1000101001': 0.0001, '1010111100': 0.0004, '1011011000': 0.0001, '0101000111': 0.0003, '0011100011': 0.0005, '0010100000': 0.0005, '0010100010': 0.0004, '0001101101': 0.0007, '0011100001': 0.0004, '1100101101': 0.0006, '1111110010': 0.0005, '0111100001': 0.0002, '1010010000': 0.0009, '0110011011': 0.0011, '1110001100': 0.0001, '1010001011': 0.0001, '1010011000': 0.0001, '0000011011': 0.0003, '0100101010': 0.0005, '1000011111': 0.0001, '0101111011': 0.0002, '1010100110': 0.0002, '0110100100': 0.0014, '1000111010': 0.0002, '1001000100': 0.0005, '0101111100': 0.0004, '0011110111': 0.0001, '0001001100': 0.0004, '1111001110': 0.0001, '0110101010': 0.0002, '0010001100': 0.0005, '0111000110': 0.0001, '1100111011': 0.0011, '1010110001': 0.0009, '0111111000': 0.0006, '0110100011': 0.0005, '1100011111': 0.0003, '1110010010': 0.0002, '1000111100': 0.0003, '0111011100': 0.0002, '1010000110': 0.0005, '1001101111': 0.0003, '0010111100': 0.0002, '0011110010': 0.0003, '1000110000': 0.001, '1100110001': 0.0003, '0111110010': 0.0002, '0001111100': 0.0003, '0001101010': 0.0002, '1101100111': 0.0002, '1100111010': 0.0003, '1001010001': 0.0005, '0000000100': 0.0008, '1101001000': 0.0003, '0110101110': 0.0002, '1011100111': 0.0005, '0010101010': 0.0003, '0001001111': 0.0004, '0011000111': 0.0003, '1101101101': 0.0001, '0110101011': 0.0004, '0000101110': 0.0002, '1101100001': 0.0002, '0101110101': 0.0005, '1101110011': 0.0005, '1011001000': 0.0003, '0010000111': 0.0001, '0110001001': 0.0005, '1011001010': 0.0002, '1010011100': 0.0001, '0011011111': 0.0002, '0110010100': 0.0002, '0011110110': 0.0005, '0001101111': 0.0004, '1011010100': 0.0005, '1111111001': 0.0002, '0000000111': 0.0001, '1111101100': 0.0005, '1010001001': 0.0007, '1101010010': 0.0001, '1110111100': 0.0001, '1110100001': 0.0001, '0111100000': 0.0007, '1000001101': 0.0002, '1100001001': 0.0004, '0101001010': 0.0001, '1011111011': 0.0005, '1010010100': 0.0005, '1010110101': 0.0003, '1010111000': 0.0004, '1010010010': 0.0002, '0111111010': 0.0002, '0101100101': 0.0006, '0111000010': 0.0001, '1111001011': 0.0002, '1010100011': 0.0003, '1110001011': 0.0006, '0001011101': 0.0002, '1011111000': 0.0004, '1010110110': 0.0002, '1110110010': 0.0003, '1111110001': 0.0001, '1110010100': 0.0004, '0011111100': 0.0004, '1010000000': 0.0004, '0111010001': 0.0004, '0001010010': 0.0012, '1000000100': 0.0005, '0100110011': 0.0002, '0011111111': 0.0005, '1011111010': 0.0002, '0001101011': 0.0003, '0011101101': 0.0001, '0100111011': 0.0003, '1000100010': 0.0009, '0110111000': 0.0003, '1100011000': 0.0006, '1101001110': 0.0002, '0010011001': 0.0002, '0101000001': 0.0001, '0001010111': 0.0001, '1001001100': 0.0002, '0100101000': 0.0001, '0001111010': 0.0001, '0111010110': 0.0003, '1001010110': 0.0002, '1011011110': 0.0002, '1101101000': 0.0003, '1101111000': 0.0001, '1111010110': 0.0001, '1011001110': 0.0001, '0101111000': 0.0005, '0001010100': 0.0001, '0000100000': 0.0002, '1001101110': 0.0002, '0000001111': 0.0003, '0110111100': 0.0003, '0001000100': 0.0002, '1010001000': 0.0004, '1100100011': 0.0001, '1111111101': 0.0002, '0001100101': 0.0001, '0100000100': 0.0001, '0001001001': 0.0002, '1011010000': 0.0004, '0100001100': 0.0006, '0111000001': 0.0004, '0101101010': 0.0005, '0001111000': 0.0001, '0101000000': 0.0004, '0110011000': 0.0001, '1111010010': 0.0005, '0001010110': 0.0001, '1010101100': 0.0001, '0111001101': 0.0001, '1111111011': 0.0001, '0011111000': 0.0003, '0110111011': 0.0001, '1101001111': 0.0002, '1001010111': 0.0001, '1101111001': 0.0002, '0101000011': 0.0005, '0100011101': 0.0004, '1001000010': 0.0001, '1110110101': 0.0003, '0011101001': 0.0005, '0010011110': 0.0002, '1110100011': 0.0002, '0110000001': 0.0002, '1001101010': 0.0002, '0011101100': 0.0006, '0011111101': 0.0003, '0100001111': 0.0002, '0111110100': 0.0001, '1011000101': 0.0001, '1110011000': 0.0001, '0010111110': 0.0004, '0001000110': 0.0003, '1001011100': 0.0002, '1001100010': 0.0003, '1001101101': 0.0003, '1001100011': 0.0005, '0110111010': 0.0003, '1010000100': 0.0006, '0000010000': 0.0001, '1011011101': 0.0005, '1011011111': 0.0005, '1100101100': 0.0001, '0011011110': 0.0004, '1010111110': 0.0001, '0011111001': 0.0002, '0011101110': 0.0001, '0110001010': 0.0005, '1100101000': 0.0002, '0001011001': 0.0001, '1001100000': 0.0001, '0011011001': 0.0003, '0010010100': 0.0001, '0101011001': 0.0003, '0001100010': 0.0005, '0101101001': 0.0002, '0101111111': 0.0001, '0001110010': 0.0002, '0111001011': 0.0005, '1100011101': 0.0001, '0010110000': 0.0002, '1001111011': 0.0004, '0110010001': 0.0004, '1110100010': 0.0002, '0010110010': 0.0001, '1110100101': 0.0002, '1111101110': 0.0001, '0101111110': 0.0001, '0111011010': 0.0001, '0101010111': 0.0001, '0011011101': 0.0002, '0010100011': 0.0003, '0010000100': 0.0001, '1110010110': 0.0004, '1110100111': 0.0001, '1101011100': 0.0001, '0011100010': 0.0005, '1001111110': 0.0001, '0111001100': 0.0002, '0001000111': 0.0001, '1101111111': 0.0002, '0010111000': 0.0002, '0111101100': 0.0001, '1110011001': 0.0002, '0101100110': 0.0001, '1010101101': 0.0002, '1111100010': 0.0005, '1111111110': 0.0001, '1010011001': 0.0001, '1010100000': 0.0001, '0011111110': 0.0001, '1000111011': 0.0001, '1110001111': 0.0001, '0110001000': 0.0004, '0000110011': 0.0002, '1111011010': 0.0003, '0111111100': 0.0001, '0110101100': 0.0001, '0001010101': 0.0001, '0111011110': 0.0001, '0101100011': 0.0002, '1111011011': 0.0002, '0001100011': 0.0001, '0011001001': 0.0002, '1100011001': 0.0001, '1101011000': 0.0002, '0110000101': 0.0001, '0100111100': 0.0004, '0110011111': 0.0001, '0010010111': 0.0004, '0110100001': 0.0001, '0011101010': 0.0002, '0100010110': 0.0001, '1110111010': 0.0002, '1011001101': 0.0003, '0101101110': 0.0001, '0101001110': 0.0002, '0000101010': 0.0002, '0101001101': 0.0002, '1101101110': 0.0001, '1100000100': 0.0002, '0111010100': 0.0003, '0110000110': 0.0005, '0101101111': 0.0002, '1001110011': 0.0003, '1001010100': 0.0001, '0110010111': 0.0001, '0001000000': 0.0002, '1010001101': 0.0001, '1101111010': 0.0001, '0001001011': 0.0002, '1101100101': 0.0001, '1101001010': 0.0001, '0111100101': 0.0001, '0010000110': 0.0002, '0010011000': 0.0003, '1011111111': 0.0001, '0011011000': 0.0001, '1001101001': 0.0001, '1001011000': 0.0001, '0101011101': 0.0003, '0110110000': 0.0001, '1011010111': 0.0001, '1101001101': 0.0001, '1011110001': 0.0002, '0110111110': 0.0001, '1111001111': 0.0001, '0111110001': 0.0002, '1010010001': 0.0002, '1101011001': 0.0001, '1100001000': 0.0002, '1111101000': 0.0001, '0111001110': 0.0002, '0001001110': 0.0001, '1110001110': 0.0001, '1010110000': 0.0001, '0101100001': 0.0001, '0101010110': 0.0001, '0100111110': 0.0002, '0010000101': 0.0001, '0011100111': 0.0001, '1011110000': 0.0001, '0101001100': 0.0001}\n"
     ]
    },
    {
     "name": "stderr",
     "output_type": "stream",
     "text": [
      "c:\\Users\\arthu\\miniconda3\\envs\\QuantumQiskit\\lib\\site-packages\\qiskit_ibm_runtime\\fake_provider\\local_service.py:268: UserWarning: Options {'dynamical_decoupling': {'enable': True, 'sequence_type': 'XY4'}, 'twirling': {'enable_gates': True, 'num_randomizations': 'auto'}} have no effect in local testing mode.\n",
      "  warnings.warn(f\"Options {options_copy} have no effect in local testing mode.\")\n"
     ]
    }
   ],
   "source": [
    "from qiskit_ibm_runtime import SamplerV2 as Sampler\n",
    "\n",
    "# If using qiskit-ibm-runtime<0.24.0, change `mode=` to `backend=`\n",
    "sampler = Sampler(mode=backend)\n",
    "sampler.options.default_shots = 10000\n",
    "\n",
    "# Set simple error suppression/mitigation options\n",
    "sampler.options.dynamical_decoupling.enable = True\n",
    "sampler.options.dynamical_decoupling.sequence_type = \"XY4\"\n",
    "sampler.options.twirling.enable_gates = True\n",
    "sampler.options.twirling.num_randomizations = \"auto\"\n",
    "\n",
    "pub= (optimized_circuit, )\n",
    "job = sampler.run([pub], shots=int(1e4))\n",
    "\n",
    "counts_int = job.result()[0].data.meas.get_int_counts()\n",
    "counts_bin = job.result()[0].data.meas.get_counts()\n",
    "shots = sum(counts_int.values())\n",
    "final_distribution_100_int = {key: val/shots for key, val in counts_int.items()}\n",
    "\n",
    "final_distribution_int = {key: val/shots for key, val in counts_int.items()}\n",
    "final_distribution_bin = {key: val/shots for key, val in counts_bin.items()}\n",
    "print(final_distribution_int)\n",
    "print(final_distribution_bin)"
   ]
  },
  {
   "cell_type": "code",
   "execution_count": 149,
   "metadata": {},
   "outputs": [
    {
     "name": "stdout",
     "output_type": "stream",
     "text": [
      "{'1100100110': 0.0285, '1100000010': 0.0156, '1100010001': 0.0154, '1100110110': 0.0146, '0000010001': 0.0118, '1100100100': 0.0117, '0000000001': 0.0106, '0000010101': 0.0101, '1000100110': 0.0096, '0000001001': 0.0084, '1100000000': 0.0081, '0100010001': 0.008, '0000110001': 0.008, '1000010001': 0.0079, '0100100110': 0.0077, '1000000010': 0.0073, '0100000010': 0.0069, '0000010011': 0.0069, '0000100101': 0.0068, '0100010011': 0.0064, '1100010011': 0.0062, '1100110101': 0.0062, '1101110100': 0.0062, '1000000000': 0.006, '1111110100': 0.006, '1100000111': 0.0059, '1100010101': 0.0057, '1000010011': 0.0057, '1000010101': 0.0056, '0100000000': 0.0054, '1110000010': 0.0054, '0100110110': 0.0053, '0000011101': 0.0052, '1101000010': 0.0052, '1100011010': 0.0051, '1100111110': 0.0051, '0010110001': 0.005, '0001110001': 0.0048, '0000111100': 0.0048, '0100010101': 0.0048, '1000100100': 0.0047, '1100011011': 0.0046, '1101010000': 0.0045, '1110110100': 0.0045, '0100101101': 0.0044, '0100100100': 0.0044, '0011110101': 0.0044, '1000110101': 0.0042, '1100000011': 0.0042, '0000101101': 0.0041, '0000110101': 0.004, '1000110110': 0.0038, '1100111111': 0.0037, '1000101100': 0.0037, '1000110010': 0.0037, '0000010010': 0.0037, '1100110000': 0.0036, '1100010010': 0.0036, '1000001110': 0.0036, '0100001110': 0.0035, '0100110111': 0.0035, '1100110100': 0.0035, '1110100110': 0.0035, '0001110011': 0.0033, '0100001001': 0.0033, '0100110010': 0.0033, '1000001001': 0.0033, '1111100110': 0.0033, '0100101100': 0.0033, '0100110101': 0.0033, '1100110011': 0.0033, '1100000110': 0.0032, '1100100001': 0.0032, '0000110110': 0.0032, '0100001000': 0.0032, '1000101101': 0.0032, '0100100101': 0.0032, '1000110111': 0.0032, '0100010010': 0.0031, '1111000100': 0.003, '1000000001': 0.003, '0000100001': 0.003, '1000101110': 0.0029, '1101000000': 0.0029, '0100101011': 0.0028, '1100110111': 0.0028, '1100101110': 0.0028, '0000011001': 0.0028, '1110000000': 0.0027, '0000000010': 0.0027, '1100100101': 0.0027, '0000110010': 0.0026, '1101100100': 0.0026, '0000001000': 0.0026, '0010010000': 0.0026, '0100111001': 0.0026, '0011011011': 0.0026, '1000110001': 0.0025, '1000000110': 0.0025, '0000101011': 0.0025, '1100110010': 0.0025, '1111000110': 0.0025, '1000001000': 0.0025, '0100000110': 0.0025, '0100011011': 0.0025, '1000100111': 0.0025, '1000001010': 0.0024, '0100000001': 0.0024, '0000011000': 0.0024, '1110010000': 0.0024, '0001001101': 0.0023, '1111100101': 0.0023, '1000001011': 0.0023, '0100011010': 0.0023, '1110100100': 0.0023, '0000101100': 0.0023, '0011010010': 0.0023, '1111000000': 0.0022, '0010110011': 0.0022, '1111110101': 0.0022, '0000001110': 0.0021, '0011110001': 0.0021, '0100010111': 0.0021, '0100101111': 0.0021, '0000111101': 0.0021, '0100101110': 0.0021, '0000001011': 0.002, '0100100111': 0.002, '1000100011': 0.002, '0011001011': 0.002, '1111110011': 0.002, '0010101100': 0.002, '1000111001': 0.002, '1111100111': 0.0019, '1000010111': 0.0019, '1100001010': 0.0019, '0011111010': 0.0019, '1000011010': 0.0019, '0100001010': 0.0019, '1000101111': 0.0018, '1011010011': 0.0018, '1100010110': 0.0018, '1101100110': 0.0018, '1000100000': 0.0018, '1111000010': 0.0018, '0100100001': 0.0018, '0111000000': 0.0018, '0001101100': 0.0018, '0001010000': 0.0018, '1110110001': 0.0018, '1111010111': 0.0018, '0000101111': 0.0018, '1111110110': 0.0017, '0100110001': 0.0017, '1110000110': 0.0017, '1111100100': 0.0017, '0001100111': 0.0016, '1000010010': 0.0016, '0001010011': 0.0016, '0001011011': 0.0016, '1000100101': 0.0016, '1000000101': 0.0016, '1110100000': 0.0016, '1011000000': 0.0015, '0100100010': 0.0015, '0010001101': 0.0015, '1000011100': 0.0015, '0000001101': 0.0015, '1111010000': 0.0015, '1110010111': 0.0015, '1101000110': 0.0015, '0010010011': 0.0015, '1111100011': 0.0015, '1110010001': 0.0014, '0000011110': 0.0014, '0100001011': 0.0014, '1101110001': 0.0014, '1000011011': 0.0014, '1011001011': 0.0014, '0110010000': 0.0014, '0101100100': 0.0014, '0110100100': 0.0014, '0011100110': 0.0013, '1111100000': 0.0013, '0000111110': 0.0013, '1100100111': 0.0013, '1110000101': 0.0013, '1100100010': 0.0013, '0000000110': 0.0013, '0110011101': 0.0013, '0111010011': 0.0013, '0110110001': 0.0013, '0011110100': 0.0013, '0000110111': 0.0013, '0011010001': 0.0013, '0100011100': 0.0013, '0000100111': 0.0013, '0011000000': 0.0013, '0100000101': 0.0013, '0011110011': 0.0013, '1101011011': 0.0013, '0111101111': 0.0012, '1100010111': 0.0012, '1111010100': 0.0012, '1100010100': 0.0012, '0100100000': 0.0012, '1001110001': 0.0012, '1110000111': 0.0012, '1101000001': 0.0012, '1101000101': 0.0012, '0000010100': 0.0012, '0011001111': 0.0012, '1110000100': 0.0012, '1100111001': 0.0012, '1000111111': 0.0012, '0010011100': 0.0012, '0010000011': 0.0012, '0000100011': 0.0012, '0011010100': 0.0012, '1110101001': 0.0012, '0111100100': 0.0012, '0001010010': 0.0012, '1111001001': 0.0011, '0001000011': 0.0011, '0100110000': 0.0011, '0000000101': 0.0011, '0111101011': 0.0011, '1001011101': 0.0011, '1010011011': 0.0011, '0101110001': 0.0011, '1111110000': 0.0011, '1111000101': 0.0011, '1000110100': 0.0011, '0011010101': 0.0011, '0011100101': 0.0011, '0000110000': 0.0011, '1101010111': 0.0011, '1100101001': 0.0011, '1100000001': 0.0011, '1000101011': 0.0011, '0000001010': 0.0011, '1000100001': 0.0011, '1111010001': 0.0011, '0100010000': 0.0011, '0110011011': 0.0011, '1100111011': 0.0011, '0000111011': 0.001, '1110110110': 0.001, '0110000100': 0.001, '0010100111': 0.001, '0001000001': 0.001, '0110011010': 0.001, '0000100110': 0.001, '0110110101': 0.001, '0001011100': 0.001, '1011110011': 0.001, '1010100100': 0.001, '1100000101': 0.001, '0011000010': 0.001, '1101110110': 0.001, '0111000111': 0.001, '0000011100': 0.001, '0000100100': 0.001, '1110000001': 0.001, '1011101110': 0.001, '1000110000': 0.001, '1000101010': 0.0009, '1011110110': 0.0009, '1111100001': 0.0009, '0010010010': 0.0009, '0110110011': 0.0009, '1111010011': 0.0009, '0101100010': 0.0009, '1110000011': 0.0009, '0111001010': 0.0009, '0111000100': 0.0009, '1101101111': 0.0009, '0011101011': 0.0009, '1010011101': 0.0009, '1101000011': 0.0009, '0001110000': 0.0009, '0010110100': 0.0009, '1000000011': 0.0009, '0010101111': 0.0009, '0000011111': 0.0009, '1101110111': 0.0009, '1001011011': 0.0009, '0000101001': 0.0009, '1010010000': 0.0009, '1010110001': 0.0009, '1000100010': 0.0009, '0101000100': 0.0008, '0111010010': 0.0008, '0111100111': 0.0008, '0101010001': 0.0008, '0000000000': 0.0008, '0000111111': 0.0008, '1011000011': 0.0008, '1011101010': 0.0008, '0001101001': 0.0008, '1100001100': 0.0008, '0101010000': 0.0008, '1110101111': 0.0008, '1001001000': 0.0008, '0100100011': 0.0008, '1011010010': 0.0008, '0111110011': 0.0008, '1001010000': 0.0008, '0011101111': 0.0008, '0010011011': 0.0008, '0011001110': 0.0008, '0101001111': 0.0008, '0000100010': 0.0008, '1010110100': 0.0008, '1101001011': 0.0008, '0000000011': 0.0008, '0111110111': 0.0008, '1101010001': 0.0008, '1101011010': 0.0008, '0101011011': 0.0008, '0001110111': 0.0008, '0000000100': 0.0008, '1000110011': 0.0007, '1111110111': 0.0007, '0010001000': 0.0007, '1101000100': 0.0007, '1110011011': 0.0007, '0111010000': 0.0007, '1111101001': 0.0007, '0010111101': 0.0007, '1100111101': 0.0007, '0111000011': 0.0007, '1101000111': 0.0007, '0001011010': 0.0007, '0011001000': 0.0007, '1101100011': 0.0007, '0110000011': 0.0007, '0000010111': 0.0007, '1011100110': 0.0007, '0000001100': 0.0007, '1010100101': 0.0007, '1000010000': 0.0007, '0100111000': 0.0007, '0101011010': 0.0007, '0101110100': 0.0007, '1111000111': 0.0007, '0100110100': 0.0007, '1100001111': 0.0007, '1011000111': 0.0007, '0010001111': 0.0007, '0011010011': 0.0007, '0111101001': 0.0007, '0111101010': 0.0007, '0001101101': 0.0007, '1010001001': 0.0007, '0111100000': 0.0007, '1011010110': 0.0006, '0110011110': 0.0006, '0111101110': 0.0006, '1011101011': 0.0006, '1010000011': 0.0006, '0011001010': 0.0006, '0110000000': 0.0006, '1010100010': 0.0006, '0000101000': 0.0006, '1111010101': 0.0006, '0111011011': 0.0006, '1001011010': 0.0006, '1011100101': 0.0006, '1000001100': 0.0006, '1101010101': 0.0006, '1011000100': 0.0006, '1111000001': 0.0006, '0101000110': 0.0006, '1010011010': 0.0006, '0100000011': 0.0006, '0001111101': 0.0006, '1110110011': 0.0006, '0010000001': 0.0006, '1110111011': 0.0006, '0010100100': 0.0006, '1111011001': 0.0006, '0011100100': 0.0006, '1011101101': 0.0006, '0111110110': 0.0006, '1000111101': 0.0006, '1001100111': 0.0006, '0111101101': 0.0006, '0010101001': 0.0006, '1000101000': 0.0006, '0100111101': 0.0006, '1101100000': 0.0006, '0010001001': 0.0006, '0011111011': 0.0006, '1100010000': 0.0006, '0010110111': 0.0006, '0111010101': 0.0006, '1011110111': 0.0006, '0010101101': 0.0006, '1100101101': 0.0006, '0111111000': 0.0006, '0101100101': 0.0006, '1110001011': 0.0006, '1100011000': 0.0006, '0100001100': 0.0006, '0011101100': 0.0006, '1010000100': 0.0006, '1011111101': 0.0005, '1101010100': 0.0005, '1011101111': 0.0005, '1000011001': 0.0005, '1101010011': 0.0005, '1000011000': 0.0005, '0001100000': 0.0005, '1111000011': 0.0005, '1010010011': 0.0005, '0111010111': 0.0005, '0001010001': 0.0005, '0011001101': 0.0005, '0000010110': 0.0005, '0010011010': 0.0005, '1011100100': 0.0005, '1011010101': 0.0005, '1110110111': 0.0005, '1111111100': 0.0005, '0101100111': 0.0005, '0110100010': 0.0005, '1001100100': 0.0005, '0101110011': 0.0005, '0011000100': 0.0005, '1001110100': 0.0005, '1011110101': 0.0005, '1001001001': 0.0005, '0110100111': 0.0005, '1001000011': 0.0005, '0001111110': 0.0005, '0010001011': 0.0005, '1101101001': 0.0005, '0001011111': 0.0005, '1110010101': 0.0005, '0011000101': 0.0005, '0011000001': 0.0005, '0110001101': 0.0005, '1010100111': 0.0005, '1001000000': 0.0005, '1001011110': 0.0005, '0011100011': 0.0005, '0010100000': 0.0005, '1111110010': 0.0005, '0100101010': 0.0005, '1001000100': 0.0005, '0010001100': 0.0005, '0110100011': 0.0005, '1010000110': 0.0005, '1001010001': 0.0005, '1011100111': 0.0005, '0101110101': 0.0005, '1101110011': 0.0005, '0110001001': 0.0005, '0011110110': 0.0005, '1011010100': 0.0005, '1111101100': 0.0005, '1011111011': 0.0005, '1010010100': 0.0005, '1000000100': 0.0005, '0011111111': 0.0005, '0101111000': 0.0005, '0101101010': 0.0005, '1111010010': 0.0005, '0101000011': 0.0005, '0011101001': 0.0005, '1001100011': 0.0005, '1011011101': 0.0005, '1011011111': 0.0005, '0110001010': 0.0005, '0001100010': 0.0005, '0111001011': 0.0005, '0011100010': 0.0005, '1111100010': 0.0005, '0110000110': 0.0005, '0110001111': 0.0004, '0011010110': 0.0004, '0011011010': 0.0004, '0111011111': 0.0004, '0111011101': 0.0004, '0111001000': 0.0004, '1100001110': 0.0004, '0010110101': 0.0004, '1001100101': 0.0004, '0100111111': 0.0004, '1000011101': 0.0004, '1011101001': 0.0004, '0110110110': 0.0004, '0101010011': 0.0004, '0001001000': 0.0004, '1101110101': 0.0004, '1101110010': 0.0004, '1001111010': 0.0004, '1011010001': 0.0004, '0000111000': 0.0004, '0111110101': 0.0004, '0001000010': 0.0004, '0010010001': 0.0004, '1011001111': 0.0004, '1001010011': 0.0004, '0001100100': 0.0004, '0100001101': 0.0004, '1001111000': 0.0004, '0111111101': 0.0004, '0001110101': 0.0004, '0101011111': 0.0004, '0110010011': 0.0004, '1110111001': 0.0004, '0001011000': 0.0004, '0011010111': 0.0004, '1010111010': 0.0004, '0101011110': 0.0004, '1100111000': 0.0004, '0101110110': 0.0004, '1010101010': 0.0004, '0100011001': 0.0004, '1010001100': 0.0004, '1011011011': 0.0004, '0111111011': 0.0004, '1110010011': 0.0004, '0000111001': 0.0004, '0011100000': 0.0004, '1010010101': 0.0004, '0000011010': 0.0004, '1110101000': 0.0004, '0010011101': 0.0004, '1110011010': 0.0004, '1010111100': 0.0004, '0010100010': 0.0004, '0011100001': 0.0004, '0101111100': 0.0004, '0001001100': 0.0004, '0001001111': 0.0004, '0110101011': 0.0004, '0001101111': 0.0004, '1100001001': 0.0004, '1010111000': 0.0004, '1011111000': 0.0004, '1110010100': 0.0004, '0011111100': 0.0004, '1010000000': 0.0004, '0111010001': 0.0004, '1010001000': 0.0004, '1011010000': 0.0004, '0111000001': 0.0004, '0101000000': 0.0004, '0100011101': 0.0004, '0010111110': 0.0004, '0011011110': 0.0004, '1001111011': 0.0004, '0110010001': 0.0004, '1110010110': 0.0004, '0110001000': 0.0004, '0100111100': 0.0004, '0010010111': 0.0004, '1000111000': 0.0003, '0100111010': 0.0003, '0110110100': 0.0003, '1001100001': 0.0003, '0011000011': 0.0003, '0010000010': 0.0003, '0000111010': 0.0003, '0110111111': 0.0003, '1111011100': 0.0003, '0100011110': 0.0003, '0100011000': 0.0003, '0101001000': 0.0003, '0010101011': 0.0003, '1011101100': 0.0003, '1100011110': 0.0003, '1001101011': 0.0003, '0110001011': 0.0003, '1010111011': 0.0003, '1011011001': 0.0003, '0001110100': 0.0003, '1011110100': 0.0003, '0110001100': 0.0003, '1100101010': 0.0003, '1001001111': 0.0003, '1101111011': 0.0003, '1001110110': 0.0003, '1001001101': 0.0003, '1011100000': 0.0003, '1111001010': 0.0003, '1101011111': 0.0003, '1111001101': 0.0003, '0111100110': 0.0003, '1000001111': 0.0003, '0101111010': 0.0003, '0110100000': 0.0003, '0101001001': 0.0003, '1001000111': 0.0003, '0110101101': 0.0003, '0101000111': 0.0003, '0000011011': 0.0003, '1100011111': 0.0003, '1000111100': 0.0003, '1001101111': 0.0003, '0011110010': 0.0003, '1100110001': 0.0003, '0001111100': 0.0003, '1100111010': 0.0003, '1101001000': 0.0003, '0010101010': 0.0003, '0011000111': 0.0003, '1011001000': 0.0003, '1010110101': 0.0003, '1010100011': 0.0003, '1110110010': 0.0003, '0001101011': 0.0003, '0100111011': 0.0003, '0110111000': 0.0003, '0111010110': 0.0003, '1101101000': 0.0003, '0000001111': 0.0003, '0110111100': 0.0003, '0011111000': 0.0003, '1110110101': 0.0003, '0011111101': 0.0003, '0001000110': 0.0003, '1001100010': 0.0003, '1001101101': 0.0003, '0110111010': 0.0003, '0011011001': 0.0003, '0101011001': 0.0003, '0010100011': 0.0003, '1111011010': 0.0003, '1011001101': 0.0003, '0111010100': 0.0003, '1001110011': 0.0003, '0010011000': 0.0003, '0101011101': 0.0003, '0010011111': 0.0002, '1001001010': 0.0002, '0001100001': 0.0002, '1011001001': 0.0002, '0000110100': 0.0002, '0110010101': 0.0002, '1001111100': 0.0002, '1100101111': 0.0002, '0101100000': 0.0002, '1100101011': 0.0002, '1110111000': 0.0002, '0111011000': 0.0002, '1101010110': 0.0002, '1101100010': 0.0002, '0110011001': 0.0002, '1111101101': 0.0002, '1010111111': 0.0002, '0001111011': 0.0002, '0110000111': 0.0002, '1110001010': 0.0002, '1011110010': 0.0002, '0011001100': 0.0002, '1010101011': 0.0002, '0111011001': 0.0002, '1000011110': 0.0002, '0111001111': 0.0002, '0011000110': 0.0002, '0011101000': 0.0002, '1010001111': 0.0002, '1001001011': 0.0002, '1010011110': 0.0002, '0111111111': 0.0002, '1110011111': 0.0002, '0111100001': 0.0002, '0101111011': 0.0002, '1010100110': 0.0002, '1000111010': 0.0002, '0110101010': 0.0002, '1110010010': 0.0002, '0111011100': 0.0002, '0010111100': 0.0002, '0111110010': 0.0002, '0001101010': 0.0002, '1101100111': 0.0002, '0110101110': 0.0002, '0000101110': 0.0002, '1101100001': 0.0002, '1011001010': 0.0002, '0011011111': 0.0002, '0110010100': 0.0002, '1111111001': 0.0002, '1000001101': 0.0002, '1010010010': 0.0002, '0111111010': 0.0002, '1111001011': 0.0002, '0001011101': 0.0002, '1010110110': 0.0002, '0100110011': 0.0002, '1011111010': 0.0002, '1101001110': 0.0002, '0010011001': 0.0002, '1001001100': 0.0002, '1001010110': 0.0002, '1011011110': 0.0002, '0000100000': 0.0002, '1001101110': 0.0002, '0001000100': 0.0002, '1111111101': 0.0002, '0001001001': 0.0002, '1101001111': 0.0002, '1101111001': 0.0002, '0010011110': 0.0002, '1110100011': 0.0002, '0110000001': 0.0002, '1001101010': 0.0002, '0100001111': 0.0002, '1001011100': 0.0002, '0011111001': 0.0002, '1100101000': 0.0002, '0101101001': 0.0002, '0001110010': 0.0002, '0010110000': 0.0002, '1110100010': 0.0002, '1110100101': 0.0002, '0011011101': 0.0002, '0111001100': 0.0002, '1101111111': 0.0002, '0010111000': 0.0002, '1110011001': 0.0002, '1010101101': 0.0002, '0000110011': 0.0002, '0101100011': 0.0002, '1111011011': 0.0002, '0011001001': 0.0002, '1101011000': 0.0002, '0011101010': 0.0002, '1110111010': 0.0002, '0101001110': 0.0002, '0000101010': 0.0002, '0101001101': 0.0002, '1100000100': 0.0002, '0101101111': 0.0002, '0001000000': 0.0002, '0001001011': 0.0002, '0010000110': 0.0002, '1011110001': 0.0002, '0111110001': 0.0002, '1010010001': 0.0002, '1100001000': 0.0002, '0111001110': 0.0002, '0100111110': 0.0002, '1001011111': 0.0001, '1010010111': 0.0001, '1101001001': 0.0001, '1111011111': 0.0001, '0110101111': 0.0001, '1010010110': 0.0001, '0101101011': 0.0001, '1111011000': 0.0001, '0101010101': 0.0001, '1000010110': 0.0001, '1101001100': 0.0001, '1010000111': 0.0001, '0010100001': 0.0001, '1001110010': 0.0001, '0010010101': 0.0001, '0101110000': 0.0001, '1010111001': 0.0001, '1110001000': 0.0001, '1010000101': 0.0001, '1101111100': 0.0001, '0110001110': 0.0001, '0101000101': 0.0001, '1111011101': 0.0001, '0101101101': 0.0001, '1110011101': 0.0001, '1010001010': 0.0001, '1000101001': 0.0001, '1011011000': 0.0001, '1110001100': 0.0001, '1010001011': 0.0001, '1010011000': 0.0001, '1000011111': 0.0001, '0011110111': 0.0001, '1111001110': 0.0001, '0111000110': 0.0001, '1101101101': 0.0001, '0010000111': 0.0001, '1010011100': 0.0001, '0000000111': 0.0001, '1101010010': 0.0001, '1110111100': 0.0001, '1110100001': 0.0001, '0101001010': 0.0001, '0111000010': 0.0001, '1111110001': 0.0001, '0011101101': 0.0001, '0101000001': 0.0001, '0001010111': 0.0001, '0100101000': 0.0001, '0001111010': 0.0001, '1101111000': 0.0001, '1111010110': 0.0001, '1011001110': 0.0001, '0001010100': 0.0001, '1100100011': 0.0001, '0001100101': 0.0001, '0100000100': 0.0001, '0001111000': 0.0001, '0110011000': 0.0001, '0001010110': 0.0001, '1010101100': 0.0001, '0111001101': 0.0001, '1111111011': 0.0001, '0110111011': 0.0001, '1001010111': 0.0001, '1001000010': 0.0001, '0111110100': 0.0001, '1011000101': 0.0001, '1110011000': 0.0001, '0000010000': 0.0001, '1100101100': 0.0001, '1010111110': 0.0001, '0011101110': 0.0001, '0001011001': 0.0001, '1001100000': 0.0001, '0010010100': 0.0001, '0101111111': 0.0001, '1100011101': 0.0001, '0010110010': 0.0001, '1111101110': 0.0001, '0101111110': 0.0001, '0111011010': 0.0001, '0101010111': 0.0001, '0010000100': 0.0001, '1110100111': 0.0001, '1101011100': 0.0001, '1001111110': 0.0001, '0001000111': 0.0001, '0111101100': 0.0001, '0101100110': 0.0001, '1111111110': 0.0001, '1010011001': 0.0001, '1010100000': 0.0001, '0011111110': 0.0001, '1000111011': 0.0001, '1110001111': 0.0001, '0111111100': 0.0001, '0110101100': 0.0001, '0001010101': 0.0001, '0111011110': 0.0001, '0001100011': 0.0001, '1100011001': 0.0001, '0110000101': 0.0001, '0110011111': 0.0001, '0110100001': 0.0001, '0100010110': 0.0001, '0101101110': 0.0001, '1101101110': 0.0001, '1001010100': 0.0001, '0110010111': 0.0001, '1010001101': 0.0001, '1101111010': 0.0001, '1101100101': 0.0001, '1101001010': 0.0001, '0111100101': 0.0001, '1011111111': 0.0001, '0011011000': 0.0001, '1001101001': 0.0001, '1001011000': 0.0001, '0110110000': 0.0001, '1011010111': 0.0001, '1101001101': 0.0001, '0110111110': 0.0001, '1111001111': 0.0001, '1101011001': 0.0001, '1111101000': 0.0001, '0001001110': 0.0001, '1110001110': 0.0001, '1010110000': 0.0001, '0101100001': 0.0001, '0101010110': 0.0001, '0010000101': 0.0001, '0011100111': 0.0001, '1011110000': 0.0001, '0101001100': 0.0001}\n"
     ]
    }
   ],
   "source": [
    "# Sort both distributions by probability in descending order\n",
    "sorted_dist_int = dict(sorted(final_distribution_int.items(), key=lambda x: x[1], reverse=True))\n",
    "sorted_dist_bin = dict(sorted(final_distribution_bin.items(), key=lambda x: x[1], reverse=True))\n",
    "\n",
    "# Print top 10 most likely outcomes\n",
    "top_bin_list = []\n",
    "for k, v in list(sorted_dist_bin.items())[:20]:\n",
    "    temp_list = list(k)\n",
    "    top_bin_list.append([int(re) for re in temp_list])\n",
    "\n",
    "print(sorted_dist_bin)\n"
   ]
  },
  {
   "cell_type": "code",
   "execution_count": 150,
   "metadata": {},
   "outputs": [
    {
     "name": "stdout",
     "output_type": "stream",
     "text": [
      "13\n"
     ]
    }
   ],
   "source": [
    "def calculate_cost_from_qubo(bitstring):\n",
    "    # Convert bitstring to a dictionary of variable assignments\n",
    "    var_assignment = {var.name: bit for var, bit in zip(qubo.variables, bitstring)}\n",
    "    \n",
    "    # Evaluate the cost function\n",
    "    cost = qubo.objective.evaluate(var_assignment)\n",
    "    \n",
    "    return cost\n",
    "\n",
    "# Example usage\n",
    "cost_l = []\n",
    "for bin in top_bin_list:\n",
    "    cost = calculate_cost_from_qubo(bin)\n",
    "    cost_l.append(cost)\n",
    "\n",
    "min_index, min_value = min(enumerate(cost_l), key=operator.itemgetter(1))\n",
    "print(min_index)\n",
    "\n",
    "most_likely_bitstring = top_bin_list[min_index]"
   ]
  },
  {
   "cell_type": "markdown",
   "metadata": {},
   "source": [
    "### Post-process"
   ]
  },
  {
   "cell_type": "code",
   "execution_count": 151,
   "metadata": {},
   "outputs": [
    {
     "name": "stdout",
     "output_type": "stream",
     "text": [
      "[1, 0, 0]\n",
      "[0, 0, 1]\n"
     ]
    }
   ],
   "source": [
    "x_value = most_likely_bitstring[0:Nc]\n",
    "y_value = most_likely_bitstring[Nc:2*Nc]\n",
    "\n",
    "print(x_value)\n",
    "print(y_value)"
   ]
  },
  {
   "cell_type": "markdown",
   "metadata": {},
   "source": [
    "### Visualization"
   ]
  },
  {
   "cell_type": "code",
   "execution_count": 152,
   "metadata": {},
   "outputs": [],
   "source": [
    "def distance(x, y, Nc):\n",
    "    velocity = 0\n",
    "    vel = [0]\n",
    "    dist = [0]\n",
    "    dist_tot= 0\n",
    "    for i in range(0, Nc):\n",
    "        velocity = velocity + delta_v*(x[i]-y[i])\n",
    "        if velocity < 0:\n",
    "            velocity = -velocity\n",
    "        vel.append(velocity)\n",
    "        dist_tot += velocity\n",
    "        dist.append(dist_tot)\n",
    "    return dist,vel"
   ]
  },
  {
   "cell_type": "code",
   "execution_count": 153,
   "metadata": {},
   "outputs": [],
   "source": [
    "time= np.arange(Nc+1)\n",
    "distn, velo = distance(x_value, y_value, Nc)"
   ]
  },
  {
   "cell_type": "code",
   "execution_count": 154,
   "metadata": {},
   "outputs": [
    {
     "name": "stderr",
     "output_type": "stream",
     "text": [
      "C:\\Users\\arthu\\AppData\\Local\\Temp\\ipykernel_2252\\2353725290.py:12: UserWarning: No artists with labels found to put in legend.  Note that artists whose label start with an underscore are ignored when legend() is called with no argument.\n",
      "  plt.legend()\n"
     ]
    }
   ],
   "source": [
    "plt.figure(figsize=(15,8))\n",
    "\n",
    "matplotlib.rcParams.update({\"font.size\": 15})\n",
    "\n",
    "plt.plot(time, velo, c='b', marker=\"o\", markersize=2, linestyle='-')#, label='label)\n",
    "\n",
    "plt.xlabel('Time')\n",
    "plt.ylabel('Velocity')\n",
    "plt.title(\"Velocity vs Time\")\n",
    "plt.grid(axis='x')\n",
    "plt.grid(axis='y')\n",
    "plt.legend()\n",
    "plt.show()"
   ]
  },
  {
   "cell_type": "code",
   "execution_count": null,
   "metadata": {},
   "outputs": [
    {
     "name": "stderr",
     "output_type": "stream",
     "text": [
      "C:\\Users\\arthu\\AppData\\Local\\Temp\\ipykernel_2252\\1348846773.py:9: UserWarning: No artists with labels found to put in legend.  Note that artists whose label start with an underscore are ignored when legend() is called with no argument.\n",
      "  plt.legend()\n"
     ]
    },
    {
     "ename": "",
     "evalue": "",
     "output_type": "error",
     "traceback": [
      "\u001b[1;31mThe Kernel crashed while executing code in the current cell or a previous cell. \n",
      "\u001b[1;31mPlease review the code in the cell(s) to identify a possible cause of the failure. \n",
      "\u001b[1;31mClick <a href='https://aka.ms/vscodeJupyterKernelCrash'>here</a> for more info. \n",
      "\u001b[1;31mView Jupyter <a href='command:jupyter.viewOutput'>log</a> for further details."
     ]
    }
   ],
   "source": [
    "plt.figure(figsize=(10,6))\n",
    "\n",
    "matplotlib.rcParams.update({\"font.size\": 15})\n",
    "\n",
    "plt.plot(time, distn, c='b', marker=\"o\", markersize=1, linestyle='-')#, label='label')\n",
    "plt.xlabel('Time')\n",
    "plt.ylabel('Distance')\n",
    "plt.title(\"Distance vs Time\")\n",
    "plt.legend()\n",
    "plt.show()"
   ]
  }
 ],
 "metadata": {
  "kernelspec": {
   "display_name": "QuantumQiskit",
   "language": "python",
   "name": "python3"
  },
  "language_info": {
   "codemirror_mode": {
    "name": "ipython",
    "version": 3
   },
   "file_extension": ".py",
   "mimetype": "text/x-python",
   "name": "python",
   "nbconvert_exporter": "python",
   "pygments_lexer": "ipython3",
   "version": "3.9.20"
  }
 },
 "nbformat": 4,
 "nbformat_minor": 2
}
