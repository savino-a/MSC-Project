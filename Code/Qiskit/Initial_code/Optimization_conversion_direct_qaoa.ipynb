{
 "cells": [
  {
   "cell_type": "markdown",
   "metadata": {},
   "source": [
    "# This is the code for Quantum Optimization"
   ]
  },
  {
   "cell_type": "code",
   "execution_count": 1,
   "metadata": {},
   "outputs": [],
   "source": [
    "import unittest\n",
    "import qiskit\n",
    "from qiskit.quantum_info import SparsePauliOp\n",
    "from qiskit_optimization import QuadraticProgram\n",
    "from qiskit_optimization.translators import from_docplex_mp\n",
    "from docplex.mp.model import Model\n",
    "import numpy as np\n",
    "from qiskit_algorithms import QAOA\n",
    "from qiskit_optimization.algorithms import MinimumEigenOptimizer\n",
    "from qiskit_algorithms.optimizers import COBYLA\n",
    "from qiskit_ibm_runtime import QiskitRuntimeService, SamplerV2 as SamplerV2\n",
    "import operator\n",
    "from qiskit.primitives import Sampler, Estimator\n",
    "from qiskit_optimization.converters import QuadraticProgramToQubo\n",
    "from qiskit.circuit.library import QAOAAnsatz\n",
    "import qiskit_aer as Aer\n",
    "from qiskit_ibm_runtime import Session, EstimatorV2 as Estimator\n",
    "from scipy.optimize import minimize\n",
    "from qiskit_aer import AerSimulator\n",
    "from qiskit import transpile\n",
    "from qiskit.primitives import StatevectorSampler\n",
    "from qiskit_optimization.converters import InequalityToEquality\n",
    "from qiskit import QuantumCircuit, transpile\n",
    "from qiskit.visualization import circuit_drawer\n",
    "from qiskit.transpiler import PassManager\n",
    "from qiskit_aer.noise import NoiseModel, depolarizing_error, thermal_relaxation_error\n",
    "from qiskit.transpiler.passes import Optimize1qGates, CXCancellation\n",
    "from qiskit import QuantumCircuit, QuantumRegister\n",
    "from qiskit.circuit import Parameter\n",
    "import matplotlib\n",
    "matplotlib.use('TkAgg')  # Set non-interactive backend\n",
    "import matplotlib.pyplot as plt\n",
    "from qiskit import transpile\n",
    "from qiskit.visualization import circuit_drawer\n",
    "from qiskit.transpiler import PassManager\n",
    "from qiskit.transpiler.passes import Optimize1qGates, CXCancellation\n",
    "from qiskit_ibm_runtime import QiskitRuntimeService, SamplerV2 as Sampler2\n",
    "from qiskit.transpiler.preset_passmanagers import generate_preset_pass_manager\n",
    "import os\n",
    "from qiskit_algorithms import VQE\n",
    "from qiskit.primitives import Estimator as Estimator3\n",
    "from qiskit.circuit.library import TwoLocal\n",
    "from qiskit_algorithms.optimizers import COBYLA"
   ]
  },
  {
   "cell_type": "code",
   "execution_count": 2,
   "metadata": {},
   "outputs": [
    {
     "name": "stdout",
     "output_type": "stream",
     "text": [
      "Name: qiskit\n",
      "Version: 1.4.0\n",
      "Summary: An open-source SDK for working with quantum computers at the level of extended quantum circuits, operators, and primitives.\n",
      "Home-page: https://www.ibm.com/quantum/qiskit\n",
      "Author: \n",
      "Author-email: Qiskit Development Team <qiskit@us.ibm.com>\n",
      "License: Apache 2.0\n",
      "Location: /home/maop7/.conda/envs/QuantumQiskit/lib/python3.9/site-packages\n",
      "Requires: dill, numpy, python-dateutil, rustworkx, scipy, stevedore, symengine, sympy, typing-extensions\n",
      "Required-by: qiskit-aer-gpu, qiskit-algorithms, qiskit-ibm-runtime, qiskit-optimization\n",
      "Note: you may need to restart the kernel to use updated packages.\n"
     ]
    }
   ],
   "source": [
    "pip show qiskit"
   ]
  },
  {
   "cell_type": "markdown",
   "metadata": {},
   "source": [
    "## We first create the Docplex/Cplex optimization problem"
   ]
  },
  {
   "cell_type": "code",
   "execution_count": 3,
   "metadata": {},
   "outputs": [],
   "source": [
    "opt_model = Model(name=\"MIP Model\")\n",
    "\n",
    "Nc= 3 # Nc is the number of seconds\n",
    "\n",
    "Dist=2 # Distance to travel\n",
    "\n",
    "tolerance = 0 # Tolerance in distance travelled\n",
    "\n",
    "delta_v=1 # Rate of acceleration/deceleration set to 1\n",
    "\n",
    "vmax=2 # Max speed of a TGV in France (in m/s)\n",
    "\n",
    "alpha=0.05 # Regenerative braking efficiency\n",
    "\n",
    "\"\"\"\n",
    "We define two binary variables for two bits. \n",
    "When x=0 and y=0 then constant velocity\n",
    "When x=1 and y=0 then acceleration\n",
    "When x=0 and y=1 then breaking\n",
    "\"\"\"\n",
    "\n",
    "x={}\n",
    "for i in range(0, Nc):\n",
    "    x[i]= opt_model.binary_var(name=f\"x_{i}\")\n",
    "\n",
    "y={}\n",
    "for i in range(0, Nc):\n",
    "    y[i]= opt_model.binary_var(name=f\"y_{i}\")\n",
    "\n",
    "'''z={}\n",
    "for i in range(0, Nc):\n",
    "    z[i]= opt_model.binary_var(name=f\"z_{i}\")'''\n",
    "    \n",
    "\n",
    "objective = opt_model.linear_expr()\n",
    "## objective is the hamiltonian/energy value we want to minimize\n",
    "## Energy:\n",
    "for i in range(0, Nc):\n",
    "    '''objective += (delta_v**2) * x[i] - alpha*(delta_v**2)*y[i]'''\n",
    "    objective += (delta_v**2)*x[i]\n",
    "\n",
    "    \n",
    "opt_model.minimize(objective)"
   ]
  },
  {
   "cell_type": "code",
   "execution_count": 4,
   "metadata": {},
   "outputs": [
    {
     "name": "stdout",
     "output_type": "stream",
     "text": [
      "Model: MIP Model\n",
      " - number of variables: 6\n",
      "   - binary=6, integer=0, continuous=0\n",
      " - number of constraints: 3\n",
      "   - linear=3\n",
      " - parameters: defaults\n",
      " - objective: minimize\n",
      " - problem type is: MILP\n",
      "// This file has been generated by DOcplex\n",
      "// model name is: MIP Model\n",
      "// single vars section\n",
      "dvar bool x_0;\n",
      "dvar bool x_1;\n",
      "dvar bool x_2;\n",
      "dvar bool y_0;\n",
      "dvar bool y_1;\n",
      "dvar bool y_2;\n",
      "\n",
      "minimize\n",
      " x_0 + x_1 + x_2;\n",
      " \n",
      "subject to {\n",
      " simultaneous_braking_acceleration_constraint_0:\n",
      "  x_0 + y_0 -1 <= 0;\n",
      " simultaneous_braking_acceleration_constraint_1:\n",
      "  x_1 + y_1 -1 <= 0;\n",
      " simultaneous_braking_acceleration_constraint_2:\n",
      "  x_2 + y_2 -1 <= 0;\n",
      "\n",
      "}\n"
     ]
    }
   ],
   "source": [
    "## Constraint 1: (simultaneous braking/acceleration)\n",
    "\n",
    "\n",
    "'''for i in range(0, Nc):\n",
    "    opt_model.add_constraint(z[i] <= x[i] , f\"z_u_d_{i}\") \n",
    "\n",
    "for i in range(0, Nc):\n",
    "    opt_model.add_constraint(z[i] <= y[i], f\"z_p_d_{i}\")\n",
    "        \n",
    "for i in range(0, Nc):\n",
    "    opt_model.add_constraint(z[i] >= x[i]+ y[i] -1 , f\"z_u_p_d_{i}\") \n",
    "\n",
    "for i in range(0,Nc):\n",
    "    opt_model.add_constraint(z[i] == 0, \"No simultaneous braking or acceleration constraint\"+str(i))\n",
    "opt_model.add_constraint(opt_model.sum(z[i] for i in range(0, Nc)) == 0 , \"No_simultaneous_braking_or_acceleration_constraint\")\n",
    "'''\n",
    "\n",
    "for i in range(0, Nc):\n",
    "    opt_model.add_constraint(x[i]+ y[i] -1 <= 0 , f\"simultaneous_braking_acceleration_constraint_{i}\") \n",
    "#### Print the optimization model info\n",
    "\n",
    "opt_model.print_information()\n",
    "opt_model.prettyprint()"
   ]
  },
  {
   "cell_type": "code",
   "execution_count": 5,
   "metadata": {},
   "outputs": [
    {
     "name": "stdout",
     "output_type": "stream",
     "text": [
      "Model: MIP Model\n",
      " - number of variables: 6\n",
      "   - binary=6, integer=0, continuous=0\n",
      " - number of constraints: 4\n",
      "   - linear=4\n",
      " - parameters: defaults\n",
      " - objective: minimize\n",
      " - problem type is: MILP\n"
     ]
    }
   ],
   "source": [
    "\"\"\"\n",
    "Constraint 2: (Total Distance constraints)\n",
    "\"\"\"\n",
    "\n",
    "distance = opt_model.linear_expr()\n",
    "velocity = 0\n",
    "for i in range(0, Nc):\n",
    "    velocity = velocity + delta_v*(x[i]-y[i])\n",
    "    distance += velocity\n",
    "'''opt_model.add_constraint(distance <= Dist+tolerance, \"Max_Distance_constraint\")\n",
    "opt_model.add_constraint(distance >= Dist-tolerance, \"Min_Distance_constraint\")'''\n",
    "opt_model.add_constraint(distance == Dist, \"Distance_constraint\")\n",
    "\n",
    "#### Print the optimization model info\n",
    "\n",
    "opt_model.print_information() "
   ]
  },
  {
   "cell_type": "code",
   "execution_count": 6,
   "metadata": {},
   "outputs": [
    {
     "name": "stdout",
     "output_type": "stream",
     "text": [
      "Model: MIP Model\n",
      " - number of variables: 6\n",
      "   - binary=6, integer=0, continuous=0\n",
      " - number of constraints: 5\n",
      "   - linear=5\n",
      " - parameters: defaults\n",
      " - objective: minimize\n",
      " - problem type is: MILP\n"
     ]
    }
   ],
   "source": [
    "\"\"\"\n",
    "Constraint 3: (Net-Zero contraint)\n",
    "\n",
    "\"\"\"\n",
    "opt_model.add_constraint(opt_model.sum((y[i]-x[i]) for i in range(0, Nc)) == 0 , \"Net_Zero_constraint\")\n",
    "\n",
    "#### Print the optimization model info\n",
    "\n",
    "opt_model.print_information()"
   ]
  },
  {
   "cell_type": "code",
   "execution_count": 7,
   "metadata": {},
   "outputs": [
    {
     "name": "stdout",
     "output_type": "stream",
     "text": [
      "Model: MIP Model\n",
      " - number of variables: 6\n",
      "   - binary=6, integer=0, continuous=0\n",
      " - number of constraints: 6\n",
      "   - linear=6\n",
      " - parameters: defaults\n",
      " - objective: minimize\n",
      " - problem type is: MILP\n"
     ]
    }
   ],
   "source": [
    "\"\"\"\n",
    "Constraint 4: (Maximum Speed)\n",
    "\n",
    "\"\"\"\n",
    "opt_model.add_constraint(opt_model.sum((delta_v*(x[i]) for i in range(0, Nc))) <= vmax , \"Maximum_Speed_constraint\")\n",
    "\n",
    "#### Print the optimization model info\n",
    "\n",
    "opt_model.print_information() "
   ]
  },
  {
   "cell_type": "code",
   "execution_count": 8,
   "metadata": {},
   "outputs": [
    {
     "name": "stdout",
     "output_type": "stream",
     "text": [
      "Model: MIP Model\n",
      " - number of variables: 6\n",
      "   - binary=6, integer=0, continuous=0\n",
      " - number of constraints: 9\n",
      "   - linear=9\n",
      " - parameters: defaults\n",
      " - objective: minimize\n",
      " - problem type is: MILP\n"
     ]
    }
   ],
   "source": [
    "\n",
    "#Constraint 5: (Positive Speed)\n",
    "for i in range(Nc):\n",
    "    opt_model.add_constraint(opt_model.sum((x[i]-y[i]) for i in range(0, i)) >= 0 , \"Positive_Speed_constraint\"+str(i))\n",
    "\n",
    "    #### Print the optimization model\n",
    "\n",
    "opt_model.print_information()\n"
   ]
  },
  {
   "cell_type": "code",
   "execution_count": 9,
   "metadata": {},
   "outputs": [
    {
     "data": {
      "text/plain": [
       "'\\n#Constraint 6: (Must leave immediately)\\n\\nopt_model.add_constraint(x[0]==1, \"Must leave immediately constraint\")\\n    \\n\\n#### Print the optimization model info\\n\\nopt_model.print_information()\\n'"
      ]
     },
     "execution_count": 9,
     "metadata": {},
     "output_type": "execute_result"
    }
   ],
   "source": [
    "'''\n",
    "#Constraint 6: (Must leave immediately)\n",
    "\n",
    "opt_model.add_constraint(x[0]==1, \"Must leave immediately constraint\")\n",
    "    \n",
    "\n",
    "#### Print the optimization model info\n",
    "\n",
    "opt_model.print_information()\n",
    "'''"
   ]
  },
  {
   "cell_type": "code",
   "execution_count": 10,
   "metadata": {},
   "outputs": [
    {
     "name": "stdout",
     "output_type": "stream",
     "text": [
      "// This file has been generated by DOcplex\n",
      "// model name is: MIP Model\n",
      "// single vars section\n",
      "dvar bool x_0;\n",
      "dvar bool x_1;\n",
      "dvar bool x_2;\n",
      "dvar bool y_0;\n",
      "dvar bool y_1;\n",
      "dvar bool y_2;\n",
      "\n",
      "minimize\n",
      " x_0 + x_1 + x_2;\n",
      " \n",
      "subject to {\n",
      " simultaneous_braking_acceleration_constraint_0:\n",
      "  x_0 + y_0 -1 <= 0;\n",
      " simultaneous_braking_acceleration_constraint_1:\n",
      "  x_1 + y_1 -1 <= 0;\n",
      " simultaneous_braking_acceleration_constraint_2:\n",
      "  x_2 + y_2 -1 <= 0;\n",
      " Distance_constraint:\n",
      "  3 x_0 - 3 y_0 + 2 x_1 - 2 y_1 + x_2 - y_2 == 2;\n",
      " Net_Zero_constraint:\n",
      "  y_0 - x_0 + y_1 - x_1 + y_2 - x_2 == 0;\n",
      " Maximum_Speed_constraint:\n",
      "  x_0 + x_1 + x_2 <= 2;\n",
      " Positive_Speed_constraint0:\n",
      "  0 >= 0;\n",
      " Positive_Speed_constraint1:\n",
      "  x_0 - y_0 >= 0;\n",
      " Positive_Speed_constraint2:\n",
      "  x_0 - y_0 + x_1 - y_1 >= 0;\n",
      "\n",
      "}\n",
      "None\n"
     ]
    }
   ],
   "source": [
    "#### Print the optimization model\n",
    "print(opt_model.prettyprint())"
   ]
  },
  {
   "cell_type": "markdown",
   "metadata": {},
   "source": [
    "## Problem conversion"
   ]
  },
  {
   "cell_type": "code",
   "execution_count": 11,
   "metadata": {},
   "outputs": [
    {
     "name": "stdout",
     "output_type": "stream",
     "text": [
      "Number of variables: 6\n"
     ]
    },
    {
     "name": "stderr",
     "output_type": "stream",
     "text": [
      "/tmp/ipykernel_16640/414607200.py:2: UserWarning: Trivial constraint: Positive_Speed_constraint0: 0 >= 0\n",
      "  qp_quad = from_docplex_mp(opt_model)\n"
     ]
    }
   ],
   "source": [
    "# Conversion to qad_model\n",
    "qp_quad = from_docplex_mp(opt_model)\n",
    "print(\"Number of variables:\", len(qp_quad.variables))"
   ]
  },
  {
   "cell_type": "code",
   "execution_count": 12,
   "metadata": {},
   "outputs": [
    {
     "name": "stdout",
     "output_type": "stream",
     "text": [
      "QUBO variables: 10\n",
      "QUBO constraints: 0\n"
     ]
    },
    {
     "data": {
      "text/plain": [
       "'opt_model.export_as_lp(\"qubo1.lp\")'"
      ]
     },
     "execution_count": 12,
     "metadata": {},
     "output_type": "execute_result"
    }
   ],
   "source": [
    "# Conversion to qubo\n",
    "conv = QuadraticProgramToQubo()\n",
    "qubo = conv.convert(qp_quad)\n",
    "\n",
    "print(f\"QUBO variables: {len(qubo.variables)}\")\n",
    "print(f\"QUBO constraints: {len(qubo.linear_constraints)}\")\n",
    "\n",
    "'''opt_model.export_as_lp(\"qubo1.lp\")'''"
   ]
  },
  {
   "cell_type": "code",
   "execution_count": 13,
   "metadata": {},
   "outputs": [
    {
     "name": "stdout",
     "output_type": "stream",
     "text": [
      "Offset: 269.5\n",
      "Ising Hamiltonian:\n",
      "SparsePauliOp(['IIIIIIIIIZ', 'IIIIIIIIZI', 'IIIIIIIZII', 'IIIIIIZIII', 'IIIIIZIIII', 'IIIIZIIIII', 'IIIZIIIIII', 'IIZIIIIIII', 'IIIIIIIIZZ', 'IIIIIIIZIZ', 'IIIIIIZIIZ', 'IIIIIZIIIZ', 'IIIIZIIIIZ', 'IIIZIIIIIZ', 'IIZIIIIIIZ', 'IZIIIIIIIZ', 'IZIIIIIIII', 'ZIIIIIIIIZ', 'ZIIIIIIIII', 'IIIIIIIZZI', 'IIIIIIZIZI', 'IIIIIZIIZI', 'IIIIZIIIZI', 'IIIZIIIIZI', 'IIZIIIIIZI', 'IZIIIIIIZI', 'ZIIIIIIIZI', 'IIIIIIZZII', 'IIIIIZIZII', 'IIIIZIIZII', 'IIIZIIIZII', 'IIZIIIIZII', 'IIIIIZZIII', 'IIIIZIZIII', 'IZIIIIZIII', 'ZIIIIIZIII', 'IIIIZZIIII', 'IZIIIZIIII', 'ZIIIIZIIII', 'IIZZIIIIII', 'ZZIIIIIIII'],\n",
      "              coeffs=[ 103.5+0.j,   70.5+0.j,   22.5+0.j, -114. +0.j,  -81. +0.j,  -33. +0.j,\n",
      "   -8. +0.j,   -8. +0.j,   72. +0.j,   40. +0.j,  -88. +0.j,  -64. +0.j,\n",
      "  -32. +0.j,    8. +0.j,    8. +0.j,   -8. +0.j,  -16. +0.j,   -8. +0.j,\n",
      "  -16. +0.j,   32. +0.j,  -64. +0.j,  -47. +0.j,  -24. +0.j,    8. +0.j,\n",
      "    8. +0.j,   -8. +0.j,   -8. +0.j,  -32. +0.j,  -24. +0.j,  -15. +0.j,\n",
      "    8. +0.j,    8. +0.j,   64. +0.j,   32. +0.j,    8. +0.j,    8. +0.j,\n",
      "   24. +0.j,    8. +0.j,    8. +0.j,    8. +0.j,    8. +0.j])\n",
      "10\n",
      "269.5\n"
     ]
    }
   ],
   "source": [
    "qubitOp, offset = qubo.to_ising()\n",
    "print(\"Offset:\", offset)\n",
    "print(\"Ising Hamiltonian:\")\n",
    "print(str(qubitOp))\n",
    "num_qubits = qubitOp.num_qubits\n",
    "print(num_qubits)\n",
    "print(offset)"
   ]
  },
  {
   "cell_type": "code",
   "execution_count": 14,
   "metadata": {},
   "outputs": [
    {
     "name": "stdout",
     "output_type": "stream",
     "text": [
      "10\n"
     ]
    }
   ],
   "source": [
    "p=4\n",
    "qubo_circuit = QAOAAnsatz(cost_operator=qubitOp, reps=p)\n",
    "qubo_circuit.measure_all()\n",
    "print(qubo_circuit.num_qubits)"
   ]
  },
  {
   "cell_type": "code",
   "execution_count": 15,
   "metadata": {},
   "outputs": [
    {
     "data": {
      "text/html": [
       "<pre style=\"word-wrap: normal;white-space: pre;background: #fff0;line-height: 1.1;font-family: &quot;Courier New&quot;,Courier,monospace\">         ┌────────────────────────────────────────────────┐ ░ ┌─┐            »\n",
       "    q_0: ┤0                                               ├─░─┤M├────────────»\n",
       "         │                                                │ ░ └╥┘┌─┐         »\n",
       "    q_1: ┤1                                               ├─░──╫─┤M├─────────»\n",
       "         │                                                │ ░  ║ └╥┘┌─┐      »\n",
       "    q_2: ┤2                                               ├─░──╫──╫─┤M├──────»\n",
       "         │                                                │ ░  ║  ║ └╥┘┌─┐   »\n",
       "    q_3: ┤3                                               ├─░──╫──╫──╫─┤M├───»\n",
       "         │                                                │ ░  ║  ║  ║ └╥┘┌─┐»\n",
       "    q_4: ┤4                                               ├─░──╫──╫──╫──╫─┤M├»\n",
       "         │  QAOA(γ[0],β[0],γ[1],β[1],γ[2],β[2],γ[3],β[3]) │ ░  ║  ║  ║  ║ └╥┘»\n",
       "    q_5: ┤5                                               ├─░──╫──╫──╫──╫──╫─»\n",
       "         │                                                │ ░  ║  ║  ║  ║  ║ »\n",
       "    q_6: ┤6                                               ├─░──╫──╫──╫──╫──╫─»\n",
       "         │                                                │ ░  ║  ║  ║  ║  ║ »\n",
       "    q_7: ┤7                                               ├─░──╫──╫──╫──╫──╫─»\n",
       "         │                                                │ ░  ║  ║  ║  ║  ║ »\n",
       "    q_8: ┤8                                               ├─░──╫──╫──╫──╫──╫─»\n",
       "         │                                                │ ░  ║  ║  ║  ║  ║ »\n",
       "    q_9: ┤9                                               ├─░──╫──╫──╫──╫──╫─»\n",
       "         └────────────────────────────────────────────────┘ ░  ║  ║  ║  ║  ║ »\n",
       "meas: 10/══════════════════════════════════════════════════════╩══╩══╩══╩══╩═»\n",
       "                                                               0  1  2  3  4 »\n",
       "«                        \n",
       "«    q_0: ───────────────\n",
       "«                        \n",
       "«    q_1: ───────────────\n",
       "«                        \n",
       "«    q_2: ───────────────\n",
       "«                        \n",
       "«    q_3: ───────────────\n",
       "«                        \n",
       "«    q_4: ───────────────\n",
       "«         ┌─┐            \n",
       "«    q_5: ┤M├────────────\n",
       "«         └╥┘┌─┐         \n",
       "«    q_6: ─╫─┤M├─────────\n",
       "«          ║ └╥┘┌─┐      \n",
       "«    q_7: ─╫──╫─┤M├──────\n",
       "«          ║  ║ └╥┘┌─┐   \n",
       "«    q_8: ─╫──╫──╫─┤M├───\n",
       "«          ║  ║  ║ └╥┘┌─┐\n",
       "«    q_9: ─╫──╫──╫──╫─┤M├\n",
       "«          ║  ║  ║  ║ └╥┘\n",
       "«meas: 10/═╩══╩══╩══╩══╩═\n",
       "«          5  6  7  8  9 </pre>"
      ],
      "text/plain": [
       "         ┌────────────────────────────────────────────────┐ ░ ┌─┐            »\n",
       "    q_0: ┤0                                               ├─░─┤M├────────────»\n",
       "         │                                                │ ░ └╥┘┌─┐         »\n",
       "    q_1: ┤1                                               ├─░──╫─┤M├─────────»\n",
       "         │                                                │ ░  ║ └╥┘┌─┐      »\n",
       "    q_2: ┤2                                               ├─░──╫──╫─┤M├──────»\n",
       "         │                                                │ ░  ║  ║ └╥┘┌─┐   »\n",
       "    q_3: ┤3                                               ├─░──╫──╫──╫─┤M├───»\n",
       "         │                                                │ ░  ║  ║  ║ └╥┘┌─┐»\n",
       "    q_4: ┤4                                               ├─░──╫──╫──╫──╫─┤M├»\n",
       "         │  QAOA(γ[0],β[0],γ[1],β[1],γ[2],β[2],γ[3],β[3]) │ ░  ║  ║  ║  ║ └╥┘»\n",
       "    q_5: ┤5                                               ├─░──╫──╫──╫──╫──╫─»\n",
       "         │                                                │ ░  ║  ║  ║  ║  ║ »\n",
       "    q_6: ┤6                                               ├─░──╫──╫──╫──╫──╫─»\n",
       "         │                                                │ ░  ║  ║  ║  ║  ║ »\n",
       "    q_7: ┤7                                               ├─░──╫──╫──╫──╫──╫─»\n",
       "         │                                                │ ░  ║  ║  ║  ║  ║ »\n",
       "    q_8: ┤8                                               ├─░──╫──╫──╫──╫──╫─»\n",
       "         │                                                │ ░  ║  ║  ║  ║  ║ »\n",
       "    q_9: ┤9                                               ├─░──╫──╫──╫──╫──╫─»\n",
       "         └────────────────────────────────────────────────┘ ░  ║  ║  ║  ║  ║ »\n",
       "meas: 10/══════════════════════════════════════════════════════╩══╩══╩══╩══╩═»\n",
       "                                                               0  1  2  3  4 »\n",
       "«                        \n",
       "«    q_0: ───────────────\n",
       "«                        \n",
       "«    q_1: ───────────────\n",
       "«                        \n",
       "«    q_2: ───────────────\n",
       "«                        \n",
       "«    q_3: ───────────────\n",
       "«                        \n",
       "«    q_4: ───────────────\n",
       "«         ┌─┐            \n",
       "«    q_5: ┤M├────────────\n",
       "«         └╥┘┌─┐         \n",
       "«    q_6: ─╫─┤M├─────────\n",
       "«          ║ └╥┘┌─┐      \n",
       "«    q_7: ─╫──╫─┤M├──────\n",
       "«          ║  ║ └╥┘┌─┐   \n",
       "«    q_8: ─╫──╫──╫─┤M├───\n",
       "«          ║  ║  ║ └╥┘┌─┐\n",
       "«    q_9: ─╫──╫──╫──╫─┤M├\n",
       "«          ║  ║  ║  ║ └╥┘\n",
       "«meas: 10/═╩══╩══╩══╩══╩═\n",
       "«          5  6  7  8  9 "
      ]
     },
     "execution_count": 15,
     "metadata": {},
     "output_type": "execute_result"
    }
   ],
   "source": [
    "qubo_circuit.draw( style={'backgroundcolor': '#FFFFFF'})"
   ]
  },
  {
   "cell_type": "code",
   "execution_count": 16,
   "metadata": {},
   "outputs": [
    {
     "data": {
      "text/plain": [
       "\"expanded_circuit = qubo_circuit.decompose()\\nexpanded_circuit.draw( style={'backgroundcolor': '#FFFFFF'})\""
      ]
     },
     "execution_count": 16,
     "metadata": {},
     "output_type": "execute_result"
    }
   ],
   "source": [
    "'''expanded_circuit = qubo_circuit.decompose()\n",
    "expanded_circuit.draw( style={'backgroundcolor': '#FFFFFF'})'''"
   ]
  },
  {
   "cell_type": "code",
   "execution_count": 17,
   "metadata": {},
   "outputs": [
    {
     "data": {
      "text/plain": [
       "ParameterView([ParameterVectorElement(β[0]), ParameterVectorElement(β[1]), ParameterVectorElement(β[2]), ParameterVectorElement(β[3]), ParameterVectorElement(γ[0]), ParameterVectorElement(γ[1]), ParameterVectorElement(γ[2]), ParameterVectorElement(γ[3])])"
      ]
     },
     "execution_count": 17,
     "metadata": {},
     "output_type": "execute_result"
    }
   ],
   "source": [
    "qubo_circuit.parameters"
   ]
  },
  {
   "cell_type": "markdown",
   "metadata": {},
   "source": [
    "### Optimize circuit"
   ]
  },
  {
   "cell_type": "code",
   "execution_count": 18,
   "metadata": {},
   "outputs": [
    {
     "name": "stdout",
     "output_type": "stream",
     "text": [
      "AerSimulator('aer_simulator')\n",
      "10\n"
     ]
    }
   ],
   "source": [
    "# QiskitRuntimeService.save_account(channel=\"ibm_quantum\", token=\"<MY_IBM_QUANTUM_TOKEN>\", overwrite=True, set_as_default=True)\n",
    "'''service = QiskitRuntimeService(channel='ibm_quantum')\n",
    "backend = service.least_busy(min_num_qubits=num_qubits+5)'''\n",
    "backend = AerSimulator(device='GPU')\n",
    "print(backend)\n",
    "\n",
    "# Create pass manager for transpilation\n",
    "pm = generate_preset_pass_manager(optimization_level=3,\n",
    "                                    backend=backend)\n",
    "\n",
    "candidate_circuit = pm.run(qubo_circuit)\n",
    "'''candidate_circuit.draw()'''\n",
    "num_qubits_circ = candidate_circuit.num_qubits\n",
    "print(num_qubits_circ)"
   ]
  },
  {
   "cell_type": "markdown",
   "metadata": {},
   "source": [
    "### Execute circuit"
   ]
  },
  {
   "cell_type": "code",
   "execution_count": 19,
   "metadata": {},
   "outputs": [],
   "source": [
    "initial_gamma = np.pi\n",
    "initial_beta = np.pi/2\n",
    "init_params = []\n",
    "for i in range(p):\n",
    "    init_params.append(initial_gamma)\n",
    "    init_params.append(initial_beta)"
   ]
  },
  {
   "cell_type": "code",
   "execution_count": 20,
   "metadata": {},
   "outputs": [],
   "source": [
    "def cost_func_estimator(params, ansatz, hamiltonian, estimator):\n",
    "\n",
    "    # transform the observable defined on virtual qubits to\n",
    "    # an observable defined on all physical qubits\n",
    "    isa_hamiltonian = hamiltonian.apply_layout(ansatz.layout)\n",
    "\n",
    "    pub = (ansatz, isa_hamiltonian, params)\n",
    "    job = estimator.run([pub])\n",
    "\n",
    "    results = job.result()[0]\n",
    "    cost = results.data.evs\n",
    "    total_cost = cost + offset\n",
    "\n",
    "    objective_func_vals.append(total_cost)\n",
    "\n",
    "\n",
    "    return total_cost"
   ]
  },
  {
   "cell_type": "code",
   "execution_count": 21,
   "metadata": {},
   "outputs": [
    {
     "name": "stderr",
     "output_type": "stream",
     "text": [
      "/home/maop7/.conda/envs/QuantumQiskit/lib/python3.9/site-packages/qiskit_ibm_runtime/fake_provider/local_service.py:269: UserWarning: Options {'dynamical_decoupling': {'enable': True, 'sequence_type': 'XY4'}, 'twirling': {'enable_gates': True, 'num_randomizations': 'auto'}} have no effect in local testing mode.\n",
      "  warnings.warn(f\"Options {options_copy} have no effect in local testing mode.\")\n",
      "/home/maop7/.conda/envs/QuantumQiskit/lib/python3.9/site-packages/qiskit_ibm_runtime/fake_provider/local_service.py:269: UserWarning: Options {'dynamical_decoupling': {'enable': True, 'sequence_type': 'XY4'}, 'twirling': {'enable_gates': True, 'num_randomizations': 'auto'}} have no effect in local testing mode.\n",
      "  warnings.warn(f\"Options {options_copy} have no effect in local testing mode.\")\n",
      "/home/maop7/.conda/envs/QuantumQiskit/lib/python3.9/site-packages/qiskit_ibm_runtime/fake_provider/local_service.py:269: UserWarning: Options {'dynamical_decoupling': {'enable': True, 'sequence_type': 'XY4'}, 'twirling': {'enable_gates': True, 'num_randomizations': 'auto'}} have no effect in local testing mode.\n",
      "  warnings.warn(f\"Options {options_copy} have no effect in local testing mode.\")\n",
      "/home/maop7/.conda/envs/QuantumQiskit/lib/python3.9/site-packages/qiskit_ibm_runtime/fake_provider/local_service.py:269: UserWarning: Options {'dynamical_decoupling': {'enable': True, 'sequence_type': 'XY4'}, 'twirling': {'enable_gates': True, 'num_randomizations': 'auto'}} have no effect in local testing mode.\n",
      "  warnings.warn(f\"Options {options_copy} have no effect in local testing mode.\")\n",
      "/home/maop7/.conda/envs/QuantumQiskit/lib/python3.9/site-packages/qiskit_ibm_runtime/fake_provider/local_service.py:269: UserWarning: Options {'dynamical_decoupling': {'enable': True, 'sequence_type': 'XY4'}, 'twirling': {'enable_gates': True, 'num_randomizations': 'auto'}} have no effect in local testing mode.\n",
      "  warnings.warn(f\"Options {options_copy} have no effect in local testing mode.\")\n",
      "/home/maop7/.conda/envs/QuantumQiskit/lib/python3.9/site-packages/qiskit_ibm_runtime/fake_provider/local_service.py:269: UserWarning: Options {'dynamical_decoupling': {'enable': True, 'sequence_type': 'XY4'}, 'twirling': {'enable_gates': True, 'num_randomizations': 'auto'}} have no effect in local testing mode.\n",
      "  warnings.warn(f\"Options {options_copy} have no effect in local testing mode.\")\n",
      "/home/maop7/.conda/envs/QuantumQiskit/lib/python3.9/site-packages/qiskit_ibm_runtime/fake_provider/local_service.py:269: UserWarning: Options {'dynamical_decoupling': {'enable': True, 'sequence_type': 'XY4'}, 'twirling': {'enable_gates': True, 'num_randomizations': 'auto'}} have no effect in local testing mode.\n",
      "  warnings.warn(f\"Options {options_copy} have no effect in local testing mode.\")\n",
      "/home/maop7/.conda/envs/QuantumQiskit/lib/python3.9/site-packages/qiskit_ibm_runtime/fake_provider/local_service.py:269: UserWarning: Options {'dynamical_decoupling': {'enable': True, 'sequence_type': 'XY4'}, 'twirling': {'enable_gates': True, 'num_randomizations': 'auto'}} have no effect in local testing mode.\n",
      "  warnings.warn(f\"Options {options_copy} have no effect in local testing mode.\")\n",
      "/home/maop7/.conda/envs/QuantumQiskit/lib/python3.9/site-packages/qiskit_ibm_runtime/fake_provider/local_service.py:269: UserWarning: Options {'dynamical_decoupling': {'enable': True, 'sequence_type': 'XY4'}, 'twirling': {'enable_gates': True, 'num_randomizations': 'auto'}} have no effect in local testing mode.\n",
      "  warnings.warn(f\"Options {options_copy} have no effect in local testing mode.\")\n",
      "/home/maop7/.conda/envs/QuantumQiskit/lib/python3.9/site-packages/qiskit_ibm_runtime/fake_provider/local_service.py:269: UserWarning: Options {'dynamical_decoupling': {'enable': True, 'sequence_type': 'XY4'}, 'twirling': {'enable_gates': True, 'num_randomizations': 'auto'}} have no effect in local testing mode.\n",
      "  warnings.warn(f\"Options {options_copy} have no effect in local testing mode.\")\n",
      "/home/maop7/.conda/envs/QuantumQiskit/lib/python3.9/site-packages/qiskit_ibm_runtime/fake_provider/local_service.py:269: UserWarning: Options {'dynamical_decoupling': {'enable': True, 'sequence_type': 'XY4'}, 'twirling': {'enable_gates': True, 'num_randomizations': 'auto'}} have no effect in local testing mode.\n",
      "  warnings.warn(f\"Options {options_copy} have no effect in local testing mode.\")\n",
      "/home/maop7/.conda/envs/QuantumQiskit/lib/python3.9/site-packages/qiskit_ibm_runtime/fake_provider/local_service.py:269: UserWarning: Options {'dynamical_decoupling': {'enable': True, 'sequence_type': 'XY4'}, 'twirling': {'enable_gates': True, 'num_randomizations': 'auto'}} have no effect in local testing mode.\n",
      "  warnings.warn(f\"Options {options_copy} have no effect in local testing mode.\")\n",
      "/home/maop7/.conda/envs/QuantumQiskit/lib/python3.9/site-packages/qiskit_ibm_runtime/fake_provider/local_service.py:269: UserWarning: Options {'dynamical_decoupling': {'enable': True, 'sequence_type': 'XY4'}, 'twirling': {'enable_gates': True, 'num_randomizations': 'auto'}} have no effect in local testing mode.\n",
      "  warnings.warn(f\"Options {options_copy} have no effect in local testing mode.\")\n",
      "/home/maop7/.conda/envs/QuantumQiskit/lib/python3.9/site-packages/qiskit_ibm_runtime/fake_provider/local_service.py:269: UserWarning: Options {'dynamical_decoupling': {'enable': True, 'sequence_type': 'XY4'}, 'twirling': {'enable_gates': True, 'num_randomizations': 'auto'}} have no effect in local testing mode.\n",
      "  warnings.warn(f\"Options {options_copy} have no effect in local testing mode.\")\n",
      "/home/maop7/.conda/envs/QuantumQiskit/lib/python3.9/site-packages/qiskit_ibm_runtime/fake_provider/local_service.py:269: UserWarning: Options {'dynamical_decoupling': {'enable': True, 'sequence_type': 'XY4'}, 'twirling': {'enable_gates': True, 'num_randomizations': 'auto'}} have no effect in local testing mode.\n",
      "  warnings.warn(f\"Options {options_copy} have no effect in local testing mode.\")\n",
      "/home/maop7/.conda/envs/QuantumQiskit/lib/python3.9/site-packages/qiskit_ibm_runtime/fake_provider/local_service.py:269: UserWarning: Options {'dynamical_decoupling': {'enable': True, 'sequence_type': 'XY4'}, 'twirling': {'enable_gates': True, 'num_randomizations': 'auto'}} have no effect in local testing mode.\n",
      "  warnings.warn(f\"Options {options_copy} have no effect in local testing mode.\")\n",
      "/home/maop7/.conda/envs/QuantumQiskit/lib/python3.9/site-packages/qiskit_ibm_runtime/fake_provider/local_service.py:269: UserWarning: Options {'dynamical_decoupling': {'enable': True, 'sequence_type': 'XY4'}, 'twirling': {'enable_gates': True, 'num_randomizations': 'auto'}} have no effect in local testing mode.\n",
      "  warnings.warn(f\"Options {options_copy} have no effect in local testing mode.\")\n",
      "/home/maop7/.conda/envs/QuantumQiskit/lib/python3.9/site-packages/qiskit_ibm_runtime/fake_provider/local_service.py:269: UserWarning: Options {'dynamical_decoupling': {'enable': True, 'sequence_type': 'XY4'}, 'twirling': {'enable_gates': True, 'num_randomizations': 'auto'}} have no effect in local testing mode.\n",
      "  warnings.warn(f\"Options {options_copy} have no effect in local testing mode.\")\n",
      "/home/maop7/.conda/envs/QuantumQiskit/lib/python3.9/site-packages/qiskit_ibm_runtime/fake_provider/local_service.py:269: UserWarning: Options {'dynamical_decoupling': {'enable': True, 'sequence_type': 'XY4'}, 'twirling': {'enable_gates': True, 'num_randomizations': 'auto'}} have no effect in local testing mode.\n",
      "  warnings.warn(f\"Options {options_copy} have no effect in local testing mode.\")\n",
      "/home/maop7/.conda/envs/QuantumQiskit/lib/python3.9/site-packages/qiskit_ibm_runtime/fake_provider/local_service.py:269: UserWarning: Options {'dynamical_decoupling': {'enable': True, 'sequence_type': 'XY4'}, 'twirling': {'enable_gates': True, 'num_randomizations': 'auto'}} have no effect in local testing mode.\n",
      "  warnings.warn(f\"Options {options_copy} have no effect in local testing mode.\")\n",
      "/home/maop7/.conda/envs/QuantumQiskit/lib/python3.9/site-packages/qiskit_ibm_runtime/fake_provider/local_service.py:269: UserWarning: Options {'dynamical_decoupling': {'enable': True, 'sequence_type': 'XY4'}, 'twirling': {'enable_gates': True, 'num_randomizations': 'auto'}} have no effect in local testing mode.\n",
      "  warnings.warn(f\"Options {options_copy} have no effect in local testing mode.\")\n",
      "/home/maop7/.conda/envs/QuantumQiskit/lib/python3.9/site-packages/qiskit_ibm_runtime/fake_provider/local_service.py:269: UserWarning: Options {'dynamical_decoupling': {'enable': True, 'sequence_type': 'XY4'}, 'twirling': {'enable_gates': True, 'num_randomizations': 'auto'}} have no effect in local testing mode.\n",
      "  warnings.warn(f\"Options {options_copy} have no effect in local testing mode.\")\n",
      "/home/maop7/.conda/envs/QuantumQiskit/lib/python3.9/site-packages/qiskit_ibm_runtime/fake_provider/local_service.py:269: UserWarning: Options {'dynamical_decoupling': {'enable': True, 'sequence_type': 'XY4'}, 'twirling': {'enable_gates': True, 'num_randomizations': 'auto'}} have no effect in local testing mode.\n",
      "  warnings.warn(f\"Options {options_copy} have no effect in local testing mode.\")\n",
      "/home/maop7/.conda/envs/QuantumQiskit/lib/python3.9/site-packages/qiskit_ibm_runtime/fake_provider/local_service.py:269: UserWarning: Options {'dynamical_decoupling': {'enable': True, 'sequence_type': 'XY4'}, 'twirling': {'enable_gates': True, 'num_randomizations': 'auto'}} have no effect in local testing mode.\n",
      "  warnings.warn(f\"Options {options_copy} have no effect in local testing mode.\")\n",
      "/home/maop7/.conda/envs/QuantumQiskit/lib/python3.9/site-packages/qiskit_ibm_runtime/fake_provider/local_service.py:269: UserWarning: Options {'dynamical_decoupling': {'enable': True, 'sequence_type': 'XY4'}, 'twirling': {'enable_gates': True, 'num_randomizations': 'auto'}} have no effect in local testing mode.\n",
      "  warnings.warn(f\"Options {options_copy} have no effect in local testing mode.\")\n",
      "/home/maop7/.conda/envs/QuantumQiskit/lib/python3.9/site-packages/qiskit_ibm_runtime/fake_provider/local_service.py:269: UserWarning: Options {'dynamical_decoupling': {'enable': True, 'sequence_type': 'XY4'}, 'twirling': {'enable_gates': True, 'num_randomizations': 'auto'}} have no effect in local testing mode.\n",
      "  warnings.warn(f\"Options {options_copy} have no effect in local testing mode.\")\n",
      "/home/maop7/.conda/envs/QuantumQiskit/lib/python3.9/site-packages/qiskit_ibm_runtime/fake_provider/local_service.py:269: UserWarning: Options {'dynamical_decoupling': {'enable': True, 'sequence_type': 'XY4'}, 'twirling': {'enable_gates': True, 'num_randomizations': 'auto'}} have no effect in local testing mode.\n",
      "  warnings.warn(f\"Options {options_copy} have no effect in local testing mode.\")\n",
      "/home/maop7/.conda/envs/QuantumQiskit/lib/python3.9/site-packages/qiskit_ibm_runtime/fake_provider/local_service.py:269: UserWarning: Options {'dynamical_decoupling': {'enable': True, 'sequence_type': 'XY4'}, 'twirling': {'enable_gates': True, 'num_randomizations': 'auto'}} have no effect in local testing mode.\n",
      "  warnings.warn(f\"Options {options_copy} have no effect in local testing mode.\")\n",
      "/home/maop7/.conda/envs/QuantumQiskit/lib/python3.9/site-packages/qiskit_ibm_runtime/fake_provider/local_service.py:269: UserWarning: Options {'dynamical_decoupling': {'enable': True, 'sequence_type': 'XY4'}, 'twirling': {'enable_gates': True, 'num_randomizations': 'auto'}} have no effect in local testing mode.\n",
      "  warnings.warn(f\"Options {options_copy} have no effect in local testing mode.\")\n",
      "/home/maop7/.conda/envs/QuantumQiskit/lib/python3.9/site-packages/qiskit_ibm_runtime/fake_provider/local_service.py:269: UserWarning: Options {'dynamical_decoupling': {'enable': True, 'sequence_type': 'XY4'}, 'twirling': {'enable_gates': True, 'num_randomizations': 'auto'}} have no effect in local testing mode.\n",
      "  warnings.warn(f\"Options {options_copy} have no effect in local testing mode.\")\n",
      "/home/maop7/.conda/envs/QuantumQiskit/lib/python3.9/site-packages/qiskit_ibm_runtime/fake_provider/local_service.py:269: UserWarning: Options {'dynamical_decoupling': {'enable': True, 'sequence_type': 'XY4'}, 'twirling': {'enable_gates': True, 'num_randomizations': 'auto'}} have no effect in local testing mode.\n",
      "  warnings.warn(f\"Options {options_copy} have no effect in local testing mode.\")\n",
      "/home/maop7/.conda/envs/QuantumQiskit/lib/python3.9/site-packages/qiskit_ibm_runtime/fake_provider/local_service.py:269: UserWarning: Options {'dynamical_decoupling': {'enable': True, 'sequence_type': 'XY4'}, 'twirling': {'enable_gates': True, 'num_randomizations': 'auto'}} have no effect in local testing mode.\n",
      "  warnings.warn(f\"Options {options_copy} have no effect in local testing mode.\")\n",
      "/home/maop7/.conda/envs/QuantumQiskit/lib/python3.9/site-packages/qiskit_ibm_runtime/fake_provider/local_service.py:269: UserWarning: Options {'dynamical_decoupling': {'enable': True, 'sequence_type': 'XY4'}, 'twirling': {'enable_gates': True, 'num_randomizations': 'auto'}} have no effect in local testing mode.\n",
      "  warnings.warn(f\"Options {options_copy} have no effect in local testing mode.\")\n",
      "/home/maop7/.conda/envs/QuantumQiskit/lib/python3.9/site-packages/qiskit_ibm_runtime/fake_provider/local_service.py:269: UserWarning: Options {'dynamical_decoupling': {'enable': True, 'sequence_type': 'XY4'}, 'twirling': {'enable_gates': True, 'num_randomizations': 'auto'}} have no effect in local testing mode.\n",
      "  warnings.warn(f\"Options {options_copy} have no effect in local testing mode.\")\n",
      "/home/maop7/.conda/envs/QuantumQiskit/lib/python3.9/site-packages/qiskit_ibm_runtime/fake_provider/local_service.py:269: UserWarning: Options {'dynamical_decoupling': {'enable': True, 'sequence_type': 'XY4'}, 'twirling': {'enable_gates': True, 'num_randomizations': 'auto'}} have no effect in local testing mode.\n",
      "  warnings.warn(f\"Options {options_copy} have no effect in local testing mode.\")\n",
      "/home/maop7/.conda/envs/QuantumQiskit/lib/python3.9/site-packages/qiskit_ibm_runtime/fake_provider/local_service.py:269: UserWarning: Options {'dynamical_decoupling': {'enable': True, 'sequence_type': 'XY4'}, 'twirling': {'enable_gates': True, 'num_randomizations': 'auto'}} have no effect in local testing mode.\n",
      "  warnings.warn(f\"Options {options_copy} have no effect in local testing mode.\")\n",
      "/home/maop7/.conda/envs/QuantumQiskit/lib/python3.9/site-packages/qiskit_ibm_runtime/fake_provider/local_service.py:269: UserWarning: Options {'dynamical_decoupling': {'enable': True, 'sequence_type': 'XY4'}, 'twirling': {'enable_gates': True, 'num_randomizations': 'auto'}} have no effect in local testing mode.\n",
      "  warnings.warn(f\"Options {options_copy} have no effect in local testing mode.\")\n",
      "/home/maop7/.conda/envs/QuantumQiskit/lib/python3.9/site-packages/qiskit_ibm_runtime/fake_provider/local_service.py:269: UserWarning: Options {'dynamical_decoupling': {'enable': True, 'sequence_type': 'XY4'}, 'twirling': {'enable_gates': True, 'num_randomizations': 'auto'}} have no effect in local testing mode.\n",
      "  warnings.warn(f\"Options {options_copy} have no effect in local testing mode.\")\n",
      "/home/maop7/.conda/envs/QuantumQiskit/lib/python3.9/site-packages/qiskit_ibm_runtime/fake_provider/local_service.py:269: UserWarning: Options {'dynamical_decoupling': {'enable': True, 'sequence_type': 'XY4'}, 'twirling': {'enable_gates': True, 'num_randomizations': 'auto'}} have no effect in local testing mode.\n",
      "  warnings.warn(f\"Options {options_copy} have no effect in local testing mode.\")\n",
      "/home/maop7/.conda/envs/QuantumQiskit/lib/python3.9/site-packages/qiskit_ibm_runtime/fake_provider/local_service.py:269: UserWarning: Options {'dynamical_decoupling': {'enable': True, 'sequence_type': 'XY4'}, 'twirling': {'enable_gates': True, 'num_randomizations': 'auto'}} have no effect in local testing mode.\n",
      "  warnings.warn(f\"Options {options_copy} have no effect in local testing mode.\")\n",
      "/home/maop7/.conda/envs/QuantumQiskit/lib/python3.9/site-packages/qiskit_ibm_runtime/fake_provider/local_service.py:269: UserWarning: Options {'dynamical_decoupling': {'enable': True, 'sequence_type': 'XY4'}, 'twirling': {'enable_gates': True, 'num_randomizations': 'auto'}} have no effect in local testing mode.\n",
      "  warnings.warn(f\"Options {options_copy} have no effect in local testing mode.\")\n",
      "/home/maop7/.conda/envs/QuantumQiskit/lib/python3.9/site-packages/qiskit_ibm_runtime/fake_provider/local_service.py:269: UserWarning: Options {'dynamical_decoupling': {'enable': True, 'sequence_type': 'XY4'}, 'twirling': {'enable_gates': True, 'num_randomizations': 'auto'}} have no effect in local testing mode.\n",
      "  warnings.warn(f\"Options {options_copy} have no effect in local testing mode.\")\n",
      "/home/maop7/.conda/envs/QuantumQiskit/lib/python3.9/site-packages/qiskit_ibm_runtime/fake_provider/local_service.py:269: UserWarning: Options {'dynamical_decoupling': {'enable': True, 'sequence_type': 'XY4'}, 'twirling': {'enable_gates': True, 'num_randomizations': 'auto'}} have no effect in local testing mode.\n",
      "  warnings.warn(f\"Options {options_copy} have no effect in local testing mode.\")\n",
      "/home/maop7/.conda/envs/QuantumQiskit/lib/python3.9/site-packages/qiskit_ibm_runtime/fake_provider/local_service.py:269: UserWarning: Options {'dynamical_decoupling': {'enable': True, 'sequence_type': 'XY4'}, 'twirling': {'enable_gates': True, 'num_randomizations': 'auto'}} have no effect in local testing mode.\n",
      "  warnings.warn(f\"Options {options_copy} have no effect in local testing mode.\")\n",
      "/home/maop7/.conda/envs/QuantumQiskit/lib/python3.9/site-packages/qiskit_ibm_runtime/fake_provider/local_service.py:269: UserWarning: Options {'dynamical_decoupling': {'enable': True, 'sequence_type': 'XY4'}, 'twirling': {'enable_gates': True, 'num_randomizations': 'auto'}} have no effect in local testing mode.\n",
      "  warnings.warn(f\"Options {options_copy} have no effect in local testing mode.\")\n",
      "/home/maop7/.conda/envs/QuantumQiskit/lib/python3.9/site-packages/qiskit_ibm_runtime/fake_provider/local_service.py:269: UserWarning: Options {'dynamical_decoupling': {'enable': True, 'sequence_type': 'XY4'}, 'twirling': {'enable_gates': True, 'num_randomizations': 'auto'}} have no effect in local testing mode.\n",
      "  warnings.warn(f\"Options {options_copy} have no effect in local testing mode.\")\n",
      "/home/maop7/.conda/envs/QuantumQiskit/lib/python3.9/site-packages/qiskit_ibm_runtime/fake_provider/local_service.py:269: UserWarning: Options {'dynamical_decoupling': {'enable': True, 'sequence_type': 'XY4'}, 'twirling': {'enable_gates': True, 'num_randomizations': 'auto'}} have no effect in local testing mode.\n",
      "  warnings.warn(f\"Options {options_copy} have no effect in local testing mode.\")\n",
      "/home/maop7/.conda/envs/QuantumQiskit/lib/python3.9/site-packages/qiskit_ibm_runtime/fake_provider/local_service.py:269: UserWarning: Options {'dynamical_decoupling': {'enable': True, 'sequence_type': 'XY4'}, 'twirling': {'enable_gates': True, 'num_randomizations': 'auto'}} have no effect in local testing mode.\n",
      "  warnings.warn(f\"Options {options_copy} have no effect in local testing mode.\")\n",
      "/home/maop7/.conda/envs/QuantumQiskit/lib/python3.9/site-packages/qiskit_ibm_runtime/fake_provider/local_service.py:269: UserWarning: Options {'dynamical_decoupling': {'enable': True, 'sequence_type': 'XY4'}, 'twirling': {'enable_gates': True, 'num_randomizations': 'auto'}} have no effect in local testing mode.\n",
      "  warnings.warn(f\"Options {options_copy} have no effect in local testing mode.\")\n",
      "/home/maop7/.conda/envs/QuantumQiskit/lib/python3.9/site-packages/qiskit_ibm_runtime/fake_provider/local_service.py:269: UserWarning: Options {'dynamical_decoupling': {'enable': True, 'sequence_type': 'XY4'}, 'twirling': {'enable_gates': True, 'num_randomizations': 'auto'}} have no effect in local testing mode.\n",
      "  warnings.warn(f\"Options {options_copy} have no effect in local testing mode.\")\n",
      "/home/maop7/.conda/envs/QuantumQiskit/lib/python3.9/site-packages/qiskit_ibm_runtime/fake_provider/local_service.py:269: UserWarning: Options {'dynamical_decoupling': {'enable': True, 'sequence_type': 'XY4'}, 'twirling': {'enable_gates': True, 'num_randomizations': 'auto'}} have no effect in local testing mode.\n",
      "  warnings.warn(f\"Options {options_copy} have no effect in local testing mode.\")\n",
      "/home/maop7/.conda/envs/QuantumQiskit/lib/python3.9/site-packages/qiskit_ibm_runtime/fake_provider/local_service.py:269: UserWarning: Options {'dynamical_decoupling': {'enable': True, 'sequence_type': 'XY4'}, 'twirling': {'enable_gates': True, 'num_randomizations': 'auto'}} have no effect in local testing mode.\n",
      "  warnings.warn(f\"Options {options_copy} have no effect in local testing mode.\")\n",
      "/home/maop7/.conda/envs/QuantumQiskit/lib/python3.9/site-packages/qiskit_ibm_runtime/fake_provider/local_service.py:269: UserWarning: Options {'dynamical_decoupling': {'enable': True, 'sequence_type': 'XY4'}, 'twirling': {'enable_gates': True, 'num_randomizations': 'auto'}} have no effect in local testing mode.\n",
      "  warnings.warn(f\"Options {options_copy} have no effect in local testing mode.\")\n",
      "/home/maop7/.conda/envs/QuantumQiskit/lib/python3.9/site-packages/qiskit_ibm_runtime/fake_provider/local_service.py:269: UserWarning: Options {'dynamical_decoupling': {'enable': True, 'sequence_type': 'XY4'}, 'twirling': {'enable_gates': True, 'num_randomizations': 'auto'}} have no effect in local testing mode.\n",
      "  warnings.warn(f\"Options {options_copy} have no effect in local testing mode.\")\n",
      "/home/maop7/.conda/envs/QuantumQiskit/lib/python3.9/site-packages/qiskit_ibm_runtime/fake_provider/local_service.py:269: UserWarning: Options {'dynamical_decoupling': {'enable': True, 'sequence_type': 'XY4'}, 'twirling': {'enable_gates': True, 'num_randomizations': 'auto'}} have no effect in local testing mode.\n",
      "  warnings.warn(f\"Options {options_copy} have no effect in local testing mode.\")\n",
      "/home/maop7/.conda/envs/QuantumQiskit/lib/python3.9/site-packages/qiskit_ibm_runtime/fake_provider/local_service.py:269: UserWarning: Options {'dynamical_decoupling': {'enable': True, 'sequence_type': 'XY4'}, 'twirling': {'enable_gates': True, 'num_randomizations': 'auto'}} have no effect in local testing mode.\n",
      "  warnings.warn(f\"Options {options_copy} have no effect in local testing mode.\")\n",
      "/home/maop7/.conda/envs/QuantumQiskit/lib/python3.9/site-packages/qiskit_ibm_runtime/fake_provider/local_service.py:269: UserWarning: Options {'dynamical_decoupling': {'enable': True, 'sequence_type': 'XY4'}, 'twirling': {'enable_gates': True, 'num_randomizations': 'auto'}} have no effect in local testing mode.\n",
      "  warnings.warn(f\"Options {options_copy} have no effect in local testing mode.\")\n",
      "/home/maop7/.conda/envs/QuantumQiskit/lib/python3.9/site-packages/qiskit_ibm_runtime/fake_provider/local_service.py:269: UserWarning: Options {'dynamical_decoupling': {'enable': True, 'sequence_type': 'XY4'}, 'twirling': {'enable_gates': True, 'num_randomizations': 'auto'}} have no effect in local testing mode.\n",
      "  warnings.warn(f\"Options {options_copy} have no effect in local testing mode.\")\n",
      "/home/maop7/.conda/envs/QuantumQiskit/lib/python3.9/site-packages/qiskit_ibm_runtime/fake_provider/local_service.py:269: UserWarning: Options {'dynamical_decoupling': {'enable': True, 'sequence_type': 'XY4'}, 'twirling': {'enable_gates': True, 'num_randomizations': 'auto'}} have no effect in local testing mode.\n",
      "  warnings.warn(f\"Options {options_copy} have no effect in local testing mode.\")\n",
      "/home/maop7/.conda/envs/QuantumQiskit/lib/python3.9/site-packages/qiskit_ibm_runtime/fake_provider/local_service.py:269: UserWarning: Options {'dynamical_decoupling': {'enable': True, 'sequence_type': 'XY4'}, 'twirling': {'enable_gates': True, 'num_randomizations': 'auto'}} have no effect in local testing mode.\n",
      "  warnings.warn(f\"Options {options_copy} have no effect in local testing mode.\")\n",
      "/home/maop7/.conda/envs/QuantumQiskit/lib/python3.9/site-packages/qiskit_ibm_runtime/fake_provider/local_service.py:269: UserWarning: Options {'dynamical_decoupling': {'enable': True, 'sequence_type': 'XY4'}, 'twirling': {'enable_gates': True, 'num_randomizations': 'auto'}} have no effect in local testing mode.\n",
      "  warnings.warn(f\"Options {options_copy} have no effect in local testing mode.\")\n",
      "/home/maop7/.conda/envs/QuantumQiskit/lib/python3.9/site-packages/qiskit_ibm_runtime/fake_provider/local_service.py:269: UserWarning: Options {'dynamical_decoupling': {'enable': True, 'sequence_type': 'XY4'}, 'twirling': {'enable_gates': True, 'num_randomizations': 'auto'}} have no effect in local testing mode.\n",
      "  warnings.warn(f\"Options {options_copy} have no effect in local testing mode.\")\n",
      "/home/maop7/.conda/envs/QuantumQiskit/lib/python3.9/site-packages/qiskit_ibm_runtime/fake_provider/local_service.py:269: UserWarning: Options {'dynamical_decoupling': {'enable': True, 'sequence_type': 'XY4'}, 'twirling': {'enable_gates': True, 'num_randomizations': 'auto'}} have no effect in local testing mode.\n",
      "  warnings.warn(f\"Options {options_copy} have no effect in local testing mode.\")\n",
      "/home/maop7/.conda/envs/QuantumQiskit/lib/python3.9/site-packages/qiskit_ibm_runtime/fake_provider/local_service.py:269: UserWarning: Options {'dynamical_decoupling': {'enable': True, 'sequence_type': 'XY4'}, 'twirling': {'enable_gates': True, 'num_randomizations': 'auto'}} have no effect in local testing mode.\n",
      "  warnings.warn(f\"Options {options_copy} have no effect in local testing mode.\")\n",
      "/home/maop7/.conda/envs/QuantumQiskit/lib/python3.9/site-packages/qiskit_ibm_runtime/fake_provider/local_service.py:269: UserWarning: Options {'dynamical_decoupling': {'enable': True, 'sequence_type': 'XY4'}, 'twirling': {'enable_gates': True, 'num_randomizations': 'auto'}} have no effect in local testing mode.\n",
      "  warnings.warn(f\"Options {options_copy} have no effect in local testing mode.\")\n",
      "/home/maop7/.conda/envs/QuantumQiskit/lib/python3.9/site-packages/qiskit_ibm_runtime/fake_provider/local_service.py:269: UserWarning: Options {'dynamical_decoupling': {'enable': True, 'sequence_type': 'XY4'}, 'twirling': {'enable_gates': True, 'num_randomizations': 'auto'}} have no effect in local testing mode.\n",
      "  warnings.warn(f\"Options {options_copy} have no effect in local testing mode.\")\n"
     ]
    },
    {
     "name": "stdout",
     "output_type": "stream",
     "text": [
      " message: Optimization terminated successfully.\n",
      " success: True\n",
      "  status: 1\n",
      "     fun: 100.89849999999996\n",
      "       x: [ 3.131e+00  1.555e+00  4.155e+00  1.568e+00  3.107e+00\n",
      "            1.575e+00  3.172e+00  1.556e+00]\n",
      "    nfev: 67\n",
      "   maxcv: 0.0\n"
     ]
    },
    {
     "name": "stderr",
     "output_type": "stream",
     "text": [
      "/home/maop7/.conda/envs/QuantumQiskit/lib/python3.9/site-packages/qiskit_ibm_runtime/fake_provider/local_service.py:269: UserWarning: Options {'dynamical_decoupling': {'enable': True, 'sequence_type': 'XY4'}, 'twirling': {'enable_gates': True, 'num_randomizations': 'auto'}} have no effect in local testing mode.\n",
      "  warnings.warn(f\"Options {options_copy} have no effect in local testing mode.\")\n"
     ]
    }
   ],
   "source": [
    "objective_func_vals = [] # Global variable\n",
    "with Session(backend=backend) as session:\n",
    "    # If using qiskit-ibm-runtime<0.24.0, change `mode=` to `session=`\n",
    "    estimator = Estimator(mode=session)\n",
    "    estimator.options.default_shots = 10000\n",
    "\n",
    "    # Set simple error suppression/mitigation options, this is for when on quantum hardware\n",
    "    estimator.options.dynamical_decoupling.enable = True\n",
    "    estimator.options.dynamical_decoupling.sequence_type = \"XY4\"\n",
    "    estimator.options.twirling.enable_gates = True\n",
    "    estimator.options.twirling.num_randomizations = \"auto\"\n",
    "\n",
    "    result = minimize(\n",
    "        cost_func_estimator,\n",
    "        init_params,\n",
    "        args=(candidate_circuit, qubitOp, estimator),\n",
    "        method=\"COBYLA\",\n",
    "        tol=1e-3,\n",
    "    )\n",
    "    print(result)"
   ]
  },
  {
   "cell_type": "code",
   "execution_count": 22,
   "metadata": {},
   "outputs": [],
   "source": [
    "plt.figure(figsize=(12, 6))\n",
    "plt.plot(objective_func_vals)\n",
    "plt.xlabel(\"Iteration\")\n",
    "plt.ylabel(\"Cost\")\n",
    "plt.show()"
   ]
  },
  {
   "cell_type": "code",
   "execution_count": 23,
   "metadata": {},
   "outputs": [],
   "source": [
    "optimized_circuit = candidate_circuit.assign_parameters(result.x)"
   ]
  },
  {
   "cell_type": "code",
   "execution_count": 24,
   "metadata": {},
   "outputs": [
    {
     "name": "stdout",
     "output_type": "stream",
     "text": [
      "{32: 0.0088, 79: 0.0001, 609: 0.0012, 401: 0.001, 305: 0.0166, 51: 0.0671, 49: 0.2193, 97: 0.0179, 18: 0.0003, 33: 0.125, 177: 0.0332, 185: 0.002, 53: 0.0205, 19: 0.0098, 115: 0.0095, 17: 0.0424, 55: 0.0063, 45: 0.0005, 21: 0.0033, 89: 0.0013, 145: 0.0063, 67: 0.0004, 1: 0.0217, 61: 0.0021, 563: 0.0053, 313: 0.0014, 368: 0.0004, 179: 0.0098, 273: 0.0036, 243: 0.0022, 159: 0.0002, 37: 0.0101, 25: 0.0057, 560: 0.001, 161: 0.0172, 113: 0.0287, 289: 0.0107, 9: 0.0019, 41: 0.0107, 50: 0.0037, 121: 0.0022, 35: 0.0309, 57: 0.017, 315: 0.001, 293: 0.0005, 99: 0.0048, 83: 0.0017, 561: 0.0181, 0: 0.0018, 114: 0.0005, 117: 0.0033, 513: 0.0017, 65: 0.0035, 163: 0.0054, 251: 0.0002, 197: 0.0002, 3: 0.0057, 529: 0.004, 43: 0.004, 299: 0.0002, 165: 0.002, 547: 0.002, 275: 0.001, 181: 0.0029, 257: 0.0019, 553: 0.001, 34: 0.0024, 187: 0.0009, 129: 0.0029, 441: 0.0003, 112: 0.0013, 5: 0.0025, 27: 0.0016, 339: 0.0001, 819: 0.0005, 147: 0.0023, 549: 0.0008, 81: 0.0061, 16: 0.0023, 128: 0.0003, 52: 0.0007, 39: 0.002, 824: 0.0001, 119: 0.001, 11: 0.0006, 59: 0.0057, 545: 0.0091, 169: 0.0015, 48: 0.011, 309: 0.0019, 225: 0.0021, 373: 0.0001, 168: 0.0002, 290: 0.0005, 288: 0.0009, 593: 0.0005, 63: 0.0002, 565: 0.0013, 40: 0.0006, 769: 0.0003, 307: 0.0047, 105: 0.0015, 433: 0.0017, 689: 0.0022, 227: 0.0011, 369: 0.0026, 611: 0.0003, 371: 0.0005, 245: 0.0006, 627: 0.0005, 101: 0.0016, 56: 0.0015, 657: 0.0001, 435: 0.0006, 38: 0.0002, 811: 0.0002, 178: 0.0002, 417: 0.0013, 279: 0.0001, 54: 0.0003, 58: 0.0004, 571: 0.0007, 123: 0.0002, 171: 0.0006, 434: 0.0001, 96: 0.0009, 277: 0.0002, 533: 0.0004, 291: 0.0013, 176: 0.0013, 595: 0.0005, 229: 0.0005, 282: 0.0001, 73: 0.0003, 531: 0.0011, 7: 0.0003, 801: 0.0014, 85: 0.0004, 241: 0.0044, 321: 0.0002, 28: 0.0003, 103: 0.0005, 562: 0.0004, 817: 0.0011, 633: 0.0002, 296: 0.0001, 737: 0.0003, 567: 0.0004, 20: 0.0002, 323: 0.0001, 263: 0.0001, 133: 0.0003, 569: 0.0014, 211: 0.0004, 353: 0.001, 673: 0.0014, 297: 0.0008, 160: 0.0014, 385: 0.0004, 377: 0.0002, 183: 0.0013, 42: 0.0006, 337: 0.001, 209: 0.0009, 625: 0.0017, 697: 0.0003, 555: 0.0001, 432: 0.0003, 4: 0.0006, 355: 0.0002, 835: 0.0001, 691: 0.0013, 437: 0.0002, 497: 0.0006, 675: 0.0003, 546: 0.0003, 259: 0.0006, 626: 0.0001, 269: 0.0001, 312: 0.0002, 36: 0.0003, 505: 0.0001, 641: 0.0006, 29: 0.0006, 405: 0.0003, 659: 0.0002, 98: 0.0002, 135: 0.0003, 31: 0.0001, 193: 0.0001, 681: 0.0003, 517: 0.0004, 361: 0.0001, 189: 0.0006, 311: 0.0005, 75: 0.0001, 349: 0.0001, 624: 0.0003, 875: 0.0001, 92: 0.0001, 537: 0.0005, 80: 0.0003, 24: 0.0002, 131: 0.0007, 91: 0.0002, 247: 0.0002, 465: 0.0001, 610: 0.0001, 285: 0.0002, 304: 0.0006, 66: 0.0001, 544: 0.0006, 180: 0.0002, 816: 0.0002, 139: 0.0001, 256: 0.0001, 2: 0.0006, 375: 0.0003, 631: 0.0001, 637: 0.0001, 281: 0.0002, 425: 0.0001, 418: 0.0002, 149: 0.0008, 881: 0.0001, 629: 0.0001, 793: 0.0001, 688: 0.0002, 439: 0.0001, 865: 0.0003, 237: 0.0001, 613: 0.0001, 71: 0.0003, 499: 0.0002, 141: 0.0001, 771: 0.0002, 319: 0.0001, 87: 0.0001, 23: 0.0006, 137: 0.0002, 235: 0.0002, 693: 0.0004, 357: 0.0004, 68: 0.0001, 233: 0.0001, 167: 0.0006, 102: 0.0001, 224: 0.0001, 213: 0.0001, 356: 0.0001, 47: 0.0003, 261: 0.0005, 151: 0.0002, 825: 0.0002, 240: 0.0002, 260: 0.0001, 803: 0.0004, 677: 0.0002, 249: 0.0003, 230: 0.0001, 524: 0.0001, 354: 0.0001, 352: 0.0001, 808: 0.0001, 512: 0.0002, 265: 0.0001, 195: 0.0001, 146: 0.0003, 184: 0.0001, 278: 0.0001, 157: 0.0001, 759: 0.0001, 104: 0.0002, 665: 0.0001, 175: 0.0002, 577: 0.0002, 8: 0.0002, 481: 0.0001, 528: 0.0002, 753: 0.0003, 125: 0.0002, 443: 0.0001, 752: 0.0001, 800: 0.0001, 166: 0.0001, 787: 0.0001, 427: 0.0001, 856: 0.0001, 153: 0.0001, 363: 0.0001, 408: 0.0001, 552: 0.0001, 106: 0.0002, 144: 0.0001, 421: 0.0001, 379: 0.0001, 272: 0.0001, 374: 0.0001, 410: 0.0001, 46: 0.0002, 15: 0.0001, 320: 0.0001, 929: 0.0001, 521: 0.0001, 100: 0.0001, 64: 0.0002, 913: 0.0001, 130: 0.0002, 391: 0.0001, 306: 0.0001, 419: 0.0001, 426: 0.0001, 6: 0.0001, 298: 0.0001, 381: 0.0001, 597: 0.0001, 608: 0.0001, 755: 0.0001, 551: 0.0003, 680: 0.0001, 206: 0.0001, 78: 0.0001, 757: 0.0001, 215: 0.0001, 695: 0.0001, 107: 0.0004, 440: 0.0001, 191: 0.0001, 242: 0.0001, 13: 0.0002, 120: 0.0001, 599: 0.0001, 162: 0.0001, 647: 0.0002, 155: 0.0001, 69: 0.0001, 116: 0.0001, 635: 0.0001}\n",
      "{'0000100000': 0.0088, '0001001111': 0.0001, '1001100001': 0.0012, '0110010001': 0.001, '0100110001': 0.0166, '0000110011': 0.0671, '0000110001': 0.2193, '0001100001': 0.0179, '0000010010': 0.0003, '0000100001': 0.125, '0010110001': 0.0332, '0010111001': 0.002, '0000110101': 0.0205, '0000010011': 0.0098, '0001110011': 0.0095, '0000010001': 0.0424, '0000110111': 0.0063, '0000101101': 0.0005, '0000010101': 0.0033, '0001011001': 0.0013, '0010010001': 0.0063, '0001000011': 0.0004, '0000000001': 0.0217, '0000111101': 0.0021, '1000110011': 0.0053, '0100111001': 0.0014, '0101110000': 0.0004, '0010110011': 0.0098, '0100010001': 0.0036, '0011110011': 0.0022, '0010011111': 0.0002, '0000100101': 0.0101, '0000011001': 0.0057, '1000110000': 0.001, '0010100001': 0.0172, '0001110001': 0.0287, '0100100001': 0.0107, '0000001001': 0.0019, '0000101001': 0.0107, '0000110010': 0.0037, '0001111001': 0.0022, '0000100011': 0.0309, '0000111001': 0.017, '0100111011': 0.001, '0100100101': 0.0005, '0001100011': 0.0048, '0001010011': 0.0017, '1000110001': 0.0181, '0000000000': 0.0018, '0001110010': 0.0005, '0001110101': 0.0033, '1000000001': 0.0017, '0001000001': 0.0035, '0010100011': 0.0054, '0011111011': 0.0002, '0011000101': 0.0002, '0000000011': 0.0057, '1000010001': 0.004, '0000101011': 0.004, '0100101011': 0.0002, '0010100101': 0.002, '1000100011': 0.002, '0100010011': 0.001, '0010110101': 0.0029, '0100000001': 0.0019, '1000101001': 0.001, '0000100010': 0.0024, '0010111011': 0.0009, '0010000001': 0.0029, '0110111001': 0.0003, '0001110000': 0.0013, '0000000101': 0.0025, '0000011011': 0.0016, '0101010011': 0.0001, '1100110011': 0.0005, '0010010011': 0.0023, '1000100101': 0.0008, '0001010001': 0.0061, '0000010000': 0.0023, '0010000000': 0.0003, '0000110100': 0.0007, '0000100111': 0.002, '1100111000': 0.0001, '0001110111': 0.001, '0000001011': 0.0006, '0000111011': 0.0057, '1000100001': 0.0091, '0010101001': 0.0015, '0000110000': 0.011, '0100110101': 0.0019, '0011100001': 0.0021, '0101110101': 0.0001, '0010101000': 0.0002, '0100100010': 0.0005, '0100100000': 0.0009, '1001010001': 0.0005, '0000111111': 0.0002, '1000110101': 0.0013, '0000101000': 0.0006, '1100000001': 0.0003, '0100110011': 0.0047, '0001101001': 0.0015, '0110110001': 0.0017, '1010110001': 0.0022, '0011100011': 0.0011, '0101110001': 0.0026, '1001100011': 0.0003, '0101110011': 0.0005, '0011110101': 0.0006, '1001110011': 0.0005, '0001100101': 0.0016, '0000111000': 0.0015, '1010010001': 0.0001, '0110110011': 0.0006, '0000100110': 0.0002, '1100101011': 0.0002, '0010110010': 0.0002, '0110100001': 0.0013, '0100010111': 0.0001, '0000110110': 0.0003, '0000111010': 0.0004, '1000111011': 0.0007, '0001111011': 0.0002, '0010101011': 0.0006, '0110110010': 0.0001, '0001100000': 0.0009, '0100010101': 0.0002, '1000010101': 0.0004, '0100100011': 0.0013, '0010110000': 0.0013, '1001010011': 0.0005, '0011100101': 0.0005, '0100011010': 0.0001, '0001001001': 0.0003, '1000010011': 0.0011, '0000000111': 0.0003, '1100100001': 0.0014, '0001010101': 0.0004, '0011110001': 0.0044, '0101000001': 0.0002, '0000011100': 0.0003, '0001100111': 0.0005, '1000110010': 0.0004, '1100110001': 0.0011, '1001111001': 0.0002, '0100101000': 0.0001, '1011100001': 0.0003, '1000110111': 0.0004, '0000010100': 0.0002, '0101000011': 0.0001, '0100000111': 0.0001, '0010000101': 0.0003, '1000111001': 0.0014, '0011010011': 0.0004, '0101100001': 0.001, '1010100001': 0.0014, '0100101001': 0.0008, '0010100000': 0.0014, '0110000001': 0.0004, '0101111001': 0.0002, '0010110111': 0.0013, '0000101010': 0.0006, '0101010001': 0.001, '0011010001': 0.0009, '1001110001': 0.0017, '1010111001': 0.0003, '1000101011': 0.0001, '0110110000': 0.0003, '0000000100': 0.0006, '0101100011': 0.0002, '1101000011': 0.0001, '1010110011': 0.0013, '0110110101': 0.0002, '0111110001': 0.0006, '1010100011': 0.0003, '1000100010': 0.0003, '0100000011': 0.0006, '1001110010': 0.0001, '0100001101': 0.0001, '0100111000': 0.0002, '0000100100': 0.0003, '0111111001': 0.0001, '1010000001': 0.0006, '0000011101': 0.0006, '0110010101': 0.0003, '1010010011': 0.0002, '0001100010': 0.0002, '0010000111': 0.0003, '0000011111': 0.0001, '0011000001': 0.0001, '1010101001': 0.0003, '1000000101': 0.0004, '0101101001': 0.0001, '0010111101': 0.0006, '0100110111': 0.0005, '0001001011': 0.0001, '0101011101': 0.0001, '1001110000': 0.0003, '1101101011': 0.0001, '0001011100': 0.0001, '1000011001': 0.0005, '0001010000': 0.0003, '0000011000': 0.0002, '0010000011': 0.0007, '0001011011': 0.0002, '0011110111': 0.0002, '0111010001': 0.0001, '1001100010': 0.0001, '0100011101': 0.0002, '0100110000': 0.0006, '0001000010': 0.0001, '1000100000': 0.0006, '0010110100': 0.0002, '1100110000': 0.0002, '0010001011': 0.0001, '0100000000': 0.0001, '0000000010': 0.0006, '0101110111': 0.0003, '1001110111': 0.0001, '1001111101': 0.0001, '0100011001': 0.0002, '0110101001': 0.0001, '0110100010': 0.0002, '0010010101': 0.0008, '1101110001': 0.0001, '1001110101': 0.0001, '1100011001': 0.0001, '1010110000': 0.0002, '0110110111': 0.0001, '1101100001': 0.0003, '0011101101': 0.0001, '1001100101': 0.0001, '0001000111': 0.0003, '0111110011': 0.0002, '0010001101': 0.0001, '1100000011': 0.0002, '0100111111': 0.0001, '0001010111': 0.0001, '0000010111': 0.0006, '0010001001': 0.0002, '0011101011': 0.0002, '1010110101': 0.0004, '0101100101': 0.0004, '0001000100': 0.0001, '0011101001': 0.0001, '0010100111': 0.0006, '0001100110': 0.0001, '0011100000': 0.0001, '0011010101': 0.0001, '0101100100': 0.0001, '0000101111': 0.0003, '0100000101': 0.0005, '0010010111': 0.0002, '1100111001': 0.0002, '0011110000': 0.0002, '0100000100': 0.0001, '1100100011': 0.0004, '1010100101': 0.0002, '0011111001': 0.0003, '0011100110': 0.0001, '1000001100': 0.0001, '0101100010': 0.0001, '0101100000': 0.0001, '1100101000': 0.0001, '1000000000': 0.0002, '0100001001': 0.0001, '0011000011': 0.0001, '0010010010': 0.0003, '0010111000': 0.0001, '0100010110': 0.0001, '0010011101': 0.0001, '1011110111': 0.0001, '0001101000': 0.0002, '1010011001': 0.0001, '0010101111': 0.0002, '1001000001': 0.0002, '0000001000': 0.0002, '0111100001': 0.0001, '1000010000': 0.0002, '1011110001': 0.0003, '0001111101': 0.0002, '0110111011': 0.0001, '1011110000': 0.0001, '1100100000': 0.0001, '0010100110': 0.0001, '1100010011': 0.0001, '0110101011': 0.0001, '1101011000': 0.0001, '0010011001': 0.0001, '0101101011': 0.0001, '0110011000': 0.0001, '1000101000': 0.0001, '0001101010': 0.0002, '0010010000': 0.0001, '0110100101': 0.0001, '0101111011': 0.0001, '0100010000': 0.0001, '0101110110': 0.0001, '0110011010': 0.0001, '0000101110': 0.0002, '0000001111': 0.0001, '0101000000': 0.0001, '1110100001': 0.0001, '1000001001': 0.0001, '0001100100': 0.0001, '0001000000': 0.0002, '1110010001': 0.0001, '0010000010': 0.0002, '0110000111': 0.0001, '0100110010': 0.0001, '0110100011': 0.0001, '0110101010': 0.0001, '0000000110': 0.0001, '0100101010': 0.0001, '0101111101': 0.0001, '1001010101': 0.0001, '1001100000': 0.0001, '1011110011': 0.0001, '1000100111': 0.0003, '1010101000': 0.0001, '0011001110': 0.0001, '0001001110': 0.0001, '1011110101': 0.0001, '0011010111': 0.0001, '1010110111': 0.0001, '0001101011': 0.0004, '0110111000': 0.0001, '0010111111': 0.0001, '0011110010': 0.0001, '0000001101': 0.0002, '0001111000': 0.0001, '1001010111': 0.0001, '0010100010': 0.0001, '1010000111': 0.0002, '0010011011': 0.0001, '0001000101': 0.0001, '0001110100': 0.0001, '1001111011': 0.0001}\n"
     ]
    },
    {
     "name": "stderr",
     "output_type": "stream",
     "text": [
      "/home/maop7/.conda/envs/QuantumQiskit/lib/python3.9/site-packages/qiskit_ibm_runtime/fake_provider/local_service.py:269: UserWarning: Options {'dynamical_decoupling': {'enable': True, 'sequence_type': 'XY4'}, 'twirling': {'enable_gates': True, 'num_randomizations': 'auto'}} have no effect in local testing mode.\n",
      "  warnings.warn(f\"Options {options_copy} have no effect in local testing mode.\")\n"
     ]
    }
   ],
   "source": [
    "from qiskit_ibm_runtime import SamplerV2 as Sampler\n",
    "\n",
    "# If using qiskit-ibm-runtime<0.24.0, change `mode=` to `backend=`\n",
    "sampler = Sampler(mode=backend)\n",
    "sampler.options.default_shots = 10000\n",
    "\n",
    "# Set simple error suppression/mitigation options\n",
    "sampler.options.dynamical_decoupling.enable = True\n",
    "sampler.options.dynamical_decoupling.sequence_type = \"XY4\"\n",
    "sampler.options.twirling.enable_gates = True\n",
    "sampler.options.twirling.num_randomizations = \"auto\"\n",
    "\n",
    "pub= (optimized_circuit, )\n",
    "job = sampler.run([pub], shots=int(1e4))\n",
    "\n",
    "counts_int = job.result()[0].data.meas.get_int_counts()\n",
    "counts_bin = job.result()[0].data.meas.get_counts()\n",
    "shots = sum(counts_int.values())\n",
    "final_distribution_100_int = {key: val/shots for key, val in counts_int.items()}\n",
    "\n",
    "final_distribution_int = {key: val/shots for key, val in counts_int.items()}\n",
    "final_distribution_bin = {key: val/shots for key, val in counts_bin.items()}\n",
    "print(final_distribution_int)\n",
    "print(final_distribution_bin)"
   ]
  },
  {
   "cell_type": "code",
   "execution_count": 25,
   "metadata": {},
   "outputs": [],
   "source": [
    "# Sort both distributions by probability in descending order\n",
    "sorted_dist_int = dict(sorted(final_distribution_int.items(), key=lambda x: x[1], reverse=True))\n",
    "sorted_dist_bin = dict(sorted(final_distribution_bin.items(), key=lambda x: x[1], reverse=True))\n",
    "\n",
    "# Print top 10 most likely outcomes\n",
    "top_bin_list = []\n",
    "for k, v in list(sorted_dist_bin.items())[:50]:\n",
    "    temp_list = list(k)\n",
    "    top_bin_list.append([int(re) for re in temp_list])\n"
   ]
  },
  {
   "cell_type": "code",
   "execution_count": 26,
   "metadata": {},
   "outputs": [
    {
     "name": "stdout",
     "output_type": "stream",
     "text": [
      "34\n"
     ]
    }
   ],
   "source": [
    "def calculate_cost_from_qubo(bitstring):\n",
    "    # Convert bitstring to a dictionary of variable assignments\n",
    "    var_assignment = {var.name: bit for var, bit in zip(qubo.variables, bitstring)}\n",
    "    \n",
    "    # Evaluate the cost function\n",
    "    cost = qubo.objective.evaluate(var_assignment)\n",
    "    \n",
    "    return cost\n",
    "\n",
    "# Example usage\n",
    "cost_l = []\n",
    "for bin in top_bin_list:\n",
    "    cost = calculate_cost_from_qubo(bin)\n",
    "    cost_l.append(cost)\n",
    "\n",
    "min_index, min_value = min(enumerate(cost_l), key=operator.itemgetter(1))\n",
    "print(min_index)\n",
    "\n",
    "most_likely_bitstring = top_bin_list[min_index]"
   ]
  },
  {
   "cell_type": "markdown",
   "metadata": {},
   "source": [
    "### Post-process"
   ]
  },
  {
   "cell_type": "code",
   "execution_count": 27,
   "metadata": {},
   "outputs": [
    {
     "name": "stdout",
     "output_type": "stream",
     "text": [
      "[1, 0, 0]\n",
      "[0, 0, 1]\n"
     ]
    }
   ],
   "source": [
    "x_value = most_likely_bitstring[0:Nc]\n",
    "y_value = most_likely_bitstring[Nc:2*Nc]\n",
    "\n",
    "print(x_value)\n",
    "print(y_value)"
   ]
  },
  {
   "cell_type": "markdown",
   "metadata": {},
   "source": [
    "### Visualization"
   ]
  },
  {
   "cell_type": "code",
   "execution_count": 28,
   "metadata": {},
   "outputs": [],
   "source": [
    "def distance(x, y, Nc):\n",
    "    velocity = 0\n",
    "    vel = [0]\n",
    "    dist = [0]\n",
    "    dist_tot= 0\n",
    "    for i in range(0, Nc):\n",
    "        velocity = velocity + delta_v*(x[i]-y[i])\n",
    "        if velocity < 0:\n",
    "            velocity = -velocity\n",
    "        vel.append(velocity)\n",
    "        dist_tot += velocity\n",
    "        dist.append(dist_tot)\n",
    "    return dist,vel"
   ]
  },
  {
   "cell_type": "code",
   "execution_count": 29,
   "metadata": {},
   "outputs": [],
   "source": [
    "time= np.arange(Nc+1)\n",
    "distn, velo = distance(x_value, y_value, Nc)"
   ]
  },
  {
   "cell_type": "code",
   "execution_count": 30,
   "metadata": {},
   "outputs": [
    {
     "name": "stderr",
     "output_type": "stream",
     "text": [
      "/tmp/ipykernel_16640/2353725290.py:12: UserWarning: No artists with labels found to put in legend.  Note that artists whose label start with an underscore are ignored when legend() is called with no argument.\n",
      "  plt.legend()\n"
     ]
    }
   ],
   "source": [
    "plt.figure(figsize=(15,8))\n",
    "\n",
    "matplotlib.rcParams.update({\"font.size\": 15})\n",
    "\n",
    "plt.plot(time, velo, c='b', marker=\"o\", markersize=2, linestyle='-')#, label='label)\n",
    "\n",
    "plt.xlabel('Time')\n",
    "plt.ylabel('Velocity')\n",
    "plt.title(\"Velocity vs Time\")\n",
    "plt.grid(axis='x')\n",
    "plt.grid(axis='y')\n",
    "plt.legend()\n",
    "plt.show()"
   ]
  },
  {
   "cell_type": "code",
   "execution_count": 31,
   "metadata": {},
   "outputs": [
    {
     "name": "stderr",
     "output_type": "stream",
     "text": [
      "/tmp/ipykernel_16640/1348846773.py:9: UserWarning: No artists with labels found to put in legend.  Note that artists whose label start with an underscore are ignored when legend() is called with no argument.\n",
      "  plt.legend()\n",
      "invalid command name \"137524517483200process_stream_events\"\n",
      "    while executing\n",
      "\"137524517483200process_stream_events\"\n",
      "    (\"after\" script)\n"
     ]
    }
   ],
   "source": [
    "plt.figure(figsize=(10,6))\n",
    "\n",
    "matplotlib.rcParams.update({\"font.size\": 15})\n",
    "\n",
    "plt.plot(time, distn, c='b', marker=\"o\", markersize=1, linestyle='-')#, label='label')\n",
    "plt.xlabel('Time')\n",
    "plt.ylabel('Distance')\n",
    "plt.title(\"Distance vs Time\")\n",
    "plt.legend()\n",
    "plt.show()"
   ]
  }
 ],
 "metadata": {
  "kernelspec": {
   "display_name": "QuantumQiskit",
   "language": "python",
   "name": "python3"
  },
  "language_info": {
   "codemirror_mode": {
    "name": "ipython",
    "version": 3
   },
   "file_extension": ".py",
   "mimetype": "text/x-python",
   "name": "python",
   "nbconvert_exporter": "python",
   "pygments_lexer": "ipython3",
   "version": "3.9.21"
  }
 },
 "nbformat": 4,
 "nbformat_minor": 2
}
