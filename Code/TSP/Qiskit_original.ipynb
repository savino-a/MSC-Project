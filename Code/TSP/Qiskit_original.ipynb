{
 "cells": [
  {
   "cell_type": "markdown",
   "id": "071d3ce8",
   "metadata": {},
   "source": [
    "# Code for TSP solving with QAOA"
   ]
  },
  {
   "cell_type": "code",
   "execution_count": 6,
   "id": "7f54e07f",
   "metadata": {},
   "outputs": [],
   "source": [
    "import os\n",
    "import random\n",
    "import time\n",
    "from collections import deque\n",
    "from itertools import permutations\n",
    "import operator\n",
    "\n",
    "import numpy as np\n",
    "import pandas as pd\n",
    "import networkx as nx\n",
    "import matplotlib\n",
    "matplotlib.use(\"TkAgg\")  # Set non-interactive backend\n",
    "import matplotlib.pyplot as plt\n",
    "from scipy.interpolate import CubicSpline\n",
    "from scipy.optimize import minimize\n",
    "\n",
    "import unittest\n",
    "\n",
    "import qiskit\n",
    "from qiskit import QuantumCircuit, QuantumRegister, transpile\n",
    "from qiskit.circuit import Parameter\n",
    "from qiskit.circuit.library import QAOAAnsatz, TwoLocal\n",
    "from qiskit.visualization import circuit_drawer\n",
    "from qiskit.transpiler import PassManager\n",
    "from qiskit.transpiler.passes import Optimize1qGates, CXCancellation\n",
    "from qiskit.transpiler.preset_passmanagers import generate_preset_pass_manager\n",
    "from qiskit.quantum_info import SparsePauliOp\n",
    "\n",
    "import qiskit_aer as Aer\n",
    "from qiskit_aer import AerSimulator\n",
    "from qiskit_aer.noise import NoiseModel, depolarizing_error, thermal_relaxation_error\n",
    "\n",
    "from qiskit.primitives import Sampler, Estimator, StatevectorSampler\n",
    "\n",
    "from qiskit_ibm_runtime import (\n",
    "    QiskitRuntimeService,\n",
    "    SamplerV2,\n",
    "    SamplerV2 as Sampler2,  # optional, remove if not needed\n",
    "    Session,\n",
    "    EstimatorV2 as Estimator3,  # optional, rename or remove as needed\n",
    ")\n",
    "\n",
    "from qiskit_algorithms import (\n",
    "    QAOA,\n",
    "    VQE,\n",
    "    SamplingVQE,\n",
    "    NumPyMinimumEigensolver,\n",
    ")\n",
    "from qiskit_algorithms.optimizers import (\n",
    "    COBYLA,\n",
    "    SPSA,\n",
    "    ADAM,\n",
    ")\n",
    "from qiskit_algorithms.utils import algorithm_globals\n",
    "\n",
    "from qiskit_optimization import QuadraticProgram\n",
    "from qiskit_optimization.algorithms import MinimumEigenOptimizer\n",
    "from qiskit_optimization.applications import Tsp\n",
    "from qiskit_optimization.translators import from_docplex_mp\n",
    "from qiskit_optimization.converters import (\n",
    "    QuadraticProgramToQubo,\n",
    "    InequalityToEquality,\n",
    ")\n",
    "\n",
    "from docplex.mp.model import Model"
   ]
  },
  {
   "cell_type": "code",
   "execution_count": 7,
   "id": "f358c9a3",
   "metadata": {},
   "outputs": [],
   "source": [
    "import unittest\n",
    "import qiskit\n",
    "from qiskit.quantum_info import SparsePauliOp\n",
    "from qiskit_optimization import QuadraticProgram\n",
    "from qiskit_optimization.translators import from_docplex_mp\n",
    "from docplex.mp.model import Model\n",
    "from qiskit_ibm_runtime import SamplerV2 as SamplerV22\n",
    "import numpy as np\n",
    "from qiskit_ibm_runtime import SamplerV2 as Sampler\n",
    "from qiskit_algorithms import QAOA\n",
    "from qiskit_optimization.algorithms import MinimumEigenOptimizer\n",
    "from qiskit_algorithms.optimizers import COBYLA\n",
    "from qiskit_ibm_runtime import QiskitRuntimeService, SamplerV2 as SamplerV2\n",
    "from qiskit.primitives import Sampler, Estimator\n",
    "from qiskit_optimization.converters import QuadraticProgramToQubo\n",
    "from qiskit.circuit.library import QAOAAnsatz\n",
    "import qiskit_aer as Aer\n",
    "from qiskit_ibm_runtime import Session, EstimatorV2 as Estimator\n",
    "from scipy.optimize import minimize\n",
    "from qiskit_aer import AerSimulator\n",
    "from qiskit import transpile\n",
    "from qiskit.primitives import StatevectorSampler\n",
    "from qiskit_optimization.converters import InequalityToEquality\n",
    "from qiskit import QuantumCircuit, transpile\n",
    "from qiskit.visualization import circuit_drawer\n",
    "from qiskit.transpiler import PassManager\n",
    "from qiskit.transpiler.passes import Optimize1qGates, CXCancellation\n",
    "from qiskit import QuantumCircuit, QuantumRegister\n",
    "from qiskit.circuit import Parameter\n",
    "import matplotlib\n",
    "\n",
    "# matplotlib.use(\"TkAgg\")  # Set non-interactive backend\n",
    "import matplotlib.pyplot as plt\n",
    "from qiskit import transpile\n",
    "from qiskit.visualization import circuit_drawer\n",
    "from qiskit.transpiler import PassManager\n",
    "from qiskit.transpiler.passes import Optimize1qGates, CXCancellation\n",
    "from qiskit_ibm_runtime import QiskitRuntimeService, SamplerV2 as Sampler2\n",
    "from qiskit.transpiler.preset_passmanagers import generate_preset_pass_manager\n",
    "import os"
   ]
  },
  {
   "cell_type": "markdown",
   "id": "473cbd31",
   "metadata": {},
   "source": [
    "## Define Problem"
   ]
  },
  {
   "cell_type": "code",
   "execution_count": 8,
   "id": "afcd9fd4",
   "metadata": {},
   "outputs": [],
   "source": [
    "class TSP_Problem:\n",
    "    def __init__(self, num_cities):\n",
    "        self.n = num_cities\n",
    "        \"\"\"self.tsp = Tsp.create_random_instance(self.n, seed=123)\"\"\"\n",
    "        self.tsp = Tsp.create_random_instance(self.n)\n",
    "        self.adj_matrix = nx.to_numpy_array(self.tsp.graph)\n",
    "\n",
    "        self.convert()\n",
    "\n",
    "    def convert(self):\n",
    "        self.qp = self.tsp.to_quadratic_program()\n",
    "        conv = QuadraticProgramToQubo()\n",
    "        self.qubo = conv.convert(self.qp)\n",
    "        self.qubitOp, self.offset = self.qubo.to_ising()\n",
    "\n",
    "    def draw_graph(self, G, colors, pos):\n",
    "        plt.figure(figsize=(10, 10))\n",
    "        ax = plt.axes(frameon=True)\n",
    "\n",
    "        # Draw edges\n",
    "        nx.draw_networkx_edges(G, pos, width=2, alpha=0.5)\n",
    "\n",
    "        # Draw nodes\n",
    "        nx.draw_networkx_nodes(G, pos, node_color=colors, node_size=800, alpha=0.8)\n",
    "\n",
    "        # Draw node labels\n",
    "        nx.draw_networkx_labels(G, pos, font_size=14, font_weight=\"bold\")\n",
    "\n",
    "        # Draw edge labelsCode/TSP/Qiskit.ipynb\n",
    "        # Remove axis\n",
    "        plt.axis(\"off\")\n",
    "\n",
    "        # Add some padding around the graph\n",
    "        plt.tight_layout()"
   ]
  },
  {
   "cell_type": "markdown",
   "id": "6a981a82",
   "metadata": {},
   "source": [
    "## Solving the problem"
   ]
  },
  {
   "cell_type": "code",
   "execution_count": 9,
   "id": "6ee004fa",
   "metadata": {},
   "outputs": [
    {
     "name": "stderr",
     "output_type": "stream",
     "text": [
      "/tmp/ipykernel_46499/2893032751.py:1: DeprecationWarning: The class ``qiskit.primitives.sampler.Sampler`` is deprecated as of qiskit 1.2. It will be removed no earlier than 3 months after the release date. All implementations of the `BaseSamplerV1` interface have been deprecated in favor of their V2 counterparts. The V2 alternative for the `Sampler` class is `StatevectorSampler`.\n",
      "  meo = MinimumEigenOptimizer(QAOA(reps=3, sampler=Sampler(), optimizer=COBYLA(maxiter=100)))\n"
     ]
    }
   ],
   "source": [
    "meo = MinimumEigenOptimizer(QAOA(reps=3, sampler=Sampler(), optimizer=COBYLA(maxiter=100)))\n",
    "# meo = MinimumEigenOptimizer(NumPyMinimumEigensolver()) # CplexOptimizer() # to solve QUBOs\n",
    "\n",
    "qp = TSP_Problem(4).qp\n",
    "result_qaoa = meo.solve(qp)"
   ]
  },
  {
   "cell_type": "code",
   "execution_count": 12,
   "id": "5c0830c1",
   "metadata": {},
   "outputs": [
    {
     "name": "stdout",
     "output_type": "stream",
     "text": [
      "fval=205.0, x_0_0=0.0, x_0_1=0.0, x_0_2=0.0, x_0_3=1.0, x_1_0=0.0, x_1_1=0.0, x_1_2=1.0, x_1_3=0.0, x_2_0=0.0, x_2_1=1.0, x_2_2=0.0, x_2_3=0.0, x_3_0=1.0, x_3_1=0.0, x_3_2=0.0, x_3_3=0.0, status=SUCCESS\n"
     ]
    }
   ],
   "source": [
    "print(result_qaoa)"
   ]
  }
 ],
 "metadata": {
  "kernelspec": {
   "display_name": "QuantumQiskit",
   "language": "python",
   "name": "python3"
  },
  "language_info": {
   "codemirror_mode": {
    "name": "ipython",
    "version": 3
   },
   "file_extension": ".py",
   "mimetype": "text/x-python",
   "name": "python",
   "nbconvert_exporter": "python",
   "pygments_lexer": "ipython3",
   "version": "3.9.21"
  }
 },
 "nbformat": 4,
 "nbformat_minor": 5
}
