{
 "cells": [
  {
   "cell_type": "markdown",
   "id": "4db4d8fc",
   "metadata": {},
   "source": [
    "# Code for Cplex formulation of Alstom problem"
   ]
  },
  {
   "cell_type": "code",
   "execution_count": null,
   "id": "6d047528",
   "metadata": {},
   "outputs": [],
   "source": [
    "import math\n",
    "import numpy as np\n",
    "import pandas as pd\n",
    "import matplotlib.pyplot as plt\n",
    "from dimod import ConstrainedQuadraticModel, Binary, Real\n",
    "from dwave.system import LeapHybridCQMSampler\n",
    "import numpy as np\n",
    "import dimod"
   ]
  },
  {
   "cell_type": "markdown",
   "id": "6e1c9197",
   "metadata": {},
   "source": [
    "## Approximating the functions with polynomials"
   ]
  },
  {
   "cell_type": "markdown",
   "id": "3a16583f",
   "metadata": {},
   "source": [
    "### RAV function"
   ]
  },
  {
   "cell_type": "code",
   "execution_count": null,
   "id": "507929dc",
   "metadata": {},
   "outputs": [],
   "source": [
    "A, B, C, m, v_max, p_max, c_max = 3900, 40.7, 0.632, 400000, 220, 4305220, 320000\n",
    "import numpy as np\n",
    "\n",
    "\n",
    "def P(v):\n",
    "    return (A + B * v + C * v**2)\n",
    "\n",
    "\n",
    "a, b = 0, 250\n",
    "n = 1\n",
    "\n",
    "# Choose n+1 interpolation points\n",
    "x_points = np.linspace(a, b, 251)\n",
    "y_points_bis = []\n",
    "for x in x_points:\n",
    "    y_points_bis.append(P(x))\n",
    "\n",
    "# Get the polynomial coefficients (highest degree first)\n",
    "coeffs_rav = np.polyfit(x_points, y_points_bis, deg=n)\n",
    "coeffs_rav[1] = 3000\n",
    "# Create polynomial function\n",
    "print(coeffs_rav)\n",
    "Prav_poly = np.poly1d(coeffs_rav)\n",
    "\n",
    "# Define the linear approximation of Prav_poly\n",
    "def Prav_approx(v):\n",
    "    return coeffs_rav[0] * v + coeffs_rav[1]\n",
    "\n",
    "\n",
    "\n",
    "y_points_approx = []\n",
    "for i in range(len(x_points)):\n",
    "    y_points_approx.append(Prav_approx(x_points[i]))\n",
    "\n",
    "\n",
    "if __name__ == \"__main__\":\n",
    "    plt.plot(x_points, y_points_bis, label=\"Original function\")\n",
    "    plt.plot(x_points, y_points_approx, label=f\"Polynomial degree {n}\")\n",
    "    plt.title(\"Polynomial Approximation of P(v)\")\n",
    "    plt.xlabel(\"v (km/h)\")\n",
    "    plt.ylabel(\"P(v) (W)\")\n",
    "    plt.xlim(a, b)\n",
    "    plt.legend()\n",
    "    plt.grid(True)\n",
    "    plt.show()\n",
    "\n",
    "print(coeffs_rav)"
   ]
  },
  {
   "cell_type": "markdown",
   "id": "8750c554",
   "metadata": {},
   "source": [
    "### Traction"
   ]
  },
  {
   "cell_type": "code",
   "execution_count": null,
   "id": "5ba19659",
   "metadata": {},
   "outputs": [],
   "source": [
    "def f(v):\n",
    "    if 0 <= v <= 50:\n",
    "        return -354.1 * v + 2.44 * (10**5)\n",
    "    elif 50 <= v < 60:\n",
    "        return -881.3 * v + 2.704 * (10**5)\n",
    "    elif 60 <= v < 220:\n",
    "        return -0.05265 * (v**3) + 28.78 * (v**2) - 5603 * v + 4.566 * (10**5)\n",
    "    else:\n",
    "        return 0\n",
    "    \n",
    "a, b = 0, 250\n",
    "n = 1\n",
    "\n",
    "# Choose n+1 interpolation points\n",
    "x_points = np.linspace(a, b, 1000)\n",
    "y_points_bis = []\n",
    "for x in x_points:\n",
    "    y_points_bis.append(f(x))\n",
    "\n",
    "# Get the polynomial coefficients (highest degree first)\n",
    "coeffs = np.polyfit(x_points, y_points_bis, deg=n)\n",
    "# Create polynomial function\n",
    "Ptraction = np.poly1d(coeffs)\n",
    "\n",
    "\n",
    "y_points_approx = []\n",
    "for i in range(len(x_points)):\n",
    "    y_points_approx.append(Ptraction(x_points[i]))\n",
    "\n",
    "F_pos_max = max(y_points_approx)\n",
    "\n",
    "if __name__ == \"__main__\":\n",
    "    plt.plot(x_points, y_points_bis, label=\"Original function\")\n",
    "    plt.plot(x_points, y_points_approx, label=f\"Polynomial degree {n}\")\n",
    "    plt.legend()\n",
    "    plt.grid(True)\n",
    "    plt.show()"
   ]
  },
  {
   "cell_type": "markdown",
   "id": "24603538",
   "metadata": {},
   "source": [
    "### Braking"
   ]
  },
  {
   "cell_type": "code",
   "execution_count": null,
   "id": "196c49ef",
   "metadata": {},
   "outputs": [],
   "source": [
    "def f(v):\n",
    "    if 0 <= v <= 20:\n",
    "        return 9925 * v + 1.243\n",
    "    if 20 <= v <= 100:\n",
    "        return 2.039 * (10**-13) * v + 1.985 * (10**5)\n",
    "    if 100 <= v <= 220:\n",
    "        return 5.389 * (v**2) - 2583 * v + 4.012 * (10**5)\n",
    "    else:\n",
    "        return 0\n",
    "\n",
    "\n",
    "# Interval [a, b] and degree n\n",
    "a, b = 0, 250\n",
    "n = 1\n",
    "\n",
    "# Choose n+1 interpolation points\n",
    "x_points = np.linspace(a, b, 1000)\n",
    "y_points_bis = []\n",
    "for x in x_points:\n",
    "    y_points_bis.append(f(x))\n",
    "\n",
    "# Get the polynomial coefficients (highest degree first)\n",
    "coeffs = np.polyfit(x_points, y_points_bis, deg=n)\n",
    "coeffs[1] = 250000\n",
    "# Create polynomial function\n",
    "Pbraking = np.poly1d(coeffs)\n",
    "\n",
    "\n",
    "\n",
    "y_points_approx = []\n",
    "for i in range(len(x_points)):\n",
    "    y_points_approx.append(Pbraking(x_points[i]))\n",
    "\n",
    "F_neg_max = max(y_points_approx)\n",
    "F_max = max(F_pos_max, F_neg_max)\n",
    "\n",
    "if __name__ == \"__main__\":\n",
    "    plt.plot(x_points, y_points_bis, label=\"Original function\")\n",
    "    plt.plot(x_points, y_points_approx, label=f\"Polynomial degree {n}\")\n",
    "    plt.legend()\n",
    "    plt.grid(True)\n",
    "    plt.show()"
   ]
  },
  {
   "cell_type": "markdown",
   "id": "9b32e08e",
   "metadata": {},
   "source": [
    "### Power usage"
   ]
  },
  {
   "cell_type": "code",
   "execution_count": null,
   "id": "4f3b100d",
   "metadata": {},
   "outputs": [],
   "source": [
    "def cost(V, demand):\n",
    "    F_max = 1\n",
    "    V_max = 220\n",
    "    F = demand\n",
    "    p_max = 4305220\n",
    "    c_max = 320000\n",
    "    V_safe = min(V, V_max)\n",
    "    # Ensure V is within a safe range for math.exp\n",
    "    c = (\n",
    "        (1 - math.exp(-V_safe / (V_max + 0.001)))\n",
    "        * math.tanh(100 * F)\n",
    "        * (1 - math.exp(-abs(F) / (F_max + 0.001)))\n",
    "    )\n",
    "    Puti = (c / c_max) * p_max\n",
    "    # For now we ignore regen braking\n",
    "    '''if Puti < 0:\n",
    "        Puti = 0\n",
    "    elif Puti > p_max:\n",
    "        Puti = p_max'''\n",
    "    return Puti\n",
    "\n",
    "\n",
    "# Define the domain\n",
    "a_x, b_x = 0, 250\n",
    "a_y, b_y = -1, 1\n",
    "n = 1  # degree in x\n",
    "l = 1  # degree in y\n",
    "\n",
    "# Create the interpolation points (equally spaced)\n",
    "x_points = np.linspace(a_x, b_x, 1000)\n",
    "y_points = np.linspace(a_y, b_y, 1000)\n",
    "X, Y = np.meshgrid(x_points, y_points, indexing=\"ij\")\n",
    "Z = np.eye(1000)\n",
    "for i in range(len(x_points)):\n",
    "    for j in range(len(y_points)):\n",
    "        x = x_points[i]\n",
    "        y = y_points[j]\n",
    "        Z[i, j] = cost(x, y)\n",
    "\n",
    "\n",
    "# Build the Vandermonde matrix for 2D\n",
    "x_flat = X.ravel()\n",
    "y_flat = Y.ravel()\n",
    "\n",
    "A = np.vstack([(x_flat**i) * (y_flat**j) for i in range(n + 1) for j in range(l + 1)]).T\n",
    "\n",
    "b = Z.ravel()\n",
    "coeffs_pow, _, _, _ = np.linalg.lstsq(A, b, rcond=None)\n",
    "print(coeffs_pow)\n",
    "print(f\"The polynomial is: {coeffs_pow[0]} + {coeffs_pow[1]}*x + {coeffs_pow[2]}*y + {coeffs_pow[3]}*x*y\")\n",
    "\n",
    "\n",
    "# Define the polynomial function\n",
    "def Ppower(x, y):\n",
    "    val = 0\n",
    "    idx = 0\n",
    "    for i in range(n + 1):\n",
    "        for j in range(l + 1):\n",
    "            val += coeffs_pow[idx] * (x**i) * (y**j)\n",
    "            idx += 1\n",
    "    return val\n",
    "\n",
    "\n",
    "# Evaluation grid\n",
    "x_eval = x_points\n",
    "y_eval = y_points\n",
    "X_eval, Y_eval = np.meshgrid(x_eval, y_eval, indexing=\"ij\")\n",
    "Z_eval = Ppower(X_eval, Y_eval)\n",
    "\n",
    "# Plot\n",
    "fig = plt.figure(figsize=(10, 5))\n",
    "ax = fig.add_subplot(121, projection=\"3d\")\n",
    "ax.plot_surface(X_eval, Y_eval, Z, cmap=\"viridis\")\n",
    "ax.set_title(\"Original function\")\n",
    "\n",
    "ax2 = fig.add_subplot(122, projection=\"3d\")\n",
    "ax2.plot_surface(X_eval, Y_eval, Z_eval, cmap=\"plasma\")\n",
    "ax2.set_title(\"Polynomial approximation\")\n",
    "\n",
    "plt.show()"
   ]
  },
  {
   "cell_type": "code",
   "execution_count": null,
   "id": "8b308b61",
   "metadata": {},
   "outputs": [],
   "source": [
    "# Testing speed at constant maximum power\n",
    "v = np.arange(0, 250, 1)\n",
    "max_acceration = []\n",
    "for speed in v:\n",
    "    acc = (Ptraction(speed)-Prav_poly(speed)) / m\n",
    "    max_acceration.append(acc)\n",
    "\n",
    "\n",
    "plt.plot(v, max_acceration, label=\"Max acceleration at constant power\")\n",
    "plt.xlabel(\"Speed (km/h)\")\n",
    "plt.ylabel(\"Max acceleration (km/h/s)\")\n",
    "plt.title(\"Max acceleration at constant power vs Speed\")"
   ]
  },
  {
   "cell_type": "markdown",
   "id": "d79dc32d",
   "metadata": {},
   "source": [
    "## Defining the Model"
   ]
  },
  {
   "cell_type": "markdown",
   "id": "15d2e4b5",
   "metadata": {},
   "source": [
    "### Define model"
   ]
  },
  {
   "cell_type": "code",
   "execution_count": null,
   "id": "e91d53d6",
   "metadata": {},
   "outputs": [],
   "source": [
    "cqm = ConstrainedQuadraticModel()\n",
    "N = 20\n",
    "Dist = 0.05\n",
    "dt = 6 #seconds"
   ]
  },
  {
   "cell_type": "markdown",
   "id": "04c8ed81",
   "metadata": {},
   "source": [
    "### Define variables"
   ]
  },
  {
   "cell_type": "code",
   "execution_count": null,
   "id": "4ded5e5f",
   "metadata": {},
   "outputs": [],
   "source": [
    "v={}\n",
    "for i in range(0, N):\n",
    "    v[i]= Real(f\"v_{i}\",lower_bound=0, upper_bound=v_max)\n",
    "\n",
    "d={}\n",
    "for i in range(0, N):\n",
    "    d[i]= Real(f\"d_{i}\",lower_bound=0, upper_bound=2)\n",
    "\n",
    "\n",
    "cqm.add_constraint(d[0]>=1.0)"
   ]
  },
  {
   "cell_type": "markdown",
   "id": "19155a2f",
   "metadata": {},
   "source": [
    "### Cost function"
   ]
  },
  {
   "cell_type": "markdown",
   "id": "64a2b199",
   "metadata": {},
   "source": [
    "#### Linearization"
   ]
  },
  {
   "cell_type": "code",
   "execution_count": null,
   "id": "d0ba7134",
   "metadata": {},
   "outputs": [],
   "source": [
    "# Here we linearize the D*v part of the polynomial approximation of our cost function\n",
    "\n",
    "w1 = {}\n",
    "for i in range(0, N):\n",
    "    w1[i] = Real(f\"w1_{i}\",lower_bound=0,upper_bound=2*v_max)\n",
    "\n",
    "V_min, V_max = 0, 250\n",
    "d_min, d_max = 0,2\n",
    "\n",
    "# coefficients from polynomial fit of cost function (Power consumption)\n",
    "c0, c1, c2, c3 = coeffs_pow\n",
    "\n",
    "for i in range(0, N):\n",
    "    '''cqm.add_constraint(w1[i] - d_min * v[i] - (d[i] - 1) * V_min + V_min * d_min  >= 0, label=f\"Constraint_1_{i}\")\n",
    "    cqm.add_constraint(w1[i] - (d_max * v[i] + (d[i] - 1) * V_max - V_max * d_max) >= 0, label=f\"Constraint_2_{i}\")\n",
    "    cqm.add_constraint(w1[i] - (d_max * v[i] + (d[i] - 1) * V_min - d_max * V_min) <= 0, label=f\"Constraint_3_{i}\")\n",
    "    cqm.add_constraint(w1[i] - (d_min * v[i] + (d[i] - 1) * V_max - d_min * V_max) <= 0, label=f\"Constraint_4_{i}\")'''\n",
    "\n",
    "    cqm.add_constraint(w1[i]  >= 0, label=f\"Constraint_1_{i}\")\n",
    "    cqm.add_constraint(w1[i] - (d_max * v[i] + d[i] * V_max - V_max * d_max) >= 0, label=f\"Constraint_2_{i}\")\n",
    "    cqm.add_constraint(w1[i] - (d_max * v[i]) <= 0, label=f\"Constraint_3_{i}\")\n",
    "    cqm.add_constraint(w1[i] - (d[i] * V_max) <= 0, label=f\"Constraint_4_{i}\")"
   ]
  },
  {
   "cell_type": "markdown",
   "id": "0ff5dd23",
   "metadata": {},
   "source": [
    "#### Definition"
   ]
  },
  {
   "cell_type": "code",
   "execution_count": null,
   "id": "2360c165",
   "metadata": {},
   "outputs": [],
   "source": [
    "# Total cost\n",
    "total_cost = sum(c0 + c1 * v[i] + c2 * (d[i]-1) + c3 * (w1[i]-v[i]) for i in range(N))\n",
    "cqm.set_objective(total_cost)"
   ]
  },
  {
   "cell_type": "markdown",
   "id": "0404a75d",
   "metadata": {},
   "source": [
    "### Speed physics constraints (there is a problem somewhere in here)"
   ]
  },
  {
   "cell_type": "markdown",
   "id": "46c0efc2",
   "metadata": {},
   "source": [
    "#### Linearising"
   ]
  },
  {
   "cell_type": "code",
   "execution_count": null,
   "id": "ace21121",
   "metadata": {},
   "outputs": [],
   "source": [
    "# Define binary variables for delta\n",
    "delta = {}\n",
    "for i in range(0, N):\n",
    "    delta[i] = Binary(f\"delta_{i}\")\n",
    "\n",
    "# Define constants\n",
    "epsilon = 1e-9\n",
    "\n",
    "# Add constraints to the cqm\n",
    "for i in range(0, N):\n",
    "    '''cqm.add_constraint((d[i] - 1) - epsilon + (1 - delta[i]) <= 0, label=f\"Delta_Constraint_1_{i}\")'''\n",
    "\n",
    "    cqm.add_constraint((d[i] - 1) + epsilon + (1 - delta[i]) >= 0, label=f\"Delta_Constraint_1_{i}\")\n",
    "    cqm.add_constraint((d[i] - 1) - delta[i] <= 0, label=f\"Delta_Constraint_2_{i}\")"
   ]
  },
  {
   "cell_type": "code",
   "execution_count": null,
   "id": "ed96babd",
   "metadata": {},
   "outputs": [],
   "source": [
    "# Fit linear approximations to Ptraction and Pbraking\n",
    "Ptraction_linear = np.polyfit(np.linspace(0, v_max, 100), [Ptraction(v) for v in np.linspace(0, v_max, 100)], 1)\n",
    "Pbraking_linear = np.polyfit(np.linspace(0, v_max, 100), [Pbraking(v) for v in np.linspace(0, v_max, 100)], 1)\n",
    "\n",
    "# Initialize z1 and z2\n",
    "z1 = {}\n",
    "z2 = {}\n",
    "for i in range(0, N):\n",
    "    z1[i] = Real(f\"z1_{i}\", lower_bound=0, upper_bound=F_max)\n",
    "    z2[i] = Real(f\"z2_{i}\", lower_bound=0, upper_bound=F_max)\n",
    "\n",
    "L1 = 0.0\n",
    "L2 = 0.0\n",
    "U1 = F_max\n",
    "U2 = F_max\n",
    "\n",
    "# Define linearized functions\n",
    "def Ptraction_approx(v):\n",
    "    return Ptraction_linear[0] * v + Ptraction_linear[1]\n",
    "\n",
    "def Pbraking_approx(v):\n",
    "    return Pbraking_linear[0] * v + Pbraking_linear[1]\n",
    "\n",
    "# Update constraints to use linearized functions\n",
    "for i in range(0, N):\n",
    "    '''cqm.add_constraint(z1[i] - (Ptraction_approx(v[i])) + L1 * (1 - delta[i]) <= 0, label=f\"Z1_Ptraction_{i}\")\n",
    "    cqm.add_constraint(z2[i] - (Pbraking_approx(v[i])) - L2 * delta[i] <= 0, label=f\"Z2_Pbraking_{i}\")\n",
    "    cqm.add_constraint(z1[i] - (Ptraction_approx(v[i])) + U1 * (1 - delta[i]) >= 0, label=f\"Z1_Ptraction_Lower_{i}\")\n",
    "    cqm.add_constraint(z2[i] - (Pbraking_approx(v[i])) + U2 * delta[i] >= 0, label=f\"Z2_Pbraking_Lower_{i}\")'''\n",
    "    \n",
    "\n",
    "    cqm.add_constraint(z1[i] - delta[i]*U1 <= 0, label=f\"Z1_Ptraction_Upper_{i}\")\n",
    "    cqm.add_constraint(z2[i] - (1-delta[i])*U2 <= 0, label=f\"Z2_Pbraking_Upper_{i}\")\n",
    "\n",
    "    cqm.add_constraint(z1[i] - (Ptraction_approx(v[i])) <= 0, label=f\"Z1_Ptraction_{i}\")\n",
    "    cqm.add_constraint(z2[i] - (Pbraking_approx(v[i])) <= 0, label=f\"Z2_Pbraking_{i}\")\n",
    "\n",
    "    cqm.add_constraint(z1[i] - (Ptraction_approx(v[i])) + U1 * (1 - delta[i]) >= 0, label=f\"Z1_Ptraction_Lower_{i}\")\n",
    "    cqm.add_constraint(z2[i] - (Pbraking_approx(v[i])) + U2 * delta[i] >= 0, label=f\"Z2_Pbraking_Lower_{i}\")"
   ]
  },
  {
   "cell_type": "code",
   "execution_count": null,
   "id": "e7bf6bf7",
   "metadata": {},
   "outputs": [],
   "source": [
    "# Define and linearize w2 = D * (z1 + z2)\n",
    "w2 = {}\n",
    "for i in range(0, N):\n",
    "    w2[i] = Real(f\"w2_{i}\", lower_bound=0, upper_bound=2 * F_max)\n",
    "\n",
    "# Define constants\n",
    "dL, dU = 0, 2\n",
    "zL, zU = 0, F_max\n",
    "\n",
    "# Add constraints to the cqm\n",
    "for i in range(0, N):\n",
    "    '''cqm.add_constraint(w2[i] - dL * (z1[i] + z2[i]) - zL * (d[i]) + dL * zL >= 0, label=f\"W2_Lower_Bound_1_{i}\")\n",
    "    cqm.add_constraint(w2[i] - dU * (z1[i] + z2[i]) - zU * (d[i]) + dU * zU >= 0, label=f\"W2_Lower_Bound_2_{i}\")\n",
    "    cqm.add_constraint(w2[i] - dU * (z1[i] + z2[i]) - zL * (d[i]) + dU * zL <=0, label=f\"W2_Upper_Bound_1_{i}\")\n",
    "    cqm.add_constraint(w2[i] - dL * (z1[i] + z2[i]) - zU * (d[i]) + dL * zU <=0, label=f\"W2_Upper_Bound_2_{i}\")'''\n",
    "\n",
    "    cqm.add_constraint(w2[i] >= 0, label=f\"W2_Lower_Bound_1_{i}\")\n",
    "    cqm.add_constraint(w2[i] - dU * (z1[i] + z2[i]) - zU * (d[i]) + dU * zU >= 0, label=f\"W2_Lower_Bound_2_{i}\")\n",
    "    cqm.add_constraint(w2[i] - dU * (z1[i] + z2[i]) <=0, label=f\"W2_Upper_Bound_1_{i}\")\n",
    "    cqm.add_constraint(w2[i]- zU * (d[i]) <=0, label=f\"W2_Upper_Bound_2_{i}\")"
   ]
  },
  {
   "cell_type": "markdown",
   "id": "0c9feb3d",
   "metadata": {},
   "source": [
    "#### Definition"
   ]
  },
  {
   "cell_type": "code",
   "execution_count": null,
   "id": "38e9f3c2",
   "metadata": {},
   "outputs": [],
   "source": [
    "# Define the final speed constraints for D-Wave CQM\n",
    "for i in range(0, N - 1):\n",
    "    # Linearize the acceleration constraint\n",
    "    cqm.add_constraint(\n",
    "        v[i + 1] - v[i] - (dt / m) * (w2[i] - (z1[i] + z2[i]) - Prav_approx(v[i])) == 0,\n",
    "        label=f\"Velocity_Constraint_{i}\"\n",
    "    )\n",
    "\n",
    "    # Ensure that acceleration is negative when braking\n",
    "    cqm.add_constraint(\n",
    "        v[i + 1] - v[i] + 0.001 - 1.001 * delta[i] <= 0,\n",
    "        label=f\"Acc_Implication_{i}\"\n",
    "    )\n",
    "\n",
    "    # Ensure that acceleration does not exceed a maximum value\n",
    "    cqm.add_constraint(\n",
    "        v[i + 1] - v[i] -1  <= 0,\n",
    "        label=f\"Max_Acceleration_{i}\"\n",
    "    )"
   ]
  },
  {
   "cell_type": "code",
   "execution_count": null,
   "id": "10d6fe0b",
   "metadata": {},
   "outputs": [],
   "source": [
    "# Additional constraints for speed\n",
    "epsilon = 0.2\n",
    "cqm.add_constraint(v[0] == 0, \"Initial velocity\")\n",
    "cqm.add_constraint(v[N-1] - epsilon<= 0, \"Final velocity\")\n",
    "\n",
    "# Just to make sure\n",
    "'''for i in range(0, N):\n",
    "    cqm.add_constraint(v[i]>= 0, f\"Velocity non-negativity {i}\")'''"
   ]
  },
  {
   "cell_type": "markdown",
   "id": "0ae7c5de",
   "metadata": {},
   "source": [
    "## Distance constraints"
   ]
  },
  {
   "cell_type": "code",
   "execution_count": null,
   "id": "f562a5b2",
   "metadata": {},
   "outputs": [],
   "source": [
    "# Add a distance constraint to ensure the train will start moving\n",
    "Distance = 0\n",
    "for i in range(0, N):\n",
    "    Distance += v[i]*dt/3600\n",
    "\n",
    "cqm.add_constraint(Distance >= Dist, \"Total distance constraint\")"
   ]
  },
  {
   "cell_type": "markdown",
   "id": "6fa872e3",
   "metadata": {},
   "source": [
    "## Problem Verification"
   ]
  },
  {
   "cell_type": "code",
   "execution_count": null,
   "id": "c7b23484",
   "metadata": {},
   "outputs": [],
   "source": [
    "# Print info on the model\n",
    "\n",
    "# Number of variables\n",
    "print(cqm.num_variables)\n",
    "\n",
    "# Number of constraints\n",
    "cqm.num_constraints\n",
    "\n",
    "# Objective function (as a QuadraticModel)\n",
    "cqm.objective"
   ]
  },
  {
   "cell_type": "markdown",
   "id": "d83ae902",
   "metadata": {},
   "source": [
    "## Solving"
   ]
  },
  {
   "cell_type": "code",
   "execution_count": null,
   "id": "eafc05dc",
   "metadata": {},
   "outputs": [],
   "source": [
    "# Solve the CQM using the Leap Hybrid CQM Solver\n",
    "sampler = LeapHybridCQMSampler()\n",
    "result = sampler.sample_cqm(cqm)"
   ]
  },
  {
   "cell_type": "code",
   "execution_count": null,
   "id": "dd34ff8d",
   "metadata": {},
   "outputs": [],
   "source": [
    "# Check if a feasible solution was found\n",
    "if result.first.sample is not None:\n",
    "    print(\"Feasible solution found!\")\n",
    "    v_sol = [result.first.sample[f\"v_{i}\"] for i in range(N)]\n",
    "    d_sol = [result.first.sample[f\"d_{i}\"] - 1 for i in range(N)]\n",
    "    delta_sol = [result.first.sample[f\"delta_{i}\"] for i in range(N)]\n",
    "    print(\"Velocity:\", v_sol)\n",
    "    print(\"Demand:\", d_sol)\n",
    "    print(\"Delta:\", delta_sol)\n",
    "else:\n",
    "    print(\"No feasible solution found.\")\n",
    "\n",
    "Dists = []\n",
    "for i in range(0, N):\n",
    "    Dists.append(sum(v_sol[:i])/3600)"
   ]
  },
  {
   "cell_type": "markdown",
   "id": "9fd78eb4",
   "metadata": {},
   "source": [
    "## Visualization"
   ]
  },
  {
   "cell_type": "code",
   "execution_count": null,
   "id": "ceca38b6",
   "metadata": {},
   "outputs": [],
   "source": [
    "fig, ax1 = plt.subplots()\n",
    "\n",
    "ax1.plot(v_sol, 'b-', label='Velocity (m/s)')\n",
    "ax1.set_ylabel('Velocity (m/s)', color='b')\n",
    "ax1.tick_params(axis='y', labelcolor='b')\n",
    "\n",
    "ax2 = ax1.twinx()\n",
    "ax2.plot(d_sol, 'r-', label='Demand (normalized)')\n",
    "ax2.set_ylabel('Demand (normalized)', color='r')\n",
    "ax2.tick_params(axis='y', labelcolor='r')\n",
    "\n",
    "ax3 = ax1.twinx()\n",
    "ax3.spines['right'].set_position(('outward', 60))\n",
    "ax3.plot(delta_sol, 'g-', label='delta (binary)')\n",
    "ax3.set_ylabel('delta (binary)', color='g')\n",
    "ax3.tick_params(axis='y', labelcolor='g')\n",
    "\n",
    "fig.tight_layout()\n",
    "plt.show()\n",
    "\n",
    "# Plot Dists vs index\n",
    "plt.figure()\n",
    "plt.plot(Dists, marker='o', label='Cumulative Distance')\n",
    "plt.xlabel('Step')\n",
    "plt.ylabel('Cumulative Distance')\n",
    "plt.title('Cumulative Distance vs Step')\n",
    "plt.grid(True)\n",
    "plt.legend()\n",
    "plt.show()"
   ]
  },
  {
   "cell_type": "code",
   "execution_count": null,
   "id": "caeef040",
   "metadata": {},
   "outputs": [],
   "source": [
    "df = pd.DataFrame({\n",
    "    'Step': range(len(v_sol)),\n",
    "    'Speed': v_sol,\n",
    "    'Normalized Demand': d_sol,\n",
    "    'Delta Indicator': delta_sol\n",
    "})\n",
    "\n",
    "df"
   ]
  }
 ],
 "metadata": {
  "kernelspec": {
   "display_name": "Dwave",
   "language": "python",
   "name": "python3"
  },
  "language_info": {
   "codemirror_mode": {
    "name": "ipython",
    "version": 3
   },
   "file_extension": ".py",
   "mimetype": "text/x-python",
   "name": "python",
   "nbconvert_exporter": "python",
   "pygments_lexer": "ipython3",
   "version": "3.10.18"
  }
 },
 "nbformat": 4,
 "nbformat_minor": 5
}
