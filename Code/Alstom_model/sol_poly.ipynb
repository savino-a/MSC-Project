{
 "cells": [
  {
   "cell_type": "code",
   "execution_count": 100,
   "id": "6d047528",
   "metadata": {},
   "outputs": [],
   "source": [
    "import math\n",
    "import numpy as np\n",
    "import matplotlib.pyplot as plt\n",
    "from docplex.mp.basic import Expr\n",
    "from docplex.mp.model import Model\n",
    "from docplex.mp.solution import SolveSolution\n",
    "from docplex.util.status import JobSolveStatus\n",
    "import cplex.callbacks as cpx_cb\n",
    "from Functions_validation.braking_poly import p as Pbraking\n",
    "from Functions_validation.traction_poly import p as Ptraction\n",
    "from Functions_validation.RAV_poly import P as Prav\n",
    "\n",
    "from Functions_validation.braking_poly import Pdecc as Pdecc\n",
    "from Functions_validation.traction_poly import Pacc as Pacc\n",
    "from Functions_validation.power_poly import P as Ppower"
   ]
  },
  {
   "cell_type": "code",
   "execution_count": 101,
   "id": "507929dc",
   "metadata": {},
   "outputs": [],
   "source": [
    "A, B, C, m, v_max, p_max, c_max = 0.632, 40.7, 3900, 320000, 220, 4305220, 320000\n",
    "import numpy as np\n",
    "\n",
    "\n",
    "def P(v):\n",
    "    return A + B * v + C * v**2\n",
    "\n",
    "\n",
    "a, b = 0, 250\n",
    "n = 1\n",
    "\n",
    "# Choose n+1 interpolation points\n",
    "x_points = np.linspace(a, b, 1000)\n",
    "y_points_bis = []\n",
    "for x in x_points:\n",
    "    y_points_bis.append(P(x))\n",
    "\n",
    "# Get the polynomial coefficients (highest degree first)\n",
    "coeffs = np.polyfit(x_points, y_points_bis, deg=n)\n",
    "\n",
    "# Create polynomial function\n",
    "Prav = np.poly1d(coeffs)\n",
    "\n",
    "\n",
    "def Prav_approx(v):\n",
    "    return Prav(v)"
   ]
  },
  {
   "cell_type": "code",
   "execution_count": 102,
   "id": "044b8056",
   "metadata": {},
   "outputs": [],
   "source": [
    "# Define some constants\n",
    "A, B, C, m, v_max, p_max, c_max = 0.632, 40.7, 3900, 320000, 220, 4305220, 320000\n"
   ]
  },
  {
   "cell_type": "markdown",
   "id": "d79dc32d",
   "metadata": {},
   "source": [
    "## Defining the Model"
   ]
  },
  {
   "cell_type": "markdown",
   "id": "15d2e4b5",
   "metadata": {},
   "source": [
    "### Define model"
   ]
  },
  {
   "cell_type": "code",
   "execution_count": 103,
   "id": "e91d53d6",
   "metadata": {},
   "outputs": [],
   "source": [
    "opt_model = Model(name=\"Poly_Model\")\n",
    "N = 20\n",
    "Dist = 30\n",
    "tolerance = 0.005"
   ]
  },
  {
   "cell_type": "markdown",
   "id": "04c8ed81",
   "metadata": {},
   "source": [
    "### Define variables"
   ]
  },
  {
   "cell_type": "code",
   "execution_count": 104,
   "id": "4ded5e5f",
   "metadata": {},
   "outputs": [],
   "source": [
    "v={}\n",
    "for i in range(0, N):\n",
    "    v[i]= opt_model.continuous_var(name=f\"v_{i}\")\n",
    "\n",
    "d={}\n",
    "for i in range(0, N):\n",
    "    d[i]= opt_model.continuous_var(name=f\"d_{i}\")\n",
    "\n",
    "kroe={}\n",
    "for i in range(0, N):\n",
    "    kroe[i]= opt_model.binary_var(name=f\"kroe_{i}\")"
   ]
  },
  {
   "cell_type": "markdown",
   "id": "19155a2f",
   "metadata": {},
   "source": [
    "### Define cost"
   ]
  },
  {
   "cell_type": "code",
   "execution_count": 105,
   "id": "2360c165",
   "metadata": {},
   "outputs": [],
   "source": [
    "# Total cost\n",
    "total_cost = opt_model.sum(Ppower(v[i], d[i]) for i in range(N))\n",
    "\n",
    "# Set objective\n",
    "opt_model.minimize(total_cost)"
   ]
  },
  {
   "cell_type": "markdown",
   "id": "a23b65cd",
   "metadata": {},
   "source": [
    "### Kroe constraints"
   ]
  },
  {
   "cell_type": "code",
   "execution_count": 65,
   "id": "bbe41f53",
   "metadata": {},
   "outputs": [],
   "source": [
    "M = 1\n",
    "epsilon = 1e-4\n",
    "\n",
    "# Constraint: if delta == 1, then d >= epsilon\n",
    "for i in range(0, N):\n",
    "    opt_model.add_constraint(d[i] >= epsilon - M * (1 - kroe[i]))\n",
    "\n",
    "    # Constraint: if delta == 0, then d <= 0\n",
    "    opt_model.add_constraint(d[i] <= M * kroe[i])"
   ]
  },
  {
   "cell_type": "markdown",
   "id": "0404a75d",
   "metadata": {},
   "source": [
    "### Speed constraints"
   ]
  },
  {
   "cell_type": "code",
   "execution_count": 106,
   "id": "38e9f3c2",
   "metadata": {},
   "outputs": [],
   "source": [
    "opt_model.add_constraint(v[0] == 0, \"Initial velocity\")\n",
    "opt_model.add_constraint(v[N-1] == 0, \"Final velocity\")\n",
    "\n",
    "for i in range(1,N-2):\n",
    "    opt_model.add_constraint(\n",
    "    v[i+1] - v[i] + (1/m)*Prav(v[i]) == (1/m) * (d[i] * (kroe[i] * 123777.38520754 + (1 - kroe[i]) * 134886.16359324)),\n",
    "    f\"Velocity constraint {i}\"\n",
    ")\n",
    "    '''opt_model.add_constraint(v[i+1] - v[i] + (1/m)*Prav(v[i]) == (1/m)(d[i]*(kroe[i]*Ptraction(v[i]) + (1-kroe[i])*Pbraking(v[i]))), f\"Velocity constraint {i}\")'''"
   ]
  },
  {
   "cell_type": "code",
   "execution_count": 107,
   "id": "c7b23484",
   "metadata": {},
   "outputs": [
    {
     "name": "stdout",
     "output_type": "stream",
     "text": [
      "Model: Poly_Model\n",
      " - number of variables: 60\n",
      "   - binary=20, integer=0, continuous=40\n",
      " - number of constraints: 19\n",
      "   - linear=2, quadratic=17\n",
      " - parameters: defaults\n",
      " - objective: minimize quadratic\n",
      " - problem type is: MIQCP\n",
      "// This file has been generated by DOcplex\n",
      "// model name is: Poly_Model\n",
      "// single vars section\n",
      "dvar float v_0;\n",
      "dvar float v_1;\n",
      "dvar float v_2;\n",
      "dvar float v_3;\n",
      "dvar float v_4;\n",
      "dvar float v_5;\n",
      "dvar float v_6;\n",
      "dvar float v_7;\n",
      "dvar float v_8;\n",
      "dvar float v_9;\n",
      "dvar float v_10;\n",
      "dvar float v_11;\n",
      "dvar float v_12;\n",
      "dvar float v_13;\n",
      "dvar float v_14;\n",
      "dvar float v_15;\n",
      "dvar float v_16;\n",
      "dvar float v_17;\n",
      "dvar float v_18;\n",
      "dvar float v_19;\n",
      "dvar float d_0;\n",
      "dvar float d_1;\n",
      "dvar float d_2;\n",
      "dvar float d_3;\n",
      "dvar float d_4;\n",
      "dvar float d_5;\n",
      "dvar float d_6;\n",
      "dvar float d_7;\n",
      "dvar float d_8;\n",
      "dvar float d_9;\n",
      "dvar float d_10;\n",
      "dvar float d_11;\n",
      "dvar float d_12;\n",
      "dvar float d_13;\n",
      "dvar float d_14;\n",
      "dvar float d_15;\n",
      "dvar float d_16;\n",
      "dvar float d_17;\n",
      "dvar float d_18;\n",
      "dvar float d_19;\n",
      "dvar bool kroe_0;\n",
      "dvar bool kroe_1;\n",
      "dvar bool kroe_2;\n",
      "dvar bool kroe_3;\n",
      "dvar bool kroe_4;\n",
      "dvar bool kroe_5;\n",
      "dvar bool kroe_6;\n",
      "dvar bool kroe_7;\n",
      "dvar bool kroe_8;\n",
      "dvar bool kroe_9;\n",
      "dvar bool kroe_10;\n",
      "dvar bool kroe_11;\n",
      "dvar bool kroe_12;\n",
      "dvar bool kroe_13;\n",
      "dvar bool kroe_14;\n",
      "dvar bool kroe_15;\n",
      "dvar bool kroe_16;\n",
      "dvar bool kroe_17;\n",
      "dvar bool kroe_18;\n",
      "dvar bool kroe_19;\n",
      "\n",
      "minimize\n",
      " 0.713384 d_0 + 0.713384 d_1 + 0.713384 d_2 + 0.713384 d_3 + 0.713384 d_4\n",
      " + 0.713384 d_5 + 0.713384 d_6 + 0.713384 d_7 + 0.713384 d_8 + 0.713384 d_9\n",
      " + 0.713384 d_10 + 0.713384 d_11 + 0.713384 d_12 + 0.713384 d_13\n",
      " + 0.713384 d_14 + 0.713384 d_15 + 0.713384 d_16 + 0.713384 d_17\n",
      " + 0.713384 d_18 + 0.713384 d_19 [ 0.024675 v_0*d_0 + 0.024675 v_1*d_1\n",
      " + 0.024675 v_2*d_2 + 0.024675 v_3*d_3 + 0.024675 v_4*d_4 + 0.024675 v_5*d_5\n",
      " + 0.024675 v_6*d_6 + 0.024675 v_7*d_7 + 0.024675 v_8*d_8 + 0.024675 v_9*d_9\n",
      " + 0.024675 v_10*d_10 + 0.024675 v_11*d_11 + 0.024675 v_12*d_12\n",
      " + 0.024675 v_13*d_13 + 0.024675 v_14*d_14 + 0.024675 v_15*d_15\n",
      " + 0.024675 v_16*d_16 + 0.024675 v_17*d_17 + 0.024675 v_18*d_18\n",
      " + 0.024675 v_19*d_19 ] -0.000000;\n",
      " \n",
      "subject to {\n",
      " Initial_velocity:\n",
      "  v_0 == 0;\n",
      " Final_velocity:\n",
      "  v_19 == 0;\n",
      " Velocity_constraint_1:\n",
      "  v_2 + 2.047002 v_1 -126.826043 == [ - 0.034715 d_1*kroe_1 ] + 0.421519 d_1;\n",
      " Velocity_constraint_2:\n",
      "  v_3 + 2.047002 v_2 -126.826043 == [ - 0.034715 d_2*kroe_2 ] + 0.421519 d_2;\n",
      " Velocity_constraint_3:\n",
      "  v_4 + 2.047002 v_3 -126.826043 == [ - 0.034715 d_3*kroe_3 ] + 0.421519 d_3;\n",
      " Velocity_constraint_4:\n",
      "  v_5 + 2.047002 v_4 -126.826043 == [ - 0.034715 d_4*kroe_4 ] + 0.421519 d_4;\n",
      " Velocity_constraint_5:\n",
      "  v_6 + 2.047002 v_5 -126.826043 == [ - 0.034715 d_5*kroe_5 ] + 0.421519 d_5;\n",
      " Velocity_constraint_6:\n",
      "  v_7 + 2.047002 v_6 -126.826043 == [ - 0.034715 d_6*kroe_6 ] + 0.421519 d_6;\n",
      " Velocity_constraint_7:\n",
      "  v_8 + 2.047002 v_7 -126.826043 == [ - 0.034715 d_7*kroe_7 ] + 0.421519 d_7;\n",
      " Velocity_constraint_8:\n",
      "  v_9 + 2.047002 v_8 -126.826043 == [ - 0.034715 d_8*kroe_8 ] + 0.421519 d_8;\n",
      " Velocity_constraint_9:\n",
      "  v_10 + 2.047002 v_9 -126.826043 == [ - 0.034715 d_9*kroe_9 ] + 0.421519 d_9\n",
      "  ;\n",
      " Velocity_constraint_10:\n",
      "  v_11 + 2.047002 v_10 -126.826043 == [ - 0.034715 d_10*kroe_10 ]\n",
      "  + 0.421519 d_10;\n",
      " Velocity_constraint_11:\n",
      "  v_12 + 2.047002 v_11 -126.826043 == [ - 0.034715 d_11*kroe_11 ]\n",
      "  + 0.421519 d_11;\n",
      " Velocity_constraint_12:\n",
      "  v_13 + 2.047002 v_12 -126.826043 == [ - 0.034715 d_12*kroe_12 ]\n",
      "  + 0.421519 d_12;\n",
      " Velocity_constraint_13:\n",
      "  v_14 + 2.047002 v_13 -126.826043 == [ - 0.034715 d_13*kroe_13 ]\n",
      "  + 0.421519 d_13;\n",
      " Velocity_constraint_14:\n",
      "  v_15 + 2.047002 v_14 -126.826043 == [ - 0.034715 d_14*kroe_14 ]\n",
      "  + 0.421519 d_14;\n",
      " Velocity_constraint_15:\n",
      "  v_16 + 2.047002 v_15 -126.826043 == [ - 0.034715 d_15*kroe_15 ]\n",
      "  + 0.421519 d_15;\n",
      " Velocity_constraint_16:\n",
      "  v_17 + 2.047002 v_16 -126.826043 == [ - 0.034715 d_16*kroe_16 ]\n",
      "  + 0.421519 d_16;\n",
      " Velocity_constraint_17:\n",
      "  v_18 + 2.047002 v_17 -126.826043 == [ - 0.034715 d_17*kroe_17 ]\n",
      "  + 0.421519 d_17;\n",
      "\n",
      "}\n",
      "None\n"
     ]
    }
   ],
   "source": [
    "opt_model.print_information() \n",
    "\n",
    "print(opt_model.prettyprint())    "
   ]
  },
  {
   "cell_type": "code",
   "execution_count": 108,
   "id": "eafc05dc",
   "metadata": {},
   "outputs": [
    {
     "name": "stdout",
     "output_type": "stream",
     "text": [
      "Version identifier: 22.1.2.0 | 2024-12-10 | f4cec290b\n",
      "CPXPARAM_Read_DataCheck                          1\n",
      "CPLEX Error  5002: 'Velocity constraint 1' is not convex.\n",
      "Presolve time = 0.00 sec. (0.01 ticks)\n",
      "\n",
      "Root node processing (before b&c):\n",
      "  Real time             =    0.00 sec. (0.01 ticks)\n",
      "Parallel b&c, 20 threads:\n",
      "  Real time             =    0.00 sec. (0.00 ticks)\n",
      "  Sync time (average)   =    0.00 sec.\n",
      "  Wait time (average)   =    0.00 sec.\n",
      "                          ------------\n",
      "Total (root+branch&cut) =    0.00 sec. (0.01 ticks)\n",
      "Error: Model has non-convex quadratic constraint, name='Velocity constraint 1'\n"
     ]
    }
   ],
   "source": [
    "result = opt_model.solve(log_output=True) #(log_output=self.solver_config.cplex_log)"
   ]
  }
 ],
 "metadata": {
  "kernelspec": {
   "display_name": "QuantumQiskit",
   "language": "python",
   "name": "python3"
  },
  "language_info": {
   "codemirror_mode": {
    "name": "ipython",
    "version": 3
   },
   "file_extension": ".py",
   "mimetype": "text/x-python",
   "name": "python",
   "nbconvert_exporter": "python",
   "pygments_lexer": "ipython3",
   "version": "3.9.21"
  }
 },
 "nbformat": 4,
 "nbformat_minor": 5
}
