{
 "cells": [
  {
   "cell_type": "code",
   "execution_count": 2,
   "id": "6d047528",
   "metadata": {},
   "outputs": [],
   "source": [
    "import math\n",
    "import numpy as np\n",
    "import matplotlib.pyplot as plt\n",
    "from docplex.mp.basic import Expr\n",
    "from docplex.mp.model import Model\n",
    "from docplex.mp.solution import SolveSolution\n",
    "from docplex.util.status import JobSolveStatus\n",
    "import cplex.callbacks as cpx_cb\n",
    "from Functions_validation.braking_poly import p as Pbraking\n",
    "from Functions_validation.traction_poly import p as Ptraction\n",
    "from Functions_validation.braking_poly import Pdecc as Pdecc\n",
    "from Functions_validation.traction_poly import Pacc as Pacc\n",
    "from Functions_validation.power_poly import P as Ppower"
   ]
  },
  {
   "cell_type": "markdown",
   "id": "d79dc32d",
   "metadata": {},
   "source": [
    "## Defining the Model"
   ]
  },
  {
   "cell_type": "markdown",
   "id": "15d2e4b5",
   "metadata": {},
   "source": [
    "### Define model"
   ]
  },
  {
   "cell_type": "code",
   "execution_count": 3,
   "id": "e91d53d6",
   "metadata": {},
   "outputs": [],
   "source": [
    "opt_model = Model(name=\"Poly_Model\")\n",
    "N = 20\n",
    "Dist = 30\n",
    "tolerance = 0.005"
   ]
  },
  {
   "cell_type": "markdown",
   "id": "04c8ed81",
   "metadata": {},
   "source": [
    "### Define variables"
   ]
  },
  {
   "cell_type": "code",
   "execution_count": 4,
   "id": "4ded5e5f",
   "metadata": {},
   "outputs": [],
   "source": [
    "v={}\n",
    "for i in range(0, N):\n",
    "    v[i]= opt_model.continuous_var(name=f\"v_{i}\")\n",
    "\n",
    "d={}\n",
    "for i in range(0, N):\n",
    "    d[i]= opt_model.continuous_var(name=f\"d_{i}\")\n",
    "\n",
    "kroe={}\n",
    "for i in range(0, N):\n",
    "    kroe[i]= opt_model.binary_var(name=f\"kroe_{i}\")"
   ]
  },
  {
   "cell_type": "markdown",
   "id": "19155a2f",
   "metadata": {},
   "source": [
    "### Define cost"
   ]
  },
  {
   "cell_type": "code",
   "execution_count": 11,
   "id": "2360c165",
   "metadata": {},
   "outputs": [
    {
     "ename": "DOcplexException",
     "evalue": "Cannot raise d_0 to the power 3. A variable's exponent must be 0, 1 or 2.",
     "output_type": "error",
     "traceback": [
      "\u001b[0;31m---------------------------------------------------------------------------\u001b[0m",
      "\u001b[0;31mDOcplexException\u001b[0m                          Traceback (most recent call last)",
      "Cell \u001b[0;32mIn[11], line 2\u001b[0m\n\u001b[1;32m      1\u001b[0m \u001b[38;5;66;03m# Total cost\u001b[39;00m\n\u001b[0;32m----> 2\u001b[0m total_cost \u001b[38;5;241m=\u001b[39m \u001b[43mopt_model\u001b[49m\u001b[38;5;241;43m.\u001b[39;49m\u001b[43msum\u001b[49m\u001b[43m(\u001b[49m\u001b[43mPpower\u001b[49m\u001b[43m(\u001b[49m\u001b[43mv\u001b[49m\u001b[43m[\u001b[49m\u001b[43mi\u001b[49m\u001b[43m]\u001b[49m\u001b[43m,\u001b[49m\u001b[43m \u001b[49m\u001b[43md\u001b[49m\u001b[43m[\u001b[49m\u001b[43mi\u001b[49m\u001b[43m]\u001b[49m\u001b[43m)\u001b[49m\u001b[43m \u001b[49m\u001b[38;5;28;43;01mfor\u001b[39;49;00m\u001b[43m \u001b[49m\u001b[43mi\u001b[49m\u001b[43m \u001b[49m\u001b[38;5;129;43;01min\u001b[39;49;00m\u001b[43m \u001b[49m\u001b[38;5;28;43mrange\u001b[39;49m\u001b[43m(\u001b[49m\u001b[43mN\u001b[49m\u001b[43m)\u001b[49m\u001b[43m)\u001b[49m\n\u001b[1;32m      4\u001b[0m \u001b[38;5;66;03m# Set objective\u001b[39;00m\n\u001b[1;32m      5\u001b[0m opt_model\u001b[38;5;241m.\u001b[39mminimize(total_cost)\n",
      "File \u001b[0;32m~/miniconda3/envs/QuantumQiskit/lib/python3.9/site-packages/docplex/mp/model.py:3342\u001b[0m, in \u001b[0;36mModel.sum\u001b[0;34m(self, args)\u001b[0m\n\u001b[1;32m   3329\u001b[0m \u001b[38;5;28;01mdef\u001b[39;00m\u001b[38;5;250m \u001b[39m\u001b[38;5;21msum\u001b[39m(\u001b[38;5;28mself\u001b[39m, args):\n\u001b[1;32m   3330\u001b[0m \u001b[38;5;250m    \u001b[39m\u001b[38;5;124;03m\"\"\" Creates an expression summing over an iterable over expressions or variables.\u001b[39;00m\n\u001b[1;32m   3331\u001b[0m \u001b[38;5;124;03m    This method expects an iterable over any type of expression: quadrayic expression,\u001b[39;00m\n\u001b[1;32m   3332\u001b[0m \u001b[38;5;124;03m    linear expression, variables, constants.\u001b[39;00m\n\u001b[0;32m   (...)\u001b[0m\n\u001b[1;32m   3340\u001b[0m \u001b[38;5;124;03m    :return: A Docplex expression.\u001b[39;00m\n\u001b[1;32m   3341\u001b[0m \u001b[38;5;124;03m    \"\"\"\u001b[39;00m\n\u001b[0;32m-> 3342\u001b[0m     \u001b[38;5;28;01mreturn\u001b[39;00m \u001b[38;5;28;43mself\u001b[39;49m\u001b[38;5;241;43m.\u001b[39;49m\u001b[43m_aggregator\u001b[49m\u001b[38;5;241;43m.\u001b[39;49m\u001b[43msum\u001b[49m\u001b[43m(\u001b[49m\u001b[43margs\u001b[49m\u001b[43m)\u001b[49m\n",
      "File \u001b[0;32m~/miniconda3/envs/QuantumQiskit/lib/python3.9/site-packages/docplex/mp/aggregator.py:198\u001b[0m, in \u001b[0;36mModelAggregator.sum\u001b[0;34m(self, sum_args)\u001b[0m\n\u001b[1;32m    196\u001b[0m \u001b[38;5;28;01mdef\u001b[39;00m\u001b[38;5;250m \u001b[39m\u001b[38;5;21msum\u001b[39m(\u001b[38;5;28mself\u001b[39m, sum_args):\n\u001b[1;32m    197\u001b[0m     \u001b[38;5;28;01mif\u001b[39;00m is_iterator(sum_args):\n\u001b[0;32m--> 198\u001b[0m         sum_res \u001b[38;5;241m=\u001b[39m \u001b[38;5;28;43mself\u001b[39;49m\u001b[38;5;241;43m.\u001b[39;49m\u001b[43m_sum_with_iter\u001b[49m\u001b[43m(\u001b[49m\u001b[43msum_args\u001b[49m\u001b[43m)\u001b[49m\n\u001b[1;32m    199\u001b[0m     \u001b[38;5;28;01melif\u001b[39;00m is_numpy_ndarray(sum_args):\n\u001b[1;32m    200\u001b[0m         sum_res \u001b[38;5;241m=\u001b[39m \u001b[38;5;28mself\u001b[39m\u001b[38;5;241m.\u001b[39m_sum_with_iter(sum_args\u001b[38;5;241m.\u001b[39mflat)\n",
      "File \u001b[0;32m~/miniconda3/envs/QuantumQiskit/lib/python3.9/site-packages/docplex/mp/aggregator.py:221\u001b[0m, in \u001b[0;36mModelAggregator._sum_with_iter\u001b[0;34m(self, args)\u001b[0m\n\u001b[1;32m    219\u001b[0m qcc \u001b[38;5;241m=\u001b[39m \u001b[38;5;28;01mNone\u001b[39;00m\n\u001b[1;32m    220\u001b[0m number_validation_fn \u001b[38;5;241m=\u001b[39m checker\u001b[38;5;241m.\u001b[39mget_number_validation_fn()\n\u001b[0;32m--> 221\u001b[0m \u001b[38;5;28;01mfor\u001b[39;00m item \u001b[38;5;129;01min\u001b[39;00m args:\n\u001b[1;32m    222\u001b[0m     \u001b[38;5;28;01mif\u001b[39;00m \u001b[38;5;28misinstance\u001b[39m(item, LinearOperand):\n\u001b[1;32m    223\u001b[0m         \u001b[38;5;28;01mfor\u001b[39;00m lv, lk \u001b[38;5;129;01min\u001b[39;00m item\u001b[38;5;241m.\u001b[39miter_terms():\n",
      "Cell \u001b[0;32mIn[11], line 2\u001b[0m, in \u001b[0;36m<genexpr>\u001b[0;34m(.0)\u001b[0m\n\u001b[1;32m      1\u001b[0m \u001b[38;5;66;03m# Total cost\u001b[39;00m\n\u001b[0;32m----> 2\u001b[0m total_cost \u001b[38;5;241m=\u001b[39m opt_model\u001b[38;5;241m.\u001b[39msum(\u001b[43mPpower\u001b[49m\u001b[43m(\u001b[49m\u001b[43mv\u001b[49m\u001b[43m[\u001b[49m\u001b[43mi\u001b[49m\u001b[43m]\u001b[49m\u001b[43m,\u001b[49m\u001b[43m \u001b[49m\u001b[43md\u001b[49m\u001b[43m[\u001b[49m\u001b[43mi\u001b[49m\u001b[43m]\u001b[49m\u001b[43m)\u001b[49m \u001b[38;5;28;01mfor\u001b[39;00m i \u001b[38;5;129;01min\u001b[39;00m \u001b[38;5;28mrange\u001b[39m(N))\n\u001b[1;32m      4\u001b[0m \u001b[38;5;66;03m# Set objective\u001b[39;00m\n\u001b[1;32m      5\u001b[0m opt_model\u001b[38;5;241m.\u001b[39mminimize(total_cost)\n",
      "File \u001b[0;32m~/Github/MSC-Project/Code/Alstom_model/Functions_validation/power_poly.py:58\u001b[0m, in \u001b[0;36mP\u001b[0;34m(x, y)\u001b[0m\n\u001b[1;32m     56\u001b[0m \u001b[38;5;28;01mfor\u001b[39;00m i \u001b[38;5;129;01min\u001b[39;00m \u001b[38;5;28mrange\u001b[39m(n \u001b[38;5;241m+\u001b[39m \u001b[38;5;241m1\u001b[39m):\n\u001b[1;32m     57\u001b[0m     \u001b[38;5;28;01mfor\u001b[39;00m j \u001b[38;5;129;01min\u001b[39;00m \u001b[38;5;28mrange\u001b[39m(m \u001b[38;5;241m+\u001b[39m \u001b[38;5;241m1\u001b[39m):\n\u001b[0;32m---> 58\u001b[0m         val \u001b[38;5;241m+\u001b[39m\u001b[38;5;241m=\u001b[39m coeffs[idx] \u001b[38;5;241m*\u001b[39m (x\u001b[38;5;241m*\u001b[39m\u001b[38;5;241m*\u001b[39mi) \u001b[38;5;241m*\u001b[39m (\u001b[43my\u001b[49m\u001b[38;5;241;43m*\u001b[39;49m\u001b[38;5;241;43m*\u001b[39;49m\u001b[43mj\u001b[49m)\n\u001b[1;32m     59\u001b[0m         idx \u001b[38;5;241m+\u001b[39m\u001b[38;5;241m=\u001b[39m \u001b[38;5;241m1\u001b[39m\n\u001b[1;32m     60\u001b[0m \u001b[38;5;28;01mreturn\u001b[39;00m val\n",
      "File \u001b[0;32m~/miniconda3/envs/QuantumQiskit/lib/python3.9/site-packages/docplex/mp/dvar.py:418\u001b[0m, in \u001b[0;36mVar.__pow__\u001b[0;34m(self, power)\u001b[0m\n\u001b[1;32m    416\u001b[0m     \u001b[38;5;28;01mreturn\u001b[39;00m \u001b[38;5;28mself\u001b[39m\u001b[38;5;241m.\u001b[39msquare()\n\u001b[1;32m    417\u001b[0m \u001b[38;5;28;01melse\u001b[39;00m:\n\u001b[0;32m--> 418\u001b[0m     \u001b[38;5;28;43mself\u001b[39;49m\u001b[38;5;241;43m.\u001b[39;49m\u001b[43mmodel\u001b[49m\u001b[38;5;241;43m.\u001b[39;49m\u001b[43munsupported_power_error\u001b[49m\u001b[43m(\u001b[49m\u001b[38;5;28;43mself\u001b[39;49m\u001b[43m,\u001b[49m\u001b[43m \u001b[49m\u001b[43mpower\u001b[49m\u001b[43m)\u001b[49m\n",
      "File \u001b[0;32m~/miniconda3/envs/QuantumQiskit/lib/python3.9/site-packages/docplex/mp/model.py:273\u001b[0m, in \u001b[0;36mModel.unsupported_power_error\u001b[0;34m(self, e, power)\u001b[0m\n\u001b[1;32m    272\u001b[0m \u001b[38;5;28;01mdef\u001b[39;00m\u001b[38;5;250m \u001b[39m\u001b[38;5;21munsupported_power_error\u001b[39m(\u001b[38;5;28mself\u001b[39m, e, power):\n\u001b[0;32m--> 273\u001b[0m     \u001b[38;5;28;43mself\u001b[39;49m\u001b[38;5;241;43m.\u001b[39;49m\u001b[43mfatal\u001b[49m\u001b[43m(\u001b[49m\u001b[38;5;124;43m\"\u001b[39;49m\u001b[38;5;124;43mCannot raise \u001b[39;49m\u001b[38;5;132;43;01m{0!s}\u001b[39;49;00m\u001b[38;5;124;43m to the power \u001b[39;49m\u001b[38;5;132;43;01m{1}\u001b[39;49;00m\u001b[38;5;124;43m. A variable\u001b[39;49m\u001b[38;5;124;43m'\u001b[39;49m\u001b[38;5;124;43ms exponent must be 0, 1 or 2.\u001b[39;49m\u001b[38;5;124;43m\"\u001b[39;49m\u001b[43m,\u001b[49m\u001b[43m \u001b[49m\u001b[43me\u001b[49m\u001b[43m,\u001b[49m\u001b[43m \u001b[49m\u001b[43mpower\u001b[49m\u001b[43m)\u001b[49m\n",
      "File \u001b[0;32m~/miniconda3/envs/QuantumQiskit/lib/python3.9/site-packages/docplex/mp/model.py:1093\u001b[0m, in \u001b[0;36mModel.fatal\u001b[0;34m(self, msg, *args)\u001b[0m\n\u001b[1;32m   1092\u001b[0m \u001b[38;5;28;01mdef\u001b[39;00m\u001b[38;5;250m \u001b[39m\u001b[38;5;21mfatal\u001b[39m(\u001b[38;5;28mself\u001b[39m, msg, \u001b[38;5;241m*\u001b[39margs):\n\u001b[0;32m-> 1093\u001b[0m     \u001b[38;5;28;43mself\u001b[39;49m\u001b[38;5;241;43m.\u001b[39;49m\u001b[43m_error_handler\u001b[49m\u001b[38;5;241;43m.\u001b[39;49m\u001b[43mfatal\u001b[49m\u001b[43m(\u001b[49m\u001b[43mmsg\u001b[49m\u001b[43m,\u001b[49m\u001b[43m \u001b[49m\u001b[43margs\u001b[49m\u001b[43m)\u001b[49m\n",
      "File \u001b[0;32m~/miniconda3/envs/QuantumQiskit/lib/python3.9/site-packages/docplex/mp/error_handler.py:210\u001b[0m, in \u001b[0;36mAbstractErrorHandler.fatal\u001b[0;34m(self, msg, args)\u001b[0m\n\u001b[1;32m    208\u001b[0m resolved_message \u001b[38;5;241m=\u001b[39m resolve_pattern(msg, args)\n\u001b[1;32m    209\u001b[0m docplex_error_stop_here()\n\u001b[0;32m--> 210\u001b[0m \u001b[38;5;28;01mraise\u001b[39;00m DOcplexException(resolved_message)\n",
      "\u001b[0;31mDOcplexException\u001b[0m: Cannot raise d_0 to the power 3. A variable's exponent must be 0, 1 or 2."
     ]
    }
   ],
   "source": [
    "# Total cost\n",
    "total_cost = opt_model.sum(Ppower(v[i], d[i]) for i in range(N))\n",
    "\n",
    "# Set objective\n",
    "opt_model.minimize(total_cost)"
   ]
  },
  {
   "cell_type": "markdown",
   "id": "a23b65cd",
   "metadata": {},
   "source": [
    "### Kroe constraints"
   ]
  },
  {
   "cell_type": "code",
   "execution_count": null,
   "id": "bbe41f53",
   "metadata": {},
   "outputs": [],
   "source": [
    "M = 1\n",
    "epsilon = 1e-4\n",
    "\n",
    "# Constraint: if delta == 1, then d >= epsilon\n",
    "for i in range(0, N):\n",
    "    opt_model.add_constraint(d[i] >= epsilon - M * (1 - kroe[i]))\n",
    "\n",
    "    # Constraint: if delta == 0, then d <= 0\n",
    "    opt_model.add_constraint(d[i] <= M * kroe[i])"
   ]
  },
  {
   "cell_type": "markdown",
   "id": "0404a75d",
   "metadata": {},
   "source": [
    "### Speed constraints"
   ]
  },
  {
   "cell_type": "code",
   "execution_count": null,
   "id": "38e9f3c2",
   "metadata": {},
   "outputs": [],
   "source": [
    "opt_model.add_constraint(v[0] == 0, \"Initial velocity\")\n",
    "opt_model.add_constraint(v[N-1] == 0, \"Final velocity\")\n",
    "\n",
    "for i in range(1,N-2):\n",
    "    opt_model.add_constraint(v[i+1] - v[i] == kroe[i]*)"
   ]
  }
 ],
 "metadata": {
  "kernelspec": {
   "display_name": "QuantumQiskit",
   "language": "python",
   "name": "python3"
  },
  "language_info": {
   "codemirror_mode": {
    "name": "ipython",
    "version": 3
   },
   "file_extension": ".py",
   "mimetype": "text/x-python",
   "name": "python",
   "nbconvert_exporter": "python",
   "pygments_lexer": "ipython3",
   "version": "3.9.21"
  }
 },
 "nbformat": 4,
 "nbformat_minor": 5
}
