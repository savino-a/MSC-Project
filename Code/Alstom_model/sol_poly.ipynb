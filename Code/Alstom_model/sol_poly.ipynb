{
 "cells": [
  {
   "cell_type": "code",
   "execution_count": 10,
   "id": "6d047528",
   "metadata": {},
   "outputs": [],
   "source": [
    "import math\n",
    "import numpy as np\n",
    "import matplotlib.pyplot as plt\n",
    "from docplex.mp.basic import Expr\n",
    "from docplex.mp.model import Model\n",
    "from docplex.mp.solution import SolveSolution\n",
    "from docplex.util.status import JobSolveStatus\n",
    "import cplex.callbacks as cpx_cb\n",
    "from Functions_validation.braking_poly import p as Pbraking\n",
    "from Functions_validation.traction_poly import p as Ptraction\n",
    "from Functions_validation.RAV_poly import P as Prav\n",
    "from Functions_validation.braking_poly import Pdecc as Pdecc\n",
    "from Functions_validation.traction_poly import Pacc as Pacc\n",
    "from Functions_validation.power_poly import P as Ppower"
   ]
  },
  {
   "cell_type": "code",
   "execution_count": 11,
   "id": "044b8056",
   "metadata": {},
   "outputs": [],
   "source": [
    "# Define some constants\n",
    "A, B, C, m, v_max, p_max, c_max = 0.632, 40.7, 3900, 320000, 220, 4305220, 320000\n"
   ]
  },
  {
   "cell_type": "markdown",
   "id": "d79dc32d",
   "metadata": {},
   "source": [
    "## Defining the Model"
   ]
  },
  {
   "cell_type": "markdown",
   "id": "15d2e4b5",
   "metadata": {},
   "source": [
    "### Define model"
   ]
  },
  {
   "cell_type": "code",
   "execution_count": 2,
   "id": "e91d53d6",
   "metadata": {},
   "outputs": [],
   "source": [
    "opt_model = Model(name=\"Poly_Model\")\n",
    "N = 20\n",
    "Dist = 30\n",
    "tolerance = 0.005"
   ]
  },
  {
   "cell_type": "markdown",
   "id": "04c8ed81",
   "metadata": {},
   "source": [
    "### Define variables"
   ]
  },
  {
   "cell_type": "code",
   "execution_count": 3,
   "id": "4ded5e5f",
   "metadata": {},
   "outputs": [],
   "source": [
    "v={}\n",
    "for i in range(0, N):\n",
    "    v[i]= opt_model.continuous_var(name=f\"v_{i}\")\n",
    "\n",
    "d={}\n",
    "for i in range(0, N):\n",
    "    d[i]= opt_model.continuous_var(name=f\"d_{i}\")\n",
    "\n",
    "kroe={}\n",
    "for i in range(0, N):\n",
    "    kroe[i]= opt_model.binary_var(name=f\"kroe_{i}\")"
   ]
  },
  {
   "cell_type": "markdown",
   "id": "19155a2f",
   "metadata": {},
   "source": [
    "### Define cost"
   ]
  },
  {
   "cell_type": "code",
   "execution_count": 4,
   "id": "2360c165",
   "metadata": {},
   "outputs": [],
   "source": [
    "# Total cost\n",
    "total_cost = opt_model.sum(Ppower(v[i], d[i]) for i in range(N))\n",
    "\n",
    "# Set objective\n",
    "opt_model.minimize(total_cost)"
   ]
  },
  {
   "cell_type": "markdown",
   "id": "a23b65cd",
   "metadata": {},
   "source": [
    "### Kroe constraints"
   ]
  },
  {
   "cell_type": "code",
   "execution_count": 5,
   "id": "bbe41f53",
   "metadata": {},
   "outputs": [],
   "source": [
    "M = 1\n",
    "epsilon = 1e-4\n",
    "\n",
    "# Constraint: if delta == 1, then d >= epsilon\n",
    "for i in range(0, N):\n",
    "    opt_model.add_constraint(d[i] >= epsilon - M * (1 - kroe[i]))\n",
    "\n",
    "    # Constraint: if delta == 0, then d <= 0\n",
    "    opt_model.add_constraint(d[i] <= M * kroe[i])"
   ]
  },
  {
   "cell_type": "markdown",
   "id": "0404a75d",
   "metadata": {},
   "source": [
    "### Speed constraints"
   ]
  },
  {
   "cell_type": "code",
   "execution_count": 23,
   "id": "38e9f3c2",
   "metadata": {},
   "outputs": [
    {
     "ename": "DOcplexException",
     "evalue": "Cannot multiply d_1 by -421.526v_1*kroe_1+-628.475v_1+41582.014kroe_1+213445.587, some terms would have degree >= 3. Maximum polynomial degree is 2.",
     "output_type": "error",
     "traceback": [
      "\u001b[0;31m---------------------------------------------------------------------------\u001b[0m",
      "\u001b[0;31mDOcplexException\u001b[0m                          Traceback (most recent call last)",
      "Cell \u001b[0;32mIn[23], line 5\u001b[0m\n\u001b[1;32m      2\u001b[0m opt_model\u001b[38;5;241m.\u001b[39madd_constraint(v[N\u001b[38;5;241m-\u001b[39m\u001b[38;5;241m1\u001b[39m] \u001b[38;5;241m==\u001b[39m \u001b[38;5;241m0\u001b[39m, \u001b[38;5;124m\"\u001b[39m\u001b[38;5;124mFinal velocity\u001b[39m\u001b[38;5;124m\"\u001b[39m)\n\u001b[1;32m      4\u001b[0m \u001b[38;5;28;01mfor\u001b[39;00m i \u001b[38;5;129;01min\u001b[39;00m \u001b[38;5;28mrange\u001b[39m(\u001b[38;5;241m1\u001b[39m,N\u001b[38;5;241m-\u001b[39m\u001b[38;5;241m2\u001b[39m):\n\u001b[0;32m----> 5\u001b[0m     opt_model\u001b[38;5;241m.\u001b[39madd_constraint(v[i\u001b[38;5;241m+\u001b[39m\u001b[38;5;241m1\u001b[39m] \u001b[38;5;241m-\u001b[39m v[i] \u001b[38;5;241m+\u001b[39m (\u001b[38;5;241m1\u001b[39m\u001b[38;5;241m/\u001b[39mm)\u001b[38;5;241m*\u001b[39mPrav(v[i]) \u001b[38;5;241m==\u001b[39m (\u001b[38;5;241m1\u001b[39m\u001b[38;5;241m/\u001b[39mm)(\u001b[43md\u001b[49m\u001b[43m[\u001b[49m\u001b[43mi\u001b[49m\u001b[43m]\u001b[49m\u001b[38;5;241;43m*\u001b[39;49m\u001b[43m(\u001b[49m\u001b[43mkroe\u001b[49m\u001b[43m[\u001b[49m\u001b[43mi\u001b[49m\u001b[43m]\u001b[49m\u001b[38;5;241;43m*\u001b[39;49m\u001b[43mPtraction\u001b[49m\u001b[43m(\u001b[49m\u001b[43mv\u001b[49m\u001b[43m[\u001b[49m\u001b[43mi\u001b[49m\u001b[43m]\u001b[49m\u001b[43m)\u001b[49m\u001b[43m \u001b[49m\u001b[38;5;241;43m+\u001b[39;49m\u001b[43m \u001b[49m\u001b[43m(\u001b[49m\u001b[38;5;241;43m1\u001b[39;49m\u001b[38;5;241;43m-\u001b[39;49m\u001b[43mkroe\u001b[49m\u001b[43m[\u001b[49m\u001b[43mi\u001b[49m\u001b[43m]\u001b[49m\u001b[43m)\u001b[49m\u001b[38;5;241;43m*\u001b[39;49m\u001b[43mPbraking\u001b[49m\u001b[43m(\u001b[49m\u001b[43mv\u001b[49m\u001b[43m[\u001b[49m\u001b[43mi\u001b[49m\u001b[43m]\u001b[49m\u001b[43m)\u001b[49m\u001b[43m)\u001b[49m), \u001b[38;5;124mf\u001b[39m\u001b[38;5;124m\"\u001b[39m\u001b[38;5;124mVelocity constraint \u001b[39m\u001b[38;5;132;01m{\u001b[39;00mi\u001b[38;5;132;01m}\u001b[39;00m\u001b[38;5;124m\"\u001b[39m)\n",
      "File \u001b[0;32m~/miniconda3/envs/QuantumQiskit/lib/python3.9/site-packages/docplex/mp/dvar.py:260\u001b[0m, in \u001b[0;36mVar.__mul__\u001b[0;34m(self, e)\u001b[0m\n\u001b[1;32m    259\u001b[0m \u001b[38;5;28;01mdef\u001b[39;00m\u001b[38;5;250m \u001b[39m\u001b[38;5;21m__mul__\u001b[39m(\u001b[38;5;28mself\u001b[39m, e):\n\u001b[0;32m--> 260\u001b[0m     \u001b[38;5;28;01mreturn\u001b[39;00m \u001b[38;5;28;43mself\u001b[39;49m\u001b[38;5;241;43m.\u001b[39;49m\u001b[43mtimes\u001b[49m\u001b[43m(\u001b[49m\u001b[43me\u001b[49m\u001b[43m)\u001b[49m\n",
      "File \u001b[0;32m~/miniconda3/envs/QuantumQiskit/lib/python3.9/site-packages/docplex/mp/dvar.py:278\u001b[0m, in \u001b[0;36mVar.times\u001b[0;34m(self, e)\u001b[0m\n\u001b[1;32m    276\u001b[0m     \u001b[38;5;28;01mreturn\u001b[39;00m \u001b[38;5;28mself\u001b[39m\u001b[38;5;241m.\u001b[39m_model\u001b[38;5;241m.\u001b[39m_qfactory\u001b[38;5;241m.\u001b[39mnew_var_product(\u001b[38;5;28mself\u001b[39m, e)\n\u001b[1;32m    277\u001b[0m \u001b[38;5;28;01melse\u001b[39;00m:\n\u001b[0;32m--> 278\u001b[0m     \u001b[38;5;28;01mreturn\u001b[39;00m \u001b[38;5;28;43mself\u001b[39;49m\u001b[38;5;241;43m.\u001b[39;49m\u001b[43mto_linear_expr\u001b[49m\u001b[43m(\u001b[49m\u001b[43m)\u001b[49m\u001b[38;5;241;43m.\u001b[39;49m\u001b[43mmultiply\u001b[49m\u001b[43m(\u001b[49m\u001b[43me\u001b[49m\u001b[43m)\u001b[49m\n",
      "File \u001b[0;32m~/miniconda3/envs/QuantumQiskit/lib/python3.9/site-packages/docplex/mp/linear.py:938\u001b[0m, in \u001b[0;36mLinearExpr.multiply\u001b[0;34m(self, e)\u001b[0m\n\u001b[1;32m    936\u001b[0m         \u001b[38;5;28;01mreturn\u001b[39;00m e\u001b[38;5;241m.\u001b[39mmultiply(\u001b[38;5;28mself\u001b[39m\u001b[38;5;241m.\u001b[39mget_constant())\n\u001b[1;32m    937\u001b[0m     \u001b[38;5;28;01melse\u001b[39;00m:\n\u001b[0;32m--> 938\u001b[0m         \u001b[43mStaticTypeChecker\u001b[49m\u001b[38;5;241;43m.\u001b[39;49m\u001b[43mmul_quad_lin_error\u001b[49m\u001b[43m(\u001b[49m\u001b[38;5;28;43mself\u001b[39;49m\u001b[38;5;241;43m.\u001b[39;49m\u001b[43m_model\u001b[49m\u001b[43m,\u001b[49m\u001b[43m \u001b[49m\u001b[38;5;28;43mself\u001b[39;49m\u001b[43m,\u001b[49m\u001b[43m \u001b[49m\u001b[43me\u001b[49m\u001b[43m)\u001b[49m\n\u001b[1;32m    940\u001b[0m \u001b[38;5;28;01melse\u001b[39;00m:\n\u001b[1;32m    941\u001b[0m     \u001b[38;5;28mself\u001b[39m\u001b[38;5;241m.\u001b[39mfatal(\u001b[38;5;124m\"\u001b[39m\u001b[38;5;124mMultiply expects variable, expr or number, \u001b[39m\u001b[38;5;132;01m{0!r}\u001b[39;00m\u001b[38;5;124m was passed (type is \u001b[39m\u001b[38;5;132;01m{1}\u001b[39;00m\u001b[38;5;124m)\u001b[39m\u001b[38;5;124m\"\u001b[39m, e, \u001b[38;5;28mtype\u001b[39m(e))\n",
      "File \u001b[0;32m~/miniconda3/envs/QuantumQiskit/lib/python3.9/site-packages/docplex/mp/sttck.py:70\u001b[0m, in \u001b[0;36mStaticTypeChecker.mul_quad_lin_error\u001b[0;34m(cls, logger, f1, f2)\u001b[0m\n\u001b[1;32m     68\u001b[0m \u001b[38;5;129m@classmethod\u001b[39m\n\u001b[1;32m     69\u001b[0m \u001b[38;5;28;01mdef\u001b[39;00m\u001b[38;5;250m \u001b[39m\u001b[38;5;21mmul_quad_lin_error\u001b[39m(\u001b[38;5;28mcls\u001b[39m, logger, f1, f2):\n\u001b[0;32m---> 70\u001b[0m     \u001b[43mlogger\u001b[49m\u001b[38;5;241;43m.\u001b[39;49m\u001b[43mfatal\u001b[49m\u001b[43m(\u001b[49m\n\u001b[1;32m     71\u001b[0m \u001b[43m        \u001b[49m\u001b[38;5;124;43m\"\u001b[39;49m\u001b[38;5;124;43mCannot multiply \u001b[39;49m\u001b[38;5;132;43;01m{0!s}\u001b[39;49;00m\u001b[38;5;124;43m by \u001b[39;49m\u001b[38;5;132;43;01m{1!s}\u001b[39;49;00m\u001b[38;5;124;43m, some terms would have degree >= 3. Maximum polynomial degree is 2.\u001b[39;49m\u001b[38;5;124;43m\"\u001b[39;49m\u001b[43m,\u001b[49m\n\u001b[1;32m     72\u001b[0m \u001b[43m        \u001b[49m\u001b[43mf1\u001b[49m\u001b[43m,\u001b[49m\u001b[43m \u001b[49m\u001b[43mf2\u001b[49m\u001b[43m)\u001b[49m\n",
      "File \u001b[0;32m~/miniconda3/envs/QuantumQiskit/lib/python3.9/site-packages/docplex/mp/model.py:1093\u001b[0m, in \u001b[0;36mModel.fatal\u001b[0;34m(self, msg, *args)\u001b[0m\n\u001b[1;32m   1092\u001b[0m \u001b[38;5;28;01mdef\u001b[39;00m\u001b[38;5;250m \u001b[39m\u001b[38;5;21mfatal\u001b[39m(\u001b[38;5;28mself\u001b[39m, msg, \u001b[38;5;241m*\u001b[39margs):\n\u001b[0;32m-> 1093\u001b[0m     \u001b[38;5;28;43mself\u001b[39;49m\u001b[38;5;241;43m.\u001b[39;49m\u001b[43m_error_handler\u001b[49m\u001b[38;5;241;43m.\u001b[39;49m\u001b[43mfatal\u001b[49m\u001b[43m(\u001b[49m\u001b[43mmsg\u001b[49m\u001b[43m,\u001b[49m\u001b[43m \u001b[49m\u001b[43margs\u001b[49m\u001b[43m)\u001b[49m\n",
      "File \u001b[0;32m~/miniconda3/envs/QuantumQiskit/lib/python3.9/site-packages/docplex/mp/error_handler.py:210\u001b[0m, in \u001b[0;36mAbstractErrorHandler.fatal\u001b[0;34m(self, msg, args)\u001b[0m\n\u001b[1;32m    208\u001b[0m resolved_message \u001b[38;5;241m=\u001b[39m resolve_pattern(msg, args)\n\u001b[1;32m    209\u001b[0m docplex_error_stop_here()\n\u001b[0;32m--> 210\u001b[0m \u001b[38;5;28;01mraise\u001b[39;00m DOcplexException(resolved_message)\n",
      "\u001b[0;31mDOcplexException\u001b[0m: Cannot multiply d_1 by -421.526v_1*kroe_1+-628.475v_1+41582.014kroe_1+213445.587, some terms would have degree >= 3. Maximum polynomial degree is 2."
     ]
    }
   ],
   "source": [
    "opt_model.add_constraint(v[0] == 0, \"Initial velocity\")\n",
    "opt_model.add_constraint(v[N-1] == 0, \"Final velocity\")\n",
    "\n",
    "for i in range(1,N-2):\n",
    "    opt_model.add_constraint(v[i+1] - v[i] + (1/m)*Prav(v[i]) == (1/m)(d[i]*(kroe[i]*Ptraction(v[i]) + (1-kroe[i])*Pbraking(v[i]))), f\"Velocity constraint {i}\")"
   ]
  }
 ],
 "metadata": {
  "kernelspec": {
   "display_name": "QuantumQiskit",
   "language": "python",
   "name": "python3"
  },
  "language_info": {
   "codemirror_mode": {
    "name": "ipython",
    "version": 3
   },
   "file_extension": ".py",
   "mimetype": "text/x-python",
   "name": "python",
   "nbconvert_exporter": "python",
   "pygments_lexer": "ipython3",
   "version": "3.9.21"
  }
 },
 "nbformat": 4,
 "nbformat_minor": 5
}
