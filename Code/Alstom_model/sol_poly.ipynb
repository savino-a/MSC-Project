{
 "cells": [
  {
   "cell_type": "markdown",
   "id": "4db4d8fc",
   "metadata": {},
   "source": [
    "# Code for Cplex formulation of Alstom problem"
   ]
  },
  {
   "cell_type": "code",
   "execution_count": null,
   "id": "6d047528",
   "metadata": {},
   "outputs": [],
   "source": [
    "import math\n",
    "import numpy as np\n",
    "import matplotlib.pyplot as plt\n",
    "from docplex.mp.basic import Expr\n",
    "from docplex.mp.model import Model\n",
    "from docplex.mp.solution import SolveSolution\n",
    "from docplex.util.status import JobSolveStatus\n",
    "import cplex.callbacks as cpx_cb"
   ]
  },
  {
   "cell_type": "markdown",
   "id": "6e1c9197",
   "metadata": {},
   "source": [
    "## Approximating the functions with polynomials"
   ]
  },
  {
   "cell_type": "markdown",
   "id": "3a16583f",
   "metadata": {},
   "source": [
    "### RAV function"
   ]
  },
  {
   "cell_type": "code",
   "execution_count": null,
   "id": "507929dc",
   "metadata": {},
   "outputs": [],
   "source": [
    "A, B, C, m, v_max, p_max, c_max = 3900, 40.7, 0.632, 400000, 220, 4305220, 320000\n",
    "import numpy as np\n",
    "\n",
    "\n",
    "def P(v):\n",
    "    return (A + B * v + C * v**2)\n",
    "\n",
    "\n",
    "a, b = 0, 250\n",
    "n = 1\n",
    "\n",
    "# Choose n+1 interpolation points\n",
    "x_points = np.linspace(a, b, 220)\n",
    "y_points_bis = []\n",
    "for x in x_points:\n",
    "    y_points_bis.append(P(x))\n",
    "\n",
    "# Get the polynomial coefficients (highest degree first)\n",
    "coeffs = np.polyfit(x_points, y_points_bis, deg=n)\n",
    "coeffs[1] = 0\n",
    "# Create polynomial function\n",
    "Prav_poly = np.poly1d(coeffs)\n",
    "\n",
    "\n",
    "def Prav(v):\n",
    "    return Prav_poly(v)\n",
    "# Remove RAV to simplify the problem\n",
    "'''def Prav(v):\n",
    "    return 0'''\n",
    "\n",
    "y_points_approx = []\n",
    "for i in range(len(x_points)):\n",
    "    y_points_approx.append(Prav(x_points[i]))\n",
    "\n",
    "\n",
    "if __name__ == \"__main__\":\n",
    "    plt.plot(x_points, y_points_bis, label=\"Original function\")\n",
    "    plt.plot(x_points, y_points_approx, label=f\"Polynomial degree {n}\")\n",
    "    plt.legend()\n",
    "    plt.grid(True)\n",
    "    plt.show()"
   ]
  },
  {
   "cell_type": "markdown",
   "id": "8750c554",
   "metadata": {},
   "source": [
    "### Traction"
   ]
  },
  {
   "cell_type": "code",
   "execution_count": null,
   "id": "5ba19659",
   "metadata": {},
   "outputs": [],
   "source": [
    "def f(v):\n",
    "    if 0 <= v <= 50:\n",
    "        return -354.1 * v + 2.44 * (10**5)\n",
    "    elif 50 <= v < 60:\n",
    "        return -881.3 * v + 2.704 * (10**5)\n",
    "    elif 60 <= v < 220:\n",
    "        return -0.05265 * (v**3) + 28.78 * (v**2) - 5603 * v + 4.566 * (10**5)\n",
    "    else:\n",
    "        return 0\n",
    "    \n",
    "a, b = 0, 250\n",
    "n = 1\n",
    "\n",
    "# Choose n+1 interpolation points\n",
    "x_points = np.linspace(a, b, 1000)\n",
    "y_points_bis = []\n",
    "for x in x_points:\n",
    "    y_points_bis.append(f(x))\n",
    "\n",
    "# Get the polynomial coefficients (highest degree first)\n",
    "coeffs = np.polyfit(x_points, y_points_bis, deg=n)\n",
    "\n",
    "# Create polynomial function\n",
    "Ptraction = np.poly1d(coeffs)\n",
    "\n",
    "\n",
    "y_points_approx = []\n",
    "for i in range(len(x_points)):\n",
    "    y_points_approx.append(Ptraction(x_points[i]))\n",
    "\n",
    "F_pos_max = max(y_points_approx)\n",
    "\n",
    "if __name__ == \"__main__\":\n",
    "    plt.plot(x_points, y_points_bis, label=\"Original function\")\n",
    "    plt.plot(x_points, y_points_approx, label=f\"Polynomial degree {n}\")\n",
    "    plt.legend()\n",
    "    plt.grid(True)\n",
    "    plt.show()"
   ]
  },
  {
   "cell_type": "markdown",
   "id": "24603538",
   "metadata": {},
   "source": [
    "### Braking"
   ]
  },
  {
   "cell_type": "code",
   "execution_count": null,
   "id": "196c49ef",
   "metadata": {},
   "outputs": [],
   "source": [
    "def f(v):\n",
    "    if 0 <= v <= 20:\n",
    "        return 9925 * v + 1.243\n",
    "    if 20 <= v <= 100:\n",
    "        return 2.039 * (10**-13) * v + 1.985 * (10**5)\n",
    "    if 100 <= v <= 220:\n",
    "        return 5.389 * (v**2) - 2583 * v + 4.012 * (10**5)\n",
    "    else:\n",
    "        return 0\n",
    "\n",
    "\n",
    "# Interval [a, b] and degree n\n",
    "a, b = 0, 250\n",
    "n = 1\n",
    "\n",
    "# Choose n+1 interpolation points\n",
    "x_points = np.linspace(a, b, 1000)\n",
    "y_points_bis = []\n",
    "for x in x_points:\n",
    "    y_points_bis.append(f(x))\n",
    "\n",
    "# Get the polynomial coefficients (highest degree first)\n",
    "coeffs = np.polyfit(x_points, y_points_bis, deg=n)\n",
    "\n",
    "# Create polynomial function\n",
    "Pbraking = np.poly1d(coeffs)\n",
    "\n",
    "\n",
    "\n",
    "y_points_approx = []\n",
    "for i in range(len(x_points)):\n",
    "    y_points_approx.append(Pbraking(x_points[i]))\n",
    "\n",
    "F_neg_max = max(y_points_approx)\n",
    "F_max = max(F_pos_max, F_neg_max)\n",
    "\n",
    "if __name__ == \"__main__\":\n",
    "    plt.plot(x_points, y_points_bis, label=\"Original function\")\n",
    "    plt.plot(x_points, y_points_approx, label=f\"Polynomial degree {n}\")\n",
    "    plt.legend()\n",
    "    plt.grid(True)\n",
    "    plt.show()"
   ]
  },
  {
   "cell_type": "markdown",
   "id": "9b32e08e",
   "metadata": {},
   "source": [
    "### Power usage"
   ]
  },
  {
   "cell_type": "code",
   "execution_count": null,
   "id": "4f3b100d",
   "metadata": {},
   "outputs": [],
   "source": [
    "def cost(V, demand):\n",
    "    F_max = 1\n",
    "    V_max = 220\n",
    "    F = demand\n",
    "    p_max = 4305220\n",
    "    c_max = 320000\n",
    "    V_safe = min(V, V_max)\n",
    "    # Ensure V is within a safe range for math.exp\n",
    "    c = (\n",
    "        (1 - math.exp(-V_safe / (V_max + 0.001)))\n",
    "        * math.tanh(100 * F)\n",
    "        * (1 - math.exp(-abs(F) / (F_max + 0.001)))\n",
    "    )\n",
    "    Puti = (c / c_max) * p_max\n",
    "    # For now we ignore regen braking\n",
    "    '''if Puti < 0:\n",
    "        Puti = 0\n",
    "    elif Puti > p_max:\n",
    "        Puti = p_max'''\n",
    "    return Puti\n",
    "\n",
    "\n",
    "# Define the domain\n",
    "a_x, b_x = 0, 250\n",
    "a_y, b_y = -1, 1\n",
    "n = 1  # degree in x\n",
    "l = 1  # degree in y\n",
    "\n",
    "# Create the interpolation points (equally spaced)\n",
    "x_points = np.linspace(a_x, b_x, 1000)\n",
    "y_points = np.linspace(a_y, b_y, 1000)\n",
    "X, Y = np.meshgrid(x_points, y_points, indexing=\"ij\")\n",
    "Z = np.eye(1000)\n",
    "for i in range(len(x_points)):\n",
    "    for j in range(len(y_points)):\n",
    "        x = x_points[i]\n",
    "        y = y_points[j]\n",
    "        Z[i, j] = cost(x, y)\n",
    "\n",
    "\n",
    "# Build the Vandermonde matrix for 2D\n",
    "x_flat = X.ravel()\n",
    "y_flat = Y.ravel()\n",
    "\n",
    "A = np.vstack([(x_flat**i) * (y_flat**j) for i in range(n + 1) for j in range(l + 1)]).T\n",
    "\n",
    "b = Z.ravel()\n",
    "coeffs_pow, _, _, _ = np.linalg.lstsq(A, b, rcond=None)\n",
    "print(coeffs_pow)\n",
    "print(f\"The polynomial is: {coeffs_pow[0]} + {coeffs_pow[1]}*x + {coeffs_pow[2]}*y + {coeffs_pow[3]}*x*y\")\n",
    "\n",
    "\n",
    "# Define the polynomial function\n",
    "def Ppower(x, y):\n",
    "    val = 0\n",
    "    idx = 0\n",
    "    for i in range(n + 1):\n",
    "        for j in range(l + 1):\n",
    "            val += coeffs_pow[idx] * (x**i) * (y**j)\n",
    "            idx += 1\n",
    "    return val\n",
    "\n",
    "\n",
    "# Evaluation grid\n",
    "x_eval = x_points\n",
    "y_eval = y_points\n",
    "X_eval, Y_eval = np.meshgrid(x_eval, y_eval, indexing=\"ij\")\n",
    "Z_eval = Ppower(X_eval, Y_eval)\n",
    "\n",
    "# Plot\n",
    "fig = plt.figure(figsize=(10, 5))\n",
    "ax = fig.add_subplot(121, projection=\"3d\")\n",
    "ax.plot_surface(X_eval, Y_eval, Z, cmap=\"viridis\")\n",
    "ax.set_title(\"Original function\")\n",
    "\n",
    "ax2 = fig.add_subplot(122, projection=\"3d\")\n",
    "ax2.plot_surface(X_eval, Y_eval, Z_eval, cmap=\"plasma\")\n",
    "ax2.set_title(\"Polynomial approximation\")\n",
    "\n",
    "plt.show()"
   ]
  },
  {
   "cell_type": "code",
   "execution_count": null,
   "id": "8b308b61",
   "metadata": {},
   "outputs": [],
   "source": [
    "# Testing speed at constant maximum power\n",
    "v = np.arange(0, 250, 1)\n",
    "max_acceration = []\n",
    "for speed in v:\n",
    "    acc = (Ptraction(speed)-Prav_poly(speed)) / m\n",
    "    max_acceration.append(acc)\n",
    "\n",
    "\n",
    "plt.plot(v, max_acceration, label=\"Max acceleration at constant power\")\n",
    "plt.xlabel(\"Speed (km/h)\")\n",
    "plt.ylabel(\"Max acceleration (km/h/s)\")\n",
    "plt.title(\"Max acceleration at constant power vs Speed\")"
   ]
  },
  {
   "cell_type": "markdown",
   "id": "d79dc32d",
   "metadata": {},
   "source": [
    "## Defining the Model"
   ]
  },
  {
   "cell_type": "markdown",
   "id": "15d2e4b5",
   "metadata": {},
   "source": [
    "### Define model"
   ]
  },
  {
   "cell_type": "code",
   "execution_count": null,
   "id": "e91d53d6",
   "metadata": {},
   "outputs": [],
   "source": [
    "opt_model = Model(name=\"Poly_Model\")\n",
    "N = 10\n",
    "Dist = 15"
   ]
  },
  {
   "cell_type": "markdown",
   "id": "04c8ed81",
   "metadata": {},
   "source": [
    "### Define variables"
   ]
  },
  {
   "cell_type": "code",
   "execution_count": null,
   "id": "4ded5e5f",
   "metadata": {},
   "outputs": [],
   "source": [
    "v={}\n",
    "for i in range(0, N):\n",
    "    v[i]= opt_model.continuous_var(name=f\"v_{i}\",lb=0, ub=v_max)\n",
    "\n",
    "d={}\n",
    "for i in range(0, N):\n",
    "    d[i]= opt_model.continuous_var(name=f\"d_{i}\",lb=0, ub=2)"
   ]
  },
  {
   "cell_type": "markdown",
   "id": "19155a2f",
   "metadata": {},
   "source": [
    "### Cost function"
   ]
  },
  {
   "cell_type": "markdown",
   "id": "64a2b199",
   "metadata": {},
   "source": [
    "#### Linearization"
   ]
  },
  {
   "cell_type": "code",
   "execution_count": null,
   "id": "d0ba7134",
   "metadata": {},
   "outputs": [],
   "source": [
    "# Here we linearize the D*v part of the polynomial approximation of our cost function\n",
    "\n",
    "w1 = {}\n",
    "for i in range(0, N):\n",
    "    w1[i] = opt_model.continuous_var(name=f\"w1_{i}\",lb=0,ub=v_max)\n",
    "\n",
    "V_min, V_max = 0, 250\n",
    "d_min, d_max = -1, 1\n",
    "\n",
    "# coefficients from polynomial fit of cost function (Power consumption)\n",
    "c0, c1, c2, c3 = coeffs_pow\n",
    "\n",
    "for i in range(0, N):\n",
    "    opt_model.add_constraint(w1[i] >= d_min*v[i] + (d[i]-1)* V_min - V_min * d_min)\n",
    "    opt_model.add_constraint(w1[i] >= d_max*v[i] + (d[i]-1)* V_max - V_max * d_max)\n",
    "    opt_model.add_constraint(w1[i] <= d_max*v[i] + (d[i]-1)* V_min - d_max * V_min)\n",
    "    opt_model.add_constraint(w1[i] <= d_min*v[i] + (d[i]-1)* V_max - d_min * V_max)"
   ]
  },
  {
   "cell_type": "markdown",
   "id": "0ff5dd23",
   "metadata": {},
   "source": [
    "#### Definition"
   ]
  },
  {
   "cell_type": "code",
   "execution_count": null,
   "id": "2360c165",
   "metadata": {},
   "outputs": [],
   "source": [
    "# Total cost\n",
    "total_cost = opt_model.sum(c0 + c1 * v[i] + c2 * (d[i]-1) + c3 * w1[i] for i in range(N))\n",
    "opt_model.minimize(total_cost)"
   ]
  },
  {
   "cell_type": "markdown",
   "id": "0404a75d",
   "metadata": {},
   "source": [
    "### Speed physics constraints (there is a problem somewhere in here)"
   ]
  },
  {
   "cell_type": "markdown",
   "id": "46c0efc2",
   "metadata": {},
   "source": [
    "#### Linearising"
   ]
  },
  {
   "cell_type": "code",
   "execution_count": null,
   "id": "ace21121",
   "metadata": {},
   "outputs": [],
   "source": [
    "# Here we define the delta variables which are binary variables indicating whether we are acceleration or braking (ie. d>1 or d<1)\n",
    "delta={}\n",
    "for i in range(0, N):\n",
    "    delta[i]= opt_model.binary_var(name=f\"delta_{i}\")\n",
    "\n",
    "Big_M = 2\n",
    "epsilon = 1e-6\n",
    "\n",
    "\n",
    "for i in range(0, N):\n",
    "    opt_model.add_constraint((d[i]-1) >= epsilon - Big_M * (1 - delta[i]))\n",
    "    opt_model.add_constraint((d[i]-1) <= Big_M * delta[i])\n",
    "\n",
    "    \n"
   ]
  },
  {
   "cell_type": "code",
   "execution_count": null,
   "id": "ed96babd",
   "metadata": {},
   "outputs": [],
   "source": [
    "# Here we define and linearize z1=delta*F_traction and z2=(1-delta)*F_braking\n",
    "z1={}\n",
    "z2={}\n",
    "for i in range(0, N):\n",
    "    z1[i]= opt_model.continuous_var(name=f\"z1_{i}\",lb=0,ub=F_max)\n",
    "    z2[i]= opt_model.continuous_var(name=f\"z2_{i}\",lb=0,ub=F_max)\n",
    "\n",
    "L1 = 0.0\n",
    "L2 = 0.0\n",
    "U1 = F_max\n",
    "U2 = F_max\n",
    "\n",
    "\n",
    "for i in range(0, N):\n",
    "    opt_model.add_constraint(z1[i] <= delta[i]*U1)\n",
    "    opt_model.add_constraint(z2[i] <= (1 - delta[i]) * U2)\n",
    "\n",
    "    opt_model.add_constraint(z1[i] >= L1 * delta[i])\n",
    "    opt_model.add_constraint(z2[i] >= L2 * (1 - delta[i]))\n",
    "\n",
    "    opt_model.add_constraint(z1[i] <= Ptraction(v[i]) -L1*(1 - delta[i]))\n",
    "    opt_model.add_constraint(z2[i] <= Pbraking(v[i]) + L2 * delta[i])\n",
    "    \n",
    "    opt_model.add_constraint(z1[i] >= Ptraction(v[i]) - U1 * (1 - delta[i]))\n",
    "    opt_model.add_constraint(z2[i] >= Pbraking(v[i]) - U2 * delta[i])\n"
   ]
  },
  {
   "cell_type": "code",
   "execution_count": null,
   "id": "e7bf6bf7",
   "metadata": {},
   "outputs": [],
   "source": [
    "# Here we linearize w2 = D*(z1 + z2)\n",
    "\n",
    "w2 = {}\n",
    "for i in range(0, N):\n",
    "    w2[i] = opt_model.continuous_var(name=f\"w2_{i}\",lb=0,ub=2*F_max)\n",
    "\n",
    "dL, dU = -1, 1\n",
    "zL, zU = 0, 2*F_max\n",
    "\n",
    "for i in range(0, N):\n",
    "    opt_model.add_constraint(w2[i] >= dL * (z1[i] + z2[i]) + zL * (d[i]-1) - dL * zL)\n",
    "    opt_model.add_constraint(w2[i] >= dU * (z1[i] + z2[i]) + zU * (d[i]-1) - dU * zU)\n",
    "    opt_model.add_constraint(w2[i] <= dU * (z1[i] + z2[i]) + zL * (d[i]-1) - dU * zL)\n",
    "    opt_model.add_constraint(w2[i] <= dL * (z1[i] + z2[i]) + zU * (d[i]-1) - dL * zU)\n",
    "    \n"
   ]
  },
  {
   "cell_type": "markdown",
   "id": "0c9feb3d",
   "metadata": {},
   "source": [
    "#### Definition"
   ]
  },
  {
   "cell_type": "code",
   "execution_count": null,
   "id": "38e9f3c2",
   "metadata": {},
   "outputs": [],
   "source": [
    "# Here we define the final speed constraint on, where the acceleration is the difference between the effort applied and the resistive forces divided by the mass\n",
    "for i in range(1,N-2):\n",
    "    opt_model.add_constraint(\n",
    "    v[i+1] == v[i] + (1/m) * (w2[i]-Prav(v[i])),\n",
    "    f\"Velocity constraint {i}\"\n",
    ")"
   ]
  },
  {
   "cell_type": "code",
   "execution_count": null,
   "id": "10d6fe0b",
   "metadata": {},
   "outputs": [],
   "source": [
    "# Additional constraints for speed\n",
    "opt_model.add_constraint(v[0] == 0, \"Initial velocity\")\n",
    "opt_model.add_constraint(v[N-1] == 0, \"Final velocity\")\n",
    "\n",
    "# Just to make sure\n",
    "for i in range(0, N):\n",
    "    opt_model.add_constraint(v[i]>= 0, f\"Velocity non-negativity {i}\")"
   ]
  },
  {
   "cell_type": "markdown",
   "id": "0ae7c5de",
   "metadata": {},
   "source": [
    "## Distance constraints"
   ]
  },
  {
   "cell_type": "code",
   "execution_count": null,
   "id": "f562a5b2",
   "metadata": {},
   "outputs": [],
   "source": [
    "# Add a distance constraint to ensure the train will start moving\n",
    "Distance = 0\n",
    "for i in range(0, N):\n",
    "    Distance += v[i]\n",
    "\n",
    "opt_model.add_constraint(Distance >= Dist, \"Total distance constraint\")"
   ]
  },
  {
   "cell_type": "markdown",
   "id": "6fa872e3",
   "metadata": {},
   "source": [
    "## Problem Verification"
   ]
  },
  {
   "cell_type": "code",
   "execution_count": null,
   "id": "c7b23484",
   "metadata": {},
   "outputs": [],
   "source": [
    "# Print info on the model\n",
    "opt_model.print_information()"
   ]
  },
  {
   "cell_type": "markdown",
   "id": "d83ae902",
   "metadata": {},
   "source": [
    "## Solving"
   ]
  },
  {
   "cell_type": "code",
   "execution_count": null,
   "id": "eafc05dc",
   "metadata": {},
   "outputs": [],
   "source": [
    "# Here we solve the model\n",
    "\n",
    "# Some parameters to set for the solver\n",
    "'''opt_model.parameters.timelimit = 60  # Set a time limit (seconds)\n",
    "opt_model.parameters.mip.tolerances.mipgap = 1e-6  # Acceptable optimality gap\n",
    "opt_model.parameters.mip.tolerances.integrality = 1e-12  # Integrality tolerance\n",
    "'''\n",
    "\n",
    "result = opt_model.solve(log_output=True)\n",
    "if result:\n",
    "    v_sol = [result.get_value(v[i]) for i in range(N)]\n",
    "    d_sol = [result.get_value(d[i])-1 for i in range(N)]\n",
    "    delta_sol = [result.get_value(delta[i]) for i in range(N)]\n",
    "    print(\"Solution found\")\n",
    "else:\n",
    "    print(\"No solution found.\")\n",
    "\n",
    "Dists = []\n",
    "for i in range(0, N):\n",
    "    Dists.append(sum(v_sol[:i]))"
   ]
  },
  {
   "cell_type": "markdown",
   "id": "9fd78eb4",
   "metadata": {},
   "source": [
    "## Visualization"
   ]
  },
  {
   "cell_type": "markdown",
   "id": "fdeb9ec0",
   "metadata": {},
   "source": [
    "**The problem comes in the way the speed/demand/delta interaction constraints are not respected**"
   ]
  },
  {
   "cell_type": "code",
   "execution_count": null,
   "id": "ceca38b6",
   "metadata": {},
   "outputs": [],
   "source": [
    "fig, ax1 = plt.subplots()\n",
    "\n",
    "ax1.plot(v_sol, 'b-', label='Velocity (m/s)')\n",
    "ax1.set_ylabel('Velocity (m/s)', color='b')\n",
    "ax1.tick_params(axis='y', labelcolor='b')\n",
    "\n",
    "ax2 = ax1.twinx()\n",
    "ax2.plot(d_sol, 'r-', label='Demand (normalized)')\n",
    "ax2.set_ylabel('Demand (normalized)', color='r')\n",
    "ax2.tick_params(axis='y', labelcolor='r')\n",
    "\n",
    "ax3 = ax1.twinx()\n",
    "ax3.spines['right'].set_position(('outward', 60))\n",
    "ax3.plot(delta_sol, 'g-', label='delta (binary)')\n",
    "ax3.set_ylabel('delta (binary)', color='g')\n",
    "ax3.tick_params(axis='y', labelcolor='g')\n",
    "\n",
    "fig.tight_layout()\n",
    "plt.show()\n",
    "\n",
    "# Plot Dists vs index\n",
    "plt.figure()\n",
    "plt.plot(Dists, marker='o', label='Cumulative Distance')\n",
    "plt.xlabel('Step')\n",
    "plt.ylabel('Cumulative Distance')\n",
    "plt.title('Cumulative Distance vs Step')\n",
    "plt.grid(True)\n",
    "plt.legend()\n",
    "plt.show()"
   ]
  },
  {
   "cell_type": "code",
   "execution_count": null,
   "id": "caeef040",
   "metadata": {},
   "outputs": [],
   "source": [
    "print(v_sol)\n",
    "print(d_sol)\n",
    "print(delta_sol)"
   ]
  }
 ],
 "metadata": {
  "kernelspec": {
   "display_name": "QuantumQiskit",
   "language": "python",
   "name": "python3"
  },
  "language_info": {
   "codemirror_mode": {
    "name": "ipython",
    "version": 3
   },
   "file_extension": ".py",
   "mimetype": "text/x-python",
   "name": "python",
   "nbconvert_exporter": "python",
   "pygments_lexer": "ipython3",
   "version": "3.9.21"
  }
 },
 "nbformat": 4,
 "nbformat_minor": 5
}
